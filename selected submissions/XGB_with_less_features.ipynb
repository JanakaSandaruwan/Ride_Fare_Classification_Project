{
 "cells": [
  {
   "cell_type": "code",
   "execution_count": 1,
   "metadata": {
    "_cell_guid": "b1076dfc-b9ad-4769-8c92-a6c4dae69d19",
    "_uuid": "8f2839f25d086af736a60e9eeb907d3b93b6e0e5"
   },
   "outputs": [
    {
     "name": "stdout",
     "output_type": "stream",
     "text": [
      "/kaggle/input/ml-dataset/train.csv\n",
      "/kaggle/input/ml-dataset/test.csv\n",
      "/kaggle/input/ml-dataset/sample_submission.csv\n",
      "/kaggle/input/fare-classification/meta_data.csv\n"
     ]
    }
   ],
   "source": [
    "# This Python 3 environment comes with many helpful analytics libraries installed\n",
    "# It is defined by the kaggle/python docker image: https://github.com/kaggle/docker-python\n",
    "# For example, here's several helpful packages to load in \n",
    "\n",
    "import numpy as np # linear algebra\n",
    "import pandas as pd # data processing, CSV file I/O (e.g. pd.read_csv)\n",
    "from scipy.stats import norm, skew\n",
    "# Input data files are available in the \"../input/\" directory.\n",
    "# For example, running this (by clicking run or pressing Shift+Enter) will list all files under the input directory\n",
    "import matplotlib.pyplot as plt\n",
    "import seaborn as sns\n",
    "%matplotlib inline\n",
    "\n",
    "from collections import Counter\n",
    "\n",
    "from sklearn.ensemble import RandomForestClassifier, AdaBoostClassifier, GradientBoostingClassifier, ExtraTreesClassifier, VotingClassifier\n",
    "from sklearn.discriminant_analysis import LinearDiscriminantAnalysis\n",
    "from sklearn.linear_model import LogisticRegression\n",
    "from sklearn.neighbors import KNeighborsClassifier\n",
    "from sklearn.tree import DecisionTreeClassifier\n",
    "from sklearn.neural_network import MLPClassifier\n",
    "from sklearn.svm import SVC\n",
    "from sklearn.model_selection import GridSearchCV, cross_val_score, StratifiedKFold, learning_curve\n",
    "from xgboost import XGBClassifier\n",
    "sns.set(style='white', context='notebook', palette='deep')\n",
    "\n",
    "import os\n",
    "for dirname, _, filenames in os.walk('/kaggle/input'):\n",
    "    for filename in filenames:\n",
    "        print(os.path.join(dirname, filename))\n",
    "\n",
    "# Any results you write to the current directory are saved as output."
   ]
  },
  {
   "cell_type": "code",
   "execution_count": 2,
   "metadata": {
    "_cell_guid": "79c7e3d0-c299-4dcb-8224-4455121ee9b0",
    "_uuid": "d629ff2d2480ee46fbb7e2d37f6b5fab8052498a"
   },
   "outputs": [],
   "source": [
    "train = pd.read_csv(\"../input/ml-dataset/train.csv\")\n",
    "test = pd.read_csv(\"../input/ml-dataset/test.csv\")\n",
    "IDtest = test[\"tripid\"]"
   ]
  },
  {
   "cell_type": "code",
   "execution_count": 3,
   "metadata": {},
   "outputs": [
    {
     "name": "stdout",
     "output_type": "stream",
     "text": [
      "<class 'pandas.core.frame.DataFrame'>\n",
      "RangeIndex: 17176 entries, 0 to 17175\n",
      "Data columns (total 14 columns):\n",
      " #   Column                     Non-Null Count  Dtype  \n",
      "---  ------                     --------------  -----  \n",
      " 0   tripid                     17176 non-null  int64  \n",
      " 1   additional_fare            16974 non-null  float64\n",
      " 2   duration                   16974 non-null  float64\n",
      " 3   meter_waiting              16974 non-null  float64\n",
      " 4   meter_waiting_fare         16974 non-null  float64\n",
      " 5   meter_waiting_till_pickup  16974 non-null  float64\n",
      " 6   pickup_time                17176 non-null  object \n",
      " 7   drop_time                  17176 non-null  object \n",
      " 8   pick_lat                   17176 non-null  float64\n",
      " 9   pick_lon                   17176 non-null  float64\n",
      " 10  drop_lat                   17176 non-null  float64\n",
      " 11  drop_lon                   17176 non-null  float64\n",
      " 12  fare                       17039 non-null  float64\n",
      " 13  label                      17176 non-null  object \n",
      "dtypes: float64(10), int64(1), object(3)\n",
      "memory usage: 1.8+ MB\n"
     ]
    }
   ],
   "source": [
    "train.info()"
   ]
  },
  {
   "cell_type": "code",
   "execution_count": 4,
   "metadata": {},
   "outputs": [
    {
     "data": {
      "text/html": [
       "<div>\n",
       "<style scoped>\n",
       "    .dataframe tbody tr th:only-of-type {\n",
       "        vertical-align: middle;\n",
       "    }\n",
       "\n",
       "    .dataframe tbody tr th {\n",
       "        vertical-align: top;\n",
       "    }\n",
       "\n",
       "    .dataframe thead th {\n",
       "        text-align: right;\n",
       "    }\n",
       "</style>\n",
       "<table border=\"1\" class=\"dataframe\">\n",
       "  <thead>\n",
       "    <tr style=\"text-align: right;\">\n",
       "      <th></th>\n",
       "      <th>tripid</th>\n",
       "      <th>additional_fare</th>\n",
       "      <th>duration</th>\n",
       "      <th>meter_waiting</th>\n",
       "      <th>meter_waiting_fare</th>\n",
       "      <th>meter_waiting_till_pickup</th>\n",
       "      <th>pickup_time</th>\n",
       "      <th>drop_time</th>\n",
       "      <th>pick_lat</th>\n",
       "      <th>pick_lon</th>\n",
       "      <th>drop_lat</th>\n",
       "      <th>drop_lon</th>\n",
       "      <th>fare</th>\n",
       "      <th>label</th>\n",
       "    </tr>\n",
       "  </thead>\n",
       "  <tbody>\n",
       "    <tr>\n",
       "      <th>0</th>\n",
       "      <td>189123628</td>\n",
       "      <td>10.5</td>\n",
       "      <td>834.0</td>\n",
       "      <td>56.0</td>\n",
       "      <td>0.0000</td>\n",
       "      <td>64.0</td>\n",
       "      <td>11/1/2019 0:20</td>\n",
       "      <td>11/1/2019 0:34</td>\n",
       "      <td>6.86252</td>\n",
       "      <td>79.8993</td>\n",
       "      <td>6.90330</td>\n",
       "      <td>79.8783</td>\n",
       "      <td>270.32</td>\n",
       "      <td>correct</td>\n",
       "    </tr>\n",
       "    <tr>\n",
       "      <th>1</th>\n",
       "      <td>189125358</td>\n",
       "      <td>10.5</td>\n",
       "      <td>791.0</td>\n",
       "      <td>47.0</td>\n",
       "      <td>0.0000</td>\n",
       "      <td>134.0</td>\n",
       "      <td>11/1/2019 0:56</td>\n",
       "      <td>11/1/2019 1:09</td>\n",
       "      <td>6.88589</td>\n",
       "      <td>79.8984</td>\n",
       "      <td>6.91373</td>\n",
       "      <td>79.8923</td>\n",
       "      <td>197.85</td>\n",
       "      <td>correct</td>\n",
       "    </tr>\n",
       "    <tr>\n",
       "      <th>2</th>\n",
       "      <td>189125719</td>\n",
       "      <td>10.5</td>\n",
       "      <td>1087.0</td>\n",
       "      <td>80.0</td>\n",
       "      <td>0.0000</td>\n",
       "      <td>61.0</td>\n",
       "      <td>11/1/2019 1:08</td>\n",
       "      <td>11/1/2019 1:26</td>\n",
       "      <td>6.90839</td>\n",
       "      <td>79.8651</td>\n",
       "      <td>6.93669</td>\n",
       "      <td>79.9146</td>\n",
       "      <td>301.64</td>\n",
       "      <td>correct</td>\n",
       "    </tr>\n",
       "    <tr>\n",
       "      <th>3</th>\n",
       "      <td>189127273</td>\n",
       "      <td>10.5</td>\n",
       "      <td>598.0</td>\n",
       "      <td>271.0</td>\n",
       "      <td>15.6638</td>\n",
       "      <td>68.0</td>\n",
       "      <td>11/1/2019 2:27</td>\n",
       "      <td>11/1/2019 2:37</td>\n",
       "      <td>6.92570</td>\n",
       "      <td>79.8895</td>\n",
       "      <td>6.92748</td>\n",
       "      <td>79.8971</td>\n",
       "      <td>82.30</td>\n",
       "      <td>correct</td>\n",
       "    </tr>\n",
       "    <tr>\n",
       "      <th>4</th>\n",
       "      <td>189128020</td>\n",
       "      <td>NaN</td>\n",
       "      <td>NaN</td>\n",
       "      <td>NaN</td>\n",
       "      <td>NaN</td>\n",
       "      <td>NaN</td>\n",
       "      <td>11/1/2019 3:34</td>\n",
       "      <td>11/1/2019 3:51</td>\n",
       "      <td>6.87441</td>\n",
       "      <td>79.8615</td>\n",
       "      <td>6.84478</td>\n",
       "      <td>79.9290</td>\n",
       "      <td>358.39</td>\n",
       "      <td>correct</td>\n",
       "    </tr>\n",
       "  </tbody>\n",
       "</table>\n",
       "</div>"
      ],
      "text/plain": [
       "      tripid  additional_fare  duration  meter_waiting  meter_waiting_fare  \\\n",
       "0  189123628             10.5     834.0           56.0              0.0000   \n",
       "1  189125358             10.5     791.0           47.0              0.0000   \n",
       "2  189125719             10.5    1087.0           80.0              0.0000   \n",
       "3  189127273             10.5     598.0          271.0             15.6638   \n",
       "4  189128020              NaN       NaN            NaN                 NaN   \n",
       "\n",
       "   meter_waiting_till_pickup     pickup_time       drop_time  pick_lat  \\\n",
       "0                       64.0  11/1/2019 0:20  11/1/2019 0:34   6.86252   \n",
       "1                      134.0  11/1/2019 0:56  11/1/2019 1:09   6.88589   \n",
       "2                       61.0  11/1/2019 1:08  11/1/2019 1:26   6.90839   \n",
       "3                       68.0  11/1/2019 2:27  11/1/2019 2:37   6.92570   \n",
       "4                        NaN  11/1/2019 3:34  11/1/2019 3:51   6.87441   \n",
       "\n",
       "   pick_lon  drop_lat  drop_lon    fare    label  \n",
       "0   79.8993   6.90330   79.8783  270.32  correct  \n",
       "1   79.8984   6.91373   79.8923  197.85  correct  \n",
       "2   79.8651   6.93669   79.9146  301.64  correct  \n",
       "3   79.8895   6.92748   79.8971   82.30  correct  \n",
       "4   79.8615   6.84478   79.9290  358.39  correct  "
      ]
     },
     "execution_count": 4,
     "metadata": {},
     "output_type": "execute_result"
    }
   ],
   "source": [
    "train.head()"
   ]
  },
  {
   "cell_type": "code",
   "execution_count": 5,
   "metadata": {},
   "outputs": [],
   "source": [
    "def detect_outliers(df,n,features):\n",
    "    \"\"\"\n",
    "    Takes a dataframe df of features and returns a list of the indices\n",
    "    corresponding to the observations containing more than n outliers according\n",
    "    to the Tukey method.\n",
    "    \"\"\"\n",
    "    outlier_indices = []\n",
    "    \n",
    "    # iterate over features(columns)\n",
    "    for col in features:\n",
    "        # 1st quartile (25%)\n",
    "        Q1 = np.percentile(df[col], 25)\n",
    "        # 3rd quartile (75%)\n",
    "        Q3 = np.percentile(df[col],75)\n",
    "        # Interquartile range (IQR)\n",
    "        IQR = Q3 - Q1\n",
    "        \n",
    "        # outlier step\n",
    "        outlier_step = 1.5 * IQR\n",
    "        \n",
    "        # Determine a list of indices of outliers for feature col\n",
    "        outlier_list_col = df[(df[col] < Q1 - outlier_step) | (df[col] > Q3 + outlier_step )].index\n",
    "        \n",
    "        # append the found outlier indices for col to the list of outlier indices \n",
    "        outlier_indices.extend(outlier_list_col)\n",
    "        \n",
    "    # select observations containing more than 2 outliers\n",
    "    outlier_indices = Counter(outlier_indices)        \n",
    "    multiple_outliers = list( k for k, v in outlier_indices.items() if v > n )\n",
    "    \n",
    "    return multiple_outliers"
   ]
  },
  {
   "cell_type": "code",
   "execution_count": 6,
   "metadata": {},
   "outputs": [],
   "source": [
    "Outliers_to_drop = detect_outliers(train,2,[\"additional_fare\",\"duration\",\"meter_waiting\",\"meter_waiting_fare\",\"meter_waiting_till_pickup\"\n",
    "                                           ,\"pick_lat\",\"pick_lon\",\"drop_lat\",\"drop_lon\"])"
   ]
  },
  {
   "cell_type": "code",
   "execution_count": 7,
   "metadata": {},
   "outputs": [
    {
     "data": {
      "text/html": [
       "<div>\n",
       "<style scoped>\n",
       "    .dataframe tbody tr th:only-of-type {\n",
       "        vertical-align: middle;\n",
       "    }\n",
       "\n",
       "    .dataframe tbody tr th {\n",
       "        vertical-align: top;\n",
       "    }\n",
       "\n",
       "    .dataframe thead th {\n",
       "        text-align: right;\n",
       "    }\n",
       "</style>\n",
       "<table border=\"1\" class=\"dataframe\">\n",
       "  <thead>\n",
       "    <tr style=\"text-align: right;\">\n",
       "      <th></th>\n",
       "      <th>tripid</th>\n",
       "      <th>additional_fare</th>\n",
       "      <th>duration</th>\n",
       "      <th>meter_waiting</th>\n",
       "      <th>meter_waiting_fare</th>\n",
       "      <th>meter_waiting_till_pickup</th>\n",
       "      <th>pickup_time</th>\n",
       "      <th>drop_time</th>\n",
       "      <th>pick_lat</th>\n",
       "      <th>pick_lon</th>\n",
       "      <th>drop_lat</th>\n",
       "      <th>drop_lon</th>\n",
       "      <th>fare</th>\n",
       "      <th>label</th>\n",
       "    </tr>\n",
       "  </thead>\n",
       "  <tbody>\n",
       "    <tr>\n",
       "      <th>25</th>\n",
       "      <td>189160756</td>\n",
       "      <td>10.5</td>\n",
       "      <td>358.0</td>\n",
       "      <td>66.0</td>\n",
       "      <td>0.0000</td>\n",
       "      <td>79.0</td>\n",
       "      <td>11/1/2019 8:51</td>\n",
       "      <td>11/1/2019 8:57</td>\n",
       "      <td>6.05858</td>\n",
       "      <td>80.2003</td>\n",
       "      <td>6.05566</td>\n",
       "      <td>80.1810</td>\n",
       "      <td>210.58</td>\n",
       "      <td>incorrect</td>\n",
       "    </tr>\n",
       "    <tr>\n",
       "      <th>34</th>\n",
       "      <td>189164791</td>\n",
       "      <td>10.5</td>\n",
       "      <td>286.0</td>\n",
       "      <td>44.0</td>\n",
       "      <td>0.0000</td>\n",
       "      <td>9.0</td>\n",
       "      <td>11/1/2019 9:23</td>\n",
       "      <td>11/1/2019 9:28</td>\n",
       "      <td>7.48628</td>\n",
       "      <td>80.6206</td>\n",
       "      <td>7.47984</td>\n",
       "      <td>80.6233</td>\n",
       "      <td>545.89</td>\n",
       "      <td>incorrect</td>\n",
       "    </tr>\n",
       "    <tr>\n",
       "      <th>51</th>\n",
       "      <td>189182800</td>\n",
       "      <td>10.5</td>\n",
       "      <td>220.0</td>\n",
       "      <td>10.0</td>\n",
       "      <td>0.0000</td>\n",
       "      <td>27.0</td>\n",
       "      <td>11/1/2019 11:34</td>\n",
       "      <td>11/1/2019 11:37</td>\n",
       "      <td>7.48995</td>\n",
       "      <td>80.3639</td>\n",
       "      <td>7.49838</td>\n",
       "      <td>80.3715</td>\n",
       "      <td>71.84</td>\n",
       "      <td>correct</td>\n",
       "    </tr>\n",
       "    <tr>\n",
       "      <th>84</th>\n",
       "      <td>189227008</td>\n",
       "      <td>10.5</td>\n",
       "      <td>2159.0</td>\n",
       "      <td>1158.0</td>\n",
       "      <td>67.5114</td>\n",
       "      <td>344.0</td>\n",
       "      <td>11/1/2019 14:31</td>\n",
       "      <td>11/1/2019 15:07</td>\n",
       "      <td>7.32514</td>\n",
       "      <td>80.6521</td>\n",
       "      <td>7.29959</td>\n",
       "      <td>80.6366</td>\n",
       "      <td>274.56</td>\n",
       "      <td>correct</td>\n",
       "    </tr>\n",
       "    <tr>\n",
       "      <th>115</th>\n",
       "      <td>189250944</td>\n",
       "      <td>10.5</td>\n",
       "      <td>1301.0</td>\n",
       "      <td>10.0</td>\n",
       "      <td>0.0000</td>\n",
       "      <td>60.0</td>\n",
       "      <td>11/1/2019 16:43</td>\n",
       "      <td>11/1/2019 17:05</td>\n",
       "      <td>7.31738</td>\n",
       "      <td>80.6995</td>\n",
       "      <td>7.33181</td>\n",
       "      <td>80.6289</td>\n",
       "      <td>356.51</td>\n",
       "      <td>correct</td>\n",
       "    </tr>\n",
       "    <tr>\n",
       "      <th>...</th>\n",
       "      <td>...</td>\n",
       "      <td>...</td>\n",
       "      <td>...</td>\n",
       "      <td>...</td>\n",
       "      <td>...</td>\n",
       "      <td>...</td>\n",
       "      <td>...</td>\n",
       "      <td>...</td>\n",
       "      <td>...</td>\n",
       "      <td>...</td>\n",
       "      <td>...</td>\n",
       "      <td>...</td>\n",
       "      <td>...</td>\n",
       "      <td>...</td>\n",
       "    </tr>\n",
       "    <tr>\n",
       "      <th>16751</th>\n",
       "      <td>213125070</td>\n",
       "      <td>10.5</td>\n",
       "      <td>1748.0</td>\n",
       "      <td>80.0</td>\n",
       "      <td>0.0000</td>\n",
       "      <td>37.0</td>\n",
       "      <td>1/29/2020 20:42</td>\n",
       "      <td>1/29/2020 21:11</td>\n",
       "      <td>7.29311</td>\n",
       "      <td>80.6370</td>\n",
       "      <td>7.33452</td>\n",
       "      <td>80.6823</td>\n",
       "      <td>431.96</td>\n",
       "      <td>correct</td>\n",
       "    </tr>\n",
       "    <tr>\n",
       "      <th>16944</th>\n",
       "      <td>213372335</td>\n",
       "      <td>10.5</td>\n",
       "      <td>300.0</td>\n",
       "      <td>1.0</td>\n",
       "      <td>0.0583</td>\n",
       "      <td>66.0</td>\n",
       "      <td>1/30/2020 17:48</td>\n",
       "      <td>1/30/2020 17:53</td>\n",
       "      <td>7.30790</td>\n",
       "      <td>80.6371</td>\n",
       "      <td>7.32106</td>\n",
       "      <td>80.6387</td>\n",
       "      <td>99.53</td>\n",
       "      <td>correct</td>\n",
       "    </tr>\n",
       "    <tr>\n",
       "      <th>16966</th>\n",
       "      <td>213397557</td>\n",
       "      <td>30.5</td>\n",
       "      <td>777.0</td>\n",
       "      <td>54.0</td>\n",
       "      <td>0.0000</td>\n",
       "      <td>128.0</td>\n",
       "      <td>1/30/2020 18:53</td>\n",
       "      <td>1/30/2020 19:06</td>\n",
       "      <td>7.29334</td>\n",
       "      <td>80.6361</td>\n",
       "      <td>7.32462</td>\n",
       "      <td>80.6355</td>\n",
       "      <td>239.43</td>\n",
       "      <td>correct</td>\n",
       "    </tr>\n",
       "    <tr>\n",
       "      <th>17037</th>\n",
       "      <td>213521569</td>\n",
       "      <td>10.5</td>\n",
       "      <td>659.0</td>\n",
       "      <td>40.0</td>\n",
       "      <td>0.0000</td>\n",
       "      <td>87.0</td>\n",
       "      <td>1/31/2020 10:39</td>\n",
       "      <td>1/31/2020 10:50</td>\n",
       "      <td>7.29424</td>\n",
       "      <td>80.6335</td>\n",
       "      <td>7.32501</td>\n",
       "      <td>80.6311</td>\n",
       "      <td>177.47</td>\n",
       "      <td>correct</td>\n",
       "    </tr>\n",
       "    <tr>\n",
       "      <th>17165</th>\n",
       "      <td>213789771</td>\n",
       "      <td>30.5</td>\n",
       "      <td>1009.0</td>\n",
       "      <td>178.0</td>\n",
       "      <td>0.0000</td>\n",
       "      <td>75.0</td>\n",
       "      <td>1/31/2020 21:00</td>\n",
       "      <td>1/31/2020 21:17</td>\n",
       "      <td>7.29222</td>\n",
       "      <td>80.6338</td>\n",
       "      <td>7.33817</td>\n",
       "      <td>80.6449</td>\n",
       "      <td>214.28</td>\n",
       "      <td>correct</td>\n",
       "    </tr>\n",
       "  </tbody>\n",
       "</table>\n",
       "<p>1218 rows × 14 columns</p>\n",
       "</div>"
      ],
      "text/plain": [
       "          tripid  additional_fare  duration  meter_waiting  \\\n",
       "25     189160756             10.5     358.0           66.0   \n",
       "34     189164791             10.5     286.0           44.0   \n",
       "51     189182800             10.5     220.0           10.0   \n",
       "84     189227008             10.5    2159.0         1158.0   \n",
       "115    189250944             10.5    1301.0           10.0   \n",
       "...          ...              ...       ...            ...   \n",
       "16751  213125070             10.5    1748.0           80.0   \n",
       "16944  213372335             10.5     300.0            1.0   \n",
       "16966  213397557             30.5     777.0           54.0   \n",
       "17037  213521569             10.5     659.0           40.0   \n",
       "17165  213789771             30.5    1009.0          178.0   \n",
       "\n",
       "       meter_waiting_fare  meter_waiting_till_pickup      pickup_time  \\\n",
       "25                 0.0000                       79.0   11/1/2019 8:51   \n",
       "34                 0.0000                        9.0   11/1/2019 9:23   \n",
       "51                 0.0000                       27.0  11/1/2019 11:34   \n",
       "84                67.5114                      344.0  11/1/2019 14:31   \n",
       "115                0.0000                       60.0  11/1/2019 16:43   \n",
       "...                   ...                        ...              ...   \n",
       "16751              0.0000                       37.0  1/29/2020 20:42   \n",
       "16944              0.0583                       66.0  1/30/2020 17:48   \n",
       "16966              0.0000                      128.0  1/30/2020 18:53   \n",
       "17037              0.0000                       87.0  1/31/2020 10:39   \n",
       "17165              0.0000                       75.0  1/31/2020 21:00   \n",
       "\n",
       "             drop_time  pick_lat  pick_lon  drop_lat  drop_lon    fare  \\\n",
       "25      11/1/2019 8:57   6.05858   80.2003   6.05566   80.1810  210.58   \n",
       "34      11/1/2019 9:28   7.48628   80.6206   7.47984   80.6233  545.89   \n",
       "51     11/1/2019 11:37   7.48995   80.3639   7.49838   80.3715   71.84   \n",
       "84     11/1/2019 15:07   7.32514   80.6521   7.29959   80.6366  274.56   \n",
       "115    11/1/2019 17:05   7.31738   80.6995   7.33181   80.6289  356.51   \n",
       "...                ...       ...       ...       ...       ...     ...   \n",
       "16751  1/29/2020 21:11   7.29311   80.6370   7.33452   80.6823  431.96   \n",
       "16944  1/30/2020 17:53   7.30790   80.6371   7.32106   80.6387   99.53   \n",
       "16966  1/30/2020 19:06   7.29334   80.6361   7.32462   80.6355  239.43   \n",
       "17037  1/31/2020 10:50   7.29424   80.6335   7.32501   80.6311  177.47   \n",
       "17165  1/31/2020 21:17   7.29222   80.6338   7.33817   80.6449  214.28   \n",
       "\n",
       "           label  \n",
       "25     incorrect  \n",
       "34     incorrect  \n",
       "51       correct  \n",
       "84       correct  \n",
       "115      correct  \n",
       "...          ...  \n",
       "16751    correct  \n",
       "16944    correct  \n",
       "16966    correct  \n",
       "17037    correct  \n",
       "17165    correct  \n",
       "\n",
       "[1218 rows x 14 columns]"
      ]
     },
     "execution_count": 7,
     "metadata": {},
     "output_type": "execute_result"
    }
   ],
   "source": [
    "train.loc[Outliers_to_drop]"
   ]
  },
  {
   "cell_type": "code",
   "execution_count": 8,
   "metadata": {},
   "outputs": [],
   "source": [
    "# train = train.drop(Outliers_to_drop, axis = 0).reset_index(drop=True)"
   ]
  },
  {
   "cell_type": "code",
   "execution_count": 9,
   "metadata": {},
   "outputs": [
    {
     "data": {
      "text/plain": [
       "(17176, 14)"
      ]
     },
     "execution_count": 9,
     "metadata": {},
     "output_type": "execute_result"
    }
   ],
   "source": [
    "train.shape"
   ]
  },
  {
   "cell_type": "code",
   "execution_count": 10,
   "metadata": {},
   "outputs": [],
   "source": [
    "# train_len = len(train)\n",
    "# dataset =  pd.concat(objs=[train, test], axis=0).reset_index(drop=True)"
   ]
  },
  {
   "cell_type": "code",
   "execution_count": 11,
   "metadata": {},
   "outputs": [],
   "source": [
    "# dataset = dataset.fillna(np.nan)\n",
    "\n",
    "# # Check for Null values\n",
    "# dataset.isnull().sum()"
   ]
  },
  {
   "cell_type": "code",
   "execution_count": 12,
   "metadata": {},
   "outputs": [
    {
     "name": "stdout",
     "output_type": "stream",
     "text": [
      "<class 'pandas.core.frame.DataFrame'>\n",
      "RangeIndex: 17176 entries, 0 to 17175\n",
      "Data columns (total 14 columns):\n",
      " #   Column                     Non-Null Count  Dtype  \n",
      "---  ------                     --------------  -----  \n",
      " 0   tripid                     17176 non-null  int64  \n",
      " 1   additional_fare            16974 non-null  float64\n",
      " 2   duration                   16974 non-null  float64\n",
      " 3   meter_waiting              16974 non-null  float64\n",
      " 4   meter_waiting_fare         16974 non-null  float64\n",
      " 5   meter_waiting_till_pickup  16974 non-null  float64\n",
      " 6   pickup_time                17176 non-null  object \n",
      " 7   drop_time                  17176 non-null  object \n",
      " 8   pick_lat                   17176 non-null  float64\n",
      " 9   pick_lon                   17176 non-null  float64\n",
      " 10  drop_lat                   17176 non-null  float64\n",
      " 11  drop_lon                   17176 non-null  float64\n",
      " 12  fare                       17039 non-null  float64\n",
      " 13  label                      17176 non-null  object \n",
      "dtypes: float64(10), int64(1), object(3)\n",
      "memory usage: 1.8+ MB\n"
     ]
    },
    {
     "data": {
      "text/plain": [
       "tripid                         0\n",
       "additional_fare              202\n",
       "duration                     202\n",
       "meter_waiting                202\n",
       "meter_waiting_fare           202\n",
       "meter_waiting_till_pickup    202\n",
       "pickup_time                    0\n",
       "drop_time                      0\n",
       "pick_lat                       0\n",
       "pick_lon                       0\n",
       "drop_lat                       0\n",
       "drop_lon                       0\n",
       "fare                         137\n",
       "label                          0\n",
       "dtype: int64"
      ]
     },
     "execution_count": 12,
     "metadata": {},
     "output_type": "execute_result"
    }
   ],
   "source": [
    "train.info()\n",
    "train.isnull().sum()"
   ]
  },
  {
   "cell_type": "code",
   "execution_count": 13,
   "metadata": {},
   "outputs": [
    {
     "data": {
      "text/html": [
       "<div>\n",
       "<style scoped>\n",
       "    .dataframe tbody tr th:only-of-type {\n",
       "        vertical-align: middle;\n",
       "    }\n",
       "\n",
       "    .dataframe tbody tr th {\n",
       "        vertical-align: top;\n",
       "    }\n",
       "\n",
       "    .dataframe thead th {\n",
       "        text-align: right;\n",
       "    }\n",
       "</style>\n",
       "<table border=\"1\" class=\"dataframe\">\n",
       "  <thead>\n",
       "    <tr style=\"text-align: right;\">\n",
       "      <th></th>\n",
       "      <th>tripid</th>\n",
       "      <th>additional_fare</th>\n",
       "      <th>duration</th>\n",
       "      <th>meter_waiting</th>\n",
       "      <th>meter_waiting_fare</th>\n",
       "      <th>meter_waiting_till_pickup</th>\n",
       "      <th>pickup_time</th>\n",
       "      <th>drop_time</th>\n",
       "      <th>pick_lat</th>\n",
       "      <th>pick_lon</th>\n",
       "      <th>drop_lat</th>\n",
       "      <th>drop_lon</th>\n",
       "      <th>fare</th>\n",
       "      <th>label</th>\n",
       "    </tr>\n",
       "  </thead>\n",
       "  <tbody>\n",
       "    <tr>\n",
       "      <th>0</th>\n",
       "      <td>189123628</td>\n",
       "      <td>10.5</td>\n",
       "      <td>834.0</td>\n",
       "      <td>56.0</td>\n",
       "      <td>0.0000</td>\n",
       "      <td>64.0</td>\n",
       "      <td>11/1/2019 0:20</td>\n",
       "      <td>11/1/2019 0:34</td>\n",
       "      <td>6.86252</td>\n",
       "      <td>79.8993</td>\n",
       "      <td>6.90330</td>\n",
       "      <td>79.8783</td>\n",
       "      <td>270.32</td>\n",
       "      <td>correct</td>\n",
       "    </tr>\n",
       "    <tr>\n",
       "      <th>1</th>\n",
       "      <td>189125358</td>\n",
       "      <td>10.5</td>\n",
       "      <td>791.0</td>\n",
       "      <td>47.0</td>\n",
       "      <td>0.0000</td>\n",
       "      <td>134.0</td>\n",
       "      <td>11/1/2019 0:56</td>\n",
       "      <td>11/1/2019 1:09</td>\n",
       "      <td>6.88589</td>\n",
       "      <td>79.8984</td>\n",
       "      <td>6.91373</td>\n",
       "      <td>79.8923</td>\n",
       "      <td>197.85</td>\n",
       "      <td>correct</td>\n",
       "    </tr>\n",
       "    <tr>\n",
       "      <th>2</th>\n",
       "      <td>189125719</td>\n",
       "      <td>10.5</td>\n",
       "      <td>1087.0</td>\n",
       "      <td>80.0</td>\n",
       "      <td>0.0000</td>\n",
       "      <td>61.0</td>\n",
       "      <td>11/1/2019 1:08</td>\n",
       "      <td>11/1/2019 1:26</td>\n",
       "      <td>6.90839</td>\n",
       "      <td>79.8651</td>\n",
       "      <td>6.93669</td>\n",
       "      <td>79.9146</td>\n",
       "      <td>301.64</td>\n",
       "      <td>correct</td>\n",
       "    </tr>\n",
       "    <tr>\n",
       "      <th>3</th>\n",
       "      <td>189127273</td>\n",
       "      <td>10.5</td>\n",
       "      <td>598.0</td>\n",
       "      <td>271.0</td>\n",
       "      <td>15.6638</td>\n",
       "      <td>68.0</td>\n",
       "      <td>11/1/2019 2:27</td>\n",
       "      <td>11/1/2019 2:37</td>\n",
       "      <td>6.92570</td>\n",
       "      <td>79.8895</td>\n",
       "      <td>6.92748</td>\n",
       "      <td>79.8971</td>\n",
       "      <td>82.30</td>\n",
       "      <td>correct</td>\n",
       "    </tr>\n",
       "    <tr>\n",
       "      <th>4</th>\n",
       "      <td>189128020</td>\n",
       "      <td>NaN</td>\n",
       "      <td>NaN</td>\n",
       "      <td>NaN</td>\n",
       "      <td>NaN</td>\n",
       "      <td>NaN</td>\n",
       "      <td>11/1/2019 3:34</td>\n",
       "      <td>11/1/2019 3:51</td>\n",
       "      <td>6.87441</td>\n",
       "      <td>79.8615</td>\n",
       "      <td>6.84478</td>\n",
       "      <td>79.9290</td>\n",
       "      <td>358.39</td>\n",
       "      <td>correct</td>\n",
       "    </tr>\n",
       "  </tbody>\n",
       "</table>\n",
       "</div>"
      ],
      "text/plain": [
       "      tripid  additional_fare  duration  meter_waiting  meter_waiting_fare  \\\n",
       "0  189123628             10.5     834.0           56.0              0.0000   \n",
       "1  189125358             10.5     791.0           47.0              0.0000   \n",
       "2  189125719             10.5    1087.0           80.0              0.0000   \n",
       "3  189127273             10.5     598.0          271.0             15.6638   \n",
       "4  189128020              NaN       NaN            NaN                 NaN   \n",
       "\n",
       "   meter_waiting_till_pickup     pickup_time       drop_time  pick_lat  \\\n",
       "0                       64.0  11/1/2019 0:20  11/1/2019 0:34   6.86252   \n",
       "1                      134.0  11/1/2019 0:56  11/1/2019 1:09   6.88589   \n",
       "2                       61.0  11/1/2019 1:08  11/1/2019 1:26   6.90839   \n",
       "3                       68.0  11/1/2019 2:27  11/1/2019 2:37   6.92570   \n",
       "4                        NaN  11/1/2019 3:34  11/1/2019 3:51   6.87441   \n",
       "\n",
       "   pick_lon  drop_lat  drop_lon    fare    label  \n",
       "0   79.8993   6.90330   79.8783  270.32  correct  \n",
       "1   79.8984   6.91373   79.8923  197.85  correct  \n",
       "2   79.8651   6.93669   79.9146  301.64  correct  \n",
       "3   79.8895   6.92748   79.8971   82.30  correct  \n",
       "4   79.8615   6.84478   79.9290  358.39  correct  "
      ]
     },
     "execution_count": 13,
     "metadata": {},
     "output_type": "execute_result"
    }
   ],
   "source": [
    "train.head()"
   ]
  },
  {
   "cell_type": "code",
   "execution_count": 14,
   "metadata": {},
   "outputs": [
    {
     "data": {
      "text/plain": [
       "tripid                         int64\n",
       "additional_fare              float64\n",
       "duration                     float64\n",
       "meter_waiting                float64\n",
       "meter_waiting_fare           float64\n",
       "meter_waiting_till_pickup    float64\n",
       "pickup_time                   object\n",
       "drop_time                     object\n",
       "pick_lat                     float64\n",
       "pick_lon                     float64\n",
       "drop_lat                     float64\n",
       "drop_lon                     float64\n",
       "fare                         float64\n",
       "label                         object\n",
       "dtype: object"
      ]
     },
     "execution_count": 14,
     "metadata": {},
     "output_type": "execute_result"
    }
   ],
   "source": [
    "train.dtypes"
   ]
  },
  {
   "cell_type": "code",
   "execution_count": 15,
   "metadata": {},
   "outputs": [
    {
     "data": {
      "text/html": [
       "<div>\n",
       "<style scoped>\n",
       "    .dataframe tbody tr th:only-of-type {\n",
       "        vertical-align: middle;\n",
       "    }\n",
       "\n",
       "    .dataframe tbody tr th {\n",
       "        vertical-align: top;\n",
       "    }\n",
       "\n",
       "    .dataframe thead th {\n",
       "        text-align: right;\n",
       "    }\n",
       "</style>\n",
       "<table border=\"1\" class=\"dataframe\">\n",
       "  <thead>\n",
       "    <tr style=\"text-align: right;\">\n",
       "      <th></th>\n",
       "      <th>tripid</th>\n",
       "      <th>additional_fare</th>\n",
       "      <th>duration</th>\n",
       "      <th>meter_waiting</th>\n",
       "      <th>meter_waiting_fare</th>\n",
       "      <th>meter_waiting_till_pickup</th>\n",
       "      <th>pick_lat</th>\n",
       "      <th>pick_lon</th>\n",
       "      <th>drop_lat</th>\n",
       "      <th>drop_lon</th>\n",
       "      <th>fare</th>\n",
       "    </tr>\n",
       "  </thead>\n",
       "  <tbody>\n",
       "    <tr>\n",
       "      <th>count</th>\n",
       "      <td>1.717600e+04</td>\n",
       "      <td>16974.000000</td>\n",
       "      <td>16974.000000</td>\n",
       "      <td>16974.000000</td>\n",
       "      <td>16974.000000</td>\n",
       "      <td>16974.000000</td>\n",
       "      <td>17176.000000</td>\n",
       "      <td>17176.000000</td>\n",
       "      <td>17176.000000</td>\n",
       "      <td>17176.000000</td>\n",
       "      <td>17039.000000</td>\n",
       "    </tr>\n",
       "    <tr>\n",
       "      <th>mean</th>\n",
       "      <td>2.014549e+08</td>\n",
       "      <td>13.719651</td>\n",
       "      <td>1702.858077</td>\n",
       "      <td>629.074231</td>\n",
       "      <td>32.057666</td>\n",
       "      <td>112.466832</td>\n",
       "      <td>6.965499</td>\n",
       "      <td>79.998389</td>\n",
       "      <td>6.968587</td>\n",
       "      <td>79.997534</td>\n",
       "      <td>312.655466</td>\n",
       "    </tr>\n",
       "    <tr>\n",
       "      <th>std</th>\n",
       "      <td>7.456830e+06</td>\n",
       "      <td>98.975052</td>\n",
       "      <td>8120.160818</td>\n",
       "      <td>8063.260669</td>\n",
       "      <td>465.483573</td>\n",
       "      <td>442.054812</td>\n",
       "      <td>0.210760</td>\n",
       "      <td>0.243384</td>\n",
       "      <td>0.378669</td>\n",
       "      <td>0.359648</td>\n",
       "      <td>605.300565</td>\n",
       "    </tr>\n",
       "    <tr>\n",
       "      <th>min</th>\n",
       "      <td>1.891236e+08</td>\n",
       "      <td>0.000000</td>\n",
       "      <td>0.000000</td>\n",
       "      <td>0.000000</td>\n",
       "      <td>0.000000</td>\n",
       "      <td>0.000000</td>\n",
       "      <td>5.937600</td>\n",
       "      <td>79.819100</td>\n",
       "      <td>5.941860</td>\n",
       "      <td>45.307700</td>\n",
       "      <td>0.000000</td>\n",
       "    </tr>\n",
       "    <tr>\n",
       "      <th>25%</th>\n",
       "      <td>1.947619e+08</td>\n",
       "      <td>10.500000</td>\n",
       "      <td>548.000000</td>\n",
       "      <td>33.000000</td>\n",
       "      <td>0.000000</td>\n",
       "      <td>26.000000</td>\n",
       "      <td>6.865077</td>\n",
       "      <td>79.870400</td>\n",
       "      <td>6.865625</td>\n",
       "      <td>79.870100</td>\n",
       "      <td>125.515000</td>\n",
       "    </tr>\n",
       "    <tr>\n",
       "      <th>50%</th>\n",
       "      <td>2.013582e+08</td>\n",
       "      <td>10.500000</td>\n",
       "      <td>1009.500000</td>\n",
       "      <td>123.000000</td>\n",
       "      <td>0.116600</td>\n",
       "      <td>73.000000</td>\n",
       "      <td>6.914105</td>\n",
       "      <td>79.898600</td>\n",
       "      <td>6.916160</td>\n",
       "      <td>79.899100</td>\n",
       "      <td>211.180000</td>\n",
       "    </tr>\n",
       "    <tr>\n",
       "      <th>75%</th>\n",
       "      <td>2.083081e+08</td>\n",
       "      <td>10.500000</td>\n",
       "      <td>1803.000000</td>\n",
       "      <td>351.000000</td>\n",
       "      <td>14.341800</td>\n",
       "      <td>144.000000</td>\n",
       "      <td>7.043057</td>\n",
       "      <td>79.956600</td>\n",
       "      <td>7.047195</td>\n",
       "      <td>79.960225</td>\n",
       "      <td>366.465000</td>\n",
       "    </tr>\n",
       "    <tr>\n",
       "      <th>max</th>\n",
       "      <td>2.138173e+08</td>\n",
       "      <td>12795.030000</td>\n",
       "      <td>453872.000000</td>\n",
       "      <td>453650.000000</td>\n",
       "      <td>26198.601400</td>\n",
       "      <td>51288.000000</td>\n",
       "      <td>8.051010</td>\n",
       "      <td>81.009600</td>\n",
       "      <td>48.132000</td>\n",
       "      <td>81.009700</td>\n",
       "      <td>26945.990000</td>\n",
       "    </tr>\n",
       "  </tbody>\n",
       "</table>\n",
       "</div>"
      ],
      "text/plain": [
       "             tripid  additional_fare       duration  meter_waiting  \\\n",
       "count  1.717600e+04     16974.000000   16974.000000   16974.000000   \n",
       "mean   2.014549e+08        13.719651    1702.858077     629.074231   \n",
       "std    7.456830e+06        98.975052    8120.160818    8063.260669   \n",
       "min    1.891236e+08         0.000000       0.000000       0.000000   \n",
       "25%    1.947619e+08        10.500000     548.000000      33.000000   \n",
       "50%    2.013582e+08        10.500000    1009.500000     123.000000   \n",
       "75%    2.083081e+08        10.500000    1803.000000     351.000000   \n",
       "max    2.138173e+08     12795.030000  453872.000000  453650.000000   \n",
       "\n",
       "       meter_waiting_fare  meter_waiting_till_pickup      pick_lat  \\\n",
       "count        16974.000000               16974.000000  17176.000000   \n",
       "mean            32.057666                 112.466832      6.965499   \n",
       "std            465.483573                 442.054812      0.210760   \n",
       "min              0.000000                   0.000000      5.937600   \n",
       "25%              0.000000                  26.000000      6.865077   \n",
       "50%              0.116600                  73.000000      6.914105   \n",
       "75%             14.341800                 144.000000      7.043057   \n",
       "max          26198.601400               51288.000000      8.051010   \n",
       "\n",
       "           pick_lon      drop_lat      drop_lon          fare  \n",
       "count  17176.000000  17176.000000  17176.000000  17039.000000  \n",
       "mean      79.998389      6.968587     79.997534    312.655466  \n",
       "std        0.243384      0.378669      0.359648    605.300565  \n",
       "min       79.819100      5.941860     45.307700      0.000000  \n",
       "25%       79.870400      6.865625     79.870100    125.515000  \n",
       "50%       79.898600      6.916160     79.899100    211.180000  \n",
       "75%       79.956600      7.047195     79.960225    366.465000  \n",
       "max       81.009600     48.132000     81.009700  26945.990000  "
      ]
     },
     "execution_count": 15,
     "metadata": {},
     "output_type": "execute_result"
    }
   ],
   "source": [
    "train.describe()"
   ]
  },
  {
   "cell_type": "code",
   "execution_count": 16,
   "metadata": {},
   "outputs": [
    {
     "data": {
      "text/plain": [
       "<matplotlib.axes._subplots.AxesSubplot at 0x7f6f5b0fd150>"
      ]
     },
     "execution_count": 16,
     "metadata": {},
     "output_type": "execute_result"
    },
    {
     "data": {
      "image/png": "[encoded data removed]",
      "text/plain": [
       "<Figure size 720x720 with 2 Axes>"
      ]
     },
     "metadata": {},
     "output_type": "display_data"
    }
   ],
   "source": [
    "plt.figure(figsize=[10,10])\n",
    "sns.heatmap(train.corr(),annot=True, fmt = \".2f\", cmap = \"coolwarm\")"
   ]
  },
  {
   "cell_type": "code",
   "execution_count": 17,
   "metadata": {},
   "outputs": [
    {
     "data": {
      "text/plain": [
       "correct      15495\n",
       "incorrect     1681\n",
       "Name: label, dtype: int64"
      ]
     },
     "execution_count": 17,
     "metadata": {},
     "output_type": "execute_result"
    }
   ],
   "source": [
    "train['label'].value_counts()"
   ]
  },
  {
   "cell_type": "code",
   "execution_count": 18,
   "metadata": {},
   "outputs": [],
   "source": [
    "train[\"pickup\"] = pd.to_datetime(train[\"pickup_time\"])\n",
    "train[\"drop\"] = pd.to_datetime(train[\"drop_time\"])\n",
    "train ['difference'] = train[\"drop\"] - train[\"pickup\"]\n",
    "train ['difference'] = train ['difference']/np.timedelta64(1,'s')\n",
    "# train_df['duration'] = train_df['duration'].fillna(train_df ['difference'])\n",
    "train['travel_time'] = train['duration'] - train['meter_waiting']\n",
    "\n",
    "#train_df['duration'] = train_df ['difference']\n",
    "train['time'] = np.where(abs(train['duration']-train['difference']) > 120, train['difference'], train['duration'])"
   ]
  },
  {
   "cell_type": "code",
   "execution_count": 19,
   "metadata": {},
   "outputs": [],
   "source": [
    "train = train[train.travel_time>=0]"
   ]
  },
  {
   "cell_type": "code",
   "execution_count": 20,
   "metadata": {},
   "outputs": [
    {
     "data": {
      "text/plain": [
       "(16970, 19)"
      ]
     },
     "execution_count": 20,
     "metadata": {},
     "output_type": "execute_result"
    }
   ],
   "source": [
    "train.shape"
   ]
  },
  {
   "cell_type": "code",
   "execution_count": 21,
   "metadata": {},
   "outputs": [
    {
     "name": "stdout",
     "output_type": "stream",
     "text": [
      "<class 'pandas.core.frame.DataFrame'>\n",
      "Int64Index: 16970 entries, 0 to 17175\n",
      "Data columns (total 19 columns):\n",
      " #   Column                     Non-Null Count  Dtype         \n",
      "---  ------                     --------------  -----         \n",
      " 0   tripid                     16970 non-null  int64         \n",
      " 1   additional_fare            16970 non-null  float64       \n",
      " 2   duration                   16970 non-null  float64       \n",
      " 3   meter_waiting              16970 non-null  float64       \n",
      " 4   meter_waiting_fare         16970 non-null  float64       \n",
      " 5   meter_waiting_till_pickup  16970 non-null  float64       \n",
      " 6   pickup_time                16970 non-null  object        \n",
      " 7   drop_time                  16970 non-null  object        \n",
      " 8   pick_lat                   16970 non-null  float64       \n",
      " 9   pick_lon                   16970 non-null  float64       \n",
      " 10  drop_lat                   16970 non-null  float64       \n",
      " 11  drop_lon                   16970 non-null  float64       \n",
      " 12  fare                       16964 non-null  float64       \n",
      " 13  label                      16970 non-null  object        \n",
      " 14  pickup                     16970 non-null  datetime64[ns]\n",
      " 15  drop                       16970 non-null  datetime64[ns]\n",
      " 16  difference                 16970 non-null  float64       \n",
      " 17  travel_time                16970 non-null  float64       \n",
      " 18  time                       16970 non-null  float64       \n",
      "dtypes: datetime64[ns](2), float64(13), int64(1), object(3)\n",
      "memory usage: 2.6+ MB\n"
     ]
    }
   ],
   "source": [
    "train.info()"
   ]
  },
  {
   "cell_type": "markdown",
   "metadata": {},
   "source": [
    "# Remove Nan"
   ]
  },
  {
   "cell_type": "code",
   "execution_count": 22,
   "metadata": {},
   "outputs": [
    {
     "data": {
      "text/plain": [
       "(0, 19)"
      ]
     },
     "execution_count": 22,
     "metadata": {},
     "output_type": "execute_result"
    }
   ],
   "source": [
    "train[( train['meter_waiting'].isnull() & train['meter_waiting_fare'].isnull() \n",
    "         & train['additional_fare'].isnull() & train['duration'].isnull() & train['meter_waiting_till_pickup'].isnull() )].shape"
   ]
  },
  {
   "cell_type": "code",
   "execution_count": 23,
   "metadata": {},
   "outputs": [],
   "source": [
    "train = train.drop(train[( train['meter_waiting'].isnull() & train['meter_waiting_fare'].isnull() \n",
    "         & train['additional_fare'].isnull() & train['duration'].isnull() & train['meter_waiting_till_pickup'].isnull() )].index, axis = 0).reset_index(drop=True)"
   ]
  },
  {
   "cell_type": "code",
   "execution_count": 24,
   "metadata": {},
   "outputs": [
    {
     "data": {
      "text/html": [
       "<div>\n",
       "<style scoped>\n",
       "    .dataframe tbody tr th:only-of-type {\n",
       "        vertical-align: middle;\n",
       "    }\n",
       "\n",
       "    .dataframe tbody tr th {\n",
       "        vertical-align: top;\n",
       "    }\n",
       "\n",
       "    .dataframe thead th {\n",
       "        text-align: right;\n",
       "    }\n",
       "</style>\n",
       "<table border=\"1\" class=\"dataframe\">\n",
       "  <thead>\n",
       "    <tr style=\"text-align: right;\">\n",
       "      <th></th>\n",
       "      <th>tripid</th>\n",
       "      <th>additional_fare</th>\n",
       "      <th>duration</th>\n",
       "      <th>meter_waiting</th>\n",
       "      <th>meter_waiting_fare</th>\n",
       "      <th>meter_waiting_till_pickup</th>\n",
       "      <th>pickup_time</th>\n",
       "      <th>drop_time</th>\n",
       "      <th>pick_lat</th>\n",
       "      <th>pick_lon</th>\n",
       "      <th>drop_lat</th>\n",
       "      <th>drop_lon</th>\n",
       "      <th>fare</th>\n",
       "      <th>label</th>\n",
       "      <th>pickup</th>\n",
       "      <th>drop</th>\n",
       "      <th>difference</th>\n",
       "      <th>travel_time</th>\n",
       "      <th>time</th>\n",
       "    </tr>\n",
       "  </thead>\n",
       "  <tbody>\n",
       "    <tr>\n",
       "      <th>19</th>\n",
       "      <td>189157607</td>\n",
       "      <td>10.5</td>\n",
       "      <td>2956.0</td>\n",
       "      <td>1686.0</td>\n",
       "      <td>97.450800</td>\n",
       "      <td>29.0</td>\n",
       "      <td>11/1/2019 8:40</td>\n",
       "      <td>11/1/2019 9:21</td>\n",
       "      <td>6.92109</td>\n",
       "      <td>79.8547</td>\n",
       "      <td>6.94120</td>\n",
       "      <td>79.8588</td>\n",
       "      <td>NaN</td>\n",
       "      <td>incorrect</td>\n",
       "      <td>2019-11-01 08:40:00</td>\n",
       "      <td>2019-11-01 09:21:00</td>\n",
       "      <td>2460.0</td>\n",
       "      <td>1270.0</td>\n",
       "      <td>2460.0</td>\n",
       "    </tr>\n",
       "    <tr>\n",
       "      <th>29</th>\n",
       "      <td>189164806</td>\n",
       "      <td>10.5</td>\n",
       "      <td>3549.0</td>\n",
       "      <td>2689.0</td>\n",
       "      <td>146.985400</td>\n",
       "      <td>69.0</td>\n",
       "      <td>11/1/2019 9:16</td>\n",
       "      <td>11/1/2019 9:29</td>\n",
       "      <td>6.91657</td>\n",
       "      <td>79.8593</td>\n",
       "      <td>6.89258</td>\n",
       "      <td>79.8554</td>\n",
       "      <td>NaN</td>\n",
       "      <td>incorrect</td>\n",
       "      <td>2019-11-01 09:16:00</td>\n",
       "      <td>2019-11-01 09:29:00</td>\n",
       "      <td>780.0</td>\n",
       "      <td>860.0</td>\n",
       "      <td>780.0</td>\n",
       "    </tr>\n",
       "    <tr>\n",
       "      <th>1909</th>\n",
       "      <td>191263471</td>\n",
       "      <td>5.0</td>\n",
       "      <td>39.0</td>\n",
       "      <td>19.0</td>\n",
       "      <td>1.107700</td>\n",
       "      <td>0.0</td>\n",
       "      <td>11/11/2019 11:00</td>\n",
       "      <td>11/11/2019 11:09</td>\n",
       "      <td>6.93940</td>\n",
       "      <td>79.8756</td>\n",
       "      <td>6.93693</td>\n",
       "      <td>79.8641</td>\n",
       "      <td>NaN</td>\n",
       "      <td>incorrect</td>\n",
       "      <td>2019-11-11 11:00:00</td>\n",
       "      <td>2019-11-11 11:09:00</td>\n",
       "      <td>540.0</td>\n",
       "      <td>20.0</td>\n",
       "      <td>540.0</td>\n",
       "    </tr>\n",
       "    <tr>\n",
       "      <th>2678</th>\n",
       "      <td>192182656</td>\n",
       "      <td>5.0</td>\n",
       "      <td>23.0</td>\n",
       "      <td>23.0</td>\n",
       "      <td>1.340900</td>\n",
       "      <td>0.0</td>\n",
       "      <td>11/15/2019 14:31</td>\n",
       "      <td>11/15/2019 14:35</td>\n",
       "      <td>6.87287</td>\n",
       "      <td>79.8908</td>\n",
       "      <td>6.87959</td>\n",
       "      <td>79.8911</td>\n",
       "      <td>NaN</td>\n",
       "      <td>incorrect</td>\n",
       "      <td>2019-11-15 14:31:00</td>\n",
       "      <td>2019-11-15 14:35:00</td>\n",
       "      <td>240.0</td>\n",
       "      <td>0.0</td>\n",
       "      <td>240.0</td>\n",
       "    </tr>\n",
       "    <tr>\n",
       "      <th>11797</th>\n",
       "      <td>206984071</td>\n",
       "      <td>10.5</td>\n",
       "      <td>1585.0</td>\n",
       "      <td>833.0</td>\n",
       "      <td>48.147400</td>\n",
       "      <td>169.0</td>\n",
       "      <td>1/4/2020 15:05</td>\n",
       "      <td>1/4/2020 15:18</td>\n",
       "      <td>6.91742</td>\n",
       "      <td>79.8550</td>\n",
       "      <td>6.93338</td>\n",
       "      <td>79.8548</td>\n",
       "      <td>NaN</td>\n",
       "      <td>incorrect</td>\n",
       "      <td>2020-01-04 15:05:00</td>\n",
       "      <td>2020-01-04 15:18:00</td>\n",
       "      <td>780.0</td>\n",
       "      <td>752.0</td>\n",
       "      <td>780.0</td>\n",
       "    </tr>\n",
       "    <tr>\n",
       "      <th>13382</th>\n",
       "      <td>209203396</td>\n",
       "      <td>10.5</td>\n",
       "      <td>2423.0</td>\n",
       "      <td>1905.0</td>\n",
       "      <td>110.162896</td>\n",
       "      <td>23.0</td>\n",
       "      <td>1/13/2020 13:03</td>\n",
       "      <td>1/13/2020 13:15</td>\n",
       "      <td>6.91742</td>\n",
       "      <td>79.8550</td>\n",
       "      <td>6.92723</td>\n",
       "      <td>79.8452</td>\n",
       "      <td>NaN</td>\n",
       "      <td>incorrect</td>\n",
       "      <td>2020-01-13 13:03:00</td>\n",
       "      <td>2020-01-13 13:15:00</td>\n",
       "      <td>720.0</td>\n",
       "      <td>518.0</td>\n",
       "      <td>720.0</td>\n",
       "    </tr>\n",
       "  </tbody>\n",
       "</table>\n",
       "</div>"
      ],
      "text/plain": [
       "          tripid  additional_fare  duration  meter_waiting  \\\n",
       "19     189157607             10.5    2956.0         1686.0   \n",
       "29     189164806             10.5    3549.0         2689.0   \n",
       "1909   191263471              5.0      39.0           19.0   \n",
       "2678   192182656              5.0      23.0           23.0   \n",
       "11797  206984071             10.5    1585.0          833.0   \n",
       "13382  209203396             10.5    2423.0         1905.0   \n",
       "\n",
       "       meter_waiting_fare  meter_waiting_till_pickup       pickup_time  \\\n",
       "19              97.450800                       29.0    11/1/2019 8:40   \n",
       "29             146.985400                       69.0    11/1/2019 9:16   \n",
       "1909             1.107700                        0.0  11/11/2019 11:00   \n",
       "2678             1.340900                        0.0  11/15/2019 14:31   \n",
       "11797           48.147400                      169.0    1/4/2020 15:05   \n",
       "13382          110.162896                       23.0   1/13/2020 13:03   \n",
       "\n",
       "              drop_time  pick_lat  pick_lon  drop_lat  drop_lon  fare  \\\n",
       "19       11/1/2019 9:21   6.92109   79.8547   6.94120   79.8588   NaN   \n",
       "29       11/1/2019 9:29   6.91657   79.8593   6.89258   79.8554   NaN   \n",
       "1909   11/11/2019 11:09   6.93940   79.8756   6.93693   79.8641   NaN   \n",
       "2678   11/15/2019 14:35   6.87287   79.8908   6.87959   79.8911   NaN   \n",
       "11797    1/4/2020 15:18   6.91742   79.8550   6.93338   79.8548   NaN   \n",
       "13382   1/13/2020 13:15   6.91742   79.8550   6.92723   79.8452   NaN   \n",
       "\n",
       "           label              pickup                drop  difference  \\\n",
       "19     incorrect 2019-11-01 08:40:00 2019-11-01 09:21:00      2460.0   \n",
       "29     incorrect 2019-11-01 09:16:00 2019-11-01 09:29:00       780.0   \n",
       "1909   incorrect 2019-11-11 11:00:00 2019-11-11 11:09:00       540.0   \n",
       "2678   incorrect 2019-11-15 14:31:00 2019-11-15 14:35:00       240.0   \n",
       "11797  incorrect 2020-01-04 15:05:00 2020-01-04 15:18:00       780.0   \n",
       "13382  incorrect 2020-01-13 13:03:00 2020-01-13 13:15:00       720.0   \n",
       "\n",
       "       travel_time    time  \n",
       "19          1270.0  2460.0  \n",
       "29           860.0   780.0  \n",
       "1909          20.0   540.0  \n",
       "2678           0.0   240.0  \n",
       "11797        752.0   780.0  \n",
       "13382        518.0   720.0  "
      ]
     },
     "execution_count": 24,
     "metadata": {},
     "output_type": "execute_result"
    }
   ],
   "source": [
    "train[( train['meter_waiting'].isnull() | train['fare'].isnull() )]"
   ]
  },
  {
   "cell_type": "code",
   "execution_count": 25,
   "metadata": {},
   "outputs": [
    {
     "data": {
      "text/html": [
       "<div>\n",
       "<style scoped>\n",
       "    .dataframe tbody tr th:only-of-type {\n",
       "        vertical-align: middle;\n",
       "    }\n",
       "\n",
       "    .dataframe tbody tr th {\n",
       "        vertical-align: top;\n",
       "    }\n",
       "\n",
       "    .dataframe thead th {\n",
       "        text-align: right;\n",
       "    }\n",
       "</style>\n",
       "<table border=\"1\" class=\"dataframe\">\n",
       "  <thead>\n",
       "    <tr style=\"text-align: right;\">\n",
       "      <th></th>\n",
       "      <th>tripid</th>\n",
       "      <th>additional_fare</th>\n",
       "      <th>duration</th>\n",
       "      <th>meter_waiting</th>\n",
       "      <th>meter_waiting_fare</th>\n",
       "      <th>meter_waiting_till_pickup</th>\n",
       "      <th>pickup_time</th>\n",
       "      <th>drop_time</th>\n",
       "      <th>pick_lat</th>\n",
       "      <th>pick_lon</th>\n",
       "      <th>drop_lat</th>\n",
       "      <th>drop_lon</th>\n",
       "      <th>fare</th>\n",
       "      <th>label</th>\n",
       "      <th>pickup</th>\n",
       "      <th>drop</th>\n",
       "      <th>difference</th>\n",
       "      <th>travel_time</th>\n",
       "      <th>time</th>\n",
       "    </tr>\n",
       "  </thead>\n",
       "  <tbody>\n",
       "    <tr>\n",
       "      <th>19</th>\n",
       "      <td>189157607</td>\n",
       "      <td>10.5</td>\n",
       "      <td>2956.0</td>\n",
       "      <td>1686.0</td>\n",
       "      <td>97.450800</td>\n",
       "      <td>29.0</td>\n",
       "      <td>11/1/2019 8:40</td>\n",
       "      <td>11/1/2019 9:21</td>\n",
       "      <td>6.92109</td>\n",
       "      <td>79.8547</td>\n",
       "      <td>6.94120</td>\n",
       "      <td>79.8588</td>\n",
       "      <td>NaN</td>\n",
       "      <td>incorrect</td>\n",
       "      <td>2019-11-01 08:40:00</td>\n",
       "      <td>2019-11-01 09:21:00</td>\n",
       "      <td>2460.0</td>\n",
       "      <td>1270.0</td>\n",
       "      <td>2460.0</td>\n",
       "    </tr>\n",
       "    <tr>\n",
       "      <th>29</th>\n",
       "      <td>189164806</td>\n",
       "      <td>10.5</td>\n",
       "      <td>3549.0</td>\n",
       "      <td>2689.0</td>\n",
       "      <td>146.985400</td>\n",
       "      <td>69.0</td>\n",
       "      <td>11/1/2019 9:16</td>\n",
       "      <td>11/1/2019 9:29</td>\n",
       "      <td>6.91657</td>\n",
       "      <td>79.8593</td>\n",
       "      <td>6.89258</td>\n",
       "      <td>79.8554</td>\n",
       "      <td>NaN</td>\n",
       "      <td>incorrect</td>\n",
       "      <td>2019-11-01 09:16:00</td>\n",
       "      <td>2019-11-01 09:29:00</td>\n",
       "      <td>780.0</td>\n",
       "      <td>860.0</td>\n",
       "      <td>780.0</td>\n",
       "    </tr>\n",
       "    <tr>\n",
       "      <th>1909</th>\n",
       "      <td>191263471</td>\n",
       "      <td>5.0</td>\n",
       "      <td>39.0</td>\n",
       "      <td>19.0</td>\n",
       "      <td>1.107700</td>\n",
       "      <td>0.0</td>\n",
       "      <td>11/11/2019 11:00</td>\n",
       "      <td>11/11/2019 11:09</td>\n",
       "      <td>6.93940</td>\n",
       "      <td>79.8756</td>\n",
       "      <td>6.93693</td>\n",
       "      <td>79.8641</td>\n",
       "      <td>NaN</td>\n",
       "      <td>incorrect</td>\n",
       "      <td>2019-11-11 11:00:00</td>\n",
       "      <td>2019-11-11 11:09:00</td>\n",
       "      <td>540.0</td>\n",
       "      <td>20.0</td>\n",
       "      <td>540.0</td>\n",
       "    </tr>\n",
       "    <tr>\n",
       "      <th>2678</th>\n",
       "      <td>192182656</td>\n",
       "      <td>5.0</td>\n",
       "      <td>23.0</td>\n",
       "      <td>23.0</td>\n",
       "      <td>1.340900</td>\n",
       "      <td>0.0</td>\n",
       "      <td>11/15/2019 14:31</td>\n",
       "      <td>11/15/2019 14:35</td>\n",
       "      <td>6.87287</td>\n",
       "      <td>79.8908</td>\n",
       "      <td>6.87959</td>\n",
       "      <td>79.8911</td>\n",
       "      <td>NaN</td>\n",
       "      <td>incorrect</td>\n",
       "      <td>2019-11-15 14:31:00</td>\n",
       "      <td>2019-11-15 14:35:00</td>\n",
       "      <td>240.0</td>\n",
       "      <td>0.0</td>\n",
       "      <td>240.0</td>\n",
       "    </tr>\n",
       "    <tr>\n",
       "      <th>11797</th>\n",
       "      <td>206984071</td>\n",
       "      <td>10.5</td>\n",
       "      <td>1585.0</td>\n",
       "      <td>833.0</td>\n",
       "      <td>48.147400</td>\n",
       "      <td>169.0</td>\n",
       "      <td>1/4/2020 15:05</td>\n",
       "      <td>1/4/2020 15:18</td>\n",
       "      <td>6.91742</td>\n",
       "      <td>79.8550</td>\n",
       "      <td>6.93338</td>\n",
       "      <td>79.8548</td>\n",
       "      <td>NaN</td>\n",
       "      <td>incorrect</td>\n",
       "      <td>2020-01-04 15:05:00</td>\n",
       "      <td>2020-01-04 15:18:00</td>\n",
       "      <td>780.0</td>\n",
       "      <td>752.0</td>\n",
       "      <td>780.0</td>\n",
       "    </tr>\n",
       "    <tr>\n",
       "      <th>13382</th>\n",
       "      <td>209203396</td>\n",
       "      <td>10.5</td>\n",
       "      <td>2423.0</td>\n",
       "      <td>1905.0</td>\n",
       "      <td>110.162896</td>\n",
       "      <td>23.0</td>\n",
       "      <td>1/13/2020 13:03</td>\n",
       "      <td>1/13/2020 13:15</td>\n",
       "      <td>6.91742</td>\n",
       "      <td>79.8550</td>\n",
       "      <td>6.92723</td>\n",
       "      <td>79.8452</td>\n",
       "      <td>NaN</td>\n",
       "      <td>incorrect</td>\n",
       "      <td>2020-01-13 13:03:00</td>\n",
       "      <td>2020-01-13 13:15:00</td>\n",
       "      <td>720.0</td>\n",
       "      <td>518.0</td>\n",
       "      <td>720.0</td>\n",
       "    </tr>\n",
       "  </tbody>\n",
       "</table>\n",
       "</div>"
      ],
      "text/plain": [
       "          tripid  additional_fare  duration  meter_waiting  \\\n",
       "19     189157607             10.5    2956.0         1686.0   \n",
       "29     189164806             10.5    3549.0         2689.0   \n",
       "1909   191263471              5.0      39.0           19.0   \n",
       "2678   192182656              5.0      23.0           23.0   \n",
       "11797  206984071             10.5    1585.0          833.0   \n",
       "13382  209203396             10.5    2423.0         1905.0   \n",
       "\n",
       "       meter_waiting_fare  meter_waiting_till_pickup       pickup_time  \\\n",
       "19              97.450800                       29.0    11/1/2019 8:40   \n",
       "29             146.985400                       69.0    11/1/2019 9:16   \n",
       "1909             1.107700                        0.0  11/11/2019 11:00   \n",
       "2678             1.340900                        0.0  11/15/2019 14:31   \n",
       "11797           48.147400                      169.0    1/4/2020 15:05   \n",
       "13382          110.162896                       23.0   1/13/2020 13:03   \n",
       "\n",
       "              drop_time  pick_lat  pick_lon  drop_lat  drop_lon  fare  \\\n",
       "19       11/1/2019 9:21   6.92109   79.8547   6.94120   79.8588   NaN   \n",
       "29       11/1/2019 9:29   6.91657   79.8593   6.89258   79.8554   NaN   \n",
       "1909   11/11/2019 11:09   6.93940   79.8756   6.93693   79.8641   NaN   \n",
       "2678   11/15/2019 14:35   6.87287   79.8908   6.87959   79.8911   NaN   \n",
       "11797    1/4/2020 15:18   6.91742   79.8550   6.93338   79.8548   NaN   \n",
       "13382   1/13/2020 13:15   6.91742   79.8550   6.92723   79.8452   NaN   \n",
       "\n",
       "           label              pickup                drop  difference  \\\n",
       "19     incorrect 2019-11-01 08:40:00 2019-11-01 09:21:00      2460.0   \n",
       "29     incorrect 2019-11-01 09:16:00 2019-11-01 09:29:00       780.0   \n",
       "1909   incorrect 2019-11-11 11:00:00 2019-11-11 11:09:00       540.0   \n",
       "2678   incorrect 2019-11-15 14:31:00 2019-11-15 14:35:00       240.0   \n",
       "11797  incorrect 2020-01-04 15:05:00 2020-01-04 15:18:00       780.0   \n",
       "13382  incorrect 2020-01-13 13:03:00 2020-01-13 13:15:00       720.0   \n",
       "\n",
       "       travel_time    time  \n",
       "19          1270.0  2460.0  \n",
       "29           860.0   780.0  \n",
       "1909          20.0   540.0  \n",
       "2678           0.0   240.0  \n",
       "11797        752.0   780.0  \n",
       "13382        518.0   720.0  "
      ]
     },
     "execution_count": 25,
     "metadata": {},
     "output_type": "execute_result"
    }
   ],
   "source": [
    "train[( train['fare'].isnull() )]"
   ]
  },
  {
   "cell_type": "code",
   "execution_count": 26,
   "metadata": {},
   "outputs": [],
   "source": [
    "train= train.drop(train[( train['fare'].isnull() )].index, axis = 0).reset_index(drop=True)"
   ]
  },
  {
   "cell_type": "code",
   "execution_count": 27,
   "metadata": {},
   "outputs": [
    {
     "data": {
      "text/plain": [
       "tripid                       0\n",
       "additional_fare              0\n",
       "duration                     0\n",
       "meter_waiting                0\n",
       "meter_waiting_fare           0\n",
       "meter_waiting_till_pickup    0\n",
       "pickup_time                  0\n",
       "drop_time                    0\n",
       "pick_lat                     0\n",
       "pick_lon                     0\n",
       "drop_lat                     0\n",
       "drop_lon                     0\n",
       "fare                         0\n",
       "label                        0\n",
       "pickup                       0\n",
       "drop                         0\n",
       "difference                   0\n",
       "travel_time                  0\n",
       "time                         0\n",
       "dtype: int64"
      ]
     },
     "execution_count": 27,
     "metadata": {},
     "output_type": "execute_result"
    }
   ],
   "source": [
    "train.isnull().sum()"
   ]
  },
  {
   "cell_type": "code",
   "execution_count": 28,
   "metadata": {},
   "outputs": [
    {
     "data": {
      "text/plain": [
       "correct      15441\n",
       "incorrect     1523\n",
       "Name: label, dtype: int64"
      ]
     },
     "execution_count": 28,
     "metadata": {},
     "output_type": "execute_result"
    }
   ],
   "source": [
    "train['label'].value_counts()"
   ]
  },
  {
   "cell_type": "code",
   "execution_count": 29,
   "metadata": {},
   "outputs": [
    {
     "data": {
      "text/plain": [
       "(16964, 19)"
      ]
     },
     "execution_count": 29,
     "metadata": {},
     "output_type": "execute_result"
    }
   ],
   "source": [
    "train.shape"
   ]
  },
  {
   "cell_type": "code",
   "execution_count": 30,
   "metadata": {},
   "outputs": [
    {
     "data": {
      "text/html": [
       "<div>\n",
       "<style scoped>\n",
       "    .dataframe tbody tr th:only-of-type {\n",
       "        vertical-align: middle;\n",
       "    }\n",
       "\n",
       "    .dataframe tbody tr th {\n",
       "        vertical-align: top;\n",
       "    }\n",
       "\n",
       "    .dataframe thead th {\n",
       "        text-align: right;\n",
       "    }\n",
       "</style>\n",
       "<table border=\"1\" class=\"dataframe\">\n",
       "  <thead>\n",
       "    <tr style=\"text-align: right;\">\n",
       "      <th></th>\n",
       "      <th>tripid</th>\n",
       "      <th>additional_fare</th>\n",
       "      <th>duration</th>\n",
       "      <th>meter_waiting</th>\n",
       "      <th>meter_waiting_fare</th>\n",
       "      <th>meter_waiting_till_pickup</th>\n",
       "      <th>pickup_time</th>\n",
       "      <th>drop_time</th>\n",
       "      <th>pick_lat</th>\n",
       "      <th>pick_lon</th>\n",
       "      <th>drop_lat</th>\n",
       "      <th>drop_lon</th>\n",
       "      <th>fare</th>\n",
       "      <th>label</th>\n",
       "      <th>pickup</th>\n",
       "      <th>drop</th>\n",
       "      <th>difference</th>\n",
       "      <th>travel_time</th>\n",
       "      <th>time</th>\n",
       "    </tr>\n",
       "  </thead>\n",
       "  <tbody>\n",
       "    <tr>\n",
       "      <th>0</th>\n",
       "      <td>189123628</td>\n",
       "      <td>10.5</td>\n",
       "      <td>834.0</td>\n",
       "      <td>56.0</td>\n",
       "      <td>0.0000</td>\n",
       "      <td>64.0</td>\n",
       "      <td>11/1/2019 0:20</td>\n",
       "      <td>11/1/2019 0:34</td>\n",
       "      <td>6.86252</td>\n",
       "      <td>79.8993</td>\n",
       "      <td>6.90330</td>\n",
       "      <td>79.8783</td>\n",
       "      <td>270.32</td>\n",
       "      <td>correct</td>\n",
       "      <td>2019-11-01 00:20:00</td>\n",
       "      <td>2019-11-01 00:34:00</td>\n",
       "      <td>840.0</td>\n",
       "      <td>778.0</td>\n",
       "      <td>834.0</td>\n",
       "    </tr>\n",
       "    <tr>\n",
       "      <th>1</th>\n",
       "      <td>189125358</td>\n",
       "      <td>10.5</td>\n",
       "      <td>791.0</td>\n",
       "      <td>47.0</td>\n",
       "      <td>0.0000</td>\n",
       "      <td>134.0</td>\n",
       "      <td>11/1/2019 0:56</td>\n",
       "      <td>11/1/2019 1:09</td>\n",
       "      <td>6.88589</td>\n",
       "      <td>79.8984</td>\n",
       "      <td>6.91373</td>\n",
       "      <td>79.8923</td>\n",
       "      <td>197.85</td>\n",
       "      <td>correct</td>\n",
       "      <td>2019-11-01 00:56:00</td>\n",
       "      <td>2019-11-01 01:09:00</td>\n",
       "      <td>780.0</td>\n",
       "      <td>744.0</td>\n",
       "      <td>791.0</td>\n",
       "    </tr>\n",
       "    <tr>\n",
       "      <th>2</th>\n",
       "      <td>189125719</td>\n",
       "      <td>10.5</td>\n",
       "      <td>1087.0</td>\n",
       "      <td>80.0</td>\n",
       "      <td>0.0000</td>\n",
       "      <td>61.0</td>\n",
       "      <td>11/1/2019 1:08</td>\n",
       "      <td>11/1/2019 1:26</td>\n",
       "      <td>6.90839</td>\n",
       "      <td>79.8651</td>\n",
       "      <td>6.93669</td>\n",
       "      <td>79.9146</td>\n",
       "      <td>301.64</td>\n",
       "      <td>correct</td>\n",
       "      <td>2019-11-01 01:08:00</td>\n",
       "      <td>2019-11-01 01:26:00</td>\n",
       "      <td>1080.0</td>\n",
       "      <td>1007.0</td>\n",
       "      <td>1087.0</td>\n",
       "    </tr>\n",
       "    <tr>\n",
       "      <th>3</th>\n",
       "      <td>189127273</td>\n",
       "      <td>10.5</td>\n",
       "      <td>598.0</td>\n",
       "      <td>271.0</td>\n",
       "      <td>15.6638</td>\n",
       "      <td>68.0</td>\n",
       "      <td>11/1/2019 2:27</td>\n",
       "      <td>11/1/2019 2:37</td>\n",
       "      <td>6.92570</td>\n",
       "      <td>79.8895</td>\n",
       "      <td>6.92748</td>\n",
       "      <td>79.8971</td>\n",
       "      <td>82.30</td>\n",
       "      <td>correct</td>\n",
       "      <td>2019-11-01 02:27:00</td>\n",
       "      <td>2019-11-01 02:37:00</td>\n",
       "      <td>600.0</td>\n",
       "      <td>327.0</td>\n",
       "      <td>598.0</td>\n",
       "    </tr>\n",
       "    <tr>\n",
       "      <th>4</th>\n",
       "      <td>189129552</td>\n",
       "      <td>10.5</td>\n",
       "      <td>3407.0</td>\n",
       "      <td>182.0</td>\n",
       "      <td>0.0000</td>\n",
       "      <td>112.0</td>\n",
       "      <td>11/1/2019 5:38</td>\n",
       "      <td>11/1/2019 6:35</td>\n",
       "      <td>7.13402</td>\n",
       "      <td>79.8969</td>\n",
       "      <td>6.91865</td>\n",
       "      <td>79.8649</td>\n",
       "      <td>1065.02</td>\n",
       "      <td>correct</td>\n",
       "      <td>2019-11-01 05:38:00</td>\n",
       "      <td>2019-11-01 06:35:00</td>\n",
       "      <td>3420.0</td>\n",
       "      <td>3225.0</td>\n",
       "      <td>3407.0</td>\n",
       "    </tr>\n",
       "  </tbody>\n",
       "</table>\n",
       "</div>"
      ],
      "text/plain": [
       "      tripid  additional_fare  duration  meter_waiting  meter_waiting_fare  \\\n",
       "0  189123628             10.5     834.0           56.0              0.0000   \n",
       "1  189125358             10.5     791.0           47.0              0.0000   \n",
       "2  189125719             10.5    1087.0           80.0              0.0000   \n",
       "3  189127273             10.5     598.0          271.0             15.6638   \n",
       "4  189129552             10.5    3407.0          182.0              0.0000   \n",
       "\n",
       "   meter_waiting_till_pickup     pickup_time       drop_time  pick_lat  \\\n",
       "0                       64.0  11/1/2019 0:20  11/1/2019 0:34   6.86252   \n",
       "1                      134.0  11/1/2019 0:56  11/1/2019 1:09   6.88589   \n",
       "2                       61.0  11/1/2019 1:08  11/1/2019 1:26   6.90839   \n",
       "3                       68.0  11/1/2019 2:27  11/1/2019 2:37   6.92570   \n",
       "4                      112.0  11/1/2019 5:38  11/1/2019 6:35   7.13402   \n",
       "\n",
       "   pick_lon  drop_lat  drop_lon     fare    label              pickup  \\\n",
       "0   79.8993   6.90330   79.8783   270.32  correct 2019-11-01 00:20:00   \n",
       "1   79.8984   6.91373   79.8923   197.85  correct 2019-11-01 00:56:00   \n",
       "2   79.8651   6.93669   79.9146   301.64  correct 2019-11-01 01:08:00   \n",
       "3   79.8895   6.92748   79.8971    82.30  correct 2019-11-01 02:27:00   \n",
       "4   79.8969   6.91865   79.8649  1065.02  correct 2019-11-01 05:38:00   \n",
       "\n",
       "                 drop  difference  travel_time    time  \n",
       "0 2019-11-01 00:34:00       840.0        778.0   834.0  \n",
       "1 2019-11-01 01:09:00       780.0        744.0   791.0  \n",
       "2 2019-11-01 01:26:00      1080.0       1007.0  1087.0  \n",
       "3 2019-11-01 02:37:00       600.0        327.0   598.0  \n",
       "4 2019-11-01 06:35:00      3420.0       3225.0  3407.0  "
      ]
     },
     "execution_count": 30,
     "metadata": {},
     "output_type": "execute_result"
    }
   ],
   "source": [
    "train.head()"
   ]
  },
  {
   "cell_type": "code",
   "execution_count": 31,
   "metadata": {},
   "outputs": [],
   "source": [
    "train['distance'] = np.sqrt((abs(train['pick_lat']- train['drop_lat'])**2) + (abs(train['pick_lon']- train['drop_lon'])**2))"
   ]
  },
  {
   "cell_type": "code",
   "execution_count": 32,
   "metadata": {},
   "outputs": [
    {
     "data": {
      "text/html": [
       "<div>\n",
       "<style scoped>\n",
       "    .dataframe tbody tr th:only-of-type {\n",
       "        vertical-align: middle;\n",
       "    }\n",
       "\n",
       "    .dataframe tbody tr th {\n",
       "        vertical-align: top;\n",
       "    }\n",
       "\n",
       "    .dataframe thead th {\n",
       "        text-align: right;\n",
       "    }\n",
       "</style>\n",
       "<table border=\"1\" class=\"dataframe\">\n",
       "  <thead>\n",
       "    <tr style=\"text-align: right;\">\n",
       "      <th></th>\n",
       "      <th>tripid</th>\n",
       "      <th>additional_fare</th>\n",
       "      <th>duration</th>\n",
       "      <th>meter_waiting</th>\n",
       "      <th>meter_waiting_fare</th>\n",
       "      <th>meter_waiting_till_pickup</th>\n",
       "      <th>pickup_time</th>\n",
       "      <th>drop_time</th>\n",
       "      <th>pick_lat</th>\n",
       "      <th>pick_lon</th>\n",
       "      <th>drop_lat</th>\n",
       "      <th>drop_lon</th>\n",
       "      <th>fare</th>\n",
       "      <th>label</th>\n",
       "      <th>pickup</th>\n",
       "      <th>drop</th>\n",
       "      <th>difference</th>\n",
       "      <th>travel_time</th>\n",
       "      <th>time</th>\n",
       "      <th>distance</th>\n",
       "    </tr>\n",
       "  </thead>\n",
       "  <tbody>\n",
       "    <tr>\n",
       "      <th>0</th>\n",
       "      <td>189123628</td>\n",
       "      <td>10.5</td>\n",
       "      <td>834.0</td>\n",
       "      <td>56.0</td>\n",
       "      <td>0.0000</td>\n",
       "      <td>64.0</td>\n",
       "      <td>11/1/2019 0:20</td>\n",
       "      <td>11/1/2019 0:34</td>\n",
       "      <td>6.86252</td>\n",
       "      <td>79.8993</td>\n",
       "      <td>6.90330</td>\n",
       "      <td>79.8783</td>\n",
       "      <td>270.32</td>\n",
       "      <td>correct</td>\n",
       "      <td>2019-11-01 00:20:00</td>\n",
       "      <td>2019-11-01 00:34:00</td>\n",
       "      <td>840.0</td>\n",
       "      <td>778.0</td>\n",
       "      <td>834.0</td>\n",
       "      <td>0.045869</td>\n",
       "    </tr>\n",
       "    <tr>\n",
       "      <th>1</th>\n",
       "      <td>189125358</td>\n",
       "      <td>10.5</td>\n",
       "      <td>791.0</td>\n",
       "      <td>47.0</td>\n",
       "      <td>0.0000</td>\n",
       "      <td>134.0</td>\n",
       "      <td>11/1/2019 0:56</td>\n",
       "      <td>11/1/2019 1:09</td>\n",
       "      <td>6.88589</td>\n",
       "      <td>79.8984</td>\n",
       "      <td>6.91373</td>\n",
       "      <td>79.8923</td>\n",
       "      <td>197.85</td>\n",
       "      <td>correct</td>\n",
       "      <td>2019-11-01 00:56:00</td>\n",
       "      <td>2019-11-01 01:09:00</td>\n",
       "      <td>780.0</td>\n",
       "      <td>744.0</td>\n",
       "      <td>791.0</td>\n",
       "      <td>0.028500</td>\n",
       "    </tr>\n",
       "    <tr>\n",
       "      <th>2</th>\n",
       "      <td>189125719</td>\n",
       "      <td>10.5</td>\n",
       "      <td>1087.0</td>\n",
       "      <td>80.0</td>\n",
       "      <td>0.0000</td>\n",
       "      <td>61.0</td>\n",
       "      <td>11/1/2019 1:08</td>\n",
       "      <td>11/1/2019 1:26</td>\n",
       "      <td>6.90839</td>\n",
       "      <td>79.8651</td>\n",
       "      <td>6.93669</td>\n",
       "      <td>79.9146</td>\n",
       "      <td>301.64</td>\n",
       "      <td>correct</td>\n",
       "      <td>2019-11-01 01:08:00</td>\n",
       "      <td>2019-11-01 01:26:00</td>\n",
       "      <td>1080.0</td>\n",
       "      <td>1007.0</td>\n",
       "      <td>1087.0</td>\n",
       "      <td>0.057019</td>\n",
       "    </tr>\n",
       "    <tr>\n",
       "      <th>3</th>\n",
       "      <td>189127273</td>\n",
       "      <td>10.5</td>\n",
       "      <td>598.0</td>\n",
       "      <td>271.0</td>\n",
       "      <td>15.6638</td>\n",
       "      <td>68.0</td>\n",
       "      <td>11/1/2019 2:27</td>\n",
       "      <td>11/1/2019 2:37</td>\n",
       "      <td>6.92570</td>\n",
       "      <td>79.8895</td>\n",
       "      <td>6.92748</td>\n",
       "      <td>79.8971</td>\n",
       "      <td>82.30</td>\n",
       "      <td>correct</td>\n",
       "      <td>2019-11-01 02:27:00</td>\n",
       "      <td>2019-11-01 02:37:00</td>\n",
       "      <td>600.0</td>\n",
       "      <td>327.0</td>\n",
       "      <td>598.0</td>\n",
       "      <td>0.007806</td>\n",
       "    </tr>\n",
       "    <tr>\n",
       "      <th>4</th>\n",
       "      <td>189129552</td>\n",
       "      <td>10.5</td>\n",
       "      <td>3407.0</td>\n",
       "      <td>182.0</td>\n",
       "      <td>0.0000</td>\n",
       "      <td>112.0</td>\n",
       "      <td>11/1/2019 5:38</td>\n",
       "      <td>11/1/2019 6:35</td>\n",
       "      <td>7.13402</td>\n",
       "      <td>79.8969</td>\n",
       "      <td>6.91865</td>\n",
       "      <td>79.8649</td>\n",
       "      <td>1065.02</td>\n",
       "      <td>correct</td>\n",
       "      <td>2019-11-01 05:38:00</td>\n",
       "      <td>2019-11-01 06:35:00</td>\n",
       "      <td>3420.0</td>\n",
       "      <td>3225.0</td>\n",
       "      <td>3407.0</td>\n",
       "      <td>0.217734</td>\n",
       "    </tr>\n",
       "  </tbody>\n",
       "</table>\n",
       "</div>"
      ],
      "text/plain": [
       "      tripid  additional_fare  duration  meter_waiting  meter_waiting_fare  \\\n",
       "0  189123628             10.5     834.0           56.0              0.0000   \n",
       "1  189125358             10.5     791.0           47.0              0.0000   \n",
       "2  189125719             10.5    1087.0           80.0              0.0000   \n",
       "3  189127273             10.5     598.0          271.0             15.6638   \n",
       "4  189129552             10.5    3407.0          182.0              0.0000   \n",
       "\n",
       "   meter_waiting_till_pickup     pickup_time       drop_time  pick_lat  \\\n",
       "0                       64.0  11/1/2019 0:20  11/1/2019 0:34   6.86252   \n",
       "1                      134.0  11/1/2019 0:56  11/1/2019 1:09   6.88589   \n",
       "2                       61.0  11/1/2019 1:08  11/1/2019 1:26   6.90839   \n",
       "3                       68.0  11/1/2019 2:27  11/1/2019 2:37   6.92570   \n",
       "4                      112.0  11/1/2019 5:38  11/1/2019 6:35   7.13402   \n",
       "\n",
       "   pick_lon  drop_lat  drop_lon     fare    label              pickup  \\\n",
       "0   79.8993   6.90330   79.8783   270.32  correct 2019-11-01 00:20:00   \n",
       "1   79.8984   6.91373   79.8923   197.85  correct 2019-11-01 00:56:00   \n",
       "2   79.8651   6.93669   79.9146   301.64  correct 2019-11-01 01:08:00   \n",
       "3   79.8895   6.92748   79.8971    82.30  correct 2019-11-01 02:27:00   \n",
       "4   79.8969   6.91865   79.8649  1065.02  correct 2019-11-01 05:38:00   \n",
       "\n",
       "                 drop  difference  travel_time    time  distance  \n",
       "0 2019-11-01 00:34:00       840.0        778.0   834.0  0.045869  \n",
       "1 2019-11-01 01:09:00       780.0        744.0   791.0  0.028500  \n",
       "2 2019-11-01 01:26:00      1080.0       1007.0  1087.0  0.057019  \n",
       "3 2019-11-01 02:37:00       600.0        327.0   598.0  0.007806  \n",
       "4 2019-11-01 06:35:00      3420.0       3225.0  3407.0  0.217734  "
      ]
     },
     "execution_count": 32,
     "metadata": {},
     "output_type": "execute_result"
    }
   ],
   "source": [
    "train.head()"
   ]
  },
  {
   "cell_type": "markdown",
   "metadata": {},
   "source": [
    "# Removing outliers"
   ]
  },
  {
   "cell_type": "markdown",
   "metadata": {},
   "source": [
    "****Fare****"
   ]
  },
  {
   "cell_type": "code",
   "execution_count": 33,
   "metadata": {},
   "outputs": [
    {
     "data": {
      "image/png": "[encoded data removed]",
      "text/plain": [
       "<Figure size 432x216 with 2 Axes>"
      ]
     },
     "metadata": {},
     "output_type": "display_data"
    }
   ],
   "source": [
    "g = sns.FacetGrid(train, col='label')\n",
    "g = g.map(sns.distplot, \"fare\")"
   ]
  },
  {
   "cell_type": "code",
   "execution_count": 34,
   "metadata": {},
   "outputs": [
    {
     "data": {
      "image/png": "[encoded data removed]",
      "text/plain": [
       "<Figure size 720x720 with 1 Axes>"
      ]
     },
     "metadata": {},
     "output_type": "display_data"
    }
   ],
   "source": [
    "plt.figure(figsize=[10,10])\n",
    "sns.kdeplot(train['fare'], shade=True);"
   ]
  },
  {
   "cell_type": "code",
   "execution_count": 35,
   "metadata": {},
   "outputs": [
    {
     "data": {
      "image/png": "[encoded data removed]",
      "text/plain": [
       "<Figure size 432x288 with 1 Axes>"
      ]
     },
     "metadata": {},
     "output_type": "display_data"
    }
   ],
   "source": [
    "g = sns.kdeplot(train[\"fare\"][(train[\"label\"] == \"correct\") & (train[\"fare\"].notnull())], color=\"Red\", shade = True)\n",
    "g = sns.kdeplot(train[\"fare\"][(train[\"label\"] == \"incorrect\") & (train[\"fare\"].notnull())], ax =g, color=\"Blue\", shade= True)\n",
    "g.set_xlabel(\"fare\")\n",
    "g.set_ylabel(\"Frequency\")\n",
    "g = g.legend([\"correct\",\"incorrect\"])\n"
   ]
  },
  {
   "cell_type": "code",
   "execution_count": 36,
   "metadata": {},
   "outputs": [
    {
     "data": {
      "text/plain": [
       "<matplotlib.axes._subplots.AxesSubplot at 0x7f6f5a33b9d0>"
      ]
     },
     "execution_count": 36,
     "metadata": {},
     "output_type": "execute_result"
    },
    {
     "data": {
      "image/png": "[encoded data removed]",
      "text/plain": [
       "<Figure size 432x288 with 1 Axes>"
      ]
     },
     "metadata": {},
     "output_type": "display_data"
    }
   ],
   "source": [
    "sns.scatterplot(x=\"time\", y=\"fare\", data=train)"
   ]
  },
  {
   "cell_type": "markdown",
   "metadata": {},
   "source": [
    "two clear outliers"
   ]
  },
  {
   "cell_type": "code",
   "execution_count": 37,
   "metadata": {},
   "outputs": [
    {
     "data": {
      "text/plain": [
       "(6, 20)"
      ]
     },
     "execution_count": 37,
     "metadata": {},
     "output_type": "execute_result"
    }
   ],
   "source": [
    "train[train.fare>15000].shape"
   ]
  },
  {
   "cell_type": "code",
   "execution_count": 38,
   "metadata": {},
   "outputs": [],
   "source": [
    "train = train[train.fare<15000]"
   ]
  },
  {
   "cell_type": "code",
   "execution_count": 39,
   "metadata": {},
   "outputs": [],
   "source": [
    "# train[(train['fare']>15000)]"
   ]
  },
  {
   "cell_type": "markdown",
   "metadata": {},
   "source": [
    "these two in train set"
   ]
  },
  {
   "cell_type": "code",
   "execution_count": 40,
   "metadata": {},
   "outputs": [],
   "source": [
    "# train=train[(train['fare']<15000)]"
   ]
  },
  {
   "cell_type": "code",
   "execution_count": 41,
   "metadata": {},
   "outputs": [],
   "source": [
    "train=train[train.meter_waiting_till_pickup < 4000]"
   ]
  },
  {
   "cell_type": "code",
   "execution_count": 42,
   "metadata": {},
   "outputs": [
    {
     "data": {
      "text/plain": [
       "(16951, 20)"
      ]
     },
     "execution_count": 42,
     "metadata": {},
     "output_type": "execute_result"
    }
   ],
   "source": [
    "train.shape"
   ]
  },
  {
   "cell_type": "code",
   "execution_count": 43,
   "metadata": {},
   "outputs": [],
   "source": [
    "# train = train.drop(train[(train['fare']>15000) & (train['duration']<110000)].index, axis = 0).reset_index(drop=True)"
   ]
  },
  {
   "cell_type": "code",
   "execution_count": 44,
   "metadata": {},
   "outputs": [
    {
     "data": {
      "text/plain": [
       "<matplotlib.axes._subplots.AxesSubplot at 0x7f6f5a29db50>"
      ]
     },
     "execution_count": 44,
     "metadata": {},
     "output_type": "execute_result"
    },
    {
     "data": {
      "image/png": "[encoded data removed]",
      "text/plain": [
       "<Figure size 432x288 with 1 Axes>"
      ]
     },
     "metadata": {},
     "output_type": "display_data"
    }
   ],
   "source": [
    "sns.scatterplot(x=\"time\", y=\"fare\", data=train)"
   ]
  },
  {
   "cell_type": "code",
   "execution_count": 45,
   "metadata": {},
   "outputs": [],
   "source": [
    "train = train[train.time < 300000]"
   ]
  },
  {
   "cell_type": "code",
   "execution_count": 46,
   "metadata": {},
   "outputs": [],
   "source": [
    "# train[(train['fare']>5000) & (train['duration']<1000)]"
   ]
  },
  {
   "cell_type": "markdown",
   "metadata": {},
   "source": [
    "remove or not ?"
   ]
  },
  {
   "cell_type": "code",
   "execution_count": 47,
   "metadata": {},
   "outputs": [
    {
     "data": {
      "text/plain": [
       "<matplotlib.axes._subplots.AxesSubplot at 0x7f6f5a398450>"
      ]
     },
     "execution_count": 47,
     "metadata": {},
     "output_type": "execute_result"
    },
    {
     "data": {
      "image/png": "[encoded data removed]",
      "text/plain": [
       "<Figure size 432x288 with 1 Axes>"
      ]
     },
     "metadata": {},
     "output_type": "display_data"
    }
   ],
   "source": [
    "sns.scatterplot(x=\"meter_waiting\", y=\"fare\", hue=\"label\",data=train)"
   ]
  },
  {
   "cell_type": "markdown",
   "metadata": {},
   "source": [
    "two outlier (it may remove from above)"
   ]
  },
  {
   "cell_type": "code",
   "execution_count": 48,
   "metadata": {},
   "outputs": [
    {
     "data": {
      "text/plain": [
       "<matplotlib.axes._subplots.AxesSubplot at 0x7f6f5a21f190>"
      ]
     },
     "execution_count": 48,
     "metadata": {},
     "output_type": "execute_result"
    },
    {
     "data": {
      "image/png": "[encoded data removed]",
      "text/plain": [
       "<Figure size 432x288 with 1 Axes>"
      ]
     },
     "metadata": {},
     "output_type": "display_data"
    }
   ],
   "source": [
    "sns.scatterplot(x=\"meter_waiting_fare\", y=\"fare\", hue=\"label\",data=train)"
   ]
  },
  {
   "cell_type": "code",
   "execution_count": 49,
   "metadata": {},
   "outputs": [
    {
     "data": {
      "text/html": [
       "<div>\n",
       "<style scoped>\n",
       "    .dataframe tbody tr th:only-of-type {\n",
       "        vertical-align: middle;\n",
       "    }\n",
       "\n",
       "    .dataframe tbody tr th {\n",
       "        vertical-align: top;\n",
       "    }\n",
       "\n",
       "    .dataframe thead th {\n",
       "        text-align: right;\n",
       "    }\n",
       "</style>\n",
       "<table border=\"1\" class=\"dataframe\">\n",
       "  <thead>\n",
       "    <tr style=\"text-align: right;\">\n",
       "      <th></th>\n",
       "      <th>tripid</th>\n",
       "      <th>additional_fare</th>\n",
       "      <th>duration</th>\n",
       "      <th>meter_waiting</th>\n",
       "      <th>meter_waiting_fare</th>\n",
       "      <th>meter_waiting_till_pickup</th>\n",
       "      <th>pickup_time</th>\n",
       "      <th>drop_time</th>\n",
       "      <th>pick_lat</th>\n",
       "      <th>pick_lon</th>\n",
       "      <th>drop_lat</th>\n",
       "      <th>drop_lon</th>\n",
       "      <th>fare</th>\n",
       "      <th>label</th>\n",
       "      <th>pickup</th>\n",
       "      <th>drop</th>\n",
       "      <th>difference</th>\n",
       "      <th>travel_time</th>\n",
       "      <th>time</th>\n",
       "      <th>distance</th>\n",
       "    </tr>\n",
       "  </thead>\n",
       "  <tbody>\n",
       "  </tbody>\n",
       "</table>\n",
       "</div>"
      ],
      "text/plain": [
       "Empty DataFrame\n",
       "Columns: [tripid, additional_fare, duration, meter_waiting, meter_waiting_fare, meter_waiting_till_pickup, pickup_time, drop_time, pick_lat, pick_lon, drop_lat, drop_lon, fare, label, pickup, drop, difference, travel_time, time, distance]\n",
       "Index: []"
      ]
     },
     "execution_count": 49,
     "metadata": {},
     "output_type": "execute_result"
    }
   ],
   "source": [
    "train[(train['fare'] < train['meter_waiting_fare'])]"
   ]
  },
  {
   "cell_type": "code",
   "execution_count": 50,
   "metadata": {},
   "outputs": [
    {
     "data": {
      "text/plain": [
       "0"
      ]
     },
     "execution_count": 50,
     "metadata": {},
     "output_type": "execute_result"
    }
   ],
   "source": [
    "train['fare'].isnull().sum()"
   ]
  },
  {
   "cell_type": "code",
   "execution_count": 51,
   "metadata": {},
   "outputs": [
    {
     "data": {
      "text/plain": [
       "<matplotlib.axes._subplots.AxesSubplot at 0x7f6f5a16f2d0>"
      ]
     },
     "execution_count": 51,
     "metadata": {},
     "output_type": "execute_result"
    },
    {
     "data": {
      "image/png": "[encoded data removed]",
      "text/plain": [
       "<Figure size 432x288 with 1 Axes>"
      ]
     },
     "metadata": {},
     "output_type": "display_data"
    }
   ],
   "source": [
    "sns.scatterplot(x=\"additional_fare\", y=\"fare\", hue=\"label\",data=train)"
   ]
  },
  {
   "cell_type": "code",
   "execution_count": 52,
   "metadata": {},
   "outputs": [
    {
     "data": {
      "text/html": [
       "<div>\n",
       "<style scoped>\n",
       "    .dataframe tbody tr th:only-of-type {\n",
       "        vertical-align: middle;\n",
       "    }\n",
       "\n",
       "    .dataframe tbody tr th {\n",
       "        vertical-align: top;\n",
       "    }\n",
       "\n",
       "    .dataframe thead th {\n",
       "        text-align: right;\n",
       "    }\n",
       "</style>\n",
       "<table border=\"1\" class=\"dataframe\">\n",
       "  <thead>\n",
       "    <tr style=\"text-align: right;\">\n",
       "      <th></th>\n",
       "      <th>tripid</th>\n",
       "      <th>additional_fare</th>\n",
       "      <th>duration</th>\n",
       "      <th>meter_waiting</th>\n",
       "      <th>meter_waiting_fare</th>\n",
       "      <th>meter_waiting_till_pickup</th>\n",
       "      <th>pickup_time</th>\n",
       "      <th>drop_time</th>\n",
       "      <th>pick_lat</th>\n",
       "      <th>pick_lon</th>\n",
       "      <th>drop_lat</th>\n",
       "      <th>drop_lon</th>\n",
       "      <th>fare</th>\n",
       "      <th>label</th>\n",
       "      <th>pickup</th>\n",
       "      <th>drop</th>\n",
       "      <th>difference</th>\n",
       "      <th>travel_time</th>\n",
       "      <th>time</th>\n",
       "      <th>distance</th>\n",
       "    </tr>\n",
       "  </thead>\n",
       "  <tbody>\n",
       "    <tr>\n",
       "      <th>9946</th>\n",
       "      <td>203757140</td>\n",
       "      <td>110.5</td>\n",
       "      <td>521.0</td>\n",
       "      <td>80.0</td>\n",
       "      <td>4.653641</td>\n",
       "      <td>67.0</td>\n",
       "      <td>12/24/2019 17:07</td>\n",
       "      <td>12/24/2019 17:15</td>\n",
       "      <td>7.29295</td>\n",
       "      <td>80.637</td>\n",
       "      <td>7.28589</td>\n",
       "      <td>80.6319</td>\n",
       "      <td>77.51</td>\n",
       "      <td>correct</td>\n",
       "      <td>2019-12-24 17:07:00</td>\n",
       "      <td>2019-12-24 17:15:00</td>\n",
       "      <td>480.0</td>\n",
       "      <td>441.0</td>\n",
       "      <td>521.0</td>\n",
       "      <td>0.008709</td>\n",
       "    </tr>\n",
       "  </tbody>\n",
       "</table>\n",
       "</div>"
      ],
      "text/plain": [
       "         tripid  additional_fare  duration  meter_waiting  meter_waiting_fare  \\\n",
       "9946  203757140            110.5     521.0           80.0            4.653641   \n",
       "\n",
       "      meter_waiting_till_pickup       pickup_time         drop_time  pick_lat  \\\n",
       "9946                       67.0  12/24/2019 17:07  12/24/2019 17:15   7.29295   \n",
       "\n",
       "      pick_lon  drop_lat  drop_lon   fare    label              pickup  \\\n",
       "9946    80.637   7.28589   80.6319  77.51  correct 2019-12-24 17:07:00   \n",
       "\n",
       "                    drop  difference  travel_time   time  distance  \n",
       "9946 2019-12-24 17:15:00       480.0        441.0  521.0  0.008709  "
      ]
     },
     "execution_count": 52,
     "metadata": {},
     "output_type": "execute_result"
    }
   ],
   "source": [
    "train[(train['fare'] < train['additional_fare'])]"
   ]
  },
  {
   "cell_type": "code",
   "execution_count": 53,
   "metadata": {},
   "outputs": [],
   "source": [
    "# train = train.drop(train[(train['fare'] < train['additional_fare'])].index, axis = 0).reset_index(drop=True)"
   ]
  },
  {
   "cell_type": "code",
   "execution_count": 54,
   "metadata": {},
   "outputs": [
    {
     "data": {
      "text/html": [
       "<div>\n",
       "<style scoped>\n",
       "    .dataframe tbody tr th:only-of-type {\n",
       "        vertical-align: middle;\n",
       "    }\n",
       "\n",
       "    .dataframe tbody tr th {\n",
       "        vertical-align: top;\n",
       "    }\n",
       "\n",
       "    .dataframe thead th {\n",
       "        text-align: right;\n",
       "    }\n",
       "</style>\n",
       "<table border=\"1\" class=\"dataframe\">\n",
       "  <thead>\n",
       "    <tr style=\"text-align: right;\">\n",
       "      <th></th>\n",
       "      <th>tripid</th>\n",
       "      <th>additional_fare</th>\n",
       "      <th>duration</th>\n",
       "      <th>meter_waiting</th>\n",
       "      <th>meter_waiting_fare</th>\n",
       "      <th>meter_waiting_till_pickup</th>\n",
       "      <th>pickup_time</th>\n",
       "      <th>drop_time</th>\n",
       "      <th>pick_lat</th>\n",
       "      <th>pick_lon</th>\n",
       "      <th>drop_lat</th>\n",
       "      <th>drop_lon</th>\n",
       "      <th>fare</th>\n",
       "      <th>label</th>\n",
       "      <th>pickup</th>\n",
       "      <th>drop</th>\n",
       "      <th>difference</th>\n",
       "      <th>travel_time</th>\n",
       "      <th>time</th>\n",
       "      <th>distance</th>\n",
       "    </tr>\n",
       "  </thead>\n",
       "  <tbody>\n",
       "    <tr>\n",
       "      <th>9946</th>\n",
       "      <td>203757140</td>\n",
       "      <td>110.5</td>\n",
       "      <td>521.0</td>\n",
       "      <td>80.0</td>\n",
       "      <td>4.653641</td>\n",
       "      <td>67.0</td>\n",
       "      <td>12/24/2019 17:07</td>\n",
       "      <td>12/24/2019 17:15</td>\n",
       "      <td>7.29295</td>\n",
       "      <td>80.637</td>\n",
       "      <td>7.28589</td>\n",
       "      <td>80.6319</td>\n",
       "      <td>77.51</td>\n",
       "      <td>correct</td>\n",
       "      <td>2019-12-24 17:07:00</td>\n",
       "      <td>2019-12-24 17:15:00</td>\n",
       "      <td>480.0</td>\n",
       "      <td>441.0</td>\n",
       "      <td>521.0</td>\n",
       "      <td>0.008709</td>\n",
       "    </tr>\n",
       "  </tbody>\n",
       "</table>\n",
       "</div>"
      ],
      "text/plain": [
       "         tripid  additional_fare  duration  meter_waiting  meter_waiting_fare  \\\n",
       "9946  203757140            110.5     521.0           80.0            4.653641   \n",
       "\n",
       "      meter_waiting_till_pickup       pickup_time         drop_time  pick_lat  \\\n",
       "9946                       67.0  12/24/2019 17:07  12/24/2019 17:15   7.29295   \n",
       "\n",
       "      pick_lon  drop_lat  drop_lon   fare    label              pickup  \\\n",
       "9946    80.637   7.28589   80.6319  77.51  correct 2019-12-24 17:07:00   \n",
       "\n",
       "                    drop  difference  travel_time   time  distance  \n",
       "9946 2019-12-24 17:15:00       480.0        441.0  521.0  0.008709  "
      ]
     },
     "execution_count": 54,
     "metadata": {},
     "output_type": "execute_result"
    }
   ],
   "source": [
    "train[(train['fare'] < train['additional_fare'] + train['meter_waiting_fare'])]"
   ]
  },
  {
   "cell_type": "code",
   "execution_count": 55,
   "metadata": {},
   "outputs": [],
   "source": [
    "train = train[train.additional_fare<200]"
   ]
  },
  {
   "cell_type": "code",
   "execution_count": 56,
   "metadata": {},
   "outputs": [
    {
     "data": {
      "text/plain": [
       "(16947, 20)"
      ]
     },
     "execution_count": 56,
     "metadata": {},
     "output_type": "execute_result"
    }
   ],
   "source": [
    "train.shape"
   ]
  },
  {
   "cell_type": "markdown",
   "metadata": {},
   "source": [
    "this is test set. meter_waiting is different"
   ]
  },
  {
   "cell_type": "markdown",
   "metadata": {},
   "source": [
    "**meter_waiting_fare**"
   ]
  },
  {
   "cell_type": "code",
   "execution_count": 57,
   "metadata": {},
   "outputs": [
    {
     "data": {
      "text/plain": [
       "<matplotlib.axes._subplots.AxesSubplot at 0x7f6f5a0e0390>"
      ]
     },
     "execution_count": 57,
     "metadata": {},
     "output_type": "execute_result"
    },
    {
     "data": {
      "image/png": "[encoded data removed]",
      "text/plain": [
       "<Figure size 432x288 with 1 Axes>"
      ]
     },
     "metadata": {},
     "output_type": "display_data"
    }
   ],
   "source": [
    "sns.scatterplot(x=\"meter_waiting_fare\", y=\"meter_waiting\",data=train)"
   ]
  },
  {
   "cell_type": "markdown",
   "metadata": {},
   "source": [
    "fare per time"
   ]
  },
  {
   "cell_type": "code",
   "execution_count": 58,
   "metadata": {},
   "outputs": [
    {
     "data": {
      "text/html": [
       "<div>\n",
       "<style scoped>\n",
       "    .dataframe tbody tr th:only-of-type {\n",
       "        vertical-align: middle;\n",
       "    }\n",
       "\n",
       "    .dataframe tbody tr th {\n",
       "        vertical-align: top;\n",
       "    }\n",
       "\n",
       "    .dataframe thead th {\n",
       "        text-align: right;\n",
       "    }\n",
       "</style>\n",
       "<table border=\"1\" class=\"dataframe\">\n",
       "  <thead>\n",
       "    <tr style=\"text-align: right;\">\n",
       "      <th></th>\n",
       "      <th>meter_waiting</th>\n",
       "      <th>meter_waiting_fare</th>\n",
       "    </tr>\n",
       "  </thead>\n",
       "  <tbody>\n",
       "    <tr>\n",
       "      <th>0</th>\n",
       "      <td>56.0</td>\n",
       "      <td>0.0000</td>\n",
       "    </tr>\n",
       "    <tr>\n",
       "      <th>1</th>\n",
       "      <td>47.0</td>\n",
       "      <td>0.0000</td>\n",
       "    </tr>\n",
       "    <tr>\n",
       "      <th>2</th>\n",
       "      <td>80.0</td>\n",
       "      <td>0.0000</td>\n",
       "    </tr>\n",
       "    <tr>\n",
       "      <th>3</th>\n",
       "      <td>271.0</td>\n",
       "      <td>15.6638</td>\n",
       "    </tr>\n",
       "    <tr>\n",
       "      <th>4</th>\n",
       "      <td>182.0</td>\n",
       "      <td>0.0000</td>\n",
       "    </tr>\n",
       "    <tr>\n",
       "      <th>...</th>\n",
       "      <td>...</td>\n",
       "      <td>...</td>\n",
       "    </tr>\n",
       "    <tr>\n",
       "      <th>16959</th>\n",
       "      <td>93.0</td>\n",
       "      <td>5.4219</td>\n",
       "    </tr>\n",
       "    <tr>\n",
       "      <th>16960</th>\n",
       "      <td>428.0</td>\n",
       "      <td>0.0000</td>\n",
       "    </tr>\n",
       "    <tr>\n",
       "      <th>16961</th>\n",
       "      <td>9.0</td>\n",
       "      <td>0.0000</td>\n",
       "    </tr>\n",
       "    <tr>\n",
       "      <th>16962</th>\n",
       "      <td>115.0</td>\n",
       "      <td>0.0000</td>\n",
       "    </tr>\n",
       "    <tr>\n",
       "      <th>16963</th>\n",
       "      <td>21.0</td>\n",
       "      <td>1.2243</td>\n",
       "    </tr>\n",
       "  </tbody>\n",
       "</table>\n",
       "<p>16947 rows × 2 columns</p>\n",
       "</div>"
      ],
      "text/plain": [
       "       meter_waiting  meter_waiting_fare\n",
       "0               56.0              0.0000\n",
       "1               47.0              0.0000\n",
       "2               80.0              0.0000\n",
       "3              271.0             15.6638\n",
       "4              182.0              0.0000\n",
       "...              ...                 ...\n",
       "16959           93.0              5.4219\n",
       "16960          428.0              0.0000\n",
       "16961            9.0              0.0000\n",
       "16962          115.0              0.0000\n",
       "16963           21.0              1.2243\n",
       "\n",
       "[16947 rows x 2 columns]"
      ]
     },
     "execution_count": 58,
     "metadata": {},
     "output_type": "execute_result"
    }
   ],
   "source": [
    "train[[\"meter_waiting\",\"meter_waiting_fare\"]]"
   ]
  },
  {
   "cell_type": "code",
   "execution_count": 59,
   "metadata": {},
   "outputs": [
    {
     "data": {
      "text/plain": [
       "<matplotlib.axes._subplots.AxesSubplot at 0x7f6f5a0431d0>"
      ]
     },
     "execution_count": 59,
     "metadata": {},
     "output_type": "execute_result"
    },
    {
     "data": {
      "image/png": "[encoded data removed]",
      "text/plain": [
       "<Figure size 432x288 with 1 Axes>"
      ]
     },
     "metadata": {},
     "output_type": "display_data"
    }
   ],
   "source": [
    "sns.scatterplot(y=\"meter_waiting_fare\", x=\"time\",data=train)"
   ]
  },
  {
   "cell_type": "code",
   "execution_count": 60,
   "metadata": {},
   "outputs": [
    {
     "data": {
      "text/html": [
       "<div>\n",
       "<style scoped>\n",
       "    .dataframe tbody tr th:only-of-type {\n",
       "        vertical-align: middle;\n",
       "    }\n",
       "\n",
       "    .dataframe tbody tr th {\n",
       "        vertical-align: top;\n",
       "    }\n",
       "\n",
       "    .dataframe thead th {\n",
       "        text-align: right;\n",
       "    }\n",
       "</style>\n",
       "<table border=\"1\" class=\"dataframe\">\n",
       "  <thead>\n",
       "    <tr style=\"text-align: right;\">\n",
       "      <th></th>\n",
       "      <th>tripid</th>\n",
       "      <th>additional_fare</th>\n",
       "      <th>duration</th>\n",
       "      <th>meter_waiting</th>\n",
       "      <th>meter_waiting_fare</th>\n",
       "      <th>meter_waiting_till_pickup</th>\n",
       "      <th>pickup_time</th>\n",
       "      <th>drop_time</th>\n",
       "      <th>pick_lat</th>\n",
       "      <th>pick_lon</th>\n",
       "      <th>drop_lat</th>\n",
       "      <th>drop_lon</th>\n",
       "      <th>fare</th>\n",
       "      <th>label</th>\n",
       "      <th>pickup</th>\n",
       "      <th>drop</th>\n",
       "      <th>difference</th>\n",
       "      <th>travel_time</th>\n",
       "      <th>time</th>\n",
       "      <th>distance</th>\n",
       "    </tr>\n",
       "  </thead>\n",
       "  <tbody>\n",
       "  </tbody>\n",
       "</table>\n",
       "</div>"
      ],
      "text/plain": [
       "Empty DataFrame\n",
       "Columns: [tripid, additional_fare, duration, meter_waiting, meter_waiting_fare, meter_waiting_till_pickup, pickup_time, drop_time, pick_lat, pick_lon, drop_lat, drop_lon, fare, label, pickup, drop, difference, travel_time, time, distance]\n",
       "Index: []"
      ]
     },
     "execution_count": 60,
     "metadata": {},
     "output_type": "execute_result"
    }
   ],
   "source": [
    "train[((train['time'] < 100)   &  (train['meter_waiting_fare'] > 10000))]"
   ]
  },
  {
   "cell_type": "code",
   "execution_count": 61,
   "metadata": {},
   "outputs": [],
   "source": [
    "# dataset[\"fare\"] = dataset[\"fare\"].fillna(dataset[\"fare\"].median())\n",
    "# dataset[\"additional_fare\"] = dataset[\"additional_fare\"].fillna(dataset[\"additional_fare\"].median())\n",
    "# dataset[\"duration\"] = dataset[\"duration\"].fillna(dataset[\"duration\"].median())\n",
    "# dataset[\"meter_waiting\"] = dataset[\"meter_waiting\"].fillna(dataset[\"meter_waiting\"].median())\n",
    "# dataset[\"meter_waiting_fare\"] = dataset[\"meter_waiting\"].fillna(dataset[\"meter_waiting\"].median())\n",
    "# dataset[\"meter_waiting_till_pickup\"] = dataset[\"meter_waiting\"].fillna(dataset[\"meter_waiting\"].median())"
   ]
  },
  {
   "cell_type": "code",
   "execution_count": 62,
   "metadata": {},
   "outputs": [],
   "source": [
    "# dataset = dataset.fillna(np.nan)\n",
    "\n",
    "# # Check for Null values\n",
    "# dataset.isnull().sum()"
   ]
  },
  {
   "cell_type": "code",
   "execution_count": 63,
   "metadata": {},
   "outputs": [],
   "source": [
    "# train['distance'] = np.sqrt((abs(train['pick_lat']- train['drop_lat'])**2) + (abs(train['pick_lon']- train['drop_lon'])**2))"
   ]
  },
  {
   "cell_type": "code",
   "execution_count": 64,
   "metadata": {},
   "outputs": [],
   "source": [
    "train = train[train.distance<0.6]"
   ]
  },
  {
   "cell_type": "code",
   "execution_count": 65,
   "metadata": {},
   "outputs": [
    {
     "data": {
      "text/plain": [
       "(16943, 20)"
      ]
     },
     "execution_count": 65,
     "metadata": {},
     "output_type": "execute_result"
    }
   ],
   "source": [
    "train.shape"
   ]
  },
  {
   "cell_type": "code",
   "execution_count": 66,
   "metadata": {},
   "outputs": [],
   "source": [
    "# train = train.drop(['distance'],axis='columns')"
   ]
  },
  {
   "cell_type": "code",
   "execution_count": 67,
   "metadata": {},
   "outputs": [
    {
     "data": {
      "text/html": [
       "<div>\n",
       "<style scoped>\n",
       "    .dataframe tbody tr th:only-of-type {\n",
       "        vertical-align: middle;\n",
       "    }\n",
       "\n",
       "    .dataframe tbody tr th {\n",
       "        vertical-align: top;\n",
       "    }\n",
       "\n",
       "    .dataframe thead th {\n",
       "        text-align: right;\n",
       "    }\n",
       "</style>\n",
       "<table border=\"1\" class=\"dataframe\">\n",
       "  <thead>\n",
       "    <tr style=\"text-align: right;\">\n",
       "      <th></th>\n",
       "      <th>tripid</th>\n",
       "      <th>additional_fare</th>\n",
       "      <th>duration</th>\n",
       "      <th>meter_waiting</th>\n",
       "      <th>meter_waiting_fare</th>\n",
       "      <th>meter_waiting_till_pickup</th>\n",
       "      <th>pick_lat</th>\n",
       "      <th>pick_lon</th>\n",
       "      <th>drop_lat</th>\n",
       "      <th>drop_lon</th>\n",
       "      <th>fare</th>\n",
       "      <th>difference</th>\n",
       "      <th>travel_time</th>\n",
       "      <th>time</th>\n",
       "      <th>distance</th>\n",
       "    </tr>\n",
       "  </thead>\n",
       "  <tbody>\n",
       "    <tr>\n",
       "      <th>count</th>\n",
       "      <td>1.694300e+04</td>\n",
       "      <td>16943.000000</td>\n",
       "      <td>16943.000000</td>\n",
       "      <td>16943.000000</td>\n",
       "      <td>16943.000000</td>\n",
       "      <td>16943.000000</td>\n",
       "      <td>16943.000000</td>\n",
       "      <td>16943.000000</td>\n",
       "      <td>16943.000000</td>\n",
       "      <td>16943.000000</td>\n",
       "      <td>16943.000000</td>\n",
       "      <td>16943.000000</td>\n",
       "      <td>16943.000000</td>\n",
       "      <td>16943.000000</td>\n",
       "      <td>16943.000000</td>\n",
       "    </tr>\n",
       "    <tr>\n",
       "      <th>mean</th>\n",
       "      <td>2.014689e+08</td>\n",
       "      <td>12.895414</td>\n",
       "      <td>1566.800626</td>\n",
       "      <td>486.671723</td>\n",
       "      <td>23.902902</td>\n",
       "      <td>106.589978</td>\n",
       "      <td>6.965220</td>\n",
       "      <td>79.998070</td>\n",
       "      <td>6.965898</td>\n",
       "      <td>79.999202</td>\n",
       "      <td>301.817022</td>\n",
       "      <td>1567.401287</td>\n",
       "      <td>1080.128903</td>\n",
       "      <td>1566.956973</td>\n",
       "      <td>0.040709</td>\n",
       "    </tr>\n",
       "    <tr>\n",
       "      <th>std</th>\n",
       "      <td>7.453629e+06</td>\n",
       "      <td>12.243374</td>\n",
       "      <td>4090.000161</td>\n",
       "      <td>3778.631256</td>\n",
       "      <td>218.375993</td>\n",
       "      <td>127.146513</td>\n",
       "      <td>0.210764</td>\n",
       "      <td>0.242912</td>\n",
       "      <td>0.211328</td>\n",
       "      <td>0.243048</td>\n",
       "      <td>375.485568</td>\n",
       "      <td>4090.011401</td>\n",
       "      <td>1053.068859</td>\n",
       "      <td>4089.969108</td>\n",
       "      <td>0.040630</td>\n",
       "    </tr>\n",
       "    <tr>\n",
       "      <th>min</th>\n",
       "      <td>1.891236e+08</td>\n",
       "      <td>0.000000</td>\n",
       "      <td>0.000000</td>\n",
       "      <td>0.000000</td>\n",
       "      <td>0.000000</td>\n",
       "      <td>0.000000</td>\n",
       "      <td>5.937600</td>\n",
       "      <td>79.819100</td>\n",
       "      <td>5.941860</td>\n",
       "      <td>79.818400</td>\n",
       "      <td>0.000000</td>\n",
       "      <td>0.000000</td>\n",
       "      <td>0.000000</td>\n",
       "      <td>22.000000</td>\n",
       "      <td>0.000000</td>\n",
       "    </tr>\n",
       "    <tr>\n",
       "      <th>25%</th>\n",
       "      <td>1.947362e+08</td>\n",
       "      <td>10.500000</td>\n",
       "      <td>548.000000</td>\n",
       "      <td>33.000000</td>\n",
       "      <td>0.000000</td>\n",
       "      <td>26.000000</td>\n",
       "      <td>6.864825</td>\n",
       "      <td>79.870500</td>\n",
       "      <td>6.865580</td>\n",
       "      <td>79.870100</td>\n",
       "      <td>125.535000</td>\n",
       "      <td>540.000000</td>\n",
       "      <td>446.000000</td>\n",
       "      <td>548.000000</td>\n",
       "      <td>0.013411</td>\n",
       "    </tr>\n",
       "    <tr>\n",
       "      <th>50%</th>\n",
       "      <td>2.013923e+08</td>\n",
       "      <td>10.500000</td>\n",
       "      <td>1009.000000</td>\n",
       "      <td>123.000000</td>\n",
       "      <td>0.115600</td>\n",
       "      <td>73.000000</td>\n",
       "      <td>6.913970</td>\n",
       "      <td>79.898600</td>\n",
       "      <td>6.915910</td>\n",
       "      <td>79.899000</td>\n",
       "      <td>210.890000</td>\n",
       "      <td>1020.000000</td>\n",
       "      <td>812.000000</td>\n",
       "      <td>1010.000000</td>\n",
       "      <td>0.029033</td>\n",
       "    </tr>\n",
       "    <tr>\n",
       "      <th>75%</th>\n",
       "      <td>2.083246e+08</td>\n",
       "      <td>10.500000</td>\n",
       "      <td>1799.500000</td>\n",
       "      <td>350.000000</td>\n",
       "      <td>14.228777</td>\n",
       "      <td>144.000000</td>\n",
       "      <td>7.042820</td>\n",
       "      <td>79.956350</td>\n",
       "      <td>7.046560</td>\n",
       "      <td>79.960000</td>\n",
       "      <td>365.295000</td>\n",
       "      <td>1800.000000</td>\n",
       "      <td>1401.500000</td>\n",
       "      <td>1799.500000</td>\n",
       "      <td>0.055444</td>\n",
       "    </tr>\n",
       "    <tr>\n",
       "      <th>max</th>\n",
       "      <td>2.138173e+08</td>\n",
       "      <td>111.000000</td>\n",
       "      <td>183996.000000</td>\n",
       "      <td>183756.000000</td>\n",
       "      <td>10591.618800</td>\n",
       "      <td>2368.000000</td>\n",
       "      <td>8.051010</td>\n",
       "      <td>81.009600</td>\n",
       "      <td>8.064930</td>\n",
       "      <td>81.009700</td>\n",
       "      <td>13350.320000</td>\n",
       "      <td>184020.000000</td>\n",
       "      <td>26061.000000</td>\n",
       "      <td>183996.000000</td>\n",
       "      <td>0.568757</td>\n",
       "    </tr>\n",
       "  </tbody>\n",
       "</table>\n",
       "</div>"
      ],
      "text/plain": [
       "             tripid  additional_fare       duration  meter_waiting  \\\n",
       "count  1.694300e+04     16943.000000   16943.000000   16943.000000   \n",
       "mean   2.014689e+08        12.895414    1566.800626     486.671723   \n",
       "std    7.453629e+06        12.243374    4090.000161    3778.631256   \n",
       "min    1.891236e+08         0.000000       0.000000       0.000000   \n",
       "25%    1.947362e+08        10.500000     548.000000      33.000000   \n",
       "50%    2.013923e+08        10.500000    1009.000000     123.000000   \n",
       "75%    2.083246e+08        10.500000    1799.500000     350.000000   \n",
       "max    2.138173e+08       111.000000  183996.000000  183756.000000   \n",
       "\n",
       "       meter_waiting_fare  meter_waiting_till_pickup      pick_lat  \\\n",
       "count        16943.000000               16943.000000  16943.000000   \n",
       "mean            23.902902                 106.589978      6.965220   \n",
       "std            218.375993                 127.146513      0.210764   \n",
       "min              0.000000                   0.000000      5.937600   \n",
       "25%              0.000000                  26.000000      6.864825   \n",
       "50%              0.115600                  73.000000      6.913970   \n",
       "75%             14.228777                 144.000000      7.042820   \n",
       "max          10591.618800                2368.000000      8.051010   \n",
       "\n",
       "           pick_lon      drop_lat      drop_lon          fare     difference  \\\n",
       "count  16943.000000  16943.000000  16943.000000  16943.000000   16943.000000   \n",
       "mean      79.998070      6.965898     79.999202    301.817022    1567.401287   \n",
       "std        0.242912      0.211328      0.243048    375.485568    4090.011401   \n",
       "min       79.819100      5.941860     79.818400      0.000000       0.000000   \n",
       "25%       79.870500      6.865580     79.870100    125.535000     540.000000   \n",
       "50%       79.898600      6.915910     79.899000    210.890000    1020.000000   \n",
       "75%       79.956350      7.046560     79.960000    365.295000    1800.000000   \n",
       "max       81.009600      8.064930     81.009700  13350.320000  184020.000000   \n",
       "\n",
       "        travel_time           time      distance  \n",
       "count  16943.000000   16943.000000  16943.000000  \n",
       "mean    1080.128903    1566.956973      0.040709  \n",
       "std     1053.068859    4089.969108      0.040630  \n",
       "min        0.000000      22.000000      0.000000  \n",
       "25%      446.000000     548.000000      0.013411  \n",
       "50%      812.000000    1010.000000      0.029033  \n",
       "75%     1401.500000    1799.500000      0.055444  \n",
       "max    26061.000000  183996.000000      0.568757  "
      ]
     },
     "execution_count": 67,
     "metadata": {},
     "output_type": "execute_result"
    }
   ],
   "source": [
    "train.describe()"
   ]
  },
  {
   "cell_type": "code",
   "execution_count": 68,
   "metadata": {},
   "outputs": [],
   "source": [
    "# train[\"pickup\"] = pd.to_datetime(train[\"pickup_time\"])\n",
    "# train[\"drop\"] = pd.to_datetime(train[\"drop_time\"])\n",
    "# train ['difference'] = train[\"drop\"] - train[\"pickup\"]\n",
    "# train ['difference'] = train ['difference']/np.timedelta64(1,'s')\n",
    "# # train_df['duration'] = train_df['duration'].fillna(train_df ['difference'])\n",
    "# train['travel_time'] = train['duration'] - train['meter_waiting']\n",
    "\n",
    "# #train_df['duration'] = train_df ['difference']\n",
    "# # train['duration'] = np.where(abs(train['duration']-train['difference']) > 120, train['difference'], train['duration'])\n"
   ]
  },
  {
   "cell_type": "code",
   "execution_count": 69,
   "metadata": {},
   "outputs": [],
   "source": [
    "# train = train[train.travel_time>=0]"
   ]
  },
  {
   "cell_type": "code",
   "execution_count": 70,
   "metadata": {},
   "outputs": [
    {
     "name": "stdout",
     "output_type": "stream",
     "text": [
      "<class 'pandas.core.frame.DataFrame'>\n",
      "Int64Index: 16943 entries, 0 to 16963\n",
      "Data columns (total 20 columns):\n",
      " #   Column                     Non-Null Count  Dtype         \n",
      "---  ------                     --------------  -----         \n",
      " 0   tripid                     16943 non-null  int64         \n",
      " 1   additional_fare            16943 non-null  float64       \n",
      " 2   duration                   16943 non-null  float64       \n",
      " 3   meter_waiting              16943 non-null  float64       \n",
      " 4   meter_waiting_fare         16943 non-null  float64       \n",
      " 5   meter_waiting_till_pickup  16943 non-null  float64       \n",
      " 6   pickup_time                16943 non-null  object        \n",
      " 7   drop_time                  16943 non-null  object        \n",
      " 8   pick_lat                   16943 non-null  float64       \n",
      " 9   pick_lon                   16943 non-null  float64       \n",
      " 10  drop_lat                   16943 non-null  float64       \n",
      " 11  drop_lon                   16943 non-null  float64       \n",
      " 12  fare                       16943 non-null  float64       \n",
      " 13  label                      16943 non-null  object        \n",
      " 14  pickup                     16943 non-null  datetime64[ns]\n",
      " 15  drop                       16943 non-null  datetime64[ns]\n",
      " 16  difference                 16943 non-null  float64       \n",
      " 17  travel_time                16943 non-null  float64       \n",
      " 18  time                       16943 non-null  float64       \n",
      " 19  distance                   16943 non-null  float64       \n",
      "dtypes: datetime64[ns](2), float64(14), int64(1), object(3)\n",
      "memory usage: 2.7+ MB\n"
     ]
    }
   ],
   "source": [
    "train.info()"
   ]
  },
  {
   "cell_type": "code",
   "execution_count": 71,
   "metadata": {},
   "outputs": [],
   "source": [
    "X= train.drop(['pick_lat','drop_lat','pick_lon','drop_lon', 'pickup','drop','difference','pickup_time','drop_time'],axis='columns')"
   ]
  },
  {
   "cell_type": "code",
   "execution_count": 72,
   "metadata": {},
   "outputs": [
    {
     "data": {
      "text/plain": [
       "(16943, 11)"
      ]
     },
     "execution_count": 72,
     "metadata": {},
     "output_type": "execute_result"
    }
   ],
   "source": [
    "X.shape"
   ]
  },
  {
   "cell_type": "code",
   "execution_count": 73,
   "metadata": {},
   "outputs": [
    {
     "name": "stdout",
     "output_type": "stream",
     "text": [
      "<class 'pandas.core.frame.DataFrame'>\n",
      "Int64Index: 16943 entries, 0 to 16963\n",
      "Data columns (total 11 columns):\n",
      " #   Column                     Non-Null Count  Dtype  \n",
      "---  ------                     --------------  -----  \n",
      " 0   tripid                     16943 non-null  int64  \n",
      " 1   additional_fare            16943 non-null  float64\n",
      " 2   duration                   16943 non-null  float64\n",
      " 3   meter_waiting              16943 non-null  float64\n",
      " 4   meter_waiting_fare         16943 non-null  float64\n",
      " 5   meter_waiting_till_pickup  16943 non-null  float64\n",
      " 6   fare                       16943 non-null  float64\n",
      " 7   label                      16943 non-null  object \n",
      " 8   travel_time                16943 non-null  float64\n",
      " 9   time                       16943 non-null  float64\n",
      " 10  distance                   16943 non-null  float64\n",
      "dtypes: float64(9), int64(1), object(1)\n",
      "memory usage: 1.6+ MB\n"
     ]
    }
   ],
   "source": [
    "X.info()"
   ]
  },
  {
   "cell_type": "code",
   "execution_count": 74,
   "metadata": {},
   "outputs": [],
   "source": [
    "train = train.drop(['pickup','drop','difference','travel_time','distance','time'],axis='columns')"
   ]
  },
  {
   "cell_type": "code",
   "execution_count": 75,
   "metadata": {},
   "outputs": [
    {
     "data": {
      "text/plain": [
       "(16943, 14)"
      ]
     },
     "execution_count": 75,
     "metadata": {},
     "output_type": "execute_result"
    }
   ],
   "source": [
    "train.shape"
   ]
  },
  {
   "cell_type": "code",
   "execution_count": 76,
   "metadata": {},
   "outputs": [
    {
     "name": "stdout",
     "output_type": "stream",
     "text": [
      "<class 'pandas.core.frame.DataFrame'>\n",
      "Int64Index: 16943 entries, 0 to 16963\n",
      "Data columns (total 14 columns):\n",
      " #   Column                     Non-Null Count  Dtype  \n",
      "---  ------                     --------------  -----  \n",
      " 0   tripid                     16943 non-null  int64  \n",
      " 1   additional_fare            16943 non-null  float64\n",
      " 2   duration                   16943 non-null  float64\n",
      " 3   meter_waiting              16943 non-null  float64\n",
      " 4   meter_waiting_fare         16943 non-null  float64\n",
      " 5   meter_waiting_till_pickup  16943 non-null  float64\n",
      " 6   pickup_time                16943 non-null  object \n",
      " 7   drop_time                  16943 non-null  object \n",
      " 8   pick_lat                   16943 non-null  float64\n",
      " 9   pick_lon                   16943 non-null  float64\n",
      " 10  drop_lat                   16943 non-null  float64\n",
      " 11  drop_lon                   16943 non-null  float64\n",
      " 12  fare                       16943 non-null  float64\n",
      " 13  label                      16943 non-null  object \n",
      "dtypes: float64(10), int64(1), object(3)\n",
      "memory usage: 1.9+ MB\n"
     ]
    }
   ],
   "source": [
    "train.info()"
   ]
  },
  {
   "cell_type": "code",
   "execution_count": 77,
   "metadata": {},
   "outputs": [],
   "source": [
    "train_len = len(train)\n",
    "dataset =  pd.concat(objs=[train, test], axis=0).reset_index(drop=True)"
   ]
  },
  {
   "cell_type": "code",
   "execution_count": 78,
   "metadata": {},
   "outputs": [
    {
     "data": {
      "text/html": [
       "<div>\n",
       "<style scoped>\n",
       "    .dataframe tbody tr th:only-of-type {\n",
       "        vertical-align: middle;\n",
       "    }\n",
       "\n",
       "    .dataframe tbody tr th {\n",
       "        vertical-align: top;\n",
       "    }\n",
       "\n",
       "    .dataframe thead th {\n",
       "        text-align: right;\n",
       "    }\n",
       "</style>\n",
       "<table border=\"1\" class=\"dataframe\">\n",
       "  <thead>\n",
       "    <tr style=\"text-align: right;\">\n",
       "      <th></th>\n",
       "      <th>tripid</th>\n",
       "      <th>additional_fare</th>\n",
       "      <th>duration</th>\n",
       "      <th>meter_waiting</th>\n",
       "      <th>meter_waiting_fare</th>\n",
       "      <th>meter_waiting_till_pickup</th>\n",
       "      <th>pickup_time</th>\n",
       "      <th>drop_time</th>\n",
       "      <th>pick_lat</th>\n",
       "      <th>pick_lon</th>\n",
       "      <th>drop_lat</th>\n",
       "      <th>drop_lon</th>\n",
       "      <th>fare</th>\n",
       "      <th>label</th>\n",
       "    </tr>\n",
       "  </thead>\n",
       "  <tbody>\n",
       "    <tr>\n",
       "      <th>0</th>\n",
       "      <td>189123628</td>\n",
       "      <td>10.5</td>\n",
       "      <td>834.0</td>\n",
       "      <td>56.0</td>\n",
       "      <td>0.0000</td>\n",
       "      <td>64.0</td>\n",
       "      <td>11/1/2019 0:20</td>\n",
       "      <td>11/1/2019 0:34</td>\n",
       "      <td>6.86252</td>\n",
       "      <td>79.8993</td>\n",
       "      <td>6.90330</td>\n",
       "      <td>79.8783</td>\n",
       "      <td>270.32</td>\n",
       "      <td>correct</td>\n",
       "    </tr>\n",
       "    <tr>\n",
       "      <th>1</th>\n",
       "      <td>189125358</td>\n",
       "      <td>10.5</td>\n",
       "      <td>791.0</td>\n",
       "      <td>47.0</td>\n",
       "      <td>0.0000</td>\n",
       "      <td>134.0</td>\n",
       "      <td>11/1/2019 0:56</td>\n",
       "      <td>11/1/2019 1:09</td>\n",
       "      <td>6.88589</td>\n",
       "      <td>79.8984</td>\n",
       "      <td>6.91373</td>\n",
       "      <td>79.8923</td>\n",
       "      <td>197.85</td>\n",
       "      <td>correct</td>\n",
       "    </tr>\n",
       "    <tr>\n",
       "      <th>2</th>\n",
       "      <td>189125719</td>\n",
       "      <td>10.5</td>\n",
       "      <td>1087.0</td>\n",
       "      <td>80.0</td>\n",
       "      <td>0.0000</td>\n",
       "      <td>61.0</td>\n",
       "      <td>11/1/2019 1:08</td>\n",
       "      <td>11/1/2019 1:26</td>\n",
       "      <td>6.90839</td>\n",
       "      <td>79.8651</td>\n",
       "      <td>6.93669</td>\n",
       "      <td>79.9146</td>\n",
       "      <td>301.64</td>\n",
       "      <td>correct</td>\n",
       "    </tr>\n",
       "    <tr>\n",
       "      <th>3</th>\n",
       "      <td>189127273</td>\n",
       "      <td>10.5</td>\n",
       "      <td>598.0</td>\n",
       "      <td>271.0</td>\n",
       "      <td>15.6638</td>\n",
       "      <td>68.0</td>\n",
       "      <td>11/1/2019 2:27</td>\n",
       "      <td>11/1/2019 2:37</td>\n",
       "      <td>6.92570</td>\n",
       "      <td>79.8895</td>\n",
       "      <td>6.92748</td>\n",
       "      <td>79.8971</td>\n",
       "      <td>82.30</td>\n",
       "      <td>correct</td>\n",
       "    </tr>\n",
       "    <tr>\n",
       "      <th>4</th>\n",
       "      <td>189129552</td>\n",
       "      <td>10.5</td>\n",
       "      <td>3407.0</td>\n",
       "      <td>182.0</td>\n",
       "      <td>0.0000</td>\n",
       "      <td>112.0</td>\n",
       "      <td>11/1/2019 5:38</td>\n",
       "      <td>11/1/2019 6:35</td>\n",
       "      <td>7.13402</td>\n",
       "      <td>79.8969</td>\n",
       "      <td>6.91865</td>\n",
       "      <td>79.8649</td>\n",
       "      <td>1065.02</td>\n",
       "      <td>correct</td>\n",
       "    </tr>\n",
       "  </tbody>\n",
       "</table>\n",
       "</div>"
      ],
      "text/plain": [
       "      tripid  additional_fare  duration  meter_waiting  meter_waiting_fare  \\\n",
       "0  189123628             10.5     834.0           56.0              0.0000   \n",
       "1  189125358             10.5     791.0           47.0              0.0000   \n",
       "2  189125719             10.5    1087.0           80.0              0.0000   \n",
       "3  189127273             10.5     598.0          271.0             15.6638   \n",
       "4  189129552             10.5    3407.0          182.0              0.0000   \n",
       "\n",
       "   meter_waiting_till_pickup     pickup_time       drop_time  pick_lat  \\\n",
       "0                       64.0  11/1/2019 0:20  11/1/2019 0:34   6.86252   \n",
       "1                      134.0  11/1/2019 0:56  11/1/2019 1:09   6.88589   \n",
       "2                       61.0  11/1/2019 1:08  11/1/2019 1:26   6.90839   \n",
       "3                       68.0  11/1/2019 2:27  11/1/2019 2:37   6.92570   \n",
       "4                      112.0  11/1/2019 5:38  11/1/2019 6:35   7.13402   \n",
       "\n",
       "   pick_lon  drop_lat  drop_lon     fare    label  \n",
       "0   79.8993   6.90330   79.8783   270.32  correct  \n",
       "1   79.8984   6.91373   79.8923   197.85  correct  \n",
       "2   79.8651   6.93669   79.9146   301.64  correct  \n",
       "3   79.8895   6.92748   79.8971    82.30  correct  \n",
       "4   79.8969   6.91865   79.8649  1065.02  correct  "
      ]
     },
     "execution_count": 78,
     "metadata": {},
     "output_type": "execute_result"
    }
   ],
   "source": [
    "dataset.head()"
   ]
  },
  {
   "cell_type": "code",
   "execution_count": 79,
   "metadata": {},
   "outputs": [],
   "source": [
    "dataset.drop(labels = [\"tripid\"], axis = 1, inplace = True)"
   ]
  },
  {
   "cell_type": "code",
   "execution_count": 80,
   "metadata": {},
   "outputs": [],
   "source": [
    "# numeric_feats = dataset.dtypes[dataset.dtypes != \"object\"].index\n",
    "\n",
    "# # Check the skew of all numerical features\n",
    "# skewed_feats = dataset[numeric_feats].apply(lambda x: skew(x.dropna())).sort_values(ascending=False)\n",
    "# print(\"\\nSkew in numerical features: \\n\")\n",
    "# skewness = pd.DataFrame({'Skew' :skewed_feats})\n",
    "# skewness.head(15)"
   ]
  },
  {
   "cell_type": "code",
   "execution_count": 81,
   "metadata": {},
   "outputs": [],
   "source": [
    "# skewness = skewness[abs(skewness) > 0.75]\n",
    "# print(\"There are {} skewed numerical features to Box Cox transform\".format(skewness.shape[0]))\n",
    "\n",
    "# from scipy.special import boxcox1p\n",
    "# skewed_features = skewness.index\n",
    "# lam = 0.15\n",
    "# for feat in skewed_features:\n",
    "#     #all_data[feat] += 1\n",
    "#     dataset[feat] = boxcox1p(dataset[feat], lam)"
   ]
  },
  {
   "cell_type": "code",
   "execution_count": 82,
   "metadata": {},
   "outputs": [],
   "source": [
    "# numeric_feats = dataset.dtypes[dataset.dtypes != \"object\"].index\n",
    "\n",
    "# # Check the skew of all numerical features\n",
    "# skewed_feats = dataset[numeric_feats].apply(lambda x: skew(x.dropna())).sort_values(ascending=False)\n",
    "# print(\"\\nSkew in numerical features: \\n\")\n",
    "# skewness = pd.DataFrame({'Skew' :skewed_feats})\n",
    "# skewness.head(15)"
   ]
  },
  {
   "cell_type": "code",
   "execution_count": 83,
   "metadata": {},
   "outputs": [
    {
     "data": {
      "text/html": [
       "<div>\n",
       "<style scoped>\n",
       "    .dataframe tbody tr th:only-of-type {\n",
       "        vertical-align: middle;\n",
       "    }\n",
       "\n",
       "    .dataframe tbody tr th {\n",
       "        vertical-align: top;\n",
       "    }\n",
       "\n",
       "    .dataframe thead th {\n",
       "        text-align: right;\n",
       "    }\n",
       "</style>\n",
       "<table border=\"1\" class=\"dataframe\">\n",
       "  <thead>\n",
       "    <tr style=\"text-align: right;\">\n",
       "      <th></th>\n",
       "      <th>additional_fare</th>\n",
       "      <th>duration</th>\n",
       "      <th>meter_waiting</th>\n",
       "      <th>meter_waiting_fare</th>\n",
       "      <th>meter_waiting_till_pickup</th>\n",
       "      <th>pickup_time</th>\n",
       "      <th>drop_time</th>\n",
       "      <th>pick_lat</th>\n",
       "      <th>pick_lon</th>\n",
       "      <th>drop_lat</th>\n",
       "      <th>drop_lon</th>\n",
       "      <th>fare</th>\n",
       "      <th>label</th>\n",
       "    </tr>\n",
       "  </thead>\n",
       "  <tbody>\n",
       "    <tr>\n",
       "      <th>0</th>\n",
       "      <td>10.5</td>\n",
       "      <td>834.0</td>\n",
       "      <td>56.0</td>\n",
       "      <td>0.0000</td>\n",
       "      <td>64.0</td>\n",
       "      <td>11/1/2019 0:20</td>\n",
       "      <td>11/1/2019 0:34</td>\n",
       "      <td>6.86252</td>\n",
       "      <td>79.8993</td>\n",
       "      <td>6.90330</td>\n",
       "      <td>79.8783</td>\n",
       "      <td>270.32</td>\n",
       "      <td>correct</td>\n",
       "    </tr>\n",
       "    <tr>\n",
       "      <th>1</th>\n",
       "      <td>10.5</td>\n",
       "      <td>791.0</td>\n",
       "      <td>47.0</td>\n",
       "      <td>0.0000</td>\n",
       "      <td>134.0</td>\n",
       "      <td>11/1/2019 0:56</td>\n",
       "      <td>11/1/2019 1:09</td>\n",
       "      <td>6.88589</td>\n",
       "      <td>79.8984</td>\n",
       "      <td>6.91373</td>\n",
       "      <td>79.8923</td>\n",
       "      <td>197.85</td>\n",
       "      <td>correct</td>\n",
       "    </tr>\n",
       "    <tr>\n",
       "      <th>2</th>\n",
       "      <td>10.5</td>\n",
       "      <td>1087.0</td>\n",
       "      <td>80.0</td>\n",
       "      <td>0.0000</td>\n",
       "      <td>61.0</td>\n",
       "      <td>11/1/2019 1:08</td>\n",
       "      <td>11/1/2019 1:26</td>\n",
       "      <td>6.90839</td>\n",
       "      <td>79.8651</td>\n",
       "      <td>6.93669</td>\n",
       "      <td>79.9146</td>\n",
       "      <td>301.64</td>\n",
       "      <td>correct</td>\n",
       "    </tr>\n",
       "    <tr>\n",
       "      <th>3</th>\n",
       "      <td>10.5</td>\n",
       "      <td>598.0</td>\n",
       "      <td>271.0</td>\n",
       "      <td>15.6638</td>\n",
       "      <td>68.0</td>\n",
       "      <td>11/1/2019 2:27</td>\n",
       "      <td>11/1/2019 2:37</td>\n",
       "      <td>6.92570</td>\n",
       "      <td>79.8895</td>\n",
       "      <td>6.92748</td>\n",
       "      <td>79.8971</td>\n",
       "      <td>82.30</td>\n",
       "      <td>correct</td>\n",
       "    </tr>\n",
       "    <tr>\n",
       "      <th>4</th>\n",
       "      <td>10.5</td>\n",
       "      <td>3407.0</td>\n",
       "      <td>182.0</td>\n",
       "      <td>0.0000</td>\n",
       "      <td>112.0</td>\n",
       "      <td>11/1/2019 5:38</td>\n",
       "      <td>11/1/2019 6:35</td>\n",
       "      <td>7.13402</td>\n",
       "      <td>79.8969</td>\n",
       "      <td>6.91865</td>\n",
       "      <td>79.8649</td>\n",
       "      <td>1065.02</td>\n",
       "      <td>correct</td>\n",
       "    </tr>\n",
       "  </tbody>\n",
       "</table>\n",
       "</div>"
      ],
      "text/plain": [
       "   additional_fare  duration  meter_waiting  meter_waiting_fare  \\\n",
       "0             10.5     834.0           56.0              0.0000   \n",
       "1             10.5     791.0           47.0              0.0000   \n",
       "2             10.5    1087.0           80.0              0.0000   \n",
       "3             10.5     598.0          271.0             15.6638   \n",
       "4             10.5    3407.0          182.0              0.0000   \n",
       "\n",
       "   meter_waiting_till_pickup     pickup_time       drop_time  pick_lat  \\\n",
       "0                       64.0  11/1/2019 0:20  11/1/2019 0:34   6.86252   \n",
       "1                      134.0  11/1/2019 0:56  11/1/2019 1:09   6.88589   \n",
       "2                       61.0  11/1/2019 1:08  11/1/2019 1:26   6.90839   \n",
       "3                       68.0  11/1/2019 2:27  11/1/2019 2:37   6.92570   \n",
       "4                      112.0  11/1/2019 5:38  11/1/2019 6:35   7.13402   \n",
       "\n",
       "   pick_lon  drop_lat  drop_lon     fare    label  \n",
       "0   79.8993   6.90330   79.8783   270.32  correct  \n",
       "1   79.8984   6.91373   79.8923   197.85  correct  \n",
       "2   79.8651   6.93669   79.9146   301.64  correct  \n",
       "3   79.8895   6.92748   79.8971    82.30  correct  \n",
       "4   79.8969   6.91865   79.8649  1065.02  correct  "
      ]
     },
     "execution_count": 83,
     "metadata": {},
     "output_type": "execute_result"
    }
   ],
   "source": [
    "dataset.head()"
   ]
  },
  {
   "cell_type": "code",
   "execution_count": 84,
   "metadata": {},
   "outputs": [],
   "source": [
    "# dataset[\"time\"]=(pd.to_datetime(dataset.drop_time)-pd.to_datetime(dataset.pickup_time)).dt.total_seconds()"
   ]
  },
  {
   "cell_type": "code",
   "execution_count": 85,
   "metadata": {},
   "outputs": [],
   "source": [
    "# dataset[\"w_time\"]=dataset['duration']-dataset['meter_waiting']"
   ]
  },
  {
   "cell_type": "code",
   "execution_count": 86,
   "metadata": {},
   "outputs": [
    {
     "data": {
      "text/plain": [
       "16943"
      ]
     },
     "execution_count": 86,
     "metadata": {},
     "output_type": "execute_result"
    }
   ],
   "source": [
    "len(train)"
   ]
  },
  {
   "cell_type": "code",
   "execution_count": 87,
   "metadata": {},
   "outputs": [
    {
     "data": {
      "text/plain": [
       "8576"
      ]
     },
     "execution_count": 87,
     "metadata": {},
     "output_type": "execute_result"
    }
   ],
   "source": [
    "len(test)"
   ]
  },
  {
   "cell_type": "code",
   "execution_count": 88,
   "metadata": {},
   "outputs": [
    {
     "data": {
      "text/plain": [
       "25519"
      ]
     },
     "execution_count": 88,
     "metadata": {},
     "output_type": "execute_result"
    }
   ],
   "source": [
    "len(dataset)"
   ]
  },
  {
   "cell_type": "code",
   "execution_count": 89,
   "metadata": {},
   "outputs": [],
   "source": [
    "a=dataset[:len(train)].reset_index(drop=True)"
   ]
  },
  {
   "cell_type": "code",
   "execution_count": 90,
   "metadata": {},
   "outputs": [
    {
     "data": {
      "text/html": [
       "<div>\n",
       "<style scoped>\n",
       "    .dataframe tbody tr th:only-of-type {\n",
       "        vertical-align: middle;\n",
       "    }\n",
       "\n",
       "    .dataframe tbody tr th {\n",
       "        vertical-align: top;\n",
       "    }\n",
       "\n",
       "    .dataframe thead th {\n",
       "        text-align: right;\n",
       "    }\n",
       "</style>\n",
       "<table border=\"1\" class=\"dataframe\">\n",
       "  <thead>\n",
       "    <tr style=\"text-align: right;\">\n",
       "      <th></th>\n",
       "      <th>additional_fare</th>\n",
       "      <th>duration</th>\n",
       "      <th>meter_waiting</th>\n",
       "      <th>meter_waiting_fare</th>\n",
       "      <th>meter_waiting_till_pickup</th>\n",
       "      <th>pickup_time</th>\n",
       "      <th>drop_time</th>\n",
       "      <th>pick_lat</th>\n",
       "      <th>pick_lon</th>\n",
       "      <th>drop_lat</th>\n",
       "      <th>drop_lon</th>\n",
       "      <th>fare</th>\n",
       "      <th>label</th>\n",
       "    </tr>\n",
       "  </thead>\n",
       "  <tbody>\n",
       "    <tr>\n",
       "      <th>0</th>\n",
       "      <td>10.5</td>\n",
       "      <td>834.0</td>\n",
       "      <td>56.0</td>\n",
       "      <td>0.0000</td>\n",
       "      <td>64.0</td>\n",
       "      <td>11/1/2019 0:20</td>\n",
       "      <td>11/1/2019 0:34</td>\n",
       "      <td>6.86252</td>\n",
       "      <td>79.8993</td>\n",
       "      <td>6.90330</td>\n",
       "      <td>79.8783</td>\n",
       "      <td>270.32</td>\n",
       "      <td>correct</td>\n",
       "    </tr>\n",
       "    <tr>\n",
       "      <th>1</th>\n",
       "      <td>10.5</td>\n",
       "      <td>791.0</td>\n",
       "      <td>47.0</td>\n",
       "      <td>0.0000</td>\n",
       "      <td>134.0</td>\n",
       "      <td>11/1/2019 0:56</td>\n",
       "      <td>11/1/2019 1:09</td>\n",
       "      <td>6.88589</td>\n",
       "      <td>79.8984</td>\n",
       "      <td>6.91373</td>\n",
       "      <td>79.8923</td>\n",
       "      <td>197.85</td>\n",
       "      <td>correct</td>\n",
       "    </tr>\n",
       "    <tr>\n",
       "      <th>2</th>\n",
       "      <td>10.5</td>\n",
       "      <td>1087.0</td>\n",
       "      <td>80.0</td>\n",
       "      <td>0.0000</td>\n",
       "      <td>61.0</td>\n",
       "      <td>11/1/2019 1:08</td>\n",
       "      <td>11/1/2019 1:26</td>\n",
       "      <td>6.90839</td>\n",
       "      <td>79.8651</td>\n",
       "      <td>6.93669</td>\n",
       "      <td>79.9146</td>\n",
       "      <td>301.64</td>\n",
       "      <td>correct</td>\n",
       "    </tr>\n",
       "    <tr>\n",
       "      <th>3</th>\n",
       "      <td>10.5</td>\n",
       "      <td>598.0</td>\n",
       "      <td>271.0</td>\n",
       "      <td>15.6638</td>\n",
       "      <td>68.0</td>\n",
       "      <td>11/1/2019 2:27</td>\n",
       "      <td>11/1/2019 2:37</td>\n",
       "      <td>6.92570</td>\n",
       "      <td>79.8895</td>\n",
       "      <td>6.92748</td>\n",
       "      <td>79.8971</td>\n",
       "      <td>82.30</td>\n",
       "      <td>correct</td>\n",
       "    </tr>\n",
       "    <tr>\n",
       "      <th>4</th>\n",
       "      <td>10.5</td>\n",
       "      <td>3407.0</td>\n",
       "      <td>182.0</td>\n",
       "      <td>0.0000</td>\n",
       "      <td>112.0</td>\n",
       "      <td>11/1/2019 5:38</td>\n",
       "      <td>11/1/2019 6:35</td>\n",
       "      <td>7.13402</td>\n",
       "      <td>79.8969</td>\n",
       "      <td>6.91865</td>\n",
       "      <td>79.8649</td>\n",
       "      <td>1065.02</td>\n",
       "      <td>correct</td>\n",
       "    </tr>\n",
       "    <tr>\n",
       "      <th>...</th>\n",
       "      <td>...</td>\n",
       "      <td>...</td>\n",
       "      <td>...</td>\n",
       "      <td>...</td>\n",
       "      <td>...</td>\n",
       "      <td>...</td>\n",
       "      <td>...</td>\n",
       "      <td>...</td>\n",
       "      <td>...</td>\n",
       "      <td>...</td>\n",
       "      <td>...</td>\n",
       "      <td>...</td>\n",
       "      <td>...</td>\n",
       "    </tr>\n",
       "    <tr>\n",
       "      <th>16938</th>\n",
       "      <td>10.5</td>\n",
       "      <td>838.0</td>\n",
       "      <td>93.0</td>\n",
       "      <td>5.4219</td>\n",
       "      <td>451.0</td>\n",
       "      <td>1/31/2020 22:07</td>\n",
       "      <td>1/31/2020 22:21</td>\n",
       "      <td>7.29073</td>\n",
       "      <td>80.6367</td>\n",
       "      <td>7.28891</td>\n",
       "      <td>80.6557</td>\n",
       "      <td>198.26</td>\n",
       "      <td>correct</td>\n",
       "    </tr>\n",
       "    <tr>\n",
       "      <th>16939</th>\n",
       "      <td>10.5</td>\n",
       "      <td>2151.0</td>\n",
       "      <td>428.0</td>\n",
       "      <td>0.0000</td>\n",
       "      <td>39.0</td>\n",
       "      <td>1/31/2020 23:07</td>\n",
       "      <td>1/31/2020 23:43</td>\n",
       "      <td>6.90569</td>\n",
       "      <td>79.8516</td>\n",
       "      <td>6.95089</td>\n",
       "      <td>79.9389</td>\n",
       "      <td>581.23</td>\n",
       "      <td>correct</td>\n",
       "    </tr>\n",
       "    <tr>\n",
       "      <th>16940</th>\n",
       "      <td>10.5</td>\n",
       "      <td>263.0</td>\n",
       "      <td>9.0</td>\n",
       "      <td>0.0000</td>\n",
       "      <td>110.0</td>\n",
       "      <td>1/31/2020 23:21</td>\n",
       "      <td>1/31/2020 23:25</td>\n",
       "      <td>7.09210</td>\n",
       "      <td>79.9000</td>\n",
       "      <td>7.10135</td>\n",
       "      <td>79.9017</td>\n",
       "      <td>76.20</td>\n",
       "      <td>correct</td>\n",
       "    </tr>\n",
       "    <tr>\n",
       "      <th>16941</th>\n",
       "      <td>10.5</td>\n",
       "      <td>858.0</td>\n",
       "      <td>115.0</td>\n",
       "      <td>0.0000</td>\n",
       "      <td>317.0</td>\n",
       "      <td>1/31/2020 23:39</td>\n",
       "      <td>1/31/2020 23:53</td>\n",
       "      <td>6.94540</td>\n",
       "      <td>79.8768</td>\n",
       "      <td>6.93574</td>\n",
       "      <td>79.9010</td>\n",
       "      <td>133.31</td>\n",
       "      <td>correct</td>\n",
       "    </tr>\n",
       "    <tr>\n",
       "      <th>16942</th>\n",
       "      <td>10.5</td>\n",
       "      <td>262.0</td>\n",
       "      <td>21.0</td>\n",
       "      <td>1.2243</td>\n",
       "      <td>23.0</td>\n",
       "      <td>1/31/2020 23:49</td>\n",
       "      <td>1/31/2020 23:53</td>\n",
       "      <td>6.90257</td>\n",
       "      <td>79.9557</td>\n",
       "      <td>6.90823</td>\n",
       "      <td>79.9374</td>\n",
       "      <td>98.57</td>\n",
       "      <td>correct</td>\n",
       "    </tr>\n",
       "  </tbody>\n",
       "</table>\n",
       "<p>16943 rows × 13 columns</p>\n",
       "</div>"
      ],
      "text/plain": [
       "       additional_fare  duration  meter_waiting  meter_waiting_fare  \\\n",
       "0                 10.5     834.0           56.0              0.0000   \n",
       "1                 10.5     791.0           47.0              0.0000   \n",
       "2                 10.5    1087.0           80.0              0.0000   \n",
       "3                 10.5     598.0          271.0             15.6638   \n",
       "4                 10.5    3407.0          182.0              0.0000   \n",
       "...                ...       ...            ...                 ...   \n",
       "16938             10.5     838.0           93.0              5.4219   \n",
       "16939             10.5    2151.0          428.0              0.0000   \n",
       "16940             10.5     263.0            9.0              0.0000   \n",
       "16941             10.5     858.0          115.0              0.0000   \n",
       "16942             10.5     262.0           21.0              1.2243   \n",
       "\n",
       "       meter_waiting_till_pickup      pickup_time        drop_time  pick_lat  \\\n",
       "0                           64.0   11/1/2019 0:20   11/1/2019 0:34   6.86252   \n",
       "1                          134.0   11/1/2019 0:56   11/1/2019 1:09   6.88589   \n",
       "2                           61.0   11/1/2019 1:08   11/1/2019 1:26   6.90839   \n",
       "3                           68.0   11/1/2019 2:27   11/1/2019 2:37   6.92570   \n",
       "4                          112.0   11/1/2019 5:38   11/1/2019 6:35   7.13402   \n",
       "...                          ...              ...              ...       ...   \n",
       "16938                      451.0  1/31/2020 22:07  1/31/2020 22:21   7.29073   \n",
       "16939                       39.0  1/31/2020 23:07  1/31/2020 23:43   6.90569   \n",
       "16940                      110.0  1/31/2020 23:21  1/31/2020 23:25   7.09210   \n",
       "16941                      317.0  1/31/2020 23:39  1/31/2020 23:53   6.94540   \n",
       "16942                       23.0  1/31/2020 23:49  1/31/2020 23:53   6.90257   \n",
       "\n",
       "       pick_lon  drop_lat  drop_lon     fare    label  \n",
       "0       79.8993   6.90330   79.8783   270.32  correct  \n",
       "1       79.8984   6.91373   79.8923   197.85  correct  \n",
       "2       79.8651   6.93669   79.9146   301.64  correct  \n",
       "3       79.8895   6.92748   79.8971    82.30  correct  \n",
       "4       79.8969   6.91865   79.8649  1065.02  correct  \n",
       "...         ...       ...       ...      ...      ...  \n",
       "16938   80.6367   7.28891   80.6557   198.26  correct  \n",
       "16939   79.8516   6.95089   79.9389   581.23  correct  \n",
       "16940   79.9000   7.10135   79.9017    76.20  correct  \n",
       "16941   79.8768   6.93574   79.9010   133.31  correct  \n",
       "16942   79.9557   6.90823   79.9374    98.57  correct  \n",
       "\n",
       "[16943 rows x 13 columns]"
      ]
     },
     "execution_count": 90,
     "metadata": {},
     "output_type": "execute_result"
    }
   ],
   "source": [
    "a"
   ]
  },
  {
   "cell_type": "code",
   "execution_count": 91,
   "metadata": {},
   "outputs": [],
   "source": [
    "# a[a[\"w_time\"]<0]"
   ]
  },
  {
   "cell_type": "code",
   "execution_count": 92,
   "metadata": {},
   "outputs": [],
   "source": [
    "dataset[\"pickup\"] = pd.to_datetime(dataset[\"pickup_time\"])\n",
    "dataset[\"drop\"] = pd.to_datetime(dataset[\"drop_time\"])\n",
    "dataset ['difference'] = dataset[\"drop\"] - dataset[\"pickup\"]\n",
    "dataset ['difference'] = dataset ['difference']/np.timedelta64(1,'s')\n",
    "# train_df['duration'] = train_df['duration'].fillna(train_df ['difference'])\n",
    "dataset['travel_time'] = dataset['duration'] - dataset['meter_waiting']\n",
    "\n",
    "#train_df['duration'] = train_df ['difference']\n",
    "dataset['duration'] = np.where(abs(dataset['duration']-dataset['difference']) > 120, dataset['difference'], dataset['duration'])\n"
   ]
  },
  {
   "cell_type": "code",
   "execution_count": 93,
   "metadata": {},
   "outputs": [],
   "source": [
    "# train = train.drop(train[train['w_time']<0].index, axis = 0).reset_index(drop=True)"
   ]
  },
  {
   "cell_type": "code",
   "execution_count": 94,
   "metadata": {},
   "outputs": [],
   "source": [
    "# dataset[[\"drop_time\",\"pickup_time\",\"time\"]].head(5)"
   ]
  },
  {
   "cell_type": "code",
   "execution_count": 95,
   "metadata": {},
   "outputs": [],
   "source": [
    "# dataset['pickup_month'] = pd.to_datetime(dataset.pickup_time).dt.month\n",
    "# dataset['pickup_day'] = pd.to_datetime(dataset.pickup_time).dt.day\n",
    "# dataset['pickup_hour'] = pd.to_datetime(dataset.pickup_time).dt.hour\n",
    "# dataset['pickup_dayofweek'] = pd.to_datetime(dataset.pickup_time).dt.dayofweek\n",
    "# dataset['pickup_year']=pd.to_datetime(dataset.pickup_time).dt.year\n",
    "# dataset[[\"drop_time\",\"pickup_time\",\"pickup_month\",'pickup_day','pickup_hour','pickup_dayofweek','pickup_year']]"
   ]
  },
  {
   "cell_type": "code",
   "execution_count": 96,
   "metadata": {},
   "outputs": [],
   "source": [
    "# g = sns.FacetGrid(dataset, col='pickup_month')\n",
    "# g = g.map(sns.distplot, \"fare\")"
   ]
  },
  {
   "cell_type": "code",
   "execution_count": 97,
   "metadata": {},
   "outputs": [],
   "source": [
    "# dataset.drop(labels = [\"pickup_time\"], axis = 1, inplace = True)\n",
    "# dataset.drop(labels = [\"drop_time\"], axis = 1, inplace = True)\n",
    "# dataset.drop(labels = [\"time\"], axis = 1, inplace = True)"
   ]
  },
  {
   "cell_type": "code",
   "execution_count": 98,
   "metadata": {},
   "outputs": [
    {
     "data": {
      "text/html": [
       "<div>\n",
       "<style scoped>\n",
       "    .dataframe tbody tr th:only-of-type {\n",
       "        vertical-align: middle;\n",
       "    }\n",
       "\n",
       "    .dataframe tbody tr th {\n",
       "        vertical-align: top;\n",
       "    }\n",
       "\n",
       "    .dataframe thead th {\n",
       "        text-align: right;\n",
       "    }\n",
       "</style>\n",
       "<table border=\"1\" class=\"dataframe\">\n",
       "  <thead>\n",
       "    <tr style=\"text-align: right;\">\n",
       "      <th></th>\n",
       "      <th>additional_fare</th>\n",
       "      <th>duration</th>\n",
       "      <th>meter_waiting</th>\n",
       "      <th>meter_waiting_fare</th>\n",
       "      <th>meter_waiting_till_pickup</th>\n",
       "      <th>pickup_time</th>\n",
       "      <th>drop_time</th>\n",
       "      <th>pick_lat</th>\n",
       "      <th>pick_lon</th>\n",
       "      <th>drop_lat</th>\n",
       "      <th>drop_lon</th>\n",
       "      <th>fare</th>\n",
       "      <th>label</th>\n",
       "      <th>pickup</th>\n",
       "      <th>drop</th>\n",
       "      <th>difference</th>\n",
       "      <th>travel_time</th>\n",
       "    </tr>\n",
       "  </thead>\n",
       "  <tbody>\n",
       "    <tr>\n",
       "      <th>0</th>\n",
       "      <td>10.5</td>\n",
       "      <td>834.0</td>\n",
       "      <td>56.0</td>\n",
       "      <td>0.0000</td>\n",
       "      <td>64.0</td>\n",
       "      <td>11/1/2019 0:20</td>\n",
       "      <td>11/1/2019 0:34</td>\n",
       "      <td>6.86252</td>\n",
       "      <td>79.8993</td>\n",
       "      <td>6.90330</td>\n",
       "      <td>79.8783</td>\n",
       "      <td>270.32</td>\n",
       "      <td>correct</td>\n",
       "      <td>2019-11-01 00:20:00</td>\n",
       "      <td>2019-11-01 00:34:00</td>\n",
       "      <td>840.0</td>\n",
       "      <td>778.0</td>\n",
       "    </tr>\n",
       "    <tr>\n",
       "      <th>1</th>\n",
       "      <td>10.5</td>\n",
       "      <td>791.0</td>\n",
       "      <td>47.0</td>\n",
       "      <td>0.0000</td>\n",
       "      <td>134.0</td>\n",
       "      <td>11/1/2019 0:56</td>\n",
       "      <td>11/1/2019 1:09</td>\n",
       "      <td>6.88589</td>\n",
       "      <td>79.8984</td>\n",
       "      <td>6.91373</td>\n",
       "      <td>79.8923</td>\n",
       "      <td>197.85</td>\n",
       "      <td>correct</td>\n",
       "      <td>2019-11-01 00:56:00</td>\n",
       "      <td>2019-11-01 01:09:00</td>\n",
       "      <td>780.0</td>\n",
       "      <td>744.0</td>\n",
       "    </tr>\n",
       "    <tr>\n",
       "      <th>2</th>\n",
       "      <td>10.5</td>\n",
       "      <td>1087.0</td>\n",
       "      <td>80.0</td>\n",
       "      <td>0.0000</td>\n",
       "      <td>61.0</td>\n",
       "      <td>11/1/2019 1:08</td>\n",
       "      <td>11/1/2019 1:26</td>\n",
       "      <td>6.90839</td>\n",
       "      <td>79.8651</td>\n",
       "      <td>6.93669</td>\n",
       "      <td>79.9146</td>\n",
       "      <td>301.64</td>\n",
       "      <td>correct</td>\n",
       "      <td>2019-11-01 01:08:00</td>\n",
       "      <td>2019-11-01 01:26:00</td>\n",
       "      <td>1080.0</td>\n",
       "      <td>1007.0</td>\n",
       "    </tr>\n",
       "    <tr>\n",
       "      <th>3</th>\n",
       "      <td>10.5</td>\n",
       "      <td>598.0</td>\n",
       "      <td>271.0</td>\n",
       "      <td>15.6638</td>\n",
       "      <td>68.0</td>\n",
       "      <td>11/1/2019 2:27</td>\n",
       "      <td>11/1/2019 2:37</td>\n",
       "      <td>6.92570</td>\n",
       "      <td>79.8895</td>\n",
       "      <td>6.92748</td>\n",
       "      <td>79.8971</td>\n",
       "      <td>82.30</td>\n",
       "      <td>correct</td>\n",
       "      <td>2019-11-01 02:27:00</td>\n",
       "      <td>2019-11-01 02:37:00</td>\n",
       "      <td>600.0</td>\n",
       "      <td>327.0</td>\n",
       "    </tr>\n",
       "    <tr>\n",
       "      <th>4</th>\n",
       "      <td>10.5</td>\n",
       "      <td>3407.0</td>\n",
       "      <td>182.0</td>\n",
       "      <td>0.0000</td>\n",
       "      <td>112.0</td>\n",
       "      <td>11/1/2019 5:38</td>\n",
       "      <td>11/1/2019 6:35</td>\n",
       "      <td>7.13402</td>\n",
       "      <td>79.8969</td>\n",
       "      <td>6.91865</td>\n",
       "      <td>79.8649</td>\n",
       "      <td>1065.02</td>\n",
       "      <td>correct</td>\n",
       "      <td>2019-11-01 05:38:00</td>\n",
       "      <td>2019-11-01 06:35:00</td>\n",
       "      <td>3420.0</td>\n",
       "      <td>3225.0</td>\n",
       "    </tr>\n",
       "  </tbody>\n",
       "</table>\n",
       "</div>"
      ],
      "text/plain": [
       "   additional_fare  duration  meter_waiting  meter_waiting_fare  \\\n",
       "0             10.5     834.0           56.0              0.0000   \n",
       "1             10.5     791.0           47.0              0.0000   \n",
       "2             10.5    1087.0           80.0              0.0000   \n",
       "3             10.5     598.0          271.0             15.6638   \n",
       "4             10.5    3407.0          182.0              0.0000   \n",
       "\n",
       "   meter_waiting_till_pickup     pickup_time       drop_time  pick_lat  \\\n",
       "0                       64.0  11/1/2019 0:20  11/1/2019 0:34   6.86252   \n",
       "1                      134.0  11/1/2019 0:56  11/1/2019 1:09   6.88589   \n",
       "2                       61.0  11/1/2019 1:08  11/1/2019 1:26   6.90839   \n",
       "3                       68.0  11/1/2019 2:27  11/1/2019 2:37   6.92570   \n",
       "4                      112.0  11/1/2019 5:38  11/1/2019 6:35   7.13402   \n",
       "\n",
       "   pick_lon  drop_lat  drop_lon     fare    label              pickup  \\\n",
       "0   79.8993   6.90330   79.8783   270.32  correct 2019-11-01 00:20:00   \n",
       "1   79.8984   6.91373   79.8923   197.85  correct 2019-11-01 00:56:00   \n",
       "2   79.8651   6.93669   79.9146   301.64  correct 2019-11-01 01:08:00   \n",
       "3   79.8895   6.92748   79.8971    82.30  correct 2019-11-01 02:27:00   \n",
       "4   79.8969   6.91865   79.8649  1065.02  correct 2019-11-01 05:38:00   \n",
       "\n",
       "                 drop  difference  travel_time  \n",
       "0 2019-11-01 00:34:00       840.0        778.0  \n",
       "1 2019-11-01 01:09:00       780.0        744.0  \n",
       "2 2019-11-01 01:26:00      1080.0       1007.0  \n",
       "3 2019-11-01 02:37:00       600.0        327.0  \n",
       "4 2019-11-01 06:35:00      3420.0       3225.0  "
      ]
     },
     "execution_count": 98,
     "metadata": {},
     "output_type": "execute_result"
    }
   ],
   "source": [
    "dataset.head()"
   ]
  },
  {
   "cell_type": "code",
   "execution_count": 99,
   "metadata": {},
   "outputs": [
    {
     "data": {
      "text/plain": [
       "(25519, 17)"
      ]
     },
     "execution_count": 99,
     "metadata": {},
     "output_type": "execute_result"
    }
   ],
   "source": [
    "dataset.shape"
   ]
  },
  {
   "cell_type": "code",
   "execution_count": 100,
   "metadata": {},
   "outputs": [],
   "source": [
    "# dataset[(((dataset['time']-100) < dataset['duration']) &  (dataset['duration'] < (dataset['time']+100)))].shape"
   ]
  },
  {
   "cell_type": "code",
   "execution_count": 101,
   "metadata": {},
   "outputs": [],
   "source": [
    "# dataset[(((dataset['time']-100) > dataset['duration']) |  (dataset['duration'] > (dataset['time']+100)))]"
   ]
  },
  {
   "cell_type": "code",
   "execution_count": 102,
   "metadata": {},
   "outputs": [],
   "source": [
    "# a=dataset[(((dataset['time']-100) > dataset['duration']) |  (dataset['duration'] > (dataset['time']+100)))].index"
   ]
  },
  {
   "cell_type": "code",
   "execution_count": 103,
   "metadata": {},
   "outputs": [],
   "source": [
    "# a"
   ]
  },
  {
   "cell_type": "code",
   "execution_count": 104,
   "metadata": {},
   "outputs": [],
   "source": [
    "# dataset.loc[a]"
   ]
  },
  {
   "cell_type": "code",
   "execution_count": 105,
   "metadata": {},
   "outputs": [],
   "source": [
    "# dataset = dataset.drop(['pickup','drop','difference'],axis='columns')"
   ]
  },
  {
   "cell_type": "code",
   "execution_count": 106,
   "metadata": {},
   "outputs": [],
   "source": [
    "# dataset.loc[a,'duration']=dataset.loc[a,'time']"
   ]
  },
  {
   "cell_type": "code",
   "execution_count": 107,
   "metadata": {},
   "outputs": [],
   "source": [
    "# dataset.loc[a]"
   ]
  },
  {
   "cell_type": "code",
   "execution_count": 108,
   "metadata": {},
   "outputs": [],
   "source": [
    "# dataset[(((dataset['time']-100) > dataset['duration']) |  (dataset['duration'] > (dataset['time']+100)))]"
   ]
  },
  {
   "cell_type": "markdown",
   "metadata": {},
   "source": [
    "**distance**"
   ]
  },
  {
   "cell_type": "code",
   "execution_count": 109,
   "metadata": {},
   "outputs": [],
   "source": [
    "def distance(lat1, lat2, lon1,lon2):\n",
    "    p = 0.017453292519943295 # Pi/180\n",
    "    a = 0.5 - np.cos((lat2 - lat1) * p)/2 + np.cos(lat1 * p) * np.cos(lat2 * p) * (1 - np.cos((lon2 - lon1) * p)) / 2\n",
    "    return 0.6213712 * 12742 * np.arcsin(np.sqrt(a))"
   ]
  },
  {
   "cell_type": "code",
   "execution_count": 110,
   "metadata": {},
   "outputs": [],
   "source": [
    "dataset['trip_distance']=dataset.apply(lambda row:distance(row['pick_lat'],row['drop_lat'],row['pick_lon'],row['drop_lon']),axis=1)"
   ]
  },
  {
   "cell_type": "code",
   "execution_count": 111,
   "metadata": {},
   "outputs": [],
   "source": [
    "# sns.kdeplot(dataset['trip_distance'].values).set_title(\"Distribution of Trip Distance (log scale)\")"
   ]
  },
  {
   "cell_type": "code",
   "execution_count": 112,
   "metadata": {},
   "outputs": [],
   "source": [
    "dataset['distance'] = np.sqrt((abs(dataset['pick_lat']- dataset['drop_lat'])**2) + (abs(dataset['pick_lon']- dataset['drop_lon'])**2))"
   ]
  },
  {
   "cell_type": "code",
   "execution_count": 113,
   "metadata": {},
   "outputs": [],
   "source": [
    "# sns.kdeplot(np.log(dataset['distance'].values)).set_title(\"Distribution of Trip Distance (log scale)\")"
   ]
  },
  {
   "cell_type": "code",
   "execution_count": 114,
   "metadata": {},
   "outputs": [],
   "source": [
    "# sns.scatterplot(x=\"distance\", y=\"fare\",data=dataset)"
   ]
  },
  {
   "cell_type": "code",
   "execution_count": 115,
   "metadata": {},
   "outputs": [],
   "source": [
    "# sns.scatterplot(x=\"trip_distance\", y=\"fare\",data=dataset)"
   ]
  },
  {
   "cell_type": "code",
   "execution_count": 116,
   "metadata": {},
   "outputs": [
    {
     "data": {
      "text/plain": [
       "(16, 19)"
      ]
     },
     "execution_count": 116,
     "metadata": {},
     "output_type": "execute_result"
    }
   ],
   "source": [
    "dataset[dataset['fare']==0].shape"
   ]
  },
  {
   "cell_type": "code",
   "execution_count": 117,
   "metadata": {},
   "outputs": [
    {
     "data": {
      "text/html": [
       "<div>\n",
       "<style scoped>\n",
       "    .dataframe tbody tr th:only-of-type {\n",
       "        vertical-align: middle;\n",
       "    }\n",
       "\n",
       "    .dataframe tbody tr th {\n",
       "        vertical-align: top;\n",
       "    }\n",
       "\n",
       "    .dataframe thead th {\n",
       "        text-align: right;\n",
       "    }\n",
       "</style>\n",
       "<table border=\"1\" class=\"dataframe\">\n",
       "  <thead>\n",
       "    <tr style=\"text-align: right;\">\n",
       "      <th></th>\n",
       "      <th>additional_fare</th>\n",
       "      <th>duration</th>\n",
       "      <th>meter_waiting</th>\n",
       "      <th>meter_waiting_fare</th>\n",
       "      <th>meter_waiting_till_pickup</th>\n",
       "      <th>pickup_time</th>\n",
       "      <th>drop_time</th>\n",
       "      <th>pick_lat</th>\n",
       "      <th>pick_lon</th>\n",
       "      <th>drop_lat</th>\n",
       "      <th>drop_lon</th>\n",
       "      <th>fare</th>\n",
       "      <th>label</th>\n",
       "      <th>pickup</th>\n",
       "      <th>drop</th>\n",
       "      <th>difference</th>\n",
       "      <th>travel_time</th>\n",
       "      <th>trip_distance</th>\n",
       "      <th>distance</th>\n",
       "    </tr>\n",
       "  </thead>\n",
       "  <tbody>\n",
       "    <tr>\n",
       "      <th>0</th>\n",
       "      <td>10.5</td>\n",
       "      <td>834.0</td>\n",
       "      <td>56.0</td>\n",
       "      <td>0.0000</td>\n",
       "      <td>64.0</td>\n",
       "      <td>11/1/2019 0:20</td>\n",
       "      <td>11/1/2019 0:34</td>\n",
       "      <td>6.86252</td>\n",
       "      <td>79.8993</td>\n",
       "      <td>6.90330</td>\n",
       "      <td>79.8783</td>\n",
       "      <td>270.32</td>\n",
       "      <td>correct</td>\n",
       "      <td>2019-11-01 00:20:00</td>\n",
       "      <td>2019-11-01 00:34:00</td>\n",
       "      <td>840.0</td>\n",
       "      <td>778.0</td>\n",
       "      <td>3.164501</td>\n",
       "      <td>0.045869</td>\n",
       "    </tr>\n",
       "    <tr>\n",
       "      <th>1</th>\n",
       "      <td>10.5</td>\n",
       "      <td>791.0</td>\n",
       "      <td>47.0</td>\n",
       "      <td>0.0000</td>\n",
       "      <td>134.0</td>\n",
       "      <td>11/1/2019 0:56</td>\n",
       "      <td>11/1/2019 1:09</td>\n",
       "      <td>6.88589</td>\n",
       "      <td>79.8984</td>\n",
       "      <td>6.91373</td>\n",
       "      <td>79.8923</td>\n",
       "      <td>197.85</td>\n",
       "      <td>correct</td>\n",
       "      <td>2019-11-01 00:56:00</td>\n",
       "      <td>2019-11-01 01:09:00</td>\n",
       "      <td>780.0</td>\n",
       "      <td>744.0</td>\n",
       "      <td>1.968540</td>\n",
       "      <td>0.028500</td>\n",
       "    </tr>\n",
       "    <tr>\n",
       "      <th>2</th>\n",
       "      <td>10.5</td>\n",
       "      <td>1087.0</td>\n",
       "      <td>80.0</td>\n",
       "      <td>0.0000</td>\n",
       "      <td>61.0</td>\n",
       "      <td>11/1/2019 1:08</td>\n",
       "      <td>11/1/2019 1:26</td>\n",
       "      <td>6.90839</td>\n",
       "      <td>79.8651</td>\n",
       "      <td>6.93669</td>\n",
       "      <td>79.9146</td>\n",
       "      <td>301.64</td>\n",
       "      <td>correct</td>\n",
       "      <td>2019-11-01 01:08:00</td>\n",
       "      <td>2019-11-01 01:26:00</td>\n",
       "      <td>1080.0</td>\n",
       "      <td>1007.0</td>\n",
       "      <td>3.917991</td>\n",
       "      <td>0.057019</td>\n",
       "    </tr>\n",
       "    <tr>\n",
       "      <th>3</th>\n",
       "      <td>10.5</td>\n",
       "      <td>598.0</td>\n",
       "      <td>271.0</td>\n",
       "      <td>15.6638</td>\n",
       "      <td>68.0</td>\n",
       "      <td>11/1/2019 2:27</td>\n",
       "      <td>11/1/2019 2:37</td>\n",
       "      <td>6.92570</td>\n",
       "      <td>79.8895</td>\n",
       "      <td>6.92748</td>\n",
       "      <td>79.8971</td>\n",
       "      <td>82.30</td>\n",
       "      <td>correct</td>\n",
       "      <td>2019-11-01 02:27:00</td>\n",
       "      <td>2019-11-01 02:37:00</td>\n",
       "      <td>600.0</td>\n",
       "      <td>327.0</td>\n",
       "      <td>0.535588</td>\n",
       "      <td>0.007806</td>\n",
       "    </tr>\n",
       "    <tr>\n",
       "      <th>4</th>\n",
       "      <td>10.5</td>\n",
       "      <td>3407.0</td>\n",
       "      <td>182.0</td>\n",
       "      <td>0.0000</td>\n",
       "      <td>112.0</td>\n",
       "      <td>11/1/2019 5:38</td>\n",
       "      <td>11/1/2019 6:35</td>\n",
       "      <td>7.13402</td>\n",
       "      <td>79.8969</td>\n",
       "      <td>6.91865</td>\n",
       "      <td>79.8649</td>\n",
       "      <td>1065.02</td>\n",
       "      <td>correct</td>\n",
       "      <td>2019-11-01 05:38:00</td>\n",
       "      <td>2019-11-01 06:35:00</td>\n",
       "      <td>3420.0</td>\n",
       "      <td>3225.0</td>\n",
       "      <td>15.041557</td>\n",
       "      <td>0.217734</td>\n",
       "    </tr>\n",
       "  </tbody>\n",
       "</table>\n",
       "</div>"
      ],
      "text/plain": [
       "   additional_fare  duration  meter_waiting  meter_waiting_fare  \\\n",
       "0             10.5     834.0           56.0              0.0000   \n",
       "1             10.5     791.0           47.0              0.0000   \n",
       "2             10.5    1087.0           80.0              0.0000   \n",
       "3             10.5     598.0          271.0             15.6638   \n",
       "4             10.5    3407.0          182.0              0.0000   \n",
       "\n",
       "   meter_waiting_till_pickup     pickup_time       drop_time  pick_lat  \\\n",
       "0                       64.0  11/1/2019 0:20  11/1/2019 0:34   6.86252   \n",
       "1                      134.0  11/1/2019 0:56  11/1/2019 1:09   6.88589   \n",
       "2                       61.0  11/1/2019 1:08  11/1/2019 1:26   6.90839   \n",
       "3                       68.0  11/1/2019 2:27  11/1/2019 2:37   6.92570   \n",
       "4                      112.0  11/1/2019 5:38  11/1/2019 6:35   7.13402   \n",
       "\n",
       "   pick_lon  drop_lat  drop_lon     fare    label              pickup  \\\n",
       "0   79.8993   6.90330   79.8783   270.32  correct 2019-11-01 00:20:00   \n",
       "1   79.8984   6.91373   79.8923   197.85  correct 2019-11-01 00:56:00   \n",
       "2   79.8651   6.93669   79.9146   301.64  correct 2019-11-01 01:08:00   \n",
       "3   79.8895   6.92748   79.8971    82.30  correct 2019-11-01 02:27:00   \n",
       "4   79.8969   6.91865   79.8649  1065.02  correct 2019-11-01 05:38:00   \n",
       "\n",
       "                 drop  difference  travel_time  trip_distance  distance  \n",
       "0 2019-11-01 00:34:00       840.0        778.0       3.164501  0.045869  \n",
       "1 2019-11-01 01:09:00       780.0        744.0       1.968540  0.028500  \n",
       "2 2019-11-01 01:26:00      1080.0       1007.0       3.917991  0.057019  \n",
       "3 2019-11-01 02:37:00       600.0        327.0       0.535588  0.007806  \n",
       "4 2019-11-01 06:35:00      3420.0       3225.0      15.041557  0.217734  "
      ]
     },
     "execution_count": 117,
     "metadata": {},
     "output_type": "execute_result"
    }
   ],
   "source": [
    "dataset.head()"
   ]
  },
  {
   "cell_type": "code",
   "execution_count": 118,
   "metadata": {},
   "outputs": [
    {
     "data": {
      "text/html": [
       "<div>\n",
       "<style scoped>\n",
       "    .dataframe tbody tr th:only-of-type {\n",
       "        vertical-align: middle;\n",
       "    }\n",
       "\n",
       "    .dataframe tbody tr th {\n",
       "        vertical-align: top;\n",
       "    }\n",
       "\n",
       "    .dataframe thead th {\n",
       "        text-align: right;\n",
       "    }\n",
       "</style>\n",
       "<table border=\"1\" class=\"dataframe\">\n",
       "  <thead>\n",
       "    <tr style=\"text-align: right;\">\n",
       "      <th></th>\n",
       "      <th>additional_fare</th>\n",
       "      <th>duration</th>\n",
       "      <th>meter_waiting</th>\n",
       "      <th>meter_waiting_fare</th>\n",
       "      <th>meter_waiting_till_pickup</th>\n",
       "      <th>pickup_time</th>\n",
       "      <th>drop_time</th>\n",
       "      <th>pick_lat</th>\n",
       "      <th>pick_lon</th>\n",
       "      <th>drop_lat</th>\n",
       "      <th>drop_lon</th>\n",
       "      <th>fare</th>\n",
       "      <th>label</th>\n",
       "      <th>pickup</th>\n",
       "      <th>drop</th>\n",
       "      <th>difference</th>\n",
       "      <th>travel_time</th>\n",
       "      <th>trip_distance</th>\n",
       "      <th>distance</th>\n",
       "    </tr>\n",
       "  </thead>\n",
       "  <tbody>\n",
       "  </tbody>\n",
       "</table>\n",
       "</div>"
      ],
      "text/plain": [
       "Empty DataFrame\n",
       "Columns: [additional_fare, duration, meter_waiting, meter_waiting_fare, meter_waiting_till_pickup, pickup_time, drop_time, pick_lat, pick_lon, drop_lat, drop_lon, fare, label, pickup, drop, difference, travel_time, trip_distance, distance]\n",
       "Index: []"
      ]
     },
     "execution_count": 118,
     "metadata": {},
     "output_type": "execute_result"
    }
   ],
   "source": [
    "dataset[dataset.distance > 0.6]"
   ]
  },
  {
   "cell_type": "code",
   "execution_count": 119,
   "metadata": {},
   "outputs": [
    {
     "data": {
      "text/plain": [
       "<matplotlib.axes._subplots.AxesSubplot at 0x7f6f5a5fac90>"
      ]
     },
     "execution_count": 119,
     "metadata": {},
     "output_type": "execute_result"
    },
    {
     "data": {
      "image/png": "[encoded data removed]",
      "text/plain": [
       "<Figure size 432x288 with 1 Axes>"
      ]
     },
     "metadata": {},
     "output_type": "display_data"
    }
   ],
   "source": [
    "sns.scatterplot(x=\"meter_waiting_fare\", y=\"meter_waiting\",data=train)"
   ]
  },
  {
   "cell_type": "code",
   "execution_count": 120,
   "metadata": {},
   "outputs": [],
   "source": [
    "b=dataset[((dataset['meter_waiting_fare'] != 0) & (dataset['meter_waiting'] != 0))]"
   ]
  },
  {
   "cell_type": "code",
   "execution_count": 121,
   "metadata": {},
   "outputs": [
    {
     "data": {
      "text/html": [
       "<div>\n",
       "<style scoped>\n",
       "    .dataframe tbody tr th:only-of-type {\n",
       "        vertical-align: middle;\n",
       "    }\n",
       "\n",
       "    .dataframe tbody tr th {\n",
       "        vertical-align: top;\n",
       "    }\n",
       "\n",
       "    .dataframe thead th {\n",
       "        text-align: right;\n",
       "    }\n",
       "</style>\n",
       "<table border=\"1\" class=\"dataframe\">\n",
       "  <thead>\n",
       "    <tr style=\"text-align: right;\">\n",
       "      <th></th>\n",
       "      <th>additional_fare</th>\n",
       "      <th>duration</th>\n",
       "      <th>meter_waiting</th>\n",
       "      <th>meter_waiting_fare</th>\n",
       "      <th>meter_waiting_till_pickup</th>\n",
       "      <th>pickup_time</th>\n",
       "      <th>drop_time</th>\n",
       "      <th>pick_lat</th>\n",
       "      <th>pick_lon</th>\n",
       "      <th>drop_lat</th>\n",
       "      <th>drop_lon</th>\n",
       "      <th>fare</th>\n",
       "      <th>label</th>\n",
       "      <th>pickup</th>\n",
       "      <th>drop</th>\n",
       "      <th>difference</th>\n",
       "      <th>travel_time</th>\n",
       "      <th>trip_distance</th>\n",
       "      <th>distance</th>\n",
       "    </tr>\n",
       "  </thead>\n",
       "  <tbody>\n",
       "    <tr>\n",
       "      <th>3</th>\n",
       "      <td>10.5</td>\n",
       "      <td>598.0</td>\n",
       "      <td>271.0</td>\n",
       "      <td>15.6638</td>\n",
       "      <td>68.0</td>\n",
       "      <td>11/1/2019 2:27</td>\n",
       "      <td>11/1/2019 2:37</td>\n",
       "      <td>6.92570</td>\n",
       "      <td>79.8895</td>\n",
       "      <td>6.92748</td>\n",
       "      <td>79.8971</td>\n",
       "      <td>82.30</td>\n",
       "      <td>correct</td>\n",
       "      <td>2019-11-01 02:27:00</td>\n",
       "      <td>2019-11-01 02:37:00</td>\n",
       "      <td>600.0</td>\n",
       "      <td>327.0</td>\n",
       "      <td>0.535588</td>\n",
       "      <td>0.007806</td>\n",
       "    </tr>\n",
       "    <tr>\n",
       "      <th>6</th>\n",
       "      <td>10.5</td>\n",
       "      <td>1333.0</td>\n",
       "      <td>295.0</td>\n",
       "      <td>17.1985</td>\n",
       "      <td>212.0</td>\n",
       "      <td>11/1/2019 6:50</td>\n",
       "      <td>11/1/2019 7:12</td>\n",
       "      <td>6.90760</td>\n",
       "      <td>79.9524</td>\n",
       "      <td>6.90634</td>\n",
       "      <td>79.9042</td>\n",
       "      <td>318.05</td>\n",
       "      <td>correct</td>\n",
       "      <td>2019-11-01 06:50:00</td>\n",
       "      <td>2019-11-01 07:12:00</td>\n",
       "      <td>1320.0</td>\n",
       "      <td>1038.0</td>\n",
       "      <td>3.307275</td>\n",
       "      <td>0.048216</td>\n",
       "    </tr>\n",
       "    <tr>\n",
       "      <th>7</th>\n",
       "      <td>10.5</td>\n",
       "      <td>360.0</td>\n",
       "      <td>80.0</td>\n",
       "      <td>4.6640</td>\n",
       "      <td>3.0</td>\n",
       "      <td>11/1/2019 7:00</td>\n",
       "      <td>11/1/2019 7:06</td>\n",
       "      <td>7.26706</td>\n",
       "      <td>80.6064</td>\n",
       "      <td>7.27422</td>\n",
       "      <td>80.6124</td>\n",
       "      <td>100.32</td>\n",
       "      <td>correct</td>\n",
       "      <td>2019-11-01 07:00:00</td>\n",
       "      <td>2019-11-01 07:06:00</td>\n",
       "      <td>360.0</td>\n",
       "      <td>280.0</td>\n",
       "      <td>0.643307</td>\n",
       "      <td>0.009342</td>\n",
       "    </tr>\n",
       "    <tr>\n",
       "      <th>8</th>\n",
       "      <td>10.5</td>\n",
       "      <td>1539.0</td>\n",
       "      <td>588.0</td>\n",
       "      <td>33.9864</td>\n",
       "      <td>43.0</td>\n",
       "      <td>11/1/2019 7:02</td>\n",
       "      <td>11/1/2019 7:28</td>\n",
       "      <td>6.85137</td>\n",
       "      <td>79.9537</td>\n",
       "      <td>6.84779</td>\n",
       "      <td>79.9274</td>\n",
       "      <td>257.89</td>\n",
       "      <td>correct</td>\n",
       "      <td>2019-11-01 07:02:00</td>\n",
       "      <td>2019-11-01 07:28:00</td>\n",
       "      <td>1560.0</td>\n",
       "      <td>951.0</td>\n",
       "      <td>1.821062</td>\n",
       "      <td>0.026543</td>\n",
       "    </tr>\n",
       "    <tr>\n",
       "      <th>13</th>\n",
       "      <td>10.5</td>\n",
       "      <td>335.0</td>\n",
       "      <td>10.0</td>\n",
       "      <td>0.5830</td>\n",
       "      <td>17.0</td>\n",
       "      <td>11/1/2019 7:45</td>\n",
       "      <td>11/1/2019 7:51</td>\n",
       "      <td>6.85268</td>\n",
       "      <td>79.8631</td>\n",
       "      <td>6.86560</td>\n",
       "      <td>79.8640</td>\n",
       "      <td>126.87</td>\n",
       "      <td>correct</td>\n",
       "      <td>2019-11-01 07:45:00</td>\n",
       "      <td>2019-11-01 07:51:00</td>\n",
       "      <td>360.0</td>\n",
       "      <td>325.0</td>\n",
       "      <td>0.894818</td>\n",
       "      <td>0.012951</td>\n",
       "    </tr>\n",
       "  </tbody>\n",
       "</table>\n",
       "</div>"
      ],
      "text/plain": [
       "    additional_fare  duration  meter_waiting  meter_waiting_fare  \\\n",
       "3              10.5     598.0          271.0             15.6638   \n",
       "6              10.5    1333.0          295.0             17.1985   \n",
       "7              10.5     360.0           80.0              4.6640   \n",
       "8              10.5    1539.0          588.0             33.9864   \n",
       "13             10.5     335.0           10.0              0.5830   \n",
       "\n",
       "    meter_waiting_till_pickup     pickup_time       drop_time  pick_lat  \\\n",
       "3                        68.0  11/1/2019 2:27  11/1/2019 2:37   6.92570   \n",
       "6                       212.0  11/1/2019 6:50  11/1/2019 7:12   6.90760   \n",
       "7                         3.0  11/1/2019 7:00  11/1/2019 7:06   7.26706   \n",
       "8                        43.0  11/1/2019 7:02  11/1/2019 7:28   6.85137   \n",
       "13                       17.0  11/1/2019 7:45  11/1/2019 7:51   6.85268   \n",
       "\n",
       "    pick_lon  drop_lat  drop_lon    fare    label              pickup  \\\n",
       "3    79.8895   6.92748   79.8971   82.30  correct 2019-11-01 02:27:00   \n",
       "6    79.9524   6.90634   79.9042  318.05  correct 2019-11-01 06:50:00   \n",
       "7    80.6064   7.27422   80.6124  100.32  correct 2019-11-01 07:00:00   \n",
       "8    79.9537   6.84779   79.9274  257.89  correct 2019-11-01 07:02:00   \n",
       "13   79.8631   6.86560   79.8640  126.87  correct 2019-11-01 07:45:00   \n",
       "\n",
       "                  drop  difference  travel_time  trip_distance  distance  \n",
       "3  2019-11-01 02:37:00       600.0        327.0       0.535588  0.007806  \n",
       "6  2019-11-01 07:12:00      1320.0       1038.0       3.307275  0.048216  \n",
       "7  2019-11-01 07:06:00       360.0        280.0       0.643307  0.009342  \n",
       "8  2019-11-01 07:28:00      1560.0        951.0       1.821062  0.026543  \n",
       "13 2019-11-01 07:51:00       360.0        325.0       0.894818  0.012951  "
      ]
     },
     "execution_count": 121,
     "metadata": {},
     "output_type": "execute_result"
    }
   ],
   "source": [
    "b.head()"
   ]
  },
  {
   "cell_type": "code",
   "execution_count": 122,
   "metadata": {},
   "outputs": [
    {
     "name": "stderr",
     "output_type": "stream",
     "text": [
      "/opt/conda/lib/python3.7/site-packages/ipykernel_launcher.py:1: SettingWithCopyWarning: \n",
      "A value is trying to be set on a copy of a slice from a DataFrame.\n",
      "Try using .loc[row_indexer,col_indexer] = value instead\n",
      "\n",
      "See the caveats in the documentation: https://pandas.pydata.org/pandas-docs/stable/user_guide/indexing.html#returning-a-view-versus-a-copy\n",
      "  \"\"\"Entry point for launching an IPython kernel.\n"
     ]
    }
   ],
   "source": [
    "b['waiting_fare_per']=b['meter_waiting_fare']/b['meter_waiting']"
   ]
  },
  {
   "cell_type": "code",
   "execution_count": 123,
   "metadata": {},
   "outputs": [
    {
     "data": {
      "text/plain": [
       "3     0.0578\n",
       "6     0.0583\n",
       "7     0.0583\n",
       "8     0.0578\n",
       "13    0.0583\n",
       "Name: waiting_fare_per, dtype: float64"
      ]
     },
     "execution_count": 123,
     "metadata": {},
     "output_type": "execute_result"
    }
   ],
   "source": [
    "b['waiting_fare_per'].head()"
   ]
  },
  {
   "cell_type": "code",
   "execution_count": 124,
   "metadata": {},
   "outputs": [
    {
     "data": {
      "text/plain": [
       "0.05566547990450998"
      ]
     },
     "execution_count": 124,
     "metadata": {},
     "output_type": "execute_result"
    }
   ],
   "source": [
    "b['waiting_fare_per'].mean()"
   ]
  },
  {
   "cell_type": "code",
   "execution_count": 125,
   "metadata": {},
   "outputs": [],
   "source": [
    "i=dataset[((dataset['meter_waiting_fare'] == 0) & (dataset['meter_waiting'] > 0))].index"
   ]
  },
  {
   "cell_type": "code",
   "execution_count": 126,
   "metadata": {},
   "outputs": [],
   "source": [
    "# dataset.loc[i,'meter_waiting_fare']=dataset.loc[i,'meter_waiting']*b['waiting_fare_per'].mean()"
   ]
  },
  {
   "cell_type": "code",
   "execution_count": 127,
   "metadata": {},
   "outputs": [
    {
     "data": {
      "text/html": [
       "<div>\n",
       "<style scoped>\n",
       "    .dataframe tbody tr th:only-of-type {\n",
       "        vertical-align: middle;\n",
       "    }\n",
       "\n",
       "    .dataframe tbody tr th {\n",
       "        vertical-align: top;\n",
       "    }\n",
       "\n",
       "    .dataframe thead th {\n",
       "        text-align: right;\n",
       "    }\n",
       "</style>\n",
       "<table border=\"1\" class=\"dataframe\">\n",
       "  <thead>\n",
       "    <tr style=\"text-align: right;\">\n",
       "      <th></th>\n",
       "      <th>additional_fare</th>\n",
       "      <th>duration</th>\n",
       "      <th>meter_waiting</th>\n",
       "      <th>meter_waiting_fare</th>\n",
       "      <th>meter_waiting_till_pickup</th>\n",
       "      <th>pickup_time</th>\n",
       "      <th>drop_time</th>\n",
       "      <th>pick_lat</th>\n",
       "      <th>pick_lon</th>\n",
       "      <th>drop_lat</th>\n",
       "      <th>drop_lon</th>\n",
       "      <th>fare</th>\n",
       "      <th>label</th>\n",
       "      <th>pickup</th>\n",
       "      <th>drop</th>\n",
       "      <th>difference</th>\n",
       "      <th>travel_time</th>\n",
       "      <th>trip_distance</th>\n",
       "      <th>distance</th>\n",
       "    </tr>\n",
       "  </thead>\n",
       "  <tbody>\n",
       "    <tr>\n",
       "      <th>0</th>\n",
       "      <td>10.5</td>\n",
       "      <td>834.0</td>\n",
       "      <td>56.0</td>\n",
       "      <td>0.0</td>\n",
       "      <td>64.0</td>\n",
       "      <td>11/1/2019 0:20</td>\n",
       "      <td>11/1/2019 0:34</td>\n",
       "      <td>6.86252</td>\n",
       "      <td>79.8993</td>\n",
       "      <td>6.90330</td>\n",
       "      <td>79.8783</td>\n",
       "      <td>270.32</td>\n",
       "      <td>correct</td>\n",
       "      <td>2019-11-01 00:20:00</td>\n",
       "      <td>2019-11-01 00:34:00</td>\n",
       "      <td>840.0</td>\n",
       "      <td>778.0</td>\n",
       "      <td>3.164501</td>\n",
       "      <td>0.045869</td>\n",
       "    </tr>\n",
       "    <tr>\n",
       "      <th>1</th>\n",
       "      <td>10.5</td>\n",
       "      <td>791.0</td>\n",
       "      <td>47.0</td>\n",
       "      <td>0.0</td>\n",
       "      <td>134.0</td>\n",
       "      <td>11/1/2019 0:56</td>\n",
       "      <td>11/1/2019 1:09</td>\n",
       "      <td>6.88589</td>\n",
       "      <td>79.8984</td>\n",
       "      <td>6.91373</td>\n",
       "      <td>79.8923</td>\n",
       "      <td>197.85</td>\n",
       "      <td>correct</td>\n",
       "      <td>2019-11-01 00:56:00</td>\n",
       "      <td>2019-11-01 01:09:00</td>\n",
       "      <td>780.0</td>\n",
       "      <td>744.0</td>\n",
       "      <td>1.968540</td>\n",
       "      <td>0.028500</td>\n",
       "    </tr>\n",
       "    <tr>\n",
       "      <th>2</th>\n",
       "      <td>10.5</td>\n",
       "      <td>1087.0</td>\n",
       "      <td>80.0</td>\n",
       "      <td>0.0</td>\n",
       "      <td>61.0</td>\n",
       "      <td>11/1/2019 1:08</td>\n",
       "      <td>11/1/2019 1:26</td>\n",
       "      <td>6.90839</td>\n",
       "      <td>79.8651</td>\n",
       "      <td>6.93669</td>\n",
       "      <td>79.9146</td>\n",
       "      <td>301.64</td>\n",
       "      <td>correct</td>\n",
       "      <td>2019-11-01 01:08:00</td>\n",
       "      <td>2019-11-01 01:26:00</td>\n",
       "      <td>1080.0</td>\n",
       "      <td>1007.0</td>\n",
       "      <td>3.917991</td>\n",
       "      <td>0.057019</td>\n",
       "    </tr>\n",
       "    <tr>\n",
       "      <th>4</th>\n",
       "      <td>10.5</td>\n",
       "      <td>3407.0</td>\n",
       "      <td>182.0</td>\n",
       "      <td>0.0</td>\n",
       "      <td>112.0</td>\n",
       "      <td>11/1/2019 5:38</td>\n",
       "      <td>11/1/2019 6:35</td>\n",
       "      <td>7.13402</td>\n",
       "      <td>79.8969</td>\n",
       "      <td>6.91865</td>\n",
       "      <td>79.8649</td>\n",
       "      <td>1065.02</td>\n",
       "      <td>correct</td>\n",
       "      <td>2019-11-01 05:38:00</td>\n",
       "      <td>2019-11-01 06:35:00</td>\n",
       "      <td>3420.0</td>\n",
       "      <td>3225.0</td>\n",
       "      <td>15.041557</td>\n",
       "      <td>0.217734</td>\n",
       "    </tr>\n",
       "    <tr>\n",
       "      <th>5</th>\n",
       "      <td>10.5</td>\n",
       "      <td>1246.0</td>\n",
       "      <td>487.0</td>\n",
       "      <td>0.0</td>\n",
       "      <td>133.0</td>\n",
       "      <td>11/1/2019 6:29</td>\n",
       "      <td>11/1/2019 6:49</td>\n",
       "      <td>6.84371</td>\n",
       "      <td>79.9051</td>\n",
       "      <td>6.85069</td>\n",
       "      <td>79.8624</td>\n",
       "      <td>266.62</td>\n",
       "      <td>correct</td>\n",
       "      <td>2019-11-01 06:29:00</td>\n",
       "      <td>2019-11-01 06:49:00</td>\n",
       "      <td>1200.0</td>\n",
       "      <td>759.0</td>\n",
       "      <td>2.968678</td>\n",
       "      <td>0.043267</td>\n",
       "    </tr>\n",
       "    <tr>\n",
       "      <th>...</th>\n",
       "      <td>...</td>\n",
       "      <td>...</td>\n",
       "      <td>...</td>\n",
       "      <td>...</td>\n",
       "      <td>...</td>\n",
       "      <td>...</td>\n",
       "      <td>...</td>\n",
       "      <td>...</td>\n",
       "      <td>...</td>\n",
       "      <td>...</td>\n",
       "      <td>...</td>\n",
       "      <td>...</td>\n",
       "      <td>...</td>\n",
       "      <td>...</td>\n",
       "      <td>...</td>\n",
       "      <td>...</td>\n",
       "      <td>...</td>\n",
       "      <td>...</td>\n",
       "      <td>...</td>\n",
       "    </tr>\n",
       "    <tr>\n",
       "      <th>25500</th>\n",
       "      <td>10.5</td>\n",
       "      <td>1206.0</td>\n",
       "      <td>201.0</td>\n",
       "      <td>0.0</td>\n",
       "      <td>123.0</td>\n",
       "      <td>3/16/2020 18:12</td>\n",
       "      <td>3/16/2020 18:32</td>\n",
       "      <td>6.90318</td>\n",
       "      <td>79.8522</td>\n",
       "      <td>6.84278</td>\n",
       "      <td>79.8754</td>\n",
       "      <td>299.74</td>\n",
       "      <td>NaN</td>\n",
       "      <td>2020-03-16 18:12:00</td>\n",
       "      <td>2020-03-16 18:32:00</td>\n",
       "      <td>1200.0</td>\n",
       "      <td>1005.0</td>\n",
       "      <td>4.466386</td>\n",
       "      <td>0.064702</td>\n",
       "    </tr>\n",
       "    <tr>\n",
       "      <th>25502</th>\n",
       "      <td>10.5</td>\n",
       "      <td>2043.0</td>\n",
       "      <td>74.0</td>\n",
       "      <td>0.0</td>\n",
       "      <td>44.0</td>\n",
       "      <td>3/16/2020 18:33</td>\n",
       "      <td>3/16/2020 19:07</td>\n",
       "      <td>6.86026</td>\n",
       "      <td>79.9063</td>\n",
       "      <td>6.86236</td>\n",
       "      <td>79.9971</td>\n",
       "      <td>430.89</td>\n",
       "      <td>NaN</td>\n",
       "      <td>2020-03-16 18:33:00</td>\n",
       "      <td>2020-03-16 19:07:00</td>\n",
       "      <td>2040.0</td>\n",
       "      <td>1969.0</td>\n",
       "      <td>6.230433</td>\n",
       "      <td>0.090824</td>\n",
       "    </tr>\n",
       "    <tr>\n",
       "      <th>25506</th>\n",
       "      <td>10.5</td>\n",
       "      <td>1579.0</td>\n",
       "      <td>30.0</td>\n",
       "      <td>0.0</td>\n",
       "      <td>252.0</td>\n",
       "      <td>3/16/2020 19:21</td>\n",
       "      <td>3/16/2020 19:47</td>\n",
       "      <td>6.88485</td>\n",
       "      <td>79.9022</td>\n",
       "      <td>6.93582</td>\n",
       "      <td>79.8957</td>\n",
       "      <td>267.38</td>\n",
       "      <td>NaN</td>\n",
       "      <td>2020-03-16 19:21:00</td>\n",
       "      <td>2020-03-16 19:47:00</td>\n",
       "      <td>1560.0</td>\n",
       "      <td>1549.0</td>\n",
       "      <td>3.549796</td>\n",
       "      <td>0.051383</td>\n",
       "    </tr>\n",
       "    <tr>\n",
       "      <th>25510</th>\n",
       "      <td>10.5</td>\n",
       "      <td>689.0</td>\n",
       "      <td>6.0</td>\n",
       "      <td>0.0</td>\n",
       "      <td>80.0</td>\n",
       "      <td>3/16/2020 20:56</td>\n",
       "      <td>3/16/2020 21:07</td>\n",
       "      <td>7.15432</td>\n",
       "      <td>79.8719</td>\n",
       "      <td>7.20299</td>\n",
       "      <td>79.8605</td>\n",
       "      <td>268.95</td>\n",
       "      <td>NaN</td>\n",
       "      <td>2020-03-16 20:56:00</td>\n",
       "      <td>2020-03-16 21:07:00</td>\n",
       "      <td>660.0</td>\n",
       "      <td>683.0</td>\n",
       "      <td>3.452385</td>\n",
       "      <td>0.049987</td>\n",
       "    </tr>\n",
       "    <tr>\n",
       "      <th>25515</th>\n",
       "      <td>10.5</td>\n",
       "      <td>1378.0</td>\n",
       "      <td>80.0</td>\n",
       "      <td>0.0</td>\n",
       "      <td>125.0</td>\n",
       "      <td>3/16/2020 21:59</td>\n",
       "      <td>3/16/2020 22:22</td>\n",
       "      <td>6.91293</td>\n",
       "      <td>79.9656</td>\n",
       "      <td>6.92112</td>\n",
       "      <td>79.8980</td>\n",
       "      <td>379.85</td>\n",
       "      <td>NaN</td>\n",
       "      <td>2020-03-16 21:59:00</td>\n",
       "      <td>2020-03-16 22:22:00</td>\n",
       "      <td>1380.0</td>\n",
       "      <td>1298.0</td>\n",
       "      <td>4.671116</td>\n",
       "      <td>0.068094</td>\n",
       "    </tr>\n",
       "  </tbody>\n",
       "</table>\n",
       "<p>12105 rows × 19 columns</p>\n",
       "</div>"
      ],
      "text/plain": [
       "       additional_fare  duration  meter_waiting  meter_waiting_fare  \\\n",
       "0                 10.5     834.0           56.0                 0.0   \n",
       "1                 10.5     791.0           47.0                 0.0   \n",
       "2                 10.5    1087.0           80.0                 0.0   \n",
       "4                 10.5    3407.0          182.0                 0.0   \n",
       "5                 10.5    1246.0          487.0                 0.0   \n",
       "...                ...       ...            ...                 ...   \n",
       "25500             10.5    1206.0          201.0                 0.0   \n",
       "25502             10.5    2043.0           74.0                 0.0   \n",
       "25506             10.5    1579.0           30.0                 0.0   \n",
       "25510             10.5     689.0            6.0                 0.0   \n",
       "25515             10.5    1378.0           80.0                 0.0   \n",
       "\n",
       "       meter_waiting_till_pickup      pickup_time        drop_time  pick_lat  \\\n",
       "0                           64.0   11/1/2019 0:20   11/1/2019 0:34   6.86252   \n",
       "1                          134.0   11/1/2019 0:56   11/1/2019 1:09   6.88589   \n",
       "2                           61.0   11/1/2019 1:08   11/1/2019 1:26   6.90839   \n",
       "4                          112.0   11/1/2019 5:38   11/1/2019 6:35   7.13402   \n",
       "5                          133.0   11/1/2019 6:29   11/1/2019 6:49   6.84371   \n",
       "...                          ...              ...              ...       ...   \n",
       "25500                      123.0  3/16/2020 18:12  3/16/2020 18:32   6.90318   \n",
       "25502                       44.0  3/16/2020 18:33  3/16/2020 19:07   6.86026   \n",
       "25506                      252.0  3/16/2020 19:21  3/16/2020 19:47   6.88485   \n",
       "25510                       80.0  3/16/2020 20:56  3/16/2020 21:07   7.15432   \n",
       "25515                      125.0  3/16/2020 21:59  3/16/2020 22:22   6.91293   \n",
       "\n",
       "       pick_lon  drop_lat  drop_lon     fare    label              pickup  \\\n",
       "0       79.8993   6.90330   79.8783   270.32  correct 2019-11-01 00:20:00   \n",
       "1       79.8984   6.91373   79.8923   197.85  correct 2019-11-01 00:56:00   \n",
       "2       79.8651   6.93669   79.9146   301.64  correct 2019-11-01 01:08:00   \n",
       "4       79.8969   6.91865   79.8649  1065.02  correct 2019-11-01 05:38:00   \n",
       "5       79.9051   6.85069   79.8624   266.62  correct 2019-11-01 06:29:00   \n",
       "...         ...       ...       ...      ...      ...                 ...   \n",
       "25500   79.8522   6.84278   79.8754   299.74      NaN 2020-03-16 18:12:00   \n",
       "25502   79.9063   6.86236   79.9971   430.89      NaN 2020-03-16 18:33:00   \n",
       "25506   79.9022   6.93582   79.8957   267.38      NaN 2020-03-16 19:21:00   \n",
       "25510   79.8719   7.20299   79.8605   268.95      NaN 2020-03-16 20:56:00   \n",
       "25515   79.9656   6.92112   79.8980   379.85      NaN 2020-03-16 21:59:00   \n",
       "\n",
       "                     drop  difference  travel_time  trip_distance  distance  \n",
       "0     2019-11-01 00:34:00       840.0        778.0       3.164501  0.045869  \n",
       "1     2019-11-01 01:09:00       780.0        744.0       1.968540  0.028500  \n",
       "2     2019-11-01 01:26:00      1080.0       1007.0       3.917991  0.057019  \n",
       "4     2019-11-01 06:35:00      3420.0       3225.0      15.041557  0.217734  \n",
       "5     2019-11-01 06:49:00      1200.0        759.0       2.968678  0.043267  \n",
       "...                   ...         ...          ...            ...       ...  \n",
       "25500 2020-03-16 18:32:00      1200.0       1005.0       4.466386  0.064702  \n",
       "25502 2020-03-16 19:07:00      2040.0       1969.0       6.230433  0.090824  \n",
       "25506 2020-03-16 19:47:00      1560.0       1549.0       3.549796  0.051383  \n",
       "25510 2020-03-16 21:07:00       660.0        683.0       3.452385  0.049987  \n",
       "25515 2020-03-16 22:22:00      1380.0       1298.0       4.671116  0.068094  \n",
       "\n",
       "[12105 rows x 19 columns]"
      ]
     },
     "execution_count": 127,
     "metadata": {},
     "output_type": "execute_result"
    }
   ],
   "source": [
    "dataset.loc[i]"
   ]
  },
  {
   "cell_type": "code",
   "execution_count": 128,
   "metadata": {},
   "outputs": [],
   "source": [
    "dataset['n_fare']=dataset['fare']- (dataset['additional_fare']-dataset['meter_waiting_fare'])"
   ]
  },
  {
   "cell_type": "code",
   "execution_count": 129,
   "metadata": {},
   "outputs": [
    {
     "data": {
      "text/plain": [
       "count    25519.000000\n",
       "mean       310.820601\n",
       "std        621.252165\n",
       "min        -28.336359\n",
       "25%        118.275000\n",
       "50%        205.330000\n",
       "75%        361.860600\n",
       "max      52594.191800\n",
       "Name: n_fare, dtype: float64"
      ]
     },
     "execution_count": 129,
     "metadata": {},
     "output_type": "execute_result"
    }
   ],
   "source": [
    "dataset['n_fare'].describe()"
   ]
  },
  {
   "cell_type": "code",
   "execution_count": 130,
   "metadata": {},
   "outputs": [
    {
     "name": "stdout",
     "output_type": "stream",
     "text": [
      "<class 'pandas.core.frame.DataFrame'>\n",
      "RangeIndex: 25519 entries, 0 to 25518\n",
      "Data columns (total 20 columns):\n",
      " #   Column                     Non-Null Count  Dtype         \n",
      "---  ------                     --------------  -----         \n",
      " 0   additional_fare            25519 non-null  float64       \n",
      " 1   duration                   25519 non-null  float64       \n",
      " 2   meter_waiting              25519 non-null  float64       \n",
      " 3   meter_waiting_fare         25519 non-null  float64       \n",
      " 4   meter_waiting_till_pickup  25519 non-null  float64       \n",
      " 5   pickup_time                25519 non-null  object        \n",
      " 6   drop_time                  25519 non-null  object        \n",
      " 7   pick_lat                   25519 non-null  float64       \n",
      " 8   pick_lon                   25519 non-null  float64       \n",
      " 9   drop_lat                   25519 non-null  float64       \n",
      " 10  drop_lon                   25519 non-null  float64       \n",
      " 11  fare                       25519 non-null  float64       \n",
      " 12  label                      16943 non-null  object        \n",
      " 13  pickup                     25519 non-null  datetime64[ns]\n",
      " 14  drop                       25519 non-null  datetime64[ns]\n",
      " 15  difference                 25519 non-null  float64       \n",
      " 16  travel_time                25519 non-null  float64       \n",
      " 17  trip_distance              25519 non-null  float64       \n",
      " 18  distance                   25519 non-null  float64       \n",
      " 19  n_fare                     25519 non-null  float64       \n",
      "dtypes: datetime64[ns](2), float64(15), object(3)\n",
      "memory usage: 3.9+ MB\n"
     ]
    }
   ],
   "source": [
    "dataset.info()"
   ]
  },
  {
   "cell_type": "code",
   "execution_count": 131,
   "metadata": {},
   "outputs": [],
   "source": [
    "dataset = dataset.drop(['pick_lat','pick_lon','drop_lat','drop_lon','n_fare','trip_distance','pickup','drop','difference','pickup_time','drop_time'],axis='columns')"
   ]
  },
  {
   "cell_type": "code",
   "execution_count": 132,
   "metadata": {},
   "outputs": [
    {
     "data": {
      "text/plain": [
       "(25519, 9)"
      ]
     },
     "execution_count": 132,
     "metadata": {},
     "output_type": "execute_result"
    }
   ],
   "source": [
    "dataset.shape"
   ]
  },
  {
   "cell_type": "code",
   "execution_count": 133,
   "metadata": {},
   "outputs": [
    {
     "name": "stdout",
     "output_type": "stream",
     "text": [
      "<class 'pandas.core.frame.DataFrame'>\n",
      "RangeIndex: 25519 entries, 0 to 25518\n",
      "Data columns (total 9 columns):\n",
      " #   Column                     Non-Null Count  Dtype  \n",
      "---  ------                     --------------  -----  \n",
      " 0   additional_fare            25519 non-null  float64\n",
      " 1   duration                   25519 non-null  float64\n",
      " 2   meter_waiting              25519 non-null  float64\n",
      " 3   meter_waiting_fare         25519 non-null  float64\n",
      " 4   meter_waiting_till_pickup  25519 non-null  float64\n",
      " 5   fare                       25519 non-null  float64\n",
      " 6   label                      16943 non-null  object \n",
      " 7   travel_time                25519 non-null  float64\n",
      " 8   distance                   25519 non-null  float64\n",
      "dtypes: float64(8), object(1)\n",
      "memory usage: 1.8+ MB\n"
     ]
    }
   ],
   "source": [
    "dataset.info()"
   ]
  },
  {
   "cell_type": "code",
   "execution_count": 134,
   "metadata": {},
   "outputs": [],
   "source": [
    "# dataset['travel_time'] = dataset['duration'] - dataset['meter_waiting']"
   ]
  },
  {
   "cell_type": "code",
   "execution_count": 135,
   "metadata": {},
   "outputs": [
    {
     "name": "stderr",
     "output_type": "stream",
     "text": [
      "/opt/conda/lib/python3.7/site-packages/pandas/core/frame.py:3997: SettingWithCopyWarning: \n",
      "A value is trying to be set on a copy of a slice from a DataFrame\n",
      "\n",
      "See the caveats in the documentation: https://pandas.pydata.org/pandas-docs/stable/user_guide/indexing.html#returning-a-view-versus-a-copy\n",
      "  errors=errors,\n"
     ]
    }
   ],
   "source": [
    "train = dataset[:train_len]\n",
    "test = dataset[train_len:]\n",
    "test.drop(labels=[\"label\"],axis = 1,inplace=True)"
   ]
  },
  {
   "cell_type": "code",
   "execution_count": 136,
   "metadata": {},
   "outputs": [
    {
     "data": {
      "text/plain": [
       "(8576, 8)"
      ]
     },
     "execution_count": 136,
     "metadata": {},
     "output_type": "execute_result"
    }
   ],
   "source": [
    "test.shape"
   ]
  },
  {
   "cell_type": "code",
   "execution_count": 137,
   "metadata": {},
   "outputs": [
    {
     "data": {
      "text/plain": [
       "(16943, 9)"
      ]
     },
     "execution_count": 137,
     "metadata": {},
     "output_type": "execute_result"
    }
   ],
   "source": [
    "train.shape"
   ]
  },
  {
   "cell_type": "code",
   "execution_count": 138,
   "metadata": {},
   "outputs": [
    {
     "name": "stdout",
     "output_type": "stream",
     "text": [
      "<class 'pandas.core.frame.DataFrame'>\n",
      "RangeIndex: 8576 entries, 16943 to 25518\n",
      "Data columns (total 8 columns):\n",
      " #   Column                     Non-Null Count  Dtype  \n",
      "---  ------                     --------------  -----  \n",
      " 0   additional_fare            8576 non-null   float64\n",
      " 1   duration                   8576 non-null   float64\n",
      " 2   meter_waiting              8576 non-null   float64\n",
      " 3   meter_waiting_fare         8576 non-null   float64\n",
      " 4   meter_waiting_till_pickup  8576 non-null   float64\n",
      " 5   fare                       8576 non-null   float64\n",
      " 6   travel_time                8576 non-null   float64\n",
      " 7   distance                   8576 non-null   float64\n",
      "dtypes: float64(8)\n",
      "memory usage: 536.1 KB\n"
     ]
    }
   ],
   "source": [
    "test.info()"
   ]
  },
  {
   "cell_type": "code",
   "execution_count": 139,
   "metadata": {},
   "outputs": [
    {
     "name": "stdout",
     "output_type": "stream",
     "text": [
      "<class 'pandas.core.frame.DataFrame'>\n",
      "RangeIndex: 16943 entries, 0 to 16942\n",
      "Data columns (total 9 columns):\n",
      " #   Column                     Non-Null Count  Dtype  \n",
      "---  ------                     --------------  -----  \n",
      " 0   additional_fare            16943 non-null  float64\n",
      " 1   duration                   16943 non-null  float64\n",
      " 2   meter_waiting              16943 non-null  float64\n",
      " 3   meter_waiting_fare         16943 non-null  float64\n",
      " 4   meter_waiting_till_pickup  16943 non-null  float64\n",
      " 5   fare                       16943 non-null  float64\n",
      " 6   label                      16943 non-null  object \n",
      " 7   travel_time                16943 non-null  float64\n",
      " 8   distance                   16943 non-null  float64\n",
      "dtypes: float64(8), object(1)\n",
      "memory usage: 1.2+ MB\n"
     ]
    }
   ],
   "source": [
    "train.info()"
   ]
  },
  {
   "cell_type": "code",
   "execution_count": 140,
   "metadata": {},
   "outputs": [],
   "source": [
    "# train = train.drop(train[train['w_time']<0].index, axis = 0).reset_index(drop=True)"
   ]
  },
  {
   "cell_type": "code",
   "execution_count": 141,
   "metadata": {},
   "outputs": [
    {
     "data": {
      "text/plain": [
       "<matplotlib.axes._subplots.AxesSubplot at 0x7f6f5b0fd750>"
      ]
     },
     "execution_count": 141,
     "metadata": {},
     "output_type": "execute_result"
    },
    {
     "data": {
      "image/png": "[encoded data removed]",
      "text/plain": [
       "<Figure size 936x936 with 2 Axes>"
      ]
     },
     "metadata": {},
     "output_type": "display_data"
    }
   ],
   "source": [
    "plt.figure(figsize=[13,13])\n",
    "sns.heatmap(train.corr(),annot=True, fmt = \".2f\", cmap = \"coolwarm\")"
   ]
  },
  {
   "cell_type": "code",
   "execution_count": 142,
   "metadata": {},
   "outputs": [],
   "source": [
    "# sns.scatterplot(x=\"time\", y=\"duration\",data=dataset)"
   ]
  },
  {
   "cell_type": "markdown",
   "metadata": {},
   "source": [
    "duration is filled with time "
   ]
  },
  {
   "cell_type": "code",
   "execution_count": 143,
   "metadata": {},
   "outputs": [
    {
     "data": {
      "text/plain": [
       "<matplotlib.axes._subplots.AxesSubplot at 0x7f6f37e11650>"
      ]
     },
     "execution_count": 143,
     "metadata": {},
     "output_type": "execute_result"
    },
    {
     "data": {
      "image/png": "[encoded data removed]",
      "text/plain": [
       "<Figure size 432x288 with 1 Axes>"
      ]
     },
     "metadata": {},
     "output_type": "display_data"
    }
   ],
   "source": [
    "sns.scatterplot(x=\"meter_waiting\", y=\"meter_waiting_fare\",hue=\"label\",data=dataset)"
   ]
  },
  {
   "cell_type": "code",
   "execution_count": 144,
   "metadata": {},
   "outputs": [
    {
     "name": "stdout",
     "output_type": "stream",
     "text": [
      "<class 'pandas.core.frame.DataFrame'>\n",
      "RangeIndex: 16943 entries, 0 to 16942\n",
      "Data columns (total 9 columns):\n",
      " #   Column                     Non-Null Count  Dtype  \n",
      "---  ------                     --------------  -----  \n",
      " 0   additional_fare            16943 non-null  float64\n",
      " 1   duration                   16943 non-null  float64\n",
      " 2   meter_waiting              16943 non-null  float64\n",
      " 3   meter_waiting_fare         16943 non-null  float64\n",
      " 4   meter_waiting_till_pickup  16943 non-null  float64\n",
      " 5   fare                       16943 non-null  float64\n",
      " 6   label                      16943 non-null  object \n",
      " 7   travel_time                16943 non-null  float64\n",
      " 8   distance                   16943 non-null  float64\n",
      "dtypes: float64(8), object(1)\n",
      "memory usage: 1.2+ MB\n"
     ]
    }
   ],
   "source": [
    "train.info()"
   ]
  },
  {
   "cell_type": "code",
   "execution_count": 145,
   "metadata": {},
   "outputs": [
    {
     "name": "stderr",
     "output_type": "stream",
     "text": [
      "/opt/conda/lib/python3.7/site-packages/ipykernel_launcher.py:1: SettingWithCopyWarning: \n",
      "A value is trying to be set on a copy of a slice from a DataFrame.\n",
      "Try using .loc[row_indexer,col_indexer] = value instead\n",
      "\n",
      "See the caveats in the documentation: https://pandas.pydata.org/pandas-docs/stable/user_guide/indexing.html#returning-a-view-versus-a-copy\n",
      "  \"\"\"Entry point for launching an IPython kernel.\n"
     ]
    }
   ],
   "source": [
    "train[\"label\"] = train[\"label\"].map({\"correct\": 1, \"incorrect\":0})"
   ]
  },
  {
   "cell_type": "code",
   "execution_count": 146,
   "metadata": {},
   "outputs": [
    {
     "name": "stdout",
     "output_type": "stream",
     "text": [
      "<class 'pandas.core.frame.DataFrame'>\n",
      "RangeIndex: 16943 entries, 0 to 16942\n",
      "Data columns (total 9 columns):\n",
      " #   Column                     Non-Null Count  Dtype  \n",
      "---  ------                     --------------  -----  \n",
      " 0   additional_fare            16943 non-null  float64\n",
      " 1   duration                   16943 non-null  float64\n",
      " 2   meter_waiting              16943 non-null  float64\n",
      " 3   meter_waiting_fare         16943 non-null  float64\n",
      " 4   meter_waiting_till_pickup  16943 non-null  float64\n",
      " 5   fare                       16943 non-null  float64\n",
      " 6   label                      16943 non-null  int64  \n",
      " 7   travel_time                16943 non-null  float64\n",
      " 8   distance                   16943 non-null  float64\n",
      "dtypes: float64(8), int64(1)\n",
      "memory usage: 1.2 MB\n"
     ]
    }
   ],
   "source": [
    "train.info()"
   ]
  },
  {
   "cell_type": "code",
   "execution_count": 147,
   "metadata": {},
   "outputs": [
    {
     "data": {
      "text/plain": [
       "additional_fare              0\n",
       "duration                     0\n",
       "meter_waiting                0\n",
       "meter_waiting_fare           0\n",
       "meter_waiting_till_pickup    0\n",
       "fare                         0\n",
       "label                        0\n",
       "travel_time                  0\n",
       "distance                     0\n",
       "dtype: int64"
      ]
     },
     "execution_count": 147,
     "metadata": {},
     "output_type": "execute_result"
    }
   ],
   "source": [
    "train.isnull().sum()"
   ]
  },
  {
   "cell_type": "code",
   "execution_count": 148,
   "metadata": {},
   "outputs": [],
   "source": [
    "# dataset.drop(labels = [\"time\"], axis = 1, inplace = True)"
   ]
  },
  {
   "cell_type": "code",
   "execution_count": 149,
   "metadata": {},
   "outputs": [],
   "source": [
    "Y_train = train[\"label\"]\n",
    "\n",
    "X_train = train.drop(labels = [\"label\"],axis = 1)"
   ]
  },
  {
   "cell_type": "code",
   "execution_count": 150,
   "metadata": {},
   "outputs": [
    {
     "name": "stdout",
     "output_type": "stream",
     "text": [
      "<class 'pandas.core.frame.DataFrame'>\n",
      "RangeIndex: 16943 entries, 0 to 16942\n",
      "Data columns (total 8 columns):\n",
      " #   Column                     Non-Null Count  Dtype  \n",
      "---  ------                     --------------  -----  \n",
      " 0   additional_fare            16943 non-null  float64\n",
      " 1   duration                   16943 non-null  float64\n",
      " 2   meter_waiting              16943 non-null  float64\n",
      " 3   meter_waiting_fare         16943 non-null  float64\n",
      " 4   meter_waiting_till_pickup  16943 non-null  float64\n",
      " 5   fare                       16943 non-null  float64\n",
      " 6   travel_time                16943 non-null  float64\n",
      " 7   distance                   16943 non-null  float64\n",
      "dtypes: float64(8)\n",
      "memory usage: 1.0 MB\n"
     ]
    },
    {
     "data": {
      "text/plain": [
       "(16943, 8)"
      ]
     },
     "execution_count": 150,
     "metadata": {},
     "output_type": "execute_result"
    }
   ],
   "source": [
    "X_train.info()\n",
    "X_train.shape\n"
   ]
  },
  {
   "cell_type": "code",
   "execution_count": 151,
   "metadata": {},
   "outputs": [
    {
     "data": {
      "text/plain": [
       "(16943,)"
      ]
     },
     "execution_count": 151,
     "metadata": {},
     "output_type": "execute_result"
    }
   ],
   "source": [
    "Y_train.shape"
   ]
  },
  {
   "cell_type": "code",
   "execution_count": 152,
   "metadata": {},
   "outputs": [
    {
     "data": {
      "text/plain": [
       "(8576, 8)"
      ]
     },
     "execution_count": 152,
     "metadata": {},
     "output_type": "execute_result"
    }
   ],
   "source": [
    "test.shape"
   ]
  },
  {
   "cell_type": "code",
   "execution_count": 153,
   "metadata": {},
   "outputs": [],
   "source": [
    "from sklearn.preprocessing import StandardScaler\n",
    "scaler = StandardScaler()\n",
    "X_train = scaler.fit_transform(X_train)\n",
    "test = scaler.transform(test)"
   ]
  },
  {
   "cell_type": "code",
   "execution_count": 154,
   "metadata": {},
   "outputs": [
    {
     "data": {
      "text/html": [
       "<div>\n",
       "<style scoped>\n",
       "    .dataframe tbody tr th:only-of-type {\n",
       "        vertical-align: middle;\n",
       "    }\n",
       "\n",
       "    .dataframe tbody tr th {\n",
       "        vertical-align: top;\n",
       "    }\n",
       "\n",
       "    .dataframe thead th {\n",
       "        text-align: right;\n",
       "    }\n",
       "</style>\n",
       "<table border=\"1\" class=\"dataframe\">\n",
       "  <thead>\n",
       "    <tr style=\"text-align: right;\">\n",
       "      <th></th>\n",
       "      <th>additional_fare</th>\n",
       "      <th>duration</th>\n",
       "      <th>meter_waiting</th>\n",
       "      <th>meter_waiting_fare</th>\n",
       "      <th>meter_waiting_till_pickup</th>\n",
       "      <th>fare</th>\n",
       "      <th>label</th>\n",
       "      <th>travel_time</th>\n",
       "      <th>distance</th>\n",
       "    </tr>\n",
       "  </thead>\n",
       "  <tbody>\n",
       "    <tr>\n",
       "      <th>0</th>\n",
       "      <td>10.5</td>\n",
       "      <td>834.0</td>\n",
       "      <td>56.0</td>\n",
       "      <td>0.0000</td>\n",
       "      <td>64.0</td>\n",
       "      <td>270.32</td>\n",
       "      <td>1</td>\n",
       "      <td>778.0</td>\n",
       "      <td>0.045869</td>\n",
       "    </tr>\n",
       "    <tr>\n",
       "      <th>1</th>\n",
       "      <td>10.5</td>\n",
       "      <td>791.0</td>\n",
       "      <td>47.0</td>\n",
       "      <td>0.0000</td>\n",
       "      <td>134.0</td>\n",
       "      <td>197.85</td>\n",
       "      <td>1</td>\n",
       "      <td>744.0</td>\n",
       "      <td>0.028500</td>\n",
       "    </tr>\n",
       "    <tr>\n",
       "      <th>2</th>\n",
       "      <td>10.5</td>\n",
       "      <td>1087.0</td>\n",
       "      <td>80.0</td>\n",
       "      <td>0.0000</td>\n",
       "      <td>61.0</td>\n",
       "      <td>301.64</td>\n",
       "      <td>1</td>\n",
       "      <td>1007.0</td>\n",
       "      <td>0.057019</td>\n",
       "    </tr>\n",
       "    <tr>\n",
       "      <th>3</th>\n",
       "      <td>10.5</td>\n",
       "      <td>598.0</td>\n",
       "      <td>271.0</td>\n",
       "      <td>15.6638</td>\n",
       "      <td>68.0</td>\n",
       "      <td>82.30</td>\n",
       "      <td>1</td>\n",
       "      <td>327.0</td>\n",
       "      <td>0.007806</td>\n",
       "    </tr>\n",
       "    <tr>\n",
       "      <th>4</th>\n",
       "      <td>10.5</td>\n",
       "      <td>3407.0</td>\n",
       "      <td>182.0</td>\n",
       "      <td>0.0000</td>\n",
       "      <td>112.0</td>\n",
       "      <td>1065.02</td>\n",
       "      <td>1</td>\n",
       "      <td>3225.0</td>\n",
       "      <td>0.217734</td>\n",
       "    </tr>\n",
       "  </tbody>\n",
       "</table>\n",
       "</div>"
      ],
      "text/plain": [
       "   additional_fare  duration  meter_waiting  meter_waiting_fare  \\\n",
       "0             10.5     834.0           56.0              0.0000   \n",
       "1             10.5     791.0           47.0              0.0000   \n",
       "2             10.5    1087.0           80.0              0.0000   \n",
       "3             10.5     598.0          271.0             15.6638   \n",
       "4             10.5    3407.0          182.0              0.0000   \n",
       "\n",
       "   meter_waiting_till_pickup     fare  label  travel_time  distance  \n",
       "0                       64.0   270.32      1        778.0  0.045869  \n",
       "1                      134.0   197.85      1        744.0  0.028500  \n",
       "2                       61.0   301.64      1       1007.0  0.057019  \n",
       "3                       68.0    82.30      1        327.0  0.007806  \n",
       "4                      112.0  1065.02      1       3225.0  0.217734  "
      ]
     },
     "execution_count": 154,
     "metadata": {},
     "output_type": "execute_result"
    }
   ],
   "source": [
    "train.head()"
   ]
  },
  {
   "cell_type": "code",
   "execution_count": 155,
   "metadata": {},
   "outputs": [
    {
     "data": {
      "text/plain": [
       "array([ 10.5,   5. ,  60.5,  40.5,  35. ,   0. ,  55. , 110.5, 111. ,\n",
       "        21. ,  20.5,  70.5,  11. ,  80.5,  75. , 105. ,  81. ,  10. ,\n",
       "        30.5,  25. ,  91.5,  85.5,  80. ,  61. , 160.5])"
      ]
     },
     "execution_count": 155,
     "metadata": {},
     "output_type": "execute_result"
    }
   ],
   "source": [
    "dataset['additional_fare'].unique()"
   ]
  },
  {
   "cell_type": "code",
   "execution_count": 156,
   "metadata": {},
   "outputs": [
    {
     "data": {
      "text/plain": [
       "<matplotlib.axes._subplots.AxesSubplot at 0x7f6f584bd4d0>"
      ]
     },
     "execution_count": 156,
     "metadata": {},
     "output_type": "execute_result"
    },
    {
     "data": {
      "image/png": "[encoded data removed]",
      "text/plain": [
       "<Figure size 720x720 with 2 Axes>"
      ]
     },
     "metadata": {},
     "output_type": "display_data"
    }
   ],
   "source": [
    "plt.figure(figsize=[10,10])\n",
    "sns.heatmap(train.corr(),annot=True, fmt = \".2f\", cmap = \"coolwarm\")"
   ]
  },
  {
   "cell_type": "code",
   "execution_count": 157,
   "metadata": {},
   "outputs": [
    {
     "data": {
      "text/plain": [
       "(16943, 8)"
      ]
     },
     "execution_count": 157,
     "metadata": {},
     "output_type": "execute_result"
    }
   ],
   "source": [
    "X_train.shape"
   ]
  },
  {
   "cell_type": "code",
   "execution_count": 158,
   "metadata": {},
   "outputs": [
    {
     "data": {
      "text/plain": [
       "(16943,)"
      ]
     },
     "execution_count": 158,
     "metadata": {},
     "output_type": "execute_result"
    }
   ],
   "source": [
    "Y_train.shape"
   ]
  },
  {
   "cell_type": "code",
   "execution_count": 159,
   "metadata": {},
   "outputs": [],
   "source": [
    "kfold = StratifiedKFold(n_splits=10)"
   ]
  },
  {
   "cell_type": "code",
   "execution_count": 160,
   "metadata": {},
   "outputs": [
    {
     "data": {
      "image/png": "[encoded data removed]",
      "text/plain": [
       "<Figure size 432x288 with 1 Axes>"
      ]
     },
     "metadata": {},
     "output_type": "display_data"
    }
   ],
   "source": [
    "random_state = 2\n",
    "classifiers = []\n",
    "classifiers.append(SVC(random_state=random_state))\n",
    "classifiers.append(DecisionTreeClassifier(random_state=random_state))\n",
    "classifiers.append(AdaBoostClassifier(DecisionTreeClassifier(random_state=random_state),random_state=random_state,learning_rate=0.1))\n",
    "classifiers.append(RandomForestClassifier(random_state=random_state))\n",
    "classifiers.append(ExtraTreesClassifier(random_state=random_state))\n",
    "classifiers.append(GradientBoostingClassifier(random_state=random_state))\n",
    "classifiers.append(MLPClassifier(random_state=random_state))\n",
    "classifiers.append(KNeighborsClassifier())\n",
    "classifiers.append(LogisticRegression(random_state = random_state))\n",
    "classifiers.append(LinearDiscriminantAnalysis())\n",
    "classifiers.append(XGBClassifier())\n",
    "\n",
    "cv_results = []\n",
    "for classifier in classifiers :\n",
    "    cv_results.append(cross_val_score(classifier, X_train, y = Y_train, scoring = \"f1\", cv = kfold, n_jobs=4))\n",
    "\n",
    "cv_means = []\n",
    "cv_std = []\n",
    "for cv_result in cv_results:\n",
    "    cv_means.append(cv_result.mean())\n",
    "    cv_std.append(cv_result.std())\n",
    "\n",
    "cv_res = pd.DataFrame({\"CrossValMeans\":cv_means,\"CrossValerrors\": cv_std,\"Algorithm\":[\"SVC\",\"DecisionTree\",\"AdaBoost\",\n",
    "\"RandomForest\",\"ExtraTrees\",\"GradientBoosting\",\"MultipleLayerPerceptron\",\"KNeighboors\",\"LogisticRegression\",\"LinearDiscriminantAnalysis\",\"XGB\"]})\n",
    "\n",
    "g = sns.barplot(\"CrossValMeans\",\"Algorithm\",data = cv_res, palette=\"Set3\",orient = \"h\",**{'xerr':cv_std})\n",
    "g.set_xlabel(\"Mean Accuracy\")\n",
    "g = g.set_title(\"Cross validation scores\")\n"
   ]
  },
  {
   "cell_type": "code",
   "execution_count": 161,
   "metadata": {},
   "outputs": [
    {
     "data": {
      "text/html": [
       "<div>\n",
       "<style scoped>\n",
       "    .dataframe tbody tr th:only-of-type {\n",
       "        vertical-align: middle;\n",
       "    }\n",
       "\n",
       "    .dataframe tbody tr th {\n",
       "        vertical-align: top;\n",
       "    }\n",
       "\n",
       "    .dataframe thead th {\n",
       "        text-align: right;\n",
       "    }\n",
       "</style>\n",
       "<table border=\"1\" class=\"dataframe\">\n",
       "  <thead>\n",
       "    <tr style=\"text-align: right;\">\n",
       "      <th></th>\n",
       "      <th>CrossValMeans</th>\n",
       "      <th>CrossValerrors</th>\n",
       "      <th>Algorithm</th>\n",
       "    </tr>\n",
       "  </thead>\n",
       "  <tbody>\n",
       "    <tr>\n",
       "      <th>0</th>\n",
       "      <td>0.970115</td>\n",
       "      <td>0.002324</td>\n",
       "      <td>SVC</td>\n",
       "    </tr>\n",
       "    <tr>\n",
       "      <th>1</th>\n",
       "      <td>0.961600</td>\n",
       "      <td>0.003524</td>\n",
       "      <td>DecisionTree</td>\n",
       "    </tr>\n",
       "    <tr>\n",
       "      <th>2</th>\n",
       "      <td>0.961906</td>\n",
       "      <td>0.004137</td>\n",
       "      <td>AdaBoost</td>\n",
       "    </tr>\n",
       "    <tr>\n",
       "      <th>3</th>\n",
       "      <td>0.975292</td>\n",
       "      <td>0.003858</td>\n",
       "      <td>RandomForest</td>\n",
       "    </tr>\n",
       "    <tr>\n",
       "      <th>4</th>\n",
       "      <td>0.974648</td>\n",
       "      <td>0.003507</td>\n",
       "      <td>ExtraTrees</td>\n",
       "    </tr>\n",
       "    <tr>\n",
       "      <th>5</th>\n",
       "      <td>0.972893</td>\n",
       "      <td>0.002796</td>\n",
       "      <td>GradientBoosting</td>\n",
       "    </tr>\n",
       "    <tr>\n",
       "      <th>6</th>\n",
       "      <td>0.975495</td>\n",
       "      <td>0.003266</td>\n",
       "      <td>MultipleLayerPerceptron</td>\n",
       "    </tr>\n",
       "    <tr>\n",
       "      <th>7</th>\n",
       "      <td>0.972189</td>\n",
       "      <td>0.003179</td>\n",
       "      <td>KNeighboors</td>\n",
       "    </tr>\n",
       "    <tr>\n",
       "      <th>8</th>\n",
       "      <td>0.958906</td>\n",
       "      <td>0.001397</td>\n",
       "      <td>LogisticRegression</td>\n",
       "    </tr>\n",
       "    <tr>\n",
       "      <th>9</th>\n",
       "      <td>0.958549</td>\n",
       "      <td>0.001376</td>\n",
       "      <td>LinearDiscriminantAnalysis</td>\n",
       "    </tr>\n",
       "    <tr>\n",
       "      <th>10</th>\n",
       "      <td>0.975682</td>\n",
       "      <td>0.003886</td>\n",
       "      <td>XGB</td>\n",
       "    </tr>\n",
       "  </tbody>\n",
       "</table>\n",
       "</div>"
      ],
      "text/plain": [
       "    CrossValMeans  CrossValerrors                   Algorithm\n",
       "0        0.970115        0.002324                         SVC\n",
       "1        0.961600        0.003524                DecisionTree\n",
       "2        0.961906        0.004137                    AdaBoost\n",
       "3        0.975292        0.003858                RandomForest\n",
       "4        0.974648        0.003507                  ExtraTrees\n",
       "5        0.972893        0.002796            GradientBoosting\n",
       "6        0.975495        0.003266     MultipleLayerPerceptron\n",
       "7        0.972189        0.003179                 KNeighboors\n",
       "8        0.958906        0.001397          LogisticRegression\n",
       "9        0.958549        0.001376  LinearDiscriminantAnalysis\n",
       "10       0.975682        0.003886                         XGB"
      ]
     },
     "execution_count": 161,
     "metadata": {},
     "output_type": "execute_result"
    }
   ],
   "source": [
    "cv_res"
   ]
  },
  {
   "cell_type": "code",
   "execution_count": 174,
   "metadata": {},
   "outputs": [
    {
     "name": "stdout",
     "output_type": "stream",
     "text": [
      "Fitting 10 folds for each of 2 candidates, totalling 20 fits\n"
     ]
    },
    {
     "name": "stderr",
     "output_type": "stream",
     "text": [
      "[Parallel(n_jobs=4)]: Using backend LokyBackend with 4 concurrent workers.\n",
      "[Parallel(n_jobs=4)]: Done  20 out of  20 | elapsed:   15.6s finished\n"
     ]
    },
    {
     "data": {
      "text/plain": [
       "0.9762622601835622"
      ]
     },
     "execution_count": 174,
     "metadata": {},
     "output_type": "execute_result"
    }
   ],
   "source": [
    "# XGB Parameters tunning \n",
    "XGB = XGBClassifier()\n",
    "\n",
    "## Search grid for optimal parameters\n",
    "xgbc_param_grid = {\n",
    "   \"learning_rate\"    : [0.15] , #[0.15]\n",
    "   \"max_depth\"        : [6],    #[6]\n",
    "   \"n_estimators\"     : [100,120],    #[100]\n",
    "    \"min_child_weight\" : [1], #[2]\n",
    "   \"gamma\"            : [0.15] #[0.15]\n",
    "    }\n",
    "\n",
    "\n",
    "gsXGB = GridSearchCV(XGB,param_grid = xgbc_param_grid, cv=kfold, scoring=\"f1\", n_jobs= 4, verbose = 1)\n",
    "\n",
    "gsXGB.fit(X_train,Y_train)\n",
    "\n",
    "XGB_best = gsXGB.best_estimator_\n",
    "\n",
    "# Best score\n",
    "gsXGB.best_score_"
   ]
  },
  {
   "cell_type": "code",
   "execution_count": 175,
   "metadata": {},
   "outputs": [
    {
     "data": {
      "text/plain": [
       "{'gamma': 0.15,\n",
       " 'learning_rate': 0.15,\n",
       " 'max_depth': 6,\n",
       " 'min_child_weight': 1,\n",
       " 'n_estimators': 120}"
      ]
     },
     "execution_count": 175,
     "metadata": {},
     "output_type": "execute_result"
    }
   ],
   "source": [
    "gsXGB.best_params_"
   ]
  },
  {
   "cell_type": "code",
   "execution_count": 177,
   "metadata": {},
   "outputs": [],
   "source": [
    "test_Survived = pd.Series(XGB_best.predict(test), name=\"prediction\")\n",
    "\n",
    "results = pd.concat([IDtest,test_Survived],axis=1)\n",
    "\n",
    "results.to_csv(\"ensemble_python_voting_new.csv\",index=False)"
   ]
  },
  {
   "cell_type": "code",
   "execution_count": 178,
   "metadata": {},
   "outputs": [
    {
     "data": {
      "text/html": [
       "<div>\n",
       "<style scoped>\n",
       "    .dataframe tbody tr th:only-of-type {\n",
       "        vertical-align: middle;\n",
       "    }\n",
       "\n",
       "    .dataframe tbody tr th {\n",
       "        vertical-align: top;\n",
       "    }\n",
       "\n",
       "    .dataframe thead th {\n",
       "        text-align: right;\n",
       "    }\n",
       "</style>\n",
       "<table border=\"1\" class=\"dataframe\">\n",
       "  <thead>\n",
       "    <tr style=\"text-align: right;\">\n",
       "      <th></th>\n",
       "      <th>tripid</th>\n",
       "      <th>prediction</th>\n",
       "    </tr>\n",
       "  </thead>\n",
       "  <tbody>\n",
       "    <tr>\n",
       "      <th>0</th>\n",
       "      <td>213284604</td>\n",
       "      <td>1</td>\n",
       "    </tr>\n",
       "    <tr>\n",
       "      <th>1</th>\n",
       "      <td>213286352</td>\n",
       "      <td>1</td>\n",
       "    </tr>\n",
       "    <tr>\n",
       "      <th>2</th>\n",
       "      <td>213293973</td>\n",
       "      <td>1</td>\n",
       "    </tr>\n",
       "    <tr>\n",
       "      <th>3</th>\n",
       "      <td>213294622</td>\n",
       "      <td>1</td>\n",
       "    </tr>\n",
       "    <tr>\n",
       "      <th>4</th>\n",
       "      <td>213298687</td>\n",
       "      <td>1</td>\n",
       "    </tr>\n",
       "  </tbody>\n",
       "</table>\n",
       "</div>"
      ],
      "text/plain": [
       "      tripid  prediction\n",
       "0  213284604           1\n",
       "1  213286352           1\n",
       "2  213293973           1\n",
       "3  213294622           1\n",
       "4  213298687           1"
      ]
     },
     "execution_count": 178,
     "metadata": {},
     "output_type": "execute_result"
    }
   ],
   "source": [
    "results.head(5)"
   ]
  },
  {
   "cell_type": "code",
   "execution_count": 179,
   "metadata": {},
   "outputs": [
    {
     "data": {
      "text/plain": [
       "1    8181\n",
       "0     395\n",
       "Name: prediction, dtype: int64"
      ]
     },
     "execution_count": 179,
     "metadata": {},
     "output_type": "execute_result"
    }
   ],
   "source": [
    "results['prediction'].value_counts()"
   ]
  }
 ],
 "metadata": {
  "kernelspec": {
   "display_name": "Python 3",
   "language": "python",
   "name": "python3"
  },
  "language_info": {
   "codemirror_mode": {
    "name": "ipython",
    "version": 3
   },
   "file_extension": ".py",
   "mimetype": "text/x-python",
   "name": "python",
   "nbconvert_exporter": "python",
   "pygments_lexer": "ipython3",
   "version": "3.7.4"
  }
 },
 "nbformat": 4,
 "nbformat_minor": 4
}
