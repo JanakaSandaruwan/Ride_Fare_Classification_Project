{
 "cells": [
  {
   "cell_type": "code",
   "execution_count": 1,
   "metadata": {
    "_cell_guid": "b1076dfc-b9ad-4769-8c92-a6c4dae69d19",
    "_uuid": "8f2839f25d086af736a60e9eeb907d3b93b6e0e5"
   },
   "outputs": [
    {
     "name": "stdout",
     "output_type": "stream",
     "text": [
      "/kaggle/input/ml-dataset/test.csv\n",
      "/kaggle/input/ml-dataset/sample_submission.csv\n",
      "/kaggle/input/ml-dataset/train.csv\n",
      "/kaggle/input/fare-classification/meta_data.csv\n"
     ]
    }
   ],
   "source": [
    "# This Python 3 environment comes with many helpful analytics libraries installed\n",
    "# It is defined by the kaggle/python docker image: https://github.com/kaggle/docker-python\n",
    "# For example, here's several helpful packages to load in \n",
    "\n",
    "import numpy as np # linear algebra\n",
    "import pandas as pd # data processing, CSV file I/O (e.g. pd.read_csv)\n",
    "from scipy.stats import norm, skew\n",
    "# Input data files are available in the \"../input/\" directory.\n",
    "# For example, running this (by clicking run or pressing Shift+Enter) will list all files under the input directory\n",
    "import matplotlib.pyplot as plt\n",
    "import seaborn as sns\n",
    "%matplotlib inline\n",
    "\n",
    "from collections import Counter\n",
    "\n",
    "from sklearn.ensemble import RandomForestClassifier, AdaBoostClassifier, GradientBoostingClassifier, ExtraTreesClassifier, VotingClassifier\n",
    "from sklearn.discriminant_analysis import LinearDiscriminantAnalysis\n",
    "from sklearn.linear_model import LogisticRegression\n",
    "from sklearn.neighbors import KNeighborsClassifier\n",
    "from sklearn.tree import DecisionTreeClassifier\n",
    "from sklearn.neural_network import MLPClassifier\n",
    "from sklearn.svm import SVC\n",
    "from sklearn.model_selection import GridSearchCV, cross_val_score, StratifiedKFold, learning_curve\n",
    "\n",
    "sns.set(style='white', context='notebook', palette='deep')\n",
    "\n",
    "import os\n",
    "for dirname, _, filenames in os.walk('/kaggle/input'):\n",
    "    for filename in filenames:\n",
    "        print(os.path.join(dirname, filename))\n",
    "\n",
    "# Any results you write to the current directory are saved as output."
   ]
  },
  {
   "cell_type": "code",
   "execution_count": 2,
   "metadata": {
    "_cell_guid": "79c7e3d0-c299-4dcb-8224-4455121ee9b0",
    "_uuid": "d629ff2d2480ee46fbb7e2d37f6b5fab8052498a"
   },
   "outputs": [],
   "source": [
    "train = pd.read_csv(\"../input/ml-dataset/train.csv\")\n",
    "test = pd.read_csv(\"../input/ml-dataset/test.csv\")\n",
    "IDtest = test[\"tripid\"]"
   ]
  },
  {
   "cell_type": "code",
   "execution_count": 3,
   "metadata": {},
   "outputs": [
    {
     "name": "stdout",
     "output_type": "stream",
     "text": [
      "<class 'pandas.core.frame.DataFrame'>\n",
      "RangeIndex: 17176 entries, 0 to 17175\n",
      "Data columns (total 14 columns):\n",
      " #   Column                     Non-Null Count  Dtype  \n",
      "---  ------                     --------------  -----  \n",
      " 0   tripid                     17176 non-null  int64  \n",
      " 1   additional_fare            16974 non-null  float64\n",
      " 2   duration                   16974 non-null  float64\n",
      " 3   meter_waiting              16974 non-null  float64\n",
      " 4   meter_waiting_fare         16974 non-null  float64\n",
      " 5   meter_waiting_till_pickup  16974 non-null  float64\n",
      " 6   pickup_time                17176 non-null  object \n",
      " 7   drop_time                  17176 non-null  object \n",
      " 8   pick_lat                   17176 non-null  float64\n",
      " 9   pick_lon                   17176 non-null  float64\n",
      " 10  drop_lat                   17176 non-null  float64\n",
      " 11  drop_lon                   17176 non-null  float64\n",
      " 12  fare                       17039 non-null  float64\n",
      " 13  label                      17176 non-null  object \n",
      "dtypes: float64(10), int64(1), object(3)\n",
      "memory usage: 1.8+ MB\n"
     ]
    }
   ],
   "source": [
    "train.info()"
   ]
  },
  {
   "cell_type": "code",
   "execution_count": 4,
   "metadata": {},
   "outputs": [
    {
     "data": {
      "text/html": [
       "<div>\n",
       "<style scoped>\n",
       "    .dataframe tbody tr th:only-of-type {\n",
       "        vertical-align: middle;\n",
       "    }\n",
       "\n",
       "    .dataframe tbody tr th {\n",
       "        vertical-align: top;\n",
       "    }\n",
       "\n",
       "    .dataframe thead th {\n",
       "        text-align: right;\n",
       "    }\n",
       "</style>\n",
       "<table border=\"1\" class=\"dataframe\">\n",
       "  <thead>\n",
       "    <tr style=\"text-align: right;\">\n",
       "      <th></th>\n",
       "      <th>tripid</th>\n",
       "      <th>additional_fare</th>\n",
       "      <th>duration</th>\n",
       "      <th>meter_waiting</th>\n",
       "      <th>meter_waiting_fare</th>\n",
       "      <th>meter_waiting_till_pickup</th>\n",
       "      <th>pickup_time</th>\n",
       "      <th>drop_time</th>\n",
       "      <th>pick_lat</th>\n",
       "      <th>pick_lon</th>\n",
       "      <th>drop_lat</th>\n",
       "      <th>drop_lon</th>\n",
       "      <th>fare</th>\n",
       "      <th>label</th>\n",
       "    </tr>\n",
       "  </thead>\n",
       "  <tbody>\n",
       "    <tr>\n",
       "      <th>0</th>\n",
       "      <td>189123628</td>\n",
       "      <td>10.5</td>\n",
       "      <td>834.0</td>\n",
       "      <td>56.0</td>\n",
       "      <td>0.0000</td>\n",
       "      <td>64.0</td>\n",
       "      <td>11/1/2019 0:20</td>\n",
       "      <td>11/1/2019 0:34</td>\n",
       "      <td>6.86252</td>\n",
       "      <td>79.8993</td>\n",
       "      <td>6.90330</td>\n",
       "      <td>79.8783</td>\n",
       "      <td>270.32</td>\n",
       "      <td>correct</td>\n",
       "    </tr>\n",
       "    <tr>\n",
       "      <th>1</th>\n",
       "      <td>189125358</td>\n",
       "      <td>10.5</td>\n",
       "      <td>791.0</td>\n",
       "      <td>47.0</td>\n",
       "      <td>0.0000</td>\n",
       "      <td>134.0</td>\n",
       "      <td>11/1/2019 0:56</td>\n",
       "      <td>11/1/2019 1:09</td>\n",
       "      <td>6.88589</td>\n",
       "      <td>79.8984</td>\n",
       "      <td>6.91373</td>\n",
       "      <td>79.8923</td>\n",
       "      <td>197.85</td>\n",
       "      <td>correct</td>\n",
       "    </tr>\n",
       "    <tr>\n",
       "      <th>2</th>\n",
       "      <td>189125719</td>\n",
       "      <td>10.5</td>\n",
       "      <td>1087.0</td>\n",
       "      <td>80.0</td>\n",
       "      <td>0.0000</td>\n",
       "      <td>61.0</td>\n",
       "      <td>11/1/2019 1:08</td>\n",
       "      <td>11/1/2019 1:26</td>\n",
       "      <td>6.90839</td>\n",
       "      <td>79.8651</td>\n",
       "      <td>6.93669</td>\n",
       "      <td>79.9146</td>\n",
       "      <td>301.64</td>\n",
       "      <td>correct</td>\n",
       "    </tr>\n",
       "    <tr>\n",
       "      <th>3</th>\n",
       "      <td>189127273</td>\n",
       "      <td>10.5</td>\n",
       "      <td>598.0</td>\n",
       "      <td>271.0</td>\n",
       "      <td>15.6638</td>\n",
       "      <td>68.0</td>\n",
       "      <td>11/1/2019 2:27</td>\n",
       "      <td>11/1/2019 2:37</td>\n",
       "      <td>6.92570</td>\n",
       "      <td>79.8895</td>\n",
       "      <td>6.92748</td>\n",
       "      <td>79.8971</td>\n",
       "      <td>82.30</td>\n",
       "      <td>correct</td>\n",
       "    </tr>\n",
       "    <tr>\n",
       "      <th>4</th>\n",
       "      <td>189128020</td>\n",
       "      <td>NaN</td>\n",
       "      <td>NaN</td>\n",
       "      <td>NaN</td>\n",
       "      <td>NaN</td>\n",
       "      <td>NaN</td>\n",
       "      <td>11/1/2019 3:34</td>\n",
       "      <td>11/1/2019 3:51</td>\n",
       "      <td>6.87441</td>\n",
       "      <td>79.8615</td>\n",
       "      <td>6.84478</td>\n",
       "      <td>79.9290</td>\n",
       "      <td>358.39</td>\n",
       "      <td>correct</td>\n",
       "    </tr>\n",
       "  </tbody>\n",
       "</table>\n",
       "</div>"
      ],
      "text/plain": [
       "      tripid  additional_fare  duration  meter_waiting  meter_waiting_fare  \\\n",
       "0  189123628             10.5     834.0           56.0              0.0000   \n",
       "1  189125358             10.5     791.0           47.0              0.0000   \n",
       "2  189125719             10.5    1087.0           80.0              0.0000   \n",
       "3  189127273             10.5     598.0          271.0             15.6638   \n",
       "4  189128020              NaN       NaN            NaN                 NaN   \n",
       "\n",
       "   meter_waiting_till_pickup     pickup_time       drop_time  pick_lat  \\\n",
       "0                       64.0  11/1/2019 0:20  11/1/2019 0:34   6.86252   \n",
       "1                      134.0  11/1/2019 0:56  11/1/2019 1:09   6.88589   \n",
       "2                       61.0  11/1/2019 1:08  11/1/2019 1:26   6.90839   \n",
       "3                       68.0  11/1/2019 2:27  11/1/2019 2:37   6.92570   \n",
       "4                        NaN  11/1/2019 3:34  11/1/2019 3:51   6.87441   \n",
       "\n",
       "   pick_lon  drop_lat  drop_lon    fare    label  \n",
       "0   79.8993   6.90330   79.8783  270.32  correct  \n",
       "1   79.8984   6.91373   79.8923  197.85  correct  \n",
       "2   79.8651   6.93669   79.9146  301.64  correct  \n",
       "3   79.8895   6.92748   79.8971   82.30  correct  \n",
       "4   79.8615   6.84478   79.9290  358.39  correct  "
      ]
     },
     "execution_count": 4,
     "metadata": {},
     "output_type": "execute_result"
    }
   ],
   "source": [
    "train.head()"
   ]
  },
  {
   "cell_type": "code",
   "execution_count": 5,
   "metadata": {},
   "outputs": [],
   "source": [
    "def detect_outliers(df,n,features):\n",
    "    \"\"\"\n",
    "    Takes a dataframe df of features and returns a list of the indices\n",
    "    corresponding to the observations containing more than n outliers according\n",
    "    to the Tukey method.\n",
    "    \"\"\"\n",
    "    outlier_indices = []\n",
    "    \n",
    "    # iterate over features(columns)\n",
    "    for col in features:\n",
    "        # 1st quartile (25%)\n",
    "        Q1 = np.percentile(df[col], 25)\n",
    "        # 3rd quartile (75%)\n",
    "        Q3 = np.percentile(df[col],75)\n",
    "        # Interquartile range (IQR)\n",
    "        IQR = Q3 - Q1\n",
    "        \n",
    "        # outlier step\n",
    "        outlier_step = 1.5 * IQR\n",
    "        \n",
    "        # Determine a list of indices of outliers for feature col\n",
    "        outlier_list_col = df[(df[col] < Q1 - outlier_step) | (df[col] > Q3 + outlier_step )].index\n",
    "        \n",
    "        # append the found outlier indices for col to the list of outlier indices \n",
    "        outlier_indices.extend(outlier_list_col)\n",
    "        \n",
    "    # select observations containing more than 2 outliers\n",
    "    outlier_indices = Counter(outlier_indices)        \n",
    "    multiple_outliers = list( k for k, v in outlier_indices.items() if v > n )\n",
    "    \n",
    "    return multiple_outliers"
   ]
  },
  {
   "cell_type": "code",
   "execution_count": 6,
   "metadata": {},
   "outputs": [],
   "source": [
    "Outliers_to_drop = detect_outliers(train,2,[\"additional_fare\",\"duration\",\"meter_waiting\",\"meter_waiting_fare\",\"meter_waiting_till_pickup\"\n",
    "                                           ,\"pick_lat\",\"pick_lon\",\"drop_lat\",\"drop_lon\"])"
   ]
  },
  {
   "cell_type": "code",
   "execution_count": 7,
   "metadata": {},
   "outputs": [
    {
     "data": {
      "text/html": [
       "<div>\n",
       "<style scoped>\n",
       "    .dataframe tbody tr th:only-of-type {\n",
       "        vertical-align: middle;\n",
       "    }\n",
       "\n",
       "    .dataframe tbody tr th {\n",
       "        vertical-align: top;\n",
       "    }\n",
       "\n",
       "    .dataframe thead th {\n",
       "        text-align: right;\n",
       "    }\n",
       "</style>\n",
       "<table border=\"1\" class=\"dataframe\">\n",
       "  <thead>\n",
       "    <tr style=\"text-align: right;\">\n",
       "      <th></th>\n",
       "      <th>tripid</th>\n",
       "      <th>additional_fare</th>\n",
       "      <th>duration</th>\n",
       "      <th>meter_waiting</th>\n",
       "      <th>meter_waiting_fare</th>\n",
       "      <th>meter_waiting_till_pickup</th>\n",
       "      <th>pickup_time</th>\n",
       "      <th>drop_time</th>\n",
       "      <th>pick_lat</th>\n",
       "      <th>pick_lon</th>\n",
       "      <th>drop_lat</th>\n",
       "      <th>drop_lon</th>\n",
       "      <th>fare</th>\n",
       "      <th>label</th>\n",
       "    </tr>\n",
       "  </thead>\n",
       "  <tbody>\n",
       "    <tr>\n",
       "      <th>25</th>\n",
       "      <td>189160756</td>\n",
       "      <td>10.5</td>\n",
       "      <td>358.0</td>\n",
       "      <td>66.0</td>\n",
       "      <td>0.0000</td>\n",
       "      <td>79.0</td>\n",
       "      <td>11/1/2019 8:51</td>\n",
       "      <td>11/1/2019 8:57</td>\n",
       "      <td>6.05858</td>\n",
       "      <td>80.2003</td>\n",
       "      <td>6.05566</td>\n",
       "      <td>80.1810</td>\n",
       "      <td>210.58</td>\n",
       "      <td>incorrect</td>\n",
       "    </tr>\n",
       "    <tr>\n",
       "      <th>34</th>\n",
       "      <td>189164791</td>\n",
       "      <td>10.5</td>\n",
       "      <td>286.0</td>\n",
       "      <td>44.0</td>\n",
       "      <td>0.0000</td>\n",
       "      <td>9.0</td>\n",
       "      <td>11/1/2019 9:23</td>\n",
       "      <td>11/1/2019 9:28</td>\n",
       "      <td>7.48628</td>\n",
       "      <td>80.6206</td>\n",
       "      <td>7.47984</td>\n",
       "      <td>80.6233</td>\n",
       "      <td>545.89</td>\n",
       "      <td>incorrect</td>\n",
       "    </tr>\n",
       "    <tr>\n",
       "      <th>51</th>\n",
       "      <td>189182800</td>\n",
       "      <td>10.5</td>\n",
       "      <td>220.0</td>\n",
       "      <td>10.0</td>\n",
       "      <td>0.0000</td>\n",
       "      <td>27.0</td>\n",
       "      <td>11/1/2019 11:34</td>\n",
       "      <td>11/1/2019 11:37</td>\n",
       "      <td>7.48995</td>\n",
       "      <td>80.3639</td>\n",
       "      <td>7.49838</td>\n",
       "      <td>80.3715</td>\n",
       "      <td>71.84</td>\n",
       "      <td>correct</td>\n",
       "    </tr>\n",
       "    <tr>\n",
       "      <th>84</th>\n",
       "      <td>189227008</td>\n",
       "      <td>10.5</td>\n",
       "      <td>2159.0</td>\n",
       "      <td>1158.0</td>\n",
       "      <td>67.5114</td>\n",
       "      <td>344.0</td>\n",
       "      <td>11/1/2019 14:31</td>\n",
       "      <td>11/1/2019 15:07</td>\n",
       "      <td>7.32514</td>\n",
       "      <td>80.6521</td>\n",
       "      <td>7.29959</td>\n",
       "      <td>80.6366</td>\n",
       "      <td>274.56</td>\n",
       "      <td>correct</td>\n",
       "    </tr>\n",
       "    <tr>\n",
       "      <th>115</th>\n",
       "      <td>189250944</td>\n",
       "      <td>10.5</td>\n",
       "      <td>1301.0</td>\n",
       "      <td>10.0</td>\n",
       "      <td>0.0000</td>\n",
       "      <td>60.0</td>\n",
       "      <td>11/1/2019 16:43</td>\n",
       "      <td>11/1/2019 17:05</td>\n",
       "      <td>7.31738</td>\n",
       "      <td>80.6995</td>\n",
       "      <td>7.33181</td>\n",
       "      <td>80.6289</td>\n",
       "      <td>356.51</td>\n",
       "      <td>correct</td>\n",
       "    </tr>\n",
       "    <tr>\n",
       "      <th>...</th>\n",
       "      <td>...</td>\n",
       "      <td>...</td>\n",
       "      <td>...</td>\n",
       "      <td>...</td>\n",
       "      <td>...</td>\n",
       "      <td>...</td>\n",
       "      <td>...</td>\n",
       "      <td>...</td>\n",
       "      <td>...</td>\n",
       "      <td>...</td>\n",
       "      <td>...</td>\n",
       "      <td>...</td>\n",
       "      <td>...</td>\n",
       "      <td>...</td>\n",
       "    </tr>\n",
       "    <tr>\n",
       "      <th>16751</th>\n",
       "      <td>213125070</td>\n",
       "      <td>10.5</td>\n",
       "      <td>1748.0</td>\n",
       "      <td>80.0</td>\n",
       "      <td>0.0000</td>\n",
       "      <td>37.0</td>\n",
       "      <td>1/29/2020 20:42</td>\n",
       "      <td>1/29/2020 21:11</td>\n",
       "      <td>7.29311</td>\n",
       "      <td>80.6370</td>\n",
       "      <td>7.33452</td>\n",
       "      <td>80.6823</td>\n",
       "      <td>431.96</td>\n",
       "      <td>correct</td>\n",
       "    </tr>\n",
       "    <tr>\n",
       "      <th>16944</th>\n",
       "      <td>213372335</td>\n",
       "      <td>10.5</td>\n",
       "      <td>300.0</td>\n",
       "      <td>1.0</td>\n",
       "      <td>0.0583</td>\n",
       "      <td>66.0</td>\n",
       "      <td>1/30/2020 17:48</td>\n",
       "      <td>1/30/2020 17:53</td>\n",
       "      <td>7.30790</td>\n",
       "      <td>80.6371</td>\n",
       "      <td>7.32106</td>\n",
       "      <td>80.6387</td>\n",
       "      <td>99.53</td>\n",
       "      <td>correct</td>\n",
       "    </tr>\n",
       "    <tr>\n",
       "      <th>16966</th>\n",
       "      <td>213397557</td>\n",
       "      <td>30.5</td>\n",
       "      <td>777.0</td>\n",
       "      <td>54.0</td>\n",
       "      <td>0.0000</td>\n",
       "      <td>128.0</td>\n",
       "      <td>1/30/2020 18:53</td>\n",
       "      <td>1/30/2020 19:06</td>\n",
       "      <td>7.29334</td>\n",
       "      <td>80.6361</td>\n",
       "      <td>7.32462</td>\n",
       "      <td>80.6355</td>\n",
       "      <td>239.43</td>\n",
       "      <td>correct</td>\n",
       "    </tr>\n",
       "    <tr>\n",
       "      <th>17037</th>\n",
       "      <td>213521569</td>\n",
       "      <td>10.5</td>\n",
       "      <td>659.0</td>\n",
       "      <td>40.0</td>\n",
       "      <td>0.0000</td>\n",
       "      <td>87.0</td>\n",
       "      <td>1/31/2020 10:39</td>\n",
       "      <td>1/31/2020 10:50</td>\n",
       "      <td>7.29424</td>\n",
       "      <td>80.6335</td>\n",
       "      <td>7.32501</td>\n",
       "      <td>80.6311</td>\n",
       "      <td>177.47</td>\n",
       "      <td>correct</td>\n",
       "    </tr>\n",
       "    <tr>\n",
       "      <th>17165</th>\n",
       "      <td>213789771</td>\n",
       "      <td>30.5</td>\n",
       "      <td>1009.0</td>\n",
       "      <td>178.0</td>\n",
       "      <td>0.0000</td>\n",
       "      <td>75.0</td>\n",
       "      <td>1/31/2020 21:00</td>\n",
       "      <td>1/31/2020 21:17</td>\n",
       "      <td>7.29222</td>\n",
       "      <td>80.6338</td>\n",
       "      <td>7.33817</td>\n",
       "      <td>80.6449</td>\n",
       "      <td>214.28</td>\n",
       "      <td>correct</td>\n",
       "    </tr>\n",
       "  </tbody>\n",
       "</table>\n",
       "<p>1218 rows × 14 columns</p>\n",
       "</div>"
      ],
      "text/plain": [
       "          tripid  additional_fare  duration  meter_waiting  \\\n",
       "25     189160756             10.5     358.0           66.0   \n",
       "34     189164791             10.5     286.0           44.0   \n",
       "51     189182800             10.5     220.0           10.0   \n",
       "84     189227008             10.5    2159.0         1158.0   \n",
       "115    189250944             10.5    1301.0           10.0   \n",
       "...          ...              ...       ...            ...   \n",
       "16751  213125070             10.5    1748.0           80.0   \n",
       "16944  213372335             10.5     300.0            1.0   \n",
       "16966  213397557             30.5     777.0           54.0   \n",
       "17037  213521569             10.5     659.0           40.0   \n",
       "17165  213789771             30.5    1009.0          178.0   \n",
       "\n",
       "       meter_waiting_fare  meter_waiting_till_pickup      pickup_time  \\\n",
       "25                 0.0000                       79.0   11/1/2019 8:51   \n",
       "34                 0.0000                        9.0   11/1/2019 9:23   \n",
       "51                 0.0000                       27.0  11/1/2019 11:34   \n",
       "84                67.5114                      344.0  11/1/2019 14:31   \n",
       "115                0.0000                       60.0  11/1/2019 16:43   \n",
       "...                   ...                        ...              ...   \n",
       "16751              0.0000                       37.0  1/29/2020 20:42   \n",
       "16944              0.0583                       66.0  1/30/2020 17:48   \n",
       "16966              0.0000                      128.0  1/30/2020 18:53   \n",
       "17037              0.0000                       87.0  1/31/2020 10:39   \n",
       "17165              0.0000                       75.0  1/31/2020 21:00   \n",
       "\n",
       "             drop_time  pick_lat  pick_lon  drop_lat  drop_lon    fare  \\\n",
       "25      11/1/2019 8:57   6.05858   80.2003   6.05566   80.1810  210.58   \n",
       "34      11/1/2019 9:28   7.48628   80.6206   7.47984   80.6233  545.89   \n",
       "51     11/1/2019 11:37   7.48995   80.3639   7.49838   80.3715   71.84   \n",
       "84     11/1/2019 15:07   7.32514   80.6521   7.29959   80.6366  274.56   \n",
       "115    11/1/2019 17:05   7.31738   80.6995   7.33181   80.6289  356.51   \n",
       "...                ...       ...       ...       ...       ...     ...   \n",
       "16751  1/29/2020 21:11   7.29311   80.6370   7.33452   80.6823  431.96   \n",
       "16944  1/30/2020 17:53   7.30790   80.6371   7.32106   80.6387   99.53   \n",
       "16966  1/30/2020 19:06   7.29334   80.6361   7.32462   80.6355  239.43   \n",
       "17037  1/31/2020 10:50   7.29424   80.6335   7.32501   80.6311  177.47   \n",
       "17165  1/31/2020 21:17   7.29222   80.6338   7.33817   80.6449  214.28   \n",
       "\n",
       "           label  \n",
       "25     incorrect  \n",
       "34     incorrect  \n",
       "51       correct  \n",
       "84       correct  \n",
       "115      correct  \n",
       "...          ...  \n",
       "16751    correct  \n",
       "16944    correct  \n",
       "16966    correct  \n",
       "17037    correct  \n",
       "17165    correct  \n",
       "\n",
       "[1218 rows x 14 columns]"
      ]
     },
     "execution_count": 7,
     "metadata": {},
     "output_type": "execute_result"
    }
   ],
   "source": [
    "train.loc[Outliers_to_drop]"
   ]
  },
  {
   "cell_type": "code",
   "execution_count": 8,
   "metadata": {},
   "outputs": [],
   "source": [
    "# train = train.drop(Outliers_to_drop, axis = 0).reset_index(drop=True)"
   ]
  },
  {
   "cell_type": "code",
   "execution_count": 9,
   "metadata": {},
   "outputs": [
    {
     "data": {
      "text/plain": [
       "(17176, 14)"
      ]
     },
     "execution_count": 9,
     "metadata": {},
     "output_type": "execute_result"
    }
   ],
   "source": [
    "train.shape"
   ]
  },
  {
   "cell_type": "code",
   "execution_count": 10,
   "metadata": {},
   "outputs": [],
   "source": [
    "# train_len = len(train)\n",
    "# dataset =  pd.concat(objs=[train, test], axis=0).reset_index(drop=True)"
   ]
  },
  {
   "cell_type": "code",
   "execution_count": 11,
   "metadata": {},
   "outputs": [],
   "source": [
    "# dataset = dataset.fillna(np.nan)\n",
    "\n",
    "# # Check for Null values\n",
    "# dataset.isnull().sum()"
   ]
  },
  {
   "cell_type": "code",
   "execution_count": 12,
   "metadata": {},
   "outputs": [
    {
     "name": "stdout",
     "output_type": "stream",
     "text": [
      "<class 'pandas.core.frame.DataFrame'>\n",
      "RangeIndex: 17176 entries, 0 to 17175\n",
      "Data columns (total 14 columns):\n",
      " #   Column                     Non-Null Count  Dtype  \n",
      "---  ------                     --------------  -----  \n",
      " 0   tripid                     17176 non-null  int64  \n",
      " 1   additional_fare            16974 non-null  float64\n",
      " 2   duration                   16974 non-null  float64\n",
      " 3   meter_waiting              16974 non-null  float64\n",
      " 4   meter_waiting_fare         16974 non-null  float64\n",
      " 5   meter_waiting_till_pickup  16974 non-null  float64\n",
      " 6   pickup_time                17176 non-null  object \n",
      " 7   drop_time                  17176 non-null  object \n",
      " 8   pick_lat                   17176 non-null  float64\n",
      " 9   pick_lon                   17176 non-null  float64\n",
      " 10  drop_lat                   17176 non-null  float64\n",
      " 11  drop_lon                   17176 non-null  float64\n",
      " 12  fare                       17039 non-null  float64\n",
      " 13  label                      17176 non-null  object \n",
      "dtypes: float64(10), int64(1), object(3)\n",
      "memory usage: 1.8+ MB\n"
     ]
    },
    {
     "data": {
      "text/plain": [
       "tripid                         0\n",
       "additional_fare              202\n",
       "duration                     202\n",
       "meter_waiting                202\n",
       "meter_waiting_fare           202\n",
       "meter_waiting_till_pickup    202\n",
       "pickup_time                    0\n",
       "drop_time                      0\n",
       "pick_lat                       0\n",
       "pick_lon                       0\n",
       "drop_lat                       0\n",
       "drop_lon                       0\n",
       "fare                         137\n",
       "label                          0\n",
       "dtype: int64"
      ]
     },
     "execution_count": 12,
     "metadata": {},
     "output_type": "execute_result"
    }
   ],
   "source": [
    "train.info()\n",
    "train.isnull().sum()"
   ]
  },
  {
   "cell_type": "code",
   "execution_count": 13,
   "metadata": {},
   "outputs": [
    {
     "data": {
      "text/html": [
       "<div>\n",
       "<style scoped>\n",
       "    .dataframe tbody tr th:only-of-type {\n",
       "        vertical-align: middle;\n",
       "    }\n",
       "\n",
       "    .dataframe tbody tr th {\n",
       "        vertical-align: top;\n",
       "    }\n",
       "\n",
       "    .dataframe thead th {\n",
       "        text-align: right;\n",
       "    }\n",
       "</style>\n",
       "<table border=\"1\" class=\"dataframe\">\n",
       "  <thead>\n",
       "    <tr style=\"text-align: right;\">\n",
       "      <th></th>\n",
       "      <th>tripid</th>\n",
       "      <th>additional_fare</th>\n",
       "      <th>duration</th>\n",
       "      <th>meter_waiting</th>\n",
       "      <th>meter_waiting_fare</th>\n",
       "      <th>meter_waiting_till_pickup</th>\n",
       "      <th>pickup_time</th>\n",
       "      <th>drop_time</th>\n",
       "      <th>pick_lat</th>\n",
       "      <th>pick_lon</th>\n",
       "      <th>drop_lat</th>\n",
       "      <th>drop_lon</th>\n",
       "      <th>fare</th>\n",
       "      <th>label</th>\n",
       "    </tr>\n",
       "  </thead>\n",
       "  <tbody>\n",
       "    <tr>\n",
       "      <th>0</th>\n",
       "      <td>189123628</td>\n",
       "      <td>10.5</td>\n",
       "      <td>834.0</td>\n",
       "      <td>56.0</td>\n",
       "      <td>0.0000</td>\n",
       "      <td>64.0</td>\n",
       "      <td>11/1/2019 0:20</td>\n",
       "      <td>11/1/2019 0:34</td>\n",
       "      <td>6.86252</td>\n",
       "      <td>79.8993</td>\n",
       "      <td>6.90330</td>\n",
       "      <td>79.8783</td>\n",
       "      <td>270.32</td>\n",
       "      <td>correct</td>\n",
       "    </tr>\n",
       "    <tr>\n",
       "      <th>1</th>\n",
       "      <td>189125358</td>\n",
       "      <td>10.5</td>\n",
       "      <td>791.0</td>\n",
       "      <td>47.0</td>\n",
       "      <td>0.0000</td>\n",
       "      <td>134.0</td>\n",
       "      <td>11/1/2019 0:56</td>\n",
       "      <td>11/1/2019 1:09</td>\n",
       "      <td>6.88589</td>\n",
       "      <td>79.8984</td>\n",
       "      <td>6.91373</td>\n",
       "      <td>79.8923</td>\n",
       "      <td>197.85</td>\n",
       "      <td>correct</td>\n",
       "    </tr>\n",
       "    <tr>\n",
       "      <th>2</th>\n",
       "      <td>189125719</td>\n",
       "      <td>10.5</td>\n",
       "      <td>1087.0</td>\n",
       "      <td>80.0</td>\n",
       "      <td>0.0000</td>\n",
       "      <td>61.0</td>\n",
       "      <td>11/1/2019 1:08</td>\n",
       "      <td>11/1/2019 1:26</td>\n",
       "      <td>6.90839</td>\n",
       "      <td>79.8651</td>\n",
       "      <td>6.93669</td>\n",
       "      <td>79.9146</td>\n",
       "      <td>301.64</td>\n",
       "      <td>correct</td>\n",
       "    </tr>\n",
       "    <tr>\n",
       "      <th>3</th>\n",
       "      <td>189127273</td>\n",
       "      <td>10.5</td>\n",
       "      <td>598.0</td>\n",
       "      <td>271.0</td>\n",
       "      <td>15.6638</td>\n",
       "      <td>68.0</td>\n",
       "      <td>11/1/2019 2:27</td>\n",
       "      <td>11/1/2019 2:37</td>\n",
       "      <td>6.92570</td>\n",
       "      <td>79.8895</td>\n",
       "      <td>6.92748</td>\n",
       "      <td>79.8971</td>\n",
       "      <td>82.30</td>\n",
       "      <td>correct</td>\n",
       "    </tr>\n",
       "    <tr>\n",
       "      <th>4</th>\n",
       "      <td>189128020</td>\n",
       "      <td>NaN</td>\n",
       "      <td>NaN</td>\n",
       "      <td>NaN</td>\n",
       "      <td>NaN</td>\n",
       "      <td>NaN</td>\n",
       "      <td>11/1/2019 3:34</td>\n",
       "      <td>11/1/2019 3:51</td>\n",
       "      <td>6.87441</td>\n",
       "      <td>79.8615</td>\n",
       "      <td>6.84478</td>\n",
       "      <td>79.9290</td>\n",
       "      <td>358.39</td>\n",
       "      <td>correct</td>\n",
       "    </tr>\n",
       "  </tbody>\n",
       "</table>\n",
       "</div>"
      ],
      "text/plain": [
       "      tripid  additional_fare  duration  meter_waiting  meter_waiting_fare  \\\n",
       "0  189123628             10.5     834.0           56.0              0.0000   \n",
       "1  189125358             10.5     791.0           47.0              0.0000   \n",
       "2  189125719             10.5    1087.0           80.0              0.0000   \n",
       "3  189127273             10.5     598.0          271.0             15.6638   \n",
       "4  189128020              NaN       NaN            NaN                 NaN   \n",
       "\n",
       "   meter_waiting_till_pickup     pickup_time       drop_time  pick_lat  \\\n",
       "0                       64.0  11/1/2019 0:20  11/1/2019 0:34   6.86252   \n",
       "1                      134.0  11/1/2019 0:56  11/1/2019 1:09   6.88589   \n",
       "2                       61.0  11/1/2019 1:08  11/1/2019 1:26   6.90839   \n",
       "3                       68.0  11/1/2019 2:27  11/1/2019 2:37   6.92570   \n",
       "4                        NaN  11/1/2019 3:34  11/1/2019 3:51   6.87441   \n",
       "\n",
       "   pick_lon  drop_lat  drop_lon    fare    label  \n",
       "0   79.8993   6.90330   79.8783  270.32  correct  \n",
       "1   79.8984   6.91373   79.8923  197.85  correct  \n",
       "2   79.8651   6.93669   79.9146  301.64  correct  \n",
       "3   79.8895   6.92748   79.8971   82.30  correct  \n",
       "4   79.8615   6.84478   79.9290  358.39  correct  "
      ]
     },
     "execution_count": 13,
     "metadata": {},
     "output_type": "execute_result"
    }
   ],
   "source": [
    "train.head()"
   ]
  },
  {
   "cell_type": "code",
   "execution_count": 14,
   "metadata": {},
   "outputs": [
    {
     "data": {
      "text/plain": [
       "tripid                         int64\n",
       "additional_fare              float64\n",
       "duration                     float64\n",
       "meter_waiting                float64\n",
       "meter_waiting_fare           float64\n",
       "meter_waiting_till_pickup    float64\n",
       "pickup_time                   object\n",
       "drop_time                     object\n",
       "pick_lat                     float64\n",
       "pick_lon                     float64\n",
       "drop_lat                     float64\n",
       "drop_lon                     float64\n",
       "fare                         float64\n",
       "label                         object\n",
       "dtype: object"
      ]
     },
     "execution_count": 14,
     "metadata": {},
     "output_type": "execute_result"
    }
   ],
   "source": [
    "train.dtypes"
   ]
  },
  {
   "cell_type": "code",
   "execution_count": 15,
   "metadata": {},
   "outputs": [
    {
     "data": {
      "text/html": [
       "<div>\n",
       "<style scoped>\n",
       "    .dataframe tbody tr th:only-of-type {\n",
       "        vertical-align: middle;\n",
       "    }\n",
       "\n",
       "    .dataframe tbody tr th {\n",
       "        vertical-align: top;\n",
       "    }\n",
       "\n",
       "    .dataframe thead th {\n",
       "        text-align: right;\n",
       "    }\n",
       "</style>\n",
       "<table border=\"1\" class=\"dataframe\">\n",
       "  <thead>\n",
       "    <tr style=\"text-align: right;\">\n",
       "      <th></th>\n",
       "      <th>tripid</th>\n",
       "      <th>additional_fare</th>\n",
       "      <th>duration</th>\n",
       "      <th>meter_waiting</th>\n",
       "      <th>meter_waiting_fare</th>\n",
       "      <th>meter_waiting_till_pickup</th>\n",
       "      <th>pick_lat</th>\n",
       "      <th>pick_lon</th>\n",
       "      <th>drop_lat</th>\n",
       "      <th>drop_lon</th>\n",
       "      <th>fare</th>\n",
       "    </tr>\n",
       "  </thead>\n",
       "  <tbody>\n",
       "    <tr>\n",
       "      <th>count</th>\n",
       "      <td>1.717600e+04</td>\n",
       "      <td>16974.000000</td>\n",
       "      <td>16974.000000</td>\n",
       "      <td>16974.000000</td>\n",
       "      <td>16974.000000</td>\n",
       "      <td>16974.000000</td>\n",
       "      <td>17176.000000</td>\n",
       "      <td>17176.000000</td>\n",
       "      <td>17176.000000</td>\n",
       "      <td>17176.000000</td>\n",
       "      <td>17039.000000</td>\n",
       "    </tr>\n",
       "    <tr>\n",
       "      <th>mean</th>\n",
       "      <td>2.014549e+08</td>\n",
       "      <td>13.719651</td>\n",
       "      <td>1702.858077</td>\n",
       "      <td>629.074231</td>\n",
       "      <td>32.057666</td>\n",
       "      <td>112.466832</td>\n",
       "      <td>6.965499</td>\n",
       "      <td>79.998389</td>\n",
       "      <td>6.968587</td>\n",
       "      <td>79.997534</td>\n",
       "      <td>312.655466</td>\n",
       "    </tr>\n",
       "    <tr>\n",
       "      <th>std</th>\n",
       "      <td>7.456830e+06</td>\n",
       "      <td>98.975052</td>\n",
       "      <td>8120.160818</td>\n",
       "      <td>8063.260669</td>\n",
       "      <td>465.483573</td>\n",
       "      <td>442.054812</td>\n",
       "      <td>0.210760</td>\n",
       "      <td>0.243384</td>\n",
       "      <td>0.378669</td>\n",
       "      <td>0.359648</td>\n",
       "      <td>605.300565</td>\n",
       "    </tr>\n",
       "    <tr>\n",
       "      <th>min</th>\n",
       "      <td>1.891236e+08</td>\n",
       "      <td>0.000000</td>\n",
       "      <td>0.000000</td>\n",
       "      <td>0.000000</td>\n",
       "      <td>0.000000</td>\n",
       "      <td>0.000000</td>\n",
       "      <td>5.937600</td>\n",
       "      <td>79.819100</td>\n",
       "      <td>5.941860</td>\n",
       "      <td>45.307700</td>\n",
       "      <td>0.000000</td>\n",
       "    </tr>\n",
       "    <tr>\n",
       "      <th>25%</th>\n",
       "      <td>1.947619e+08</td>\n",
       "      <td>10.500000</td>\n",
       "      <td>548.000000</td>\n",
       "      <td>33.000000</td>\n",
       "      <td>0.000000</td>\n",
       "      <td>26.000000</td>\n",
       "      <td>6.865077</td>\n",
       "      <td>79.870400</td>\n",
       "      <td>6.865625</td>\n",
       "      <td>79.870100</td>\n",
       "      <td>125.515000</td>\n",
       "    </tr>\n",
       "    <tr>\n",
       "      <th>50%</th>\n",
       "      <td>2.013582e+08</td>\n",
       "      <td>10.500000</td>\n",
       "      <td>1009.500000</td>\n",
       "      <td>123.000000</td>\n",
       "      <td>0.116600</td>\n",
       "      <td>73.000000</td>\n",
       "      <td>6.914105</td>\n",
       "      <td>79.898600</td>\n",
       "      <td>6.916160</td>\n",
       "      <td>79.899100</td>\n",
       "      <td>211.180000</td>\n",
       "    </tr>\n",
       "    <tr>\n",
       "      <th>75%</th>\n",
       "      <td>2.083081e+08</td>\n",
       "      <td>10.500000</td>\n",
       "      <td>1803.000000</td>\n",
       "      <td>351.000000</td>\n",
       "      <td>14.341800</td>\n",
       "      <td>144.000000</td>\n",
       "      <td>7.043057</td>\n",
       "      <td>79.956600</td>\n",
       "      <td>7.047195</td>\n",
       "      <td>79.960225</td>\n",
       "      <td>366.465000</td>\n",
       "    </tr>\n",
       "    <tr>\n",
       "      <th>max</th>\n",
       "      <td>2.138173e+08</td>\n",
       "      <td>12795.030000</td>\n",
       "      <td>453872.000000</td>\n",
       "      <td>453650.000000</td>\n",
       "      <td>26198.601400</td>\n",
       "      <td>51288.000000</td>\n",
       "      <td>8.051010</td>\n",
       "      <td>81.009600</td>\n",
       "      <td>48.132000</td>\n",
       "      <td>81.009700</td>\n",
       "      <td>26945.990000</td>\n",
       "    </tr>\n",
       "  </tbody>\n",
       "</table>\n",
       "</div>"
      ],
      "text/plain": [
       "             tripid  additional_fare       duration  meter_waiting  \\\n",
       "count  1.717600e+04     16974.000000   16974.000000   16974.000000   \n",
       "mean   2.014549e+08        13.719651    1702.858077     629.074231   \n",
       "std    7.456830e+06        98.975052    8120.160818    8063.260669   \n",
       "min    1.891236e+08         0.000000       0.000000       0.000000   \n",
       "25%    1.947619e+08        10.500000     548.000000      33.000000   \n",
       "50%    2.013582e+08        10.500000    1009.500000     123.000000   \n",
       "75%    2.083081e+08        10.500000    1803.000000     351.000000   \n",
       "max    2.138173e+08     12795.030000  453872.000000  453650.000000   \n",
       "\n",
       "       meter_waiting_fare  meter_waiting_till_pickup      pick_lat  \\\n",
       "count        16974.000000               16974.000000  17176.000000   \n",
       "mean            32.057666                 112.466832      6.965499   \n",
       "std            465.483573                 442.054812      0.210760   \n",
       "min              0.000000                   0.000000      5.937600   \n",
       "25%              0.000000                  26.000000      6.865077   \n",
       "50%              0.116600                  73.000000      6.914105   \n",
       "75%             14.341800                 144.000000      7.043057   \n",
       "max          26198.601400               51288.000000      8.051010   \n",
       "\n",
       "           pick_lon      drop_lat      drop_lon          fare  \n",
       "count  17176.000000  17176.000000  17176.000000  17039.000000  \n",
       "mean      79.998389      6.968587     79.997534    312.655466  \n",
       "std        0.243384      0.378669      0.359648    605.300565  \n",
       "min       79.819100      5.941860     45.307700      0.000000  \n",
       "25%       79.870400      6.865625     79.870100    125.515000  \n",
       "50%       79.898600      6.916160     79.899100    211.180000  \n",
       "75%       79.956600      7.047195     79.960225    366.465000  \n",
       "max       81.009600     48.132000     81.009700  26945.990000  "
      ]
     },
     "execution_count": 15,
     "metadata": {},
     "output_type": "execute_result"
    }
   ],
   "source": [
    "train.describe()"
   ]
  },
  {
   "cell_type": "code",
   "execution_count": 16,
   "metadata": {},
   "outputs": [
    {
     "data": {
      "text/plain": [
       "<matplotlib.axes._subplots.AxesSubplot at 0x7f48d878d050>"
      ]
     },
     "execution_count": 16,
     "metadata": {},
     "output_type": "execute_result"
    },
    {
     "data": {
      "image/png": "[encoded data removed]",
      "text/plain": [
       "<Figure size 720x720 with 2 Axes>"
      ]
     },
     "metadata": {},
     "output_type": "display_data"
    }
   ],
   "source": [
    "plt.figure(figsize=[10,10])\n",
    "sns.heatmap(train.corr(),annot=True, fmt = \".2f\", cmap = \"coolwarm\")"
   ]
  },
  {
   "cell_type": "markdown",
   "metadata": {},
   "source": [
    "# Remove Nan"
   ]
  },
  {
   "cell_type": "code",
   "execution_count": 17,
   "metadata": {},
   "outputs": [
    {
     "data": {
      "text/plain": [
       "correct      15495\n",
       "incorrect     1681\n",
       "Name: label, dtype: int64"
      ]
     },
     "execution_count": 17,
     "metadata": {},
     "output_type": "execute_result"
    }
   ],
   "source": [
    "train['label'].value_counts()"
   ]
  },
  {
   "cell_type": "code",
   "execution_count": 18,
   "metadata": {},
   "outputs": [
    {
     "data": {
      "text/html": [
       "<div>\n",
       "<style scoped>\n",
       "    .dataframe tbody tr th:only-of-type {\n",
       "        vertical-align: middle;\n",
       "    }\n",
       "\n",
       "    .dataframe tbody tr th {\n",
       "        vertical-align: top;\n",
       "    }\n",
       "\n",
       "    .dataframe thead th {\n",
       "        text-align: right;\n",
       "    }\n",
       "</style>\n",
       "<table border=\"1\" class=\"dataframe\">\n",
       "  <thead>\n",
       "    <tr style=\"text-align: right;\">\n",
       "      <th></th>\n",
       "      <th>tripid</th>\n",
       "      <th>additional_fare</th>\n",
       "      <th>duration</th>\n",
       "      <th>meter_waiting</th>\n",
       "      <th>meter_waiting_fare</th>\n",
       "      <th>meter_waiting_till_pickup</th>\n",
       "      <th>pickup_time</th>\n",
       "      <th>drop_time</th>\n",
       "      <th>pick_lat</th>\n",
       "      <th>pick_lon</th>\n",
       "      <th>drop_lat</th>\n",
       "      <th>drop_lon</th>\n",
       "      <th>fare</th>\n",
       "      <th>label</th>\n",
       "    </tr>\n",
       "  </thead>\n",
       "  <tbody>\n",
       "    <tr>\n",
       "      <th>4</th>\n",
       "      <td>189128020</td>\n",
       "      <td>NaN</td>\n",
       "      <td>NaN</td>\n",
       "      <td>NaN</td>\n",
       "      <td>NaN</td>\n",
       "      <td>NaN</td>\n",
       "      <td>11/1/2019 3:34</td>\n",
       "      <td>11/1/2019 3:51</td>\n",
       "      <td>6.87441</td>\n",
       "      <td>79.8615</td>\n",
       "      <td>6.84478</td>\n",
       "      <td>79.9290</td>\n",
       "      <td>358.39</td>\n",
       "      <td>correct</td>\n",
       "    </tr>\n",
       "    <tr>\n",
       "      <th>31</th>\n",
       "      <td>189164831</td>\n",
       "      <td>NaN</td>\n",
       "      <td>NaN</td>\n",
       "      <td>NaN</td>\n",
       "      <td>NaN</td>\n",
       "      <td>NaN</td>\n",
       "      <td>11/1/2019 9:17</td>\n",
       "      <td>11/1/2019 9:25</td>\n",
       "      <td>7.27586</td>\n",
       "      <td>80.6136</td>\n",
       "      <td>7.28810</td>\n",
       "      <td>80.6319</td>\n",
       "      <td>NaN</td>\n",
       "      <td>incorrect</td>\n",
       "    </tr>\n",
       "    <tr>\n",
       "      <th>91</th>\n",
       "      <td>189231599</td>\n",
       "      <td>NaN</td>\n",
       "      <td>NaN</td>\n",
       "      <td>NaN</td>\n",
       "      <td>NaN</td>\n",
       "      <td>NaN</td>\n",
       "      <td>11/1/2019 14:48</td>\n",
       "      <td>11/1/2019 15:03</td>\n",
       "      <td>7.04783</td>\n",
       "      <td>79.8973</td>\n",
       "      <td>7.05307</td>\n",
       "      <td>79.9188</td>\n",
       "      <td>196.50</td>\n",
       "      <td>incorrect</td>\n",
       "    </tr>\n",
       "    <tr>\n",
       "      <th>253</th>\n",
       "      <td>189393356</td>\n",
       "      <td>NaN</td>\n",
       "      <td>NaN</td>\n",
       "      <td>NaN</td>\n",
       "      <td>NaN</td>\n",
       "      <td>NaN</td>\n",
       "      <td>11/2/2019 13:29</td>\n",
       "      <td>11/2/2019 13:55</td>\n",
       "      <td>7.21158</td>\n",
       "      <td>79.8401</td>\n",
       "      <td>7.20136</td>\n",
       "      <td>79.8455</td>\n",
       "      <td>188.71</td>\n",
       "      <td>incorrect</td>\n",
       "    </tr>\n",
       "    <tr>\n",
       "      <th>811</th>\n",
       "      <td>190066074</td>\n",
       "      <td>NaN</td>\n",
       "      <td>NaN</td>\n",
       "      <td>NaN</td>\n",
       "      <td>NaN</td>\n",
       "      <td>NaN</td>\n",
       "      <td>11/5/2019 16:49</td>\n",
       "      <td>11/5/2019 17:01</td>\n",
       "      <td>7.48201</td>\n",
       "      <td>80.3580</td>\n",
       "      <td>7.50463</td>\n",
       "      <td>80.3510</td>\n",
       "      <td>NaN</td>\n",
       "      <td>incorrect</td>\n",
       "    </tr>\n",
       "    <tr>\n",
       "      <th>...</th>\n",
       "      <td>...</td>\n",
       "      <td>...</td>\n",
       "      <td>...</td>\n",
       "      <td>...</td>\n",
       "      <td>...</td>\n",
       "      <td>...</td>\n",
       "      <td>...</td>\n",
       "      <td>...</td>\n",
       "      <td>...</td>\n",
       "      <td>...</td>\n",
       "      <td>...</td>\n",
       "      <td>...</td>\n",
       "      <td>...</td>\n",
       "      <td>...</td>\n",
       "    </tr>\n",
       "    <tr>\n",
       "      <th>16994</th>\n",
       "      <td>213449192</td>\n",
       "      <td>NaN</td>\n",
       "      <td>NaN</td>\n",
       "      <td>NaN</td>\n",
       "      <td>NaN</td>\n",
       "      <td>NaN</td>\n",
       "      <td>1/30/2020 22:52</td>\n",
       "      <td>1/30/2020 23:05</td>\n",
       "      <td>6.88183</td>\n",
       "      <td>79.8577</td>\n",
       "      <td>6.84729</td>\n",
       "      <td>79.8734</td>\n",
       "      <td>NaN</td>\n",
       "      <td>incorrect</td>\n",
       "    </tr>\n",
       "    <tr>\n",
       "      <th>17033</th>\n",
       "      <td>213510465</td>\n",
       "      <td>NaN</td>\n",
       "      <td>NaN</td>\n",
       "      <td>NaN</td>\n",
       "      <td>NaN</td>\n",
       "      <td>NaN</td>\n",
       "      <td>1/31/2020 10:03</td>\n",
       "      <td>1/31/2020 10:04</td>\n",
       "      <td>6.92600</td>\n",
       "      <td>79.8681</td>\n",
       "      <td>6.92596</td>\n",
       "      <td>79.8679</td>\n",
       "      <td>NaN</td>\n",
       "      <td>incorrect</td>\n",
       "    </tr>\n",
       "    <tr>\n",
       "      <th>17052</th>\n",
       "      <td>213538831</td>\n",
       "      <td>NaN</td>\n",
       "      <td>NaN</td>\n",
       "      <td>NaN</td>\n",
       "      <td>NaN</td>\n",
       "      <td>NaN</td>\n",
       "      <td>1/31/2020 11:53</td>\n",
       "      <td>1/31/2020 13:09</td>\n",
       "      <td>6.70807</td>\n",
       "      <td>79.9125</td>\n",
       "      <td>6.70815</td>\n",
       "      <td>79.9127</td>\n",
       "      <td>NaN</td>\n",
       "      <td>incorrect</td>\n",
       "    </tr>\n",
       "    <tr>\n",
       "      <th>17123</th>\n",
       "      <td>213674502</td>\n",
       "      <td>NaN</td>\n",
       "      <td>NaN</td>\n",
       "      <td>NaN</td>\n",
       "      <td>NaN</td>\n",
       "      <td>NaN</td>\n",
       "      <td>1/31/2020 16:46</td>\n",
       "      <td>1/31/2020 17:59</td>\n",
       "      <td>6.87969</td>\n",
       "      <td>79.8597</td>\n",
       "      <td>6.97458</td>\n",
       "      <td>79.9380</td>\n",
       "      <td>NaN</td>\n",
       "      <td>incorrect</td>\n",
       "    </tr>\n",
       "    <tr>\n",
       "      <th>17150</th>\n",
       "      <td>213758346</td>\n",
       "      <td>NaN</td>\n",
       "      <td>NaN</td>\n",
       "      <td>NaN</td>\n",
       "      <td>NaN</td>\n",
       "      <td>NaN</td>\n",
       "      <td>1/31/2020 19:42</td>\n",
       "      <td>1/31/2020 20:43</td>\n",
       "      <td>6.93046</td>\n",
       "      <td>79.8903</td>\n",
       "      <td>6.91713</td>\n",
       "      <td>79.8910</td>\n",
       "      <td>NaN</td>\n",
       "      <td>incorrect</td>\n",
       "    </tr>\n",
       "  </tbody>\n",
       "</table>\n",
       "<p>202 rows × 14 columns</p>\n",
       "</div>"
      ],
      "text/plain": [
       "          tripid  additional_fare  duration  meter_waiting  \\\n",
       "4      189128020              NaN       NaN            NaN   \n",
       "31     189164831              NaN       NaN            NaN   \n",
       "91     189231599              NaN       NaN            NaN   \n",
       "253    189393356              NaN       NaN            NaN   \n",
       "811    190066074              NaN       NaN            NaN   \n",
       "...          ...              ...       ...            ...   \n",
       "16994  213449192              NaN       NaN            NaN   \n",
       "17033  213510465              NaN       NaN            NaN   \n",
       "17052  213538831              NaN       NaN            NaN   \n",
       "17123  213674502              NaN       NaN            NaN   \n",
       "17150  213758346              NaN       NaN            NaN   \n",
       "\n",
       "       meter_waiting_fare  meter_waiting_till_pickup      pickup_time  \\\n",
       "4                     NaN                        NaN   11/1/2019 3:34   \n",
       "31                    NaN                        NaN   11/1/2019 9:17   \n",
       "91                    NaN                        NaN  11/1/2019 14:48   \n",
       "253                   NaN                        NaN  11/2/2019 13:29   \n",
       "811                   NaN                        NaN  11/5/2019 16:49   \n",
       "...                   ...                        ...              ...   \n",
       "16994                 NaN                        NaN  1/30/2020 22:52   \n",
       "17033                 NaN                        NaN  1/31/2020 10:03   \n",
       "17052                 NaN                        NaN  1/31/2020 11:53   \n",
       "17123                 NaN                        NaN  1/31/2020 16:46   \n",
       "17150                 NaN                        NaN  1/31/2020 19:42   \n",
       "\n",
       "             drop_time  pick_lat  pick_lon  drop_lat  drop_lon    fare  \\\n",
       "4       11/1/2019 3:51   6.87441   79.8615   6.84478   79.9290  358.39   \n",
       "31      11/1/2019 9:25   7.27586   80.6136   7.28810   80.6319     NaN   \n",
       "91     11/1/2019 15:03   7.04783   79.8973   7.05307   79.9188  196.50   \n",
       "253    11/2/2019 13:55   7.21158   79.8401   7.20136   79.8455  188.71   \n",
       "811    11/5/2019 17:01   7.48201   80.3580   7.50463   80.3510     NaN   \n",
       "...                ...       ...       ...       ...       ...     ...   \n",
       "16994  1/30/2020 23:05   6.88183   79.8577   6.84729   79.8734     NaN   \n",
       "17033  1/31/2020 10:04   6.92600   79.8681   6.92596   79.8679     NaN   \n",
       "17052  1/31/2020 13:09   6.70807   79.9125   6.70815   79.9127     NaN   \n",
       "17123  1/31/2020 17:59   6.87969   79.8597   6.97458   79.9380     NaN   \n",
       "17150  1/31/2020 20:43   6.93046   79.8903   6.91713   79.8910     NaN   \n",
       "\n",
       "           label  \n",
       "4        correct  \n",
       "31     incorrect  \n",
       "91     incorrect  \n",
       "253    incorrect  \n",
       "811    incorrect  \n",
       "...          ...  \n",
       "16994  incorrect  \n",
       "17033  incorrect  \n",
       "17052  incorrect  \n",
       "17123  incorrect  \n",
       "17150  incorrect  \n",
       "\n",
       "[202 rows x 14 columns]"
      ]
     },
     "execution_count": 18,
     "metadata": {},
     "output_type": "execute_result"
    }
   ],
   "source": [
    "train[( train['meter_waiting'].isnull() & train['meter_waiting_fare'].isnull() \n",
    "         & train['additional_fare'].isnull() & train['duration'].isnull() & train['meter_waiting_till_pickup'].isnull() )]"
   ]
  },
  {
   "cell_type": "code",
   "execution_count": 19,
   "metadata": {},
   "outputs": [],
   "source": [
    "train = train.drop(train[( train['meter_waiting'].isnull() & train['meter_waiting_fare'].isnull() \n",
    "         & train['additional_fare'].isnull() & train['duration'].isnull() & train['meter_waiting_till_pickup'].isnull() )].index, axis = 0).reset_index(drop=True)"
   ]
  },
  {
   "cell_type": "code",
   "execution_count": 20,
   "metadata": {},
   "outputs": [
    {
     "data": {
      "text/html": [
       "<div>\n",
       "<style scoped>\n",
       "    .dataframe tbody tr th:only-of-type {\n",
       "        vertical-align: middle;\n",
       "    }\n",
       "\n",
       "    .dataframe tbody tr th {\n",
       "        vertical-align: top;\n",
       "    }\n",
       "\n",
       "    .dataframe thead th {\n",
       "        text-align: right;\n",
       "    }\n",
       "</style>\n",
       "<table border=\"1\" class=\"dataframe\">\n",
       "  <thead>\n",
       "    <tr style=\"text-align: right;\">\n",
       "      <th></th>\n",
       "      <th>tripid</th>\n",
       "      <th>additional_fare</th>\n",
       "      <th>duration</th>\n",
       "      <th>meter_waiting</th>\n",
       "      <th>meter_waiting_fare</th>\n",
       "      <th>meter_waiting_till_pickup</th>\n",
       "      <th>pickup_time</th>\n",
       "      <th>drop_time</th>\n",
       "      <th>pick_lat</th>\n",
       "      <th>pick_lon</th>\n",
       "      <th>drop_lat</th>\n",
       "      <th>drop_lon</th>\n",
       "      <th>fare</th>\n",
       "      <th>label</th>\n",
       "    </tr>\n",
       "  </thead>\n",
       "  <tbody>\n",
       "    <tr>\n",
       "      <th>19</th>\n",
       "      <td>189157607</td>\n",
       "      <td>10.5</td>\n",
       "      <td>2956.0</td>\n",
       "      <td>1686.0</td>\n",
       "      <td>97.450800</td>\n",
       "      <td>29.0</td>\n",
       "      <td>11/1/2019 8:40</td>\n",
       "      <td>11/1/2019 9:21</td>\n",
       "      <td>6.92109</td>\n",
       "      <td>79.8547</td>\n",
       "      <td>6.94120</td>\n",
       "      <td>79.8588</td>\n",
       "      <td>NaN</td>\n",
       "      <td>incorrect</td>\n",
       "    </tr>\n",
       "    <tr>\n",
       "      <th>29</th>\n",
       "      <td>189164806</td>\n",
       "      <td>10.5</td>\n",
       "      <td>3549.0</td>\n",
       "      <td>2689.0</td>\n",
       "      <td>146.985400</td>\n",
       "      <td>69.0</td>\n",
       "      <td>11/1/2019 9:16</td>\n",
       "      <td>11/1/2019 9:29</td>\n",
       "      <td>6.91657</td>\n",
       "      <td>79.8593</td>\n",
       "      <td>6.89258</td>\n",
       "      <td>79.8554</td>\n",
       "      <td>NaN</td>\n",
       "      <td>incorrect</td>\n",
       "    </tr>\n",
       "    <tr>\n",
       "      <th>1909</th>\n",
       "      <td>191263471</td>\n",
       "      <td>5.0</td>\n",
       "      <td>39.0</td>\n",
       "      <td>19.0</td>\n",
       "      <td>1.107700</td>\n",
       "      <td>0.0</td>\n",
       "      <td>11/11/2019 11:00</td>\n",
       "      <td>11/11/2019 11:09</td>\n",
       "      <td>6.93940</td>\n",
       "      <td>79.8756</td>\n",
       "      <td>6.93693</td>\n",
       "      <td>79.8641</td>\n",
       "      <td>NaN</td>\n",
       "      <td>incorrect</td>\n",
       "    </tr>\n",
       "    <tr>\n",
       "      <th>2678</th>\n",
       "      <td>192182656</td>\n",
       "      <td>5.0</td>\n",
       "      <td>23.0</td>\n",
       "      <td>23.0</td>\n",
       "      <td>1.340900</td>\n",
       "      <td>0.0</td>\n",
       "      <td>11/15/2019 14:31</td>\n",
       "      <td>11/15/2019 14:35</td>\n",
       "      <td>6.87287</td>\n",
       "      <td>79.8908</td>\n",
       "      <td>6.87959</td>\n",
       "      <td>79.8911</td>\n",
       "      <td>NaN</td>\n",
       "      <td>incorrect</td>\n",
       "    </tr>\n",
       "    <tr>\n",
       "      <th>11798</th>\n",
       "      <td>206984071</td>\n",
       "      <td>10.5</td>\n",
       "      <td>1585.0</td>\n",
       "      <td>833.0</td>\n",
       "      <td>48.147400</td>\n",
       "      <td>169.0</td>\n",
       "      <td>1/4/2020 15:05</td>\n",
       "      <td>1/4/2020 15:18</td>\n",
       "      <td>6.91742</td>\n",
       "      <td>79.8550</td>\n",
       "      <td>6.93338</td>\n",
       "      <td>79.8548</td>\n",
       "      <td>NaN</td>\n",
       "      <td>incorrect</td>\n",
       "    </tr>\n",
       "    <tr>\n",
       "      <th>13385</th>\n",
       "      <td>209203396</td>\n",
       "      <td>10.5</td>\n",
       "      <td>2423.0</td>\n",
       "      <td>1905.0</td>\n",
       "      <td>110.162896</td>\n",
       "      <td>23.0</td>\n",
       "      <td>1/13/2020 13:03</td>\n",
       "      <td>1/13/2020 13:15</td>\n",
       "      <td>6.91742</td>\n",
       "      <td>79.8550</td>\n",
       "      <td>6.92723</td>\n",
       "      <td>79.8452</td>\n",
       "      <td>NaN</td>\n",
       "      <td>incorrect</td>\n",
       "    </tr>\n",
       "  </tbody>\n",
       "</table>\n",
       "</div>"
      ],
      "text/plain": [
       "          tripid  additional_fare  duration  meter_waiting  \\\n",
       "19     189157607             10.5    2956.0         1686.0   \n",
       "29     189164806             10.5    3549.0         2689.0   \n",
       "1909   191263471              5.0      39.0           19.0   \n",
       "2678   192182656              5.0      23.0           23.0   \n",
       "11798  206984071             10.5    1585.0          833.0   \n",
       "13385  209203396             10.5    2423.0         1905.0   \n",
       "\n",
       "       meter_waiting_fare  meter_waiting_till_pickup       pickup_time  \\\n",
       "19              97.450800                       29.0    11/1/2019 8:40   \n",
       "29             146.985400                       69.0    11/1/2019 9:16   \n",
       "1909             1.107700                        0.0  11/11/2019 11:00   \n",
       "2678             1.340900                        0.0  11/15/2019 14:31   \n",
       "11798           48.147400                      169.0    1/4/2020 15:05   \n",
       "13385          110.162896                       23.0   1/13/2020 13:03   \n",
       "\n",
       "              drop_time  pick_lat  pick_lon  drop_lat  drop_lon  fare  \\\n",
       "19       11/1/2019 9:21   6.92109   79.8547   6.94120   79.8588   NaN   \n",
       "29       11/1/2019 9:29   6.91657   79.8593   6.89258   79.8554   NaN   \n",
       "1909   11/11/2019 11:09   6.93940   79.8756   6.93693   79.8641   NaN   \n",
       "2678   11/15/2019 14:35   6.87287   79.8908   6.87959   79.8911   NaN   \n",
       "11798    1/4/2020 15:18   6.91742   79.8550   6.93338   79.8548   NaN   \n",
       "13385   1/13/2020 13:15   6.91742   79.8550   6.92723   79.8452   NaN   \n",
       "\n",
       "           label  \n",
       "19     incorrect  \n",
       "29     incorrect  \n",
       "1909   incorrect  \n",
       "2678   incorrect  \n",
       "11798  incorrect  \n",
       "13385  incorrect  "
      ]
     },
     "execution_count": 20,
     "metadata": {},
     "output_type": "execute_result"
    }
   ],
   "source": [
    "train[( train['meter_waiting'].isnull() | train['fare'].isnull() )]"
   ]
  },
  {
   "cell_type": "code",
   "execution_count": 21,
   "metadata": {},
   "outputs": [
    {
     "data": {
      "text/html": [
       "<div>\n",
       "<style scoped>\n",
       "    .dataframe tbody tr th:only-of-type {\n",
       "        vertical-align: middle;\n",
       "    }\n",
       "\n",
       "    .dataframe tbody tr th {\n",
       "        vertical-align: top;\n",
       "    }\n",
       "\n",
       "    .dataframe thead th {\n",
       "        text-align: right;\n",
       "    }\n",
       "</style>\n",
       "<table border=\"1\" class=\"dataframe\">\n",
       "  <thead>\n",
       "    <tr style=\"text-align: right;\">\n",
       "      <th></th>\n",
       "      <th>tripid</th>\n",
       "      <th>additional_fare</th>\n",
       "      <th>duration</th>\n",
       "      <th>meter_waiting</th>\n",
       "      <th>meter_waiting_fare</th>\n",
       "      <th>meter_waiting_till_pickup</th>\n",
       "      <th>pickup_time</th>\n",
       "      <th>drop_time</th>\n",
       "      <th>pick_lat</th>\n",
       "      <th>pick_lon</th>\n",
       "      <th>drop_lat</th>\n",
       "      <th>drop_lon</th>\n",
       "      <th>fare</th>\n",
       "      <th>label</th>\n",
       "    </tr>\n",
       "  </thead>\n",
       "  <tbody>\n",
       "    <tr>\n",
       "      <th>19</th>\n",
       "      <td>189157607</td>\n",
       "      <td>10.5</td>\n",
       "      <td>2956.0</td>\n",
       "      <td>1686.0</td>\n",
       "      <td>97.450800</td>\n",
       "      <td>29.0</td>\n",
       "      <td>11/1/2019 8:40</td>\n",
       "      <td>11/1/2019 9:21</td>\n",
       "      <td>6.92109</td>\n",
       "      <td>79.8547</td>\n",
       "      <td>6.94120</td>\n",
       "      <td>79.8588</td>\n",
       "      <td>NaN</td>\n",
       "      <td>incorrect</td>\n",
       "    </tr>\n",
       "    <tr>\n",
       "      <th>29</th>\n",
       "      <td>189164806</td>\n",
       "      <td>10.5</td>\n",
       "      <td>3549.0</td>\n",
       "      <td>2689.0</td>\n",
       "      <td>146.985400</td>\n",
       "      <td>69.0</td>\n",
       "      <td>11/1/2019 9:16</td>\n",
       "      <td>11/1/2019 9:29</td>\n",
       "      <td>6.91657</td>\n",
       "      <td>79.8593</td>\n",
       "      <td>6.89258</td>\n",
       "      <td>79.8554</td>\n",
       "      <td>NaN</td>\n",
       "      <td>incorrect</td>\n",
       "    </tr>\n",
       "    <tr>\n",
       "      <th>1909</th>\n",
       "      <td>191263471</td>\n",
       "      <td>5.0</td>\n",
       "      <td>39.0</td>\n",
       "      <td>19.0</td>\n",
       "      <td>1.107700</td>\n",
       "      <td>0.0</td>\n",
       "      <td>11/11/2019 11:00</td>\n",
       "      <td>11/11/2019 11:09</td>\n",
       "      <td>6.93940</td>\n",
       "      <td>79.8756</td>\n",
       "      <td>6.93693</td>\n",
       "      <td>79.8641</td>\n",
       "      <td>NaN</td>\n",
       "      <td>incorrect</td>\n",
       "    </tr>\n",
       "    <tr>\n",
       "      <th>2678</th>\n",
       "      <td>192182656</td>\n",
       "      <td>5.0</td>\n",
       "      <td>23.0</td>\n",
       "      <td>23.0</td>\n",
       "      <td>1.340900</td>\n",
       "      <td>0.0</td>\n",
       "      <td>11/15/2019 14:31</td>\n",
       "      <td>11/15/2019 14:35</td>\n",
       "      <td>6.87287</td>\n",
       "      <td>79.8908</td>\n",
       "      <td>6.87959</td>\n",
       "      <td>79.8911</td>\n",
       "      <td>NaN</td>\n",
       "      <td>incorrect</td>\n",
       "    </tr>\n",
       "    <tr>\n",
       "      <th>11798</th>\n",
       "      <td>206984071</td>\n",
       "      <td>10.5</td>\n",
       "      <td>1585.0</td>\n",
       "      <td>833.0</td>\n",
       "      <td>48.147400</td>\n",
       "      <td>169.0</td>\n",
       "      <td>1/4/2020 15:05</td>\n",
       "      <td>1/4/2020 15:18</td>\n",
       "      <td>6.91742</td>\n",
       "      <td>79.8550</td>\n",
       "      <td>6.93338</td>\n",
       "      <td>79.8548</td>\n",
       "      <td>NaN</td>\n",
       "      <td>incorrect</td>\n",
       "    </tr>\n",
       "    <tr>\n",
       "      <th>13385</th>\n",
       "      <td>209203396</td>\n",
       "      <td>10.5</td>\n",
       "      <td>2423.0</td>\n",
       "      <td>1905.0</td>\n",
       "      <td>110.162896</td>\n",
       "      <td>23.0</td>\n",
       "      <td>1/13/2020 13:03</td>\n",
       "      <td>1/13/2020 13:15</td>\n",
       "      <td>6.91742</td>\n",
       "      <td>79.8550</td>\n",
       "      <td>6.92723</td>\n",
       "      <td>79.8452</td>\n",
       "      <td>NaN</td>\n",
       "      <td>incorrect</td>\n",
       "    </tr>\n",
       "  </tbody>\n",
       "</table>\n",
       "</div>"
      ],
      "text/plain": [
       "          tripid  additional_fare  duration  meter_waiting  \\\n",
       "19     189157607             10.5    2956.0         1686.0   \n",
       "29     189164806             10.5    3549.0         2689.0   \n",
       "1909   191263471              5.0      39.0           19.0   \n",
       "2678   192182656              5.0      23.0           23.0   \n",
       "11798  206984071             10.5    1585.0          833.0   \n",
       "13385  209203396             10.5    2423.0         1905.0   \n",
       "\n",
       "       meter_waiting_fare  meter_waiting_till_pickup       pickup_time  \\\n",
       "19              97.450800                       29.0    11/1/2019 8:40   \n",
       "29             146.985400                       69.0    11/1/2019 9:16   \n",
       "1909             1.107700                        0.0  11/11/2019 11:00   \n",
       "2678             1.340900                        0.0  11/15/2019 14:31   \n",
       "11798           48.147400                      169.0    1/4/2020 15:05   \n",
       "13385          110.162896                       23.0   1/13/2020 13:03   \n",
       "\n",
       "              drop_time  pick_lat  pick_lon  drop_lat  drop_lon  fare  \\\n",
       "19       11/1/2019 9:21   6.92109   79.8547   6.94120   79.8588   NaN   \n",
       "29       11/1/2019 9:29   6.91657   79.8593   6.89258   79.8554   NaN   \n",
       "1909   11/11/2019 11:09   6.93940   79.8756   6.93693   79.8641   NaN   \n",
       "2678   11/15/2019 14:35   6.87287   79.8908   6.87959   79.8911   NaN   \n",
       "11798    1/4/2020 15:18   6.91742   79.8550   6.93338   79.8548   NaN   \n",
       "13385   1/13/2020 13:15   6.91742   79.8550   6.92723   79.8452   NaN   \n",
       "\n",
       "           label  \n",
       "19     incorrect  \n",
       "29     incorrect  \n",
       "1909   incorrect  \n",
       "2678   incorrect  \n",
       "11798  incorrect  \n",
       "13385  incorrect  "
      ]
     },
     "execution_count": 21,
     "metadata": {},
     "output_type": "execute_result"
    }
   ],
   "source": [
    "train[( train['fare'].isnull() )]"
   ]
  },
  {
   "cell_type": "code",
   "execution_count": 22,
   "metadata": {},
   "outputs": [],
   "source": [
    "train= train.drop(train[( train['fare'].isnull() )].index, axis = 0).reset_index(drop=True)"
   ]
  },
  {
   "cell_type": "code",
   "execution_count": 23,
   "metadata": {},
   "outputs": [
    {
     "data": {
      "text/plain": [
       "tripid                       0\n",
       "additional_fare              0\n",
       "duration                     0\n",
       "meter_waiting                0\n",
       "meter_waiting_fare           0\n",
       "meter_waiting_till_pickup    0\n",
       "pickup_time                  0\n",
       "drop_time                    0\n",
       "pick_lat                     0\n",
       "pick_lon                     0\n",
       "drop_lat                     0\n",
       "drop_lon                     0\n",
       "fare                         0\n",
       "label                        0\n",
       "dtype: int64"
      ]
     },
     "execution_count": 23,
     "metadata": {},
     "output_type": "execute_result"
    }
   ],
   "source": [
    "train.isnull().sum()"
   ]
  },
  {
   "cell_type": "code",
   "execution_count": 24,
   "metadata": {},
   "outputs": [
    {
     "data": {
      "text/plain": [
       "correct      15442\n",
       "incorrect     1526\n",
       "Name: label, dtype: int64"
      ]
     },
     "execution_count": 24,
     "metadata": {},
     "output_type": "execute_result"
    }
   ],
   "source": [
    "train['label'].value_counts()"
   ]
  },
  {
   "cell_type": "markdown",
   "metadata": {},
   "source": [
    "# Removing outliers"
   ]
  },
  {
   "cell_type": "markdown",
   "metadata": {},
   "source": [
    "****Fare****"
   ]
  },
  {
   "cell_type": "code",
   "execution_count": 25,
   "metadata": {},
   "outputs": [
    {
     "data": {
      "image/png": "[encoded data removed]",
      "text/plain": [
       "<Figure size 432x216 with 2 Axes>"
      ]
     },
     "metadata": {},
     "output_type": "display_data"
    }
   ],
   "source": [
    "g = sns.FacetGrid(train, col='label')\n",
    "g = g.map(sns.distplot, \"fare\")"
   ]
  },
  {
   "cell_type": "code",
   "execution_count": 26,
   "metadata": {},
   "outputs": [
    {
     "data": {
      "image/png": "[encoded data removed]",
      "text/plain": [
       "<Figure size 720x720 with 1 Axes>"
      ]
     },
     "metadata": {},
     "output_type": "display_data"
    }
   ],
   "source": [
    "plt.figure(figsize=[10,10])\n",
    "sns.kdeplot(train['fare'], shade=True);"
   ]
  },
  {
   "cell_type": "code",
   "execution_count": 27,
   "metadata": {},
   "outputs": [
    {
     "data": {
      "image/png": "[encoded data removed]",
      "text/plain": [
       "<Figure size 432x288 with 1 Axes>"
      ]
     },
     "metadata": {},
     "output_type": "display_data"
    }
   ],
   "source": [
    "g = sns.kdeplot(train[\"fare\"][(train[\"label\"] == \"correct\") & (train[\"fare\"].notnull())], color=\"Red\", shade = True)\n",
    "g = sns.kdeplot(train[\"fare\"][(train[\"label\"] == \"incorrect\") & (train[\"fare\"].notnull())], ax =g, color=\"Blue\", shade= True)\n",
    "g.set_xlabel(\"fare\")\n",
    "g.set_ylabel(\"Frequency\")\n",
    "g = g.legend([\"correct\",\"incorrect\"])\n"
   ]
  },
  {
   "cell_type": "code",
   "execution_count": 28,
   "metadata": {},
   "outputs": [
    {
     "data": {
      "text/plain": [
       "Text(0.5, 1.0, 'Avg Fare Amount over label')"
      ]
     },
     "execution_count": 28,
     "metadata": {},
     "output_type": "execute_result"
    },
    {
     "data": {
      "image/png": "[encoded data removed]",
      "text/plain": [
       "<Figure size 432x288 with 1 Axes>"
      ]
     },
     "metadata": {},
     "output_type": "display_data"
    }
   ],
   "source": [
    "trips_year_fareamount=train.groupby(['label'])['fare'].mean().reset_index().rename(columns={'fare':'avg_fare_amount'})\n",
    "sns.barplot(x='label',y='avg_fare_amount',data=trips_year_fareamount).set_title(\"Avg Fare Amount over label\")"
   ]
  },
  {
   "cell_type": "code",
   "execution_count": 29,
   "metadata": {},
   "outputs": [
    {
     "data": {
      "text/plain": [
       "<matplotlib.axes._subplots.AxesSubplot at 0x7f48d77c7f90>"
      ]
     },
     "execution_count": 29,
     "metadata": {},
     "output_type": "execute_result"
    },
    {
     "data": {
      "image/png": "[encoded data removed]",
      "text/plain": [
       "<Figure size 432x288 with 1 Axes>"
      ]
     },
     "metadata": {},
     "output_type": "display_data"
    }
   ],
   "source": [
    "sns.scatterplot(x=\"duration\", y=\"fare\", data=train)"
   ]
  },
  {
   "cell_type": "markdown",
   "metadata": {},
   "source": [
    "two clear outliers"
   ]
  },
  {
   "cell_type": "code",
   "execution_count": 30,
   "metadata": {},
   "outputs": [
    {
     "data": {
      "text/html": [
       "<div>\n",
       "<style scoped>\n",
       "    .dataframe tbody tr th:only-of-type {\n",
       "        vertical-align: middle;\n",
       "    }\n",
       "\n",
       "    .dataframe tbody tr th {\n",
       "        vertical-align: top;\n",
       "    }\n",
       "\n",
       "    .dataframe thead th {\n",
       "        text-align: right;\n",
       "    }\n",
       "</style>\n",
       "<table border=\"1\" class=\"dataframe\">\n",
       "  <thead>\n",
       "    <tr style=\"text-align: right;\">\n",
       "      <th></th>\n",
       "      <th>tripid</th>\n",
       "      <th>additional_fare</th>\n",
       "      <th>duration</th>\n",
       "      <th>meter_waiting</th>\n",
       "      <th>meter_waiting_fare</th>\n",
       "      <th>meter_waiting_till_pickup</th>\n",
       "      <th>pickup_time</th>\n",
       "      <th>drop_time</th>\n",
       "      <th>pick_lat</th>\n",
       "      <th>pick_lon</th>\n",
       "      <th>drop_lat</th>\n",
       "      <th>drop_lon</th>\n",
       "      <th>fare</th>\n",
       "      <th>label</th>\n",
       "    </tr>\n",
       "  </thead>\n",
       "  <tbody>\n",
       "    <tr>\n",
       "      <th>8128</th>\n",
       "      <td>200943864</td>\n",
       "      <td>10.50</td>\n",
       "      <td>91344.0</td>\n",
       "      <td>90026.0</td>\n",
       "      <td>3810.2338</td>\n",
       "      <td>121.0</td>\n",
       "      <td>12/15/2019 14:43</td>\n",
       "      <td>12/16/2019 16:05</td>\n",
       "      <td>6.93729</td>\n",
       "      <td>79.8851</td>\n",
       "      <td>6.94394</td>\n",
       "      <td>79.8980</td>\n",
       "      <td>17499.49</td>\n",
       "      <td>incorrect</td>\n",
       "    </tr>\n",
       "    <tr>\n",
       "      <th>13875</th>\n",
       "      <td>209365576</td>\n",
       "      <td>12795.03</td>\n",
       "      <td>40.0</td>\n",
       "      <td>210164.0</td>\n",
       "      <td>12252.5612</td>\n",
       "      <td>182.0</td>\n",
       "      <td>1/16/2020 5:29</td>\n",
       "      <td>1/16/2020 5:29</td>\n",
       "      <td>7.15515</td>\n",
       "      <td>79.8718</td>\n",
       "      <td>7.15537</td>\n",
       "      <td>79.8799</td>\n",
       "      <td>25097.59</td>\n",
       "      <td>incorrect</td>\n",
       "    </tr>\n",
       "  </tbody>\n",
       "</table>\n",
       "</div>"
      ],
      "text/plain": [
       "          tripid  additional_fare  duration  meter_waiting  \\\n",
       "8128   200943864            10.50   91344.0        90026.0   \n",
       "13875  209365576         12795.03      40.0       210164.0   \n",
       "\n",
       "       meter_waiting_fare  meter_waiting_till_pickup       pickup_time  \\\n",
       "8128            3810.2338                      121.0  12/15/2019 14:43   \n",
       "13875          12252.5612                      182.0    1/16/2020 5:29   \n",
       "\n",
       "              drop_time  pick_lat  pick_lon  drop_lat  drop_lon      fare  \\\n",
       "8128   12/16/2019 16:05   6.93729   79.8851   6.94394   79.8980  17499.49   \n",
       "13875    1/16/2020 5:29   7.15515   79.8718   7.15537   79.8799  25097.59   \n",
       "\n",
       "           label  \n",
       "8128   incorrect  \n",
       "13875  incorrect  "
      ]
     },
     "execution_count": 30,
     "metadata": {},
     "output_type": "execute_result"
    }
   ],
   "source": [
    "train[(train['fare']>15000) & (train['duration']<110000)]"
   ]
  },
  {
   "cell_type": "markdown",
   "metadata": {},
   "source": [
    "these two in train set"
   ]
  },
  {
   "cell_type": "code",
   "execution_count": 31,
   "metadata": {},
   "outputs": [],
   "source": [
    "train = train.drop(train[(train['fare']>15000) & (train['duration']<110000)].index, axis = 0).reset_index(drop=True)"
   ]
  },
  {
   "cell_type": "code",
   "execution_count": 32,
   "metadata": {},
   "outputs": [
    {
     "data": {
      "text/plain": [
       "<matplotlib.axes._subplots.AxesSubplot at 0x7f48d778a790>"
      ]
     },
     "execution_count": 32,
     "metadata": {},
     "output_type": "execute_result"
    },
    {
     "data": {
      "image/png": "[encoded data removed]",
      "text/plain": [
       "<Figure size 432x288 with 1 Axes>"
      ]
     },
     "metadata": {},
     "output_type": "display_data"
    }
   ],
   "source": [
    "sns.scatterplot(x=\"duration\", y=\"fare\", data=train)"
   ]
  },
  {
   "cell_type": "code",
   "execution_count": 33,
   "metadata": {},
   "outputs": [
    {
     "data": {
      "text/html": [
       "<div>\n",
       "<style scoped>\n",
       "    .dataframe tbody tr th:only-of-type {\n",
       "        vertical-align: middle;\n",
       "    }\n",
       "\n",
       "    .dataframe tbody tr th {\n",
       "        vertical-align: top;\n",
       "    }\n",
       "\n",
       "    .dataframe thead th {\n",
       "        text-align: right;\n",
       "    }\n",
       "</style>\n",
       "<table border=\"1\" class=\"dataframe\">\n",
       "  <thead>\n",
       "    <tr style=\"text-align: right;\">\n",
       "      <th></th>\n",
       "      <th>tripid</th>\n",
       "      <th>additional_fare</th>\n",
       "      <th>duration</th>\n",
       "      <th>meter_waiting</th>\n",
       "      <th>meter_waiting_fare</th>\n",
       "      <th>meter_waiting_till_pickup</th>\n",
       "      <th>pickup_time</th>\n",
       "      <th>drop_time</th>\n",
       "      <th>pick_lat</th>\n",
       "      <th>pick_lon</th>\n",
       "      <th>drop_lat</th>\n",
       "      <th>drop_lon</th>\n",
       "      <th>fare</th>\n",
       "      <th>label</th>\n",
       "    </tr>\n",
       "  </thead>\n",
       "  <tbody>\n",
       "    <tr>\n",
       "      <th>11691</th>\n",
       "      <td>206896653</td>\n",
       "      <td>10.5</td>\n",
       "      <td>217.0</td>\n",
       "      <td>54.0</td>\n",
       "      <td>0.0</td>\n",
       "      <td>40.0</td>\n",
       "      <td>1/4/2020 3:09</td>\n",
       "      <td>1/4/2020 3:13</td>\n",
       "      <td>6.91788</td>\n",
       "      <td>79.8485</td>\n",
       "      <td>6.92163</td>\n",
       "      <td>79.8478</td>\n",
       "      <td>6185.32</td>\n",
       "      <td>incorrect</td>\n",
       "    </tr>\n",
       "  </tbody>\n",
       "</table>\n",
       "</div>"
      ],
      "text/plain": [
       "          tripid  additional_fare  duration  meter_waiting  \\\n",
       "11691  206896653             10.5     217.0           54.0   \n",
       "\n",
       "       meter_waiting_fare  meter_waiting_till_pickup    pickup_time  \\\n",
       "11691                 0.0                       40.0  1/4/2020 3:09   \n",
       "\n",
       "           drop_time  pick_lat  pick_lon  drop_lat  drop_lon     fare  \\\n",
       "11691  1/4/2020 3:13   6.91788   79.8485   6.92163   79.8478  6185.32   \n",
       "\n",
       "           label  \n",
       "11691  incorrect  "
      ]
     },
     "execution_count": 33,
     "metadata": {},
     "output_type": "execute_result"
    }
   ],
   "source": [
    "train[(train['fare']>5000) & (train['duration']<1000)]"
   ]
  },
  {
   "cell_type": "markdown",
   "metadata": {},
   "source": [
    "remove or not ?"
   ]
  },
  {
   "cell_type": "code",
   "execution_count": 34,
   "metadata": {},
   "outputs": [
    {
     "data": {
      "text/plain": [
       "<matplotlib.axes._subplots.AxesSubplot at 0x7f48d0e5e590>"
      ]
     },
     "execution_count": 34,
     "metadata": {},
     "output_type": "execute_result"
    },
    {
     "data": {
      "image/png": "[encoded data removed]",
      "text/plain": [
       "<Figure size 432x288 with 1 Axes>"
      ]
     },
     "metadata": {},
     "output_type": "display_data"
    }
   ],
   "source": [
    "sns.scatterplot(x=\"meter_waiting\", y=\"fare\", hue=\"label\",data=train)"
   ]
  },
  {
   "cell_type": "markdown",
   "metadata": {},
   "source": [
    "two outlier (it may remove from above)"
   ]
  },
  {
   "cell_type": "code",
   "execution_count": 35,
   "metadata": {},
   "outputs": [
    {
     "data": {
      "text/plain": [
       "<matplotlib.axes._subplots.AxesSubplot at 0x7f48d0e5ea50>"
      ]
     },
     "execution_count": 35,
     "metadata": {},
     "output_type": "execute_result"
    },
    {
     "data": {
      "image/png": "[encoded data removed]",
      "text/plain": [
       "<Figure size 432x288 with 1 Axes>"
      ]
     },
     "metadata": {},
     "output_type": "display_data"
    }
   ],
   "source": [
    "sns.scatterplot(x=\"meter_waiting_fare\", y=\"fare\", hue=\"label\",data=train)"
   ]
  },
  {
   "cell_type": "code",
   "execution_count": 36,
   "metadata": {},
   "outputs": [
    {
     "data": {
      "text/html": [
       "<div>\n",
       "<style scoped>\n",
       "    .dataframe tbody tr th:only-of-type {\n",
       "        vertical-align: middle;\n",
       "    }\n",
       "\n",
       "    .dataframe tbody tr th {\n",
       "        vertical-align: top;\n",
       "    }\n",
       "\n",
       "    .dataframe thead th {\n",
       "        text-align: right;\n",
       "    }\n",
       "</style>\n",
       "<table border=\"1\" class=\"dataframe\">\n",
       "  <thead>\n",
       "    <tr style=\"text-align: right;\">\n",
       "      <th></th>\n",
       "      <th>tripid</th>\n",
       "      <th>additional_fare</th>\n",
       "      <th>duration</th>\n",
       "      <th>meter_waiting</th>\n",
       "      <th>meter_waiting_fare</th>\n",
       "      <th>meter_waiting_till_pickup</th>\n",
       "      <th>pickup_time</th>\n",
       "      <th>drop_time</th>\n",
       "      <th>pick_lat</th>\n",
       "      <th>pick_lon</th>\n",
       "      <th>drop_lat</th>\n",
       "      <th>drop_lon</th>\n",
       "      <th>fare</th>\n",
       "      <th>label</th>\n",
       "    </tr>\n",
       "  </thead>\n",
       "  <tbody>\n",
       "  </tbody>\n",
       "</table>\n",
       "</div>"
      ],
      "text/plain": [
       "Empty DataFrame\n",
       "Columns: [tripid, additional_fare, duration, meter_waiting, meter_waiting_fare, meter_waiting_till_pickup, pickup_time, drop_time, pick_lat, pick_lon, drop_lat, drop_lon, fare, label]\n",
       "Index: []"
      ]
     },
     "execution_count": 36,
     "metadata": {},
     "output_type": "execute_result"
    }
   ],
   "source": [
    "train[(train['fare'] < train['meter_waiting_fare'])]"
   ]
  },
  {
   "cell_type": "code",
   "execution_count": 37,
   "metadata": {},
   "outputs": [
    {
     "data": {
      "text/plain": [
       "0"
      ]
     },
     "execution_count": 37,
     "metadata": {},
     "output_type": "execute_result"
    }
   ],
   "source": [
    "train['fare'].isnull().sum()"
   ]
  },
  {
   "cell_type": "code",
   "execution_count": 38,
   "metadata": {},
   "outputs": [
    {
     "data": {
      "text/plain": [
       "<matplotlib.axes._subplots.AxesSubplot at 0x7f48d0d61bd0>"
      ]
     },
     "execution_count": 38,
     "metadata": {},
     "output_type": "execute_result"
    },
    {
     "data": {
      "image/png": "[encoded data removed]",
      "text/plain": [
       "<Figure size 432x288 with 1 Axes>"
      ]
     },
     "metadata": {},
     "output_type": "display_data"
    }
   ],
   "source": [
    "sns.scatterplot(x=\"additional_fare\", y=\"fare\", hue=\"label\",data=train)"
   ]
  },
  {
   "cell_type": "code",
   "execution_count": 39,
   "metadata": {},
   "outputs": [
    {
     "data": {
      "text/html": [
       "<div>\n",
       "<style scoped>\n",
       "    .dataframe tbody tr th:only-of-type {\n",
       "        vertical-align: middle;\n",
       "    }\n",
       "\n",
       "    .dataframe tbody tr th {\n",
       "        vertical-align: top;\n",
       "    }\n",
       "\n",
       "    .dataframe thead th {\n",
       "        text-align: right;\n",
       "    }\n",
       "</style>\n",
       "<table border=\"1\" class=\"dataframe\">\n",
       "  <thead>\n",
       "    <tr style=\"text-align: right;\">\n",
       "      <th></th>\n",
       "      <th>tripid</th>\n",
       "      <th>additional_fare</th>\n",
       "      <th>duration</th>\n",
       "      <th>meter_waiting</th>\n",
       "      <th>meter_waiting_fare</th>\n",
       "      <th>meter_waiting_till_pickup</th>\n",
       "      <th>pickup_time</th>\n",
       "      <th>drop_time</th>\n",
       "      <th>pick_lat</th>\n",
       "      <th>pick_lon</th>\n",
       "      <th>drop_lat</th>\n",
       "      <th>drop_lon</th>\n",
       "      <th>fare</th>\n",
       "      <th>label</th>\n",
       "    </tr>\n",
       "  </thead>\n",
       "  <tbody>\n",
       "    <tr>\n",
       "      <th>9945</th>\n",
       "      <td>203757140</td>\n",
       "      <td>110.5</td>\n",
       "      <td>521.0</td>\n",
       "      <td>80.0</td>\n",
       "      <td>4.653641</td>\n",
       "      <td>67.0</td>\n",
       "      <td>12/24/2019 17:07</td>\n",
       "      <td>12/24/2019 17:15</td>\n",
       "      <td>7.29295</td>\n",
       "      <td>80.637</td>\n",
       "      <td>7.28589</td>\n",
       "      <td>80.6319</td>\n",
       "      <td>77.51</td>\n",
       "      <td>correct</td>\n",
       "    </tr>\n",
       "  </tbody>\n",
       "</table>\n",
       "</div>"
      ],
      "text/plain": [
       "         tripid  additional_fare  duration  meter_waiting  meter_waiting_fare  \\\n",
       "9945  203757140            110.5     521.0           80.0            4.653641   \n",
       "\n",
       "      meter_waiting_till_pickup       pickup_time         drop_time  pick_lat  \\\n",
       "9945                       67.0  12/24/2019 17:07  12/24/2019 17:15   7.29295   \n",
       "\n",
       "      pick_lon  drop_lat  drop_lon   fare    label  \n",
       "9945    80.637   7.28589   80.6319  77.51  correct  "
      ]
     },
     "execution_count": 39,
     "metadata": {},
     "output_type": "execute_result"
    }
   ],
   "source": [
    "train[(train['fare'] < train['additional_fare'])]"
   ]
  },
  {
   "cell_type": "code",
   "execution_count": 40,
   "metadata": {},
   "outputs": [],
   "source": [
    "train = train.drop(train[(train['fare'] < train['additional_fare'])].index, axis = 0).reset_index(drop=True)"
   ]
  },
  {
   "cell_type": "code",
   "execution_count": 41,
   "metadata": {},
   "outputs": [
    {
     "data": {
      "text/html": [
       "<div>\n",
       "<style scoped>\n",
       "    .dataframe tbody tr th:only-of-type {\n",
       "        vertical-align: middle;\n",
       "    }\n",
       "\n",
       "    .dataframe tbody tr th {\n",
       "        vertical-align: top;\n",
       "    }\n",
       "\n",
       "    .dataframe thead th {\n",
       "        text-align: right;\n",
       "    }\n",
       "</style>\n",
       "<table border=\"1\" class=\"dataframe\">\n",
       "  <thead>\n",
       "    <tr style=\"text-align: right;\">\n",
       "      <th></th>\n",
       "      <th>tripid</th>\n",
       "      <th>additional_fare</th>\n",
       "      <th>duration</th>\n",
       "      <th>meter_waiting</th>\n",
       "      <th>meter_waiting_fare</th>\n",
       "      <th>meter_waiting_till_pickup</th>\n",
       "      <th>pickup_time</th>\n",
       "      <th>drop_time</th>\n",
       "      <th>pick_lat</th>\n",
       "      <th>pick_lon</th>\n",
       "      <th>drop_lat</th>\n",
       "      <th>drop_lon</th>\n",
       "      <th>fare</th>\n",
       "      <th>label</th>\n",
       "    </tr>\n",
       "  </thead>\n",
       "  <tbody>\n",
       "  </tbody>\n",
       "</table>\n",
       "</div>"
      ],
      "text/plain": [
       "Empty DataFrame\n",
       "Columns: [tripid, additional_fare, duration, meter_waiting, meter_waiting_fare, meter_waiting_till_pickup, pickup_time, drop_time, pick_lat, pick_lon, drop_lat, drop_lon, fare, label]\n",
       "Index: []"
      ]
     },
     "execution_count": 41,
     "metadata": {},
     "output_type": "execute_result"
    }
   ],
   "source": [
    "train[(train['fare'] < train['additional_fare'] + train['meter_waiting_fare'])]"
   ]
  },
  {
   "cell_type": "markdown",
   "metadata": {},
   "source": [
    "this is test set. meter_waiting is different"
   ]
  },
  {
   "cell_type": "markdown",
   "metadata": {},
   "source": [
    "**meter_waiting_fare**"
   ]
  },
  {
   "cell_type": "code",
   "execution_count": 42,
   "metadata": {},
   "outputs": [
    {
     "data": {
      "text/plain": [
       "<matplotlib.axes._subplots.AxesSubplot at 0x7f48d0dcd510>"
      ]
     },
     "execution_count": 42,
     "metadata": {},
     "output_type": "execute_result"
    },
    {
     "data": {
      "image/png": "[encoded data removed]",
      "text/plain": [
       "<Figure size 432x288 with 1 Axes>"
      ]
     },
     "metadata": {},
     "output_type": "display_data"
    }
   ],
   "source": [
    "sns.scatterplot(x=\"meter_waiting_fare\", y=\"meter_waiting\",data=train)"
   ]
  },
  {
   "cell_type": "markdown",
   "metadata": {},
   "source": [
    "fare per time"
   ]
  },
  {
   "cell_type": "code",
   "execution_count": 43,
   "metadata": {},
   "outputs": [
    {
     "data": {
      "text/html": [
       "<div>\n",
       "<style scoped>\n",
       "    .dataframe tbody tr th:only-of-type {\n",
       "        vertical-align: middle;\n",
       "    }\n",
       "\n",
       "    .dataframe tbody tr th {\n",
       "        vertical-align: top;\n",
       "    }\n",
       "\n",
       "    .dataframe thead th {\n",
       "        text-align: right;\n",
       "    }\n",
       "</style>\n",
       "<table border=\"1\" class=\"dataframe\">\n",
       "  <thead>\n",
       "    <tr style=\"text-align: right;\">\n",
       "      <th></th>\n",
       "      <th>meter_waiting</th>\n",
       "      <th>meter_waiting_fare</th>\n",
       "    </tr>\n",
       "  </thead>\n",
       "  <tbody>\n",
       "    <tr>\n",
       "      <th>0</th>\n",
       "      <td>56.0</td>\n",
       "      <td>0.0000</td>\n",
       "    </tr>\n",
       "    <tr>\n",
       "      <th>1</th>\n",
       "      <td>47.0</td>\n",
       "      <td>0.0000</td>\n",
       "    </tr>\n",
       "    <tr>\n",
       "      <th>2</th>\n",
       "      <td>80.0</td>\n",
       "      <td>0.0000</td>\n",
       "    </tr>\n",
       "    <tr>\n",
       "      <th>3</th>\n",
       "      <td>271.0</td>\n",
       "      <td>15.6638</td>\n",
       "    </tr>\n",
       "    <tr>\n",
       "      <th>4</th>\n",
       "      <td>182.0</td>\n",
       "      <td>0.0000</td>\n",
       "    </tr>\n",
       "    <tr>\n",
       "      <th>...</th>\n",
       "      <td>...</td>\n",
       "      <td>...</td>\n",
       "    </tr>\n",
       "    <tr>\n",
       "      <th>16960</th>\n",
       "      <td>93.0</td>\n",
       "      <td>5.4219</td>\n",
       "    </tr>\n",
       "    <tr>\n",
       "      <th>16961</th>\n",
       "      <td>428.0</td>\n",
       "      <td>0.0000</td>\n",
       "    </tr>\n",
       "    <tr>\n",
       "      <th>16962</th>\n",
       "      <td>9.0</td>\n",
       "      <td>0.0000</td>\n",
       "    </tr>\n",
       "    <tr>\n",
       "      <th>16963</th>\n",
       "      <td>115.0</td>\n",
       "      <td>0.0000</td>\n",
       "    </tr>\n",
       "    <tr>\n",
       "      <th>16964</th>\n",
       "      <td>21.0</td>\n",
       "      <td>1.2243</td>\n",
       "    </tr>\n",
       "  </tbody>\n",
       "</table>\n",
       "<p>16965 rows × 2 columns</p>\n",
       "</div>"
      ],
      "text/plain": [
       "       meter_waiting  meter_waiting_fare\n",
       "0               56.0              0.0000\n",
       "1               47.0              0.0000\n",
       "2               80.0              0.0000\n",
       "3              271.0             15.6638\n",
       "4              182.0              0.0000\n",
       "...              ...                 ...\n",
       "16960           93.0              5.4219\n",
       "16961          428.0              0.0000\n",
       "16962            9.0              0.0000\n",
       "16963          115.0              0.0000\n",
       "16964           21.0              1.2243\n",
       "\n",
       "[16965 rows x 2 columns]"
      ]
     },
     "execution_count": 43,
     "metadata": {},
     "output_type": "execute_result"
    }
   ],
   "source": [
    "train[[\"meter_waiting\",\"meter_waiting_fare\"]]"
   ]
  },
  {
   "cell_type": "code",
   "execution_count": 44,
   "metadata": {},
   "outputs": [
    {
     "data": {
      "text/plain": [
       "<matplotlib.axes._subplots.AxesSubplot at 0x7f48d0c87790>"
      ]
     },
     "execution_count": 44,
     "metadata": {},
     "output_type": "execute_result"
    },
    {
     "data": {
      "image/png": "[encoded data removed]",
      "text/plain": [
       "<Figure size 432x288 with 1 Axes>"
      ]
     },
     "metadata": {},
     "output_type": "display_data"
    }
   ],
   "source": [
    "sns.scatterplot(y=\"meter_waiting_fare\", x=\"duration\",data=train)"
   ]
  },
  {
   "cell_type": "code",
   "execution_count": 45,
   "metadata": {},
   "outputs": [
    {
     "data": {
      "text/html": [
       "<div>\n",
       "<style scoped>\n",
       "    .dataframe tbody tr th:only-of-type {\n",
       "        vertical-align: middle;\n",
       "    }\n",
       "\n",
       "    .dataframe tbody tr th {\n",
       "        vertical-align: top;\n",
       "    }\n",
       "\n",
       "    .dataframe thead th {\n",
       "        text-align: right;\n",
       "    }\n",
       "</style>\n",
       "<table border=\"1\" class=\"dataframe\">\n",
       "  <thead>\n",
       "    <tr style=\"text-align: right;\">\n",
       "      <th></th>\n",
       "      <th>tripid</th>\n",
       "      <th>additional_fare</th>\n",
       "      <th>duration</th>\n",
       "      <th>meter_waiting</th>\n",
       "      <th>meter_waiting_fare</th>\n",
       "      <th>meter_waiting_till_pickup</th>\n",
       "      <th>pickup_time</th>\n",
       "      <th>drop_time</th>\n",
       "      <th>pick_lat</th>\n",
       "      <th>pick_lon</th>\n",
       "      <th>drop_lat</th>\n",
       "      <th>drop_lon</th>\n",
       "      <th>fare</th>\n",
       "      <th>label</th>\n",
       "    </tr>\n",
       "  </thead>\n",
       "  <tbody>\n",
       "  </tbody>\n",
       "</table>\n",
       "</div>"
      ],
      "text/plain": [
       "Empty DataFrame\n",
       "Columns: [tripid, additional_fare, duration, meter_waiting, meter_waiting_fare, meter_waiting_till_pickup, pickup_time, drop_time, pick_lat, pick_lon, drop_lat, drop_lon, fare, label]\n",
       "Index: []"
      ]
     },
     "execution_count": 45,
     "metadata": {},
     "output_type": "execute_result"
    }
   ],
   "source": [
    "train[((train['duration'] < 100)   &  (train['meter_waiting_fare'] > 10000))]"
   ]
  },
  {
   "cell_type": "code",
   "execution_count": 46,
   "metadata": {},
   "outputs": [],
   "source": [
    "# dataset[\"fare\"] = dataset[\"fare\"].fillna(dataset[\"fare\"].median())\n",
    "# dataset[\"additional_fare\"] = dataset[\"additional_fare\"].fillna(dataset[\"additional_fare\"].median())\n",
    "# dataset[\"duration\"] = dataset[\"duration\"].fillna(dataset[\"duration\"].median())\n",
    "# dataset[\"meter_waiting\"] = dataset[\"meter_waiting\"].fillna(dataset[\"meter_waiting\"].median())\n",
    "# dataset[\"meter_waiting_fare\"] = dataset[\"meter_waiting\"].fillna(dataset[\"meter_waiting\"].median())\n",
    "# dataset[\"meter_waiting_till_pickup\"] = dataset[\"meter_waiting\"].fillna(dataset[\"meter_waiting\"].median())"
   ]
  },
  {
   "cell_type": "code",
   "execution_count": 47,
   "metadata": {},
   "outputs": [],
   "source": [
    "# dataset = dataset.fillna(np.nan)\n",
    "\n",
    "# # Check for Null values\n",
    "# dataset.isnull().sum()"
   ]
  },
  {
   "cell_type": "code",
   "execution_count": 48,
   "metadata": {},
   "outputs": [],
   "source": [
    "train_len = len(train)\n",
    "dataset =  pd.concat(objs=[train, test], axis=0).reset_index(drop=True)"
   ]
  },
  {
   "cell_type": "code",
   "execution_count": 49,
   "metadata": {},
   "outputs": [
    {
     "data": {
      "text/html": [
       "<div>\n",
       "<style scoped>\n",
       "    .dataframe tbody tr th:only-of-type {\n",
       "        vertical-align: middle;\n",
       "    }\n",
       "\n",
       "    .dataframe tbody tr th {\n",
       "        vertical-align: top;\n",
       "    }\n",
       "\n",
       "    .dataframe thead th {\n",
       "        text-align: right;\n",
       "    }\n",
       "</style>\n",
       "<table border=\"1\" class=\"dataframe\">\n",
       "  <thead>\n",
       "    <tr style=\"text-align: right;\">\n",
       "      <th></th>\n",
       "      <th>tripid</th>\n",
       "      <th>additional_fare</th>\n",
       "      <th>duration</th>\n",
       "      <th>meter_waiting</th>\n",
       "      <th>meter_waiting_fare</th>\n",
       "      <th>meter_waiting_till_pickup</th>\n",
       "      <th>pickup_time</th>\n",
       "      <th>drop_time</th>\n",
       "      <th>pick_lat</th>\n",
       "      <th>pick_lon</th>\n",
       "      <th>drop_lat</th>\n",
       "      <th>drop_lon</th>\n",
       "      <th>fare</th>\n",
       "      <th>label</th>\n",
       "    </tr>\n",
       "  </thead>\n",
       "  <tbody>\n",
       "    <tr>\n",
       "      <th>0</th>\n",
       "      <td>189123628</td>\n",
       "      <td>10.5</td>\n",
       "      <td>834.0</td>\n",
       "      <td>56.0</td>\n",
       "      <td>0.0000</td>\n",
       "      <td>64.0</td>\n",
       "      <td>11/1/2019 0:20</td>\n",
       "      <td>11/1/2019 0:34</td>\n",
       "      <td>6.86252</td>\n",
       "      <td>79.8993</td>\n",
       "      <td>6.90330</td>\n",
       "      <td>79.8783</td>\n",
       "      <td>270.32</td>\n",
       "      <td>correct</td>\n",
       "    </tr>\n",
       "    <tr>\n",
       "      <th>1</th>\n",
       "      <td>189125358</td>\n",
       "      <td>10.5</td>\n",
       "      <td>791.0</td>\n",
       "      <td>47.0</td>\n",
       "      <td>0.0000</td>\n",
       "      <td>134.0</td>\n",
       "      <td>11/1/2019 0:56</td>\n",
       "      <td>11/1/2019 1:09</td>\n",
       "      <td>6.88589</td>\n",
       "      <td>79.8984</td>\n",
       "      <td>6.91373</td>\n",
       "      <td>79.8923</td>\n",
       "      <td>197.85</td>\n",
       "      <td>correct</td>\n",
       "    </tr>\n",
       "    <tr>\n",
       "      <th>2</th>\n",
       "      <td>189125719</td>\n",
       "      <td>10.5</td>\n",
       "      <td>1087.0</td>\n",
       "      <td>80.0</td>\n",
       "      <td>0.0000</td>\n",
       "      <td>61.0</td>\n",
       "      <td>11/1/2019 1:08</td>\n",
       "      <td>11/1/2019 1:26</td>\n",
       "      <td>6.90839</td>\n",
       "      <td>79.8651</td>\n",
       "      <td>6.93669</td>\n",
       "      <td>79.9146</td>\n",
       "      <td>301.64</td>\n",
       "      <td>correct</td>\n",
       "    </tr>\n",
       "    <tr>\n",
       "      <th>3</th>\n",
       "      <td>189127273</td>\n",
       "      <td>10.5</td>\n",
       "      <td>598.0</td>\n",
       "      <td>271.0</td>\n",
       "      <td>15.6638</td>\n",
       "      <td>68.0</td>\n",
       "      <td>11/1/2019 2:27</td>\n",
       "      <td>11/1/2019 2:37</td>\n",
       "      <td>6.92570</td>\n",
       "      <td>79.8895</td>\n",
       "      <td>6.92748</td>\n",
       "      <td>79.8971</td>\n",
       "      <td>82.30</td>\n",
       "      <td>correct</td>\n",
       "    </tr>\n",
       "    <tr>\n",
       "      <th>4</th>\n",
       "      <td>189129552</td>\n",
       "      <td>10.5</td>\n",
       "      <td>3407.0</td>\n",
       "      <td>182.0</td>\n",
       "      <td>0.0000</td>\n",
       "      <td>112.0</td>\n",
       "      <td>11/1/2019 5:38</td>\n",
       "      <td>11/1/2019 6:35</td>\n",
       "      <td>7.13402</td>\n",
       "      <td>79.8969</td>\n",
       "      <td>6.91865</td>\n",
       "      <td>79.8649</td>\n",
       "      <td>1065.02</td>\n",
       "      <td>correct</td>\n",
       "    </tr>\n",
       "  </tbody>\n",
       "</table>\n",
       "</div>"
      ],
      "text/plain": [
       "      tripid  additional_fare  duration  meter_waiting  meter_waiting_fare  \\\n",
       "0  189123628             10.5     834.0           56.0              0.0000   \n",
       "1  189125358             10.5     791.0           47.0              0.0000   \n",
       "2  189125719             10.5    1087.0           80.0              0.0000   \n",
       "3  189127273             10.5     598.0          271.0             15.6638   \n",
       "4  189129552             10.5    3407.0          182.0              0.0000   \n",
       "\n",
       "   meter_waiting_till_pickup     pickup_time       drop_time  pick_lat  \\\n",
       "0                       64.0  11/1/2019 0:20  11/1/2019 0:34   6.86252   \n",
       "1                      134.0  11/1/2019 0:56  11/1/2019 1:09   6.88589   \n",
       "2                       61.0  11/1/2019 1:08  11/1/2019 1:26   6.90839   \n",
       "3                       68.0  11/1/2019 2:27  11/1/2019 2:37   6.92570   \n",
       "4                      112.0  11/1/2019 5:38  11/1/2019 6:35   7.13402   \n",
       "\n",
       "   pick_lon  drop_lat  drop_lon     fare    label  \n",
       "0   79.8993   6.90330   79.8783   270.32  correct  \n",
       "1   79.8984   6.91373   79.8923   197.85  correct  \n",
       "2   79.8651   6.93669   79.9146   301.64  correct  \n",
       "3   79.8895   6.92748   79.8971    82.30  correct  \n",
       "4   79.8969   6.91865   79.8649  1065.02  correct  "
      ]
     },
     "execution_count": 49,
     "metadata": {},
     "output_type": "execute_result"
    }
   ],
   "source": [
    "dataset.head()"
   ]
  },
  {
   "cell_type": "code",
   "execution_count": 50,
   "metadata": {},
   "outputs": [],
   "source": [
    "dataset.drop(labels = [\"tripid\"], axis = 1, inplace = True)"
   ]
  },
  {
   "cell_type": "code",
   "execution_count": 51,
   "metadata": {},
   "outputs": [],
   "source": [
    "# numeric_feats = dataset.dtypes[dataset.dtypes != \"object\"].index\n",
    "\n",
    "# # Check the skew of all numerical features\n",
    "# skewed_feats = dataset[numeric_feats].apply(lambda x: skew(x.dropna())).sort_values(ascending=False)\n",
    "# print(\"\\nSkew in numerical features: \\n\")\n",
    "# skewness = pd.DataFrame({'Skew' :skewed_feats})\n",
    "# skewness.head(15)"
   ]
  },
  {
   "cell_type": "code",
   "execution_count": 52,
   "metadata": {},
   "outputs": [],
   "source": [
    "# skewness = skewness[abs(skewness) > 0.75]\n",
    "# print(\"There are {} skewed numerical features to Box Cox transform\".format(skewness.shape[0]))\n",
    "\n",
    "# from scipy.special import boxcox1p\n",
    "# skewed_features = skewness.index\n",
    "# lam = 0.15\n",
    "# for feat in skewed_features:\n",
    "#     #all_data[feat] += 1\n",
    "#     dataset[feat] = boxcox1p(dataset[feat], lam)"
   ]
  },
  {
   "cell_type": "code",
   "execution_count": 53,
   "metadata": {},
   "outputs": [],
   "source": [
    "# numeric_feats = dataset.dtypes[dataset.dtypes != \"object\"].index\n",
    "\n",
    "# # Check the skew of all numerical features\n",
    "# skewed_feats = dataset[numeric_feats].apply(lambda x: skew(x.dropna())).sort_values(ascending=False)\n",
    "# print(\"\\nSkew in numerical features: \\n\")\n",
    "# skewness = pd.DataFrame({'Skew' :skewed_feats})\n",
    "# skewness.head(15)"
   ]
  },
  {
   "cell_type": "code",
   "execution_count": 54,
   "metadata": {},
   "outputs": [
    {
     "data": {
      "text/html": [
       "<div>\n",
       "<style scoped>\n",
       "    .dataframe tbody tr th:only-of-type {\n",
       "        vertical-align: middle;\n",
       "    }\n",
       "\n",
       "    .dataframe tbody tr th {\n",
       "        vertical-align: top;\n",
       "    }\n",
       "\n",
       "    .dataframe thead th {\n",
       "        text-align: right;\n",
       "    }\n",
       "</style>\n",
       "<table border=\"1\" class=\"dataframe\">\n",
       "  <thead>\n",
       "    <tr style=\"text-align: right;\">\n",
       "      <th></th>\n",
       "      <th>additional_fare</th>\n",
       "      <th>duration</th>\n",
       "      <th>meter_waiting</th>\n",
       "      <th>meter_waiting_fare</th>\n",
       "      <th>meter_waiting_till_pickup</th>\n",
       "      <th>pickup_time</th>\n",
       "      <th>drop_time</th>\n",
       "      <th>pick_lat</th>\n",
       "      <th>pick_lon</th>\n",
       "      <th>drop_lat</th>\n",
       "      <th>drop_lon</th>\n",
       "      <th>fare</th>\n",
       "      <th>label</th>\n",
       "    </tr>\n",
       "  </thead>\n",
       "  <tbody>\n",
       "    <tr>\n",
       "      <th>0</th>\n",
       "      <td>10.5</td>\n",
       "      <td>834.0</td>\n",
       "      <td>56.0</td>\n",
       "      <td>0.0000</td>\n",
       "      <td>64.0</td>\n",
       "      <td>11/1/2019 0:20</td>\n",
       "      <td>11/1/2019 0:34</td>\n",
       "      <td>6.86252</td>\n",
       "      <td>79.8993</td>\n",
       "      <td>6.90330</td>\n",
       "      <td>79.8783</td>\n",
       "      <td>270.32</td>\n",
       "      <td>correct</td>\n",
       "    </tr>\n",
       "    <tr>\n",
       "      <th>1</th>\n",
       "      <td>10.5</td>\n",
       "      <td>791.0</td>\n",
       "      <td>47.0</td>\n",
       "      <td>0.0000</td>\n",
       "      <td>134.0</td>\n",
       "      <td>11/1/2019 0:56</td>\n",
       "      <td>11/1/2019 1:09</td>\n",
       "      <td>6.88589</td>\n",
       "      <td>79.8984</td>\n",
       "      <td>6.91373</td>\n",
       "      <td>79.8923</td>\n",
       "      <td>197.85</td>\n",
       "      <td>correct</td>\n",
       "    </tr>\n",
       "    <tr>\n",
       "      <th>2</th>\n",
       "      <td>10.5</td>\n",
       "      <td>1087.0</td>\n",
       "      <td>80.0</td>\n",
       "      <td>0.0000</td>\n",
       "      <td>61.0</td>\n",
       "      <td>11/1/2019 1:08</td>\n",
       "      <td>11/1/2019 1:26</td>\n",
       "      <td>6.90839</td>\n",
       "      <td>79.8651</td>\n",
       "      <td>6.93669</td>\n",
       "      <td>79.9146</td>\n",
       "      <td>301.64</td>\n",
       "      <td>correct</td>\n",
       "    </tr>\n",
       "    <tr>\n",
       "      <th>3</th>\n",
       "      <td>10.5</td>\n",
       "      <td>598.0</td>\n",
       "      <td>271.0</td>\n",
       "      <td>15.6638</td>\n",
       "      <td>68.0</td>\n",
       "      <td>11/1/2019 2:27</td>\n",
       "      <td>11/1/2019 2:37</td>\n",
       "      <td>6.92570</td>\n",
       "      <td>79.8895</td>\n",
       "      <td>6.92748</td>\n",
       "      <td>79.8971</td>\n",
       "      <td>82.30</td>\n",
       "      <td>correct</td>\n",
       "    </tr>\n",
       "    <tr>\n",
       "      <th>4</th>\n",
       "      <td>10.5</td>\n",
       "      <td>3407.0</td>\n",
       "      <td>182.0</td>\n",
       "      <td>0.0000</td>\n",
       "      <td>112.0</td>\n",
       "      <td>11/1/2019 5:38</td>\n",
       "      <td>11/1/2019 6:35</td>\n",
       "      <td>7.13402</td>\n",
       "      <td>79.8969</td>\n",
       "      <td>6.91865</td>\n",
       "      <td>79.8649</td>\n",
       "      <td>1065.02</td>\n",
       "      <td>correct</td>\n",
       "    </tr>\n",
       "  </tbody>\n",
       "</table>\n",
       "</div>"
      ],
      "text/plain": [
       "   additional_fare  duration  meter_waiting  meter_waiting_fare  \\\n",
       "0             10.5     834.0           56.0              0.0000   \n",
       "1             10.5     791.0           47.0              0.0000   \n",
       "2             10.5    1087.0           80.0              0.0000   \n",
       "3             10.5     598.0          271.0             15.6638   \n",
       "4             10.5    3407.0          182.0              0.0000   \n",
       "\n",
       "   meter_waiting_till_pickup     pickup_time       drop_time  pick_lat  \\\n",
       "0                       64.0  11/1/2019 0:20  11/1/2019 0:34   6.86252   \n",
       "1                      134.0  11/1/2019 0:56  11/1/2019 1:09   6.88589   \n",
       "2                       61.0  11/1/2019 1:08  11/1/2019 1:26   6.90839   \n",
       "3                       68.0  11/1/2019 2:27  11/1/2019 2:37   6.92570   \n",
       "4                      112.0  11/1/2019 5:38  11/1/2019 6:35   7.13402   \n",
       "\n",
       "   pick_lon  drop_lat  drop_lon     fare    label  \n",
       "0   79.8993   6.90330   79.8783   270.32  correct  \n",
       "1   79.8984   6.91373   79.8923   197.85  correct  \n",
       "2   79.8651   6.93669   79.9146   301.64  correct  \n",
       "3   79.8895   6.92748   79.8971    82.30  correct  \n",
       "4   79.8969   6.91865   79.8649  1065.02  correct  "
      ]
     },
     "execution_count": 54,
     "metadata": {},
     "output_type": "execute_result"
    }
   ],
   "source": [
    "dataset.head()"
   ]
  },
  {
   "cell_type": "code",
   "execution_count": 55,
   "metadata": {},
   "outputs": [],
   "source": [
    "dataset[\"time\"]=(pd.to_datetime(dataset.drop_time)-pd.to_datetime(dataset.pickup_time)).dt.total_seconds()"
   ]
  },
  {
   "cell_type": "code",
   "execution_count": 56,
   "metadata": {},
   "outputs": [
    {
     "data": {
      "text/html": [
       "<div>\n",
       "<style scoped>\n",
       "    .dataframe tbody tr th:only-of-type {\n",
       "        vertical-align: middle;\n",
       "    }\n",
       "\n",
       "    .dataframe tbody tr th {\n",
       "        vertical-align: top;\n",
       "    }\n",
       "\n",
       "    .dataframe thead th {\n",
       "        text-align: right;\n",
       "    }\n",
       "</style>\n",
       "<table border=\"1\" class=\"dataframe\">\n",
       "  <thead>\n",
       "    <tr style=\"text-align: right;\">\n",
       "      <th></th>\n",
       "      <th>drop_time</th>\n",
       "      <th>pickup_time</th>\n",
       "      <th>time</th>\n",
       "    </tr>\n",
       "  </thead>\n",
       "  <tbody>\n",
       "    <tr>\n",
       "      <th>0</th>\n",
       "      <td>11/1/2019 0:34</td>\n",
       "      <td>11/1/2019 0:20</td>\n",
       "      <td>840.0</td>\n",
       "    </tr>\n",
       "    <tr>\n",
       "      <th>1</th>\n",
       "      <td>11/1/2019 1:09</td>\n",
       "      <td>11/1/2019 0:56</td>\n",
       "      <td>780.0</td>\n",
       "    </tr>\n",
       "    <tr>\n",
       "      <th>2</th>\n",
       "      <td>11/1/2019 1:26</td>\n",
       "      <td>11/1/2019 1:08</td>\n",
       "      <td>1080.0</td>\n",
       "    </tr>\n",
       "    <tr>\n",
       "      <th>3</th>\n",
       "      <td>11/1/2019 2:37</td>\n",
       "      <td>11/1/2019 2:27</td>\n",
       "      <td>600.0</td>\n",
       "    </tr>\n",
       "    <tr>\n",
       "      <th>4</th>\n",
       "      <td>11/1/2019 6:35</td>\n",
       "      <td>11/1/2019 5:38</td>\n",
       "      <td>3420.0</td>\n",
       "    </tr>\n",
       "  </tbody>\n",
       "</table>\n",
       "</div>"
      ],
      "text/plain": [
       "        drop_time     pickup_time    time\n",
       "0  11/1/2019 0:34  11/1/2019 0:20   840.0\n",
       "1  11/1/2019 1:09  11/1/2019 0:56   780.0\n",
       "2  11/1/2019 1:26  11/1/2019 1:08  1080.0\n",
       "3  11/1/2019 2:37  11/1/2019 2:27   600.0\n",
       "4  11/1/2019 6:35  11/1/2019 5:38  3420.0"
      ]
     },
     "execution_count": 56,
     "metadata": {},
     "output_type": "execute_result"
    }
   ],
   "source": [
    "dataset[[\"drop_time\",\"pickup_time\",\"time\"]].head(5)"
   ]
  },
  {
   "cell_type": "code",
   "execution_count": 57,
   "metadata": {},
   "outputs": [],
   "source": [
    "# dataset['pickup_month'] = pd.to_datetime(dataset.pickup_time).dt.month\n",
    "# dataset['pickup_day'] = pd.to_datetime(dataset.pickup_time).dt.day\n",
    "# dataset['pickup_hour'] = pd.to_datetime(dataset.pickup_time).dt.hour\n",
    "# dataset['pickup_dayofweek'] = pd.to_datetime(dataset.pickup_time).dt.dayofweek\n",
    "# dataset['pickup_year']=pd.to_datetime(dataset.pickup_time).dt.year\n",
    "# dataset[[\"drop_time\",\"pickup_time\",\"pickup_month\",'pickup_day','pickup_hour','pickup_dayofweek','pickup_year']]"
   ]
  },
  {
   "cell_type": "code",
   "execution_count": 58,
   "metadata": {},
   "outputs": [],
   "source": [
    "# g = sns.FacetGrid(dataset, col='pickup_month')\n",
    "# g = g.map(sns.distplot, \"fare\")"
   ]
  },
  {
   "cell_type": "code",
   "execution_count": 59,
   "metadata": {},
   "outputs": [],
   "source": [
    "dataset.drop(labels = [\"pickup_time\"], axis = 1, inplace = True)\n",
    "dataset.drop(labels = [\"drop_time\"], axis = 1, inplace = True)\n",
    "# dataset.drop(labels = [\"time\"], axis = 1, inplace = True)"
   ]
  },
  {
   "cell_type": "code",
   "execution_count": 60,
   "metadata": {},
   "outputs": [
    {
     "data": {
      "text/html": [
       "<div>\n",
       "<style scoped>\n",
       "    .dataframe tbody tr th:only-of-type {\n",
       "        vertical-align: middle;\n",
       "    }\n",
       "\n",
       "    .dataframe tbody tr th {\n",
       "        vertical-align: top;\n",
       "    }\n",
       "\n",
       "    .dataframe thead th {\n",
       "        text-align: right;\n",
       "    }\n",
       "</style>\n",
       "<table border=\"1\" class=\"dataframe\">\n",
       "  <thead>\n",
       "    <tr style=\"text-align: right;\">\n",
       "      <th></th>\n",
       "      <th>additional_fare</th>\n",
       "      <th>duration</th>\n",
       "      <th>meter_waiting</th>\n",
       "      <th>meter_waiting_fare</th>\n",
       "      <th>meter_waiting_till_pickup</th>\n",
       "      <th>pick_lat</th>\n",
       "      <th>pick_lon</th>\n",
       "      <th>drop_lat</th>\n",
       "      <th>drop_lon</th>\n",
       "      <th>fare</th>\n",
       "      <th>label</th>\n",
       "      <th>time</th>\n",
       "    </tr>\n",
       "  </thead>\n",
       "  <tbody>\n",
       "    <tr>\n",
       "      <th>0</th>\n",
       "      <td>10.5</td>\n",
       "      <td>834.0</td>\n",
       "      <td>56.0</td>\n",
       "      <td>0.0000</td>\n",
       "      <td>64.0</td>\n",
       "      <td>6.86252</td>\n",
       "      <td>79.8993</td>\n",
       "      <td>6.90330</td>\n",
       "      <td>79.8783</td>\n",
       "      <td>270.32</td>\n",
       "      <td>correct</td>\n",
       "      <td>840.0</td>\n",
       "    </tr>\n",
       "    <tr>\n",
       "      <th>1</th>\n",
       "      <td>10.5</td>\n",
       "      <td>791.0</td>\n",
       "      <td>47.0</td>\n",
       "      <td>0.0000</td>\n",
       "      <td>134.0</td>\n",
       "      <td>6.88589</td>\n",
       "      <td>79.8984</td>\n",
       "      <td>6.91373</td>\n",
       "      <td>79.8923</td>\n",
       "      <td>197.85</td>\n",
       "      <td>correct</td>\n",
       "      <td>780.0</td>\n",
       "    </tr>\n",
       "    <tr>\n",
       "      <th>2</th>\n",
       "      <td>10.5</td>\n",
       "      <td>1087.0</td>\n",
       "      <td>80.0</td>\n",
       "      <td>0.0000</td>\n",
       "      <td>61.0</td>\n",
       "      <td>6.90839</td>\n",
       "      <td>79.8651</td>\n",
       "      <td>6.93669</td>\n",
       "      <td>79.9146</td>\n",
       "      <td>301.64</td>\n",
       "      <td>correct</td>\n",
       "      <td>1080.0</td>\n",
       "    </tr>\n",
       "    <tr>\n",
       "      <th>3</th>\n",
       "      <td>10.5</td>\n",
       "      <td>598.0</td>\n",
       "      <td>271.0</td>\n",
       "      <td>15.6638</td>\n",
       "      <td>68.0</td>\n",
       "      <td>6.92570</td>\n",
       "      <td>79.8895</td>\n",
       "      <td>6.92748</td>\n",
       "      <td>79.8971</td>\n",
       "      <td>82.30</td>\n",
       "      <td>correct</td>\n",
       "      <td>600.0</td>\n",
       "    </tr>\n",
       "    <tr>\n",
       "      <th>4</th>\n",
       "      <td>10.5</td>\n",
       "      <td>3407.0</td>\n",
       "      <td>182.0</td>\n",
       "      <td>0.0000</td>\n",
       "      <td>112.0</td>\n",
       "      <td>7.13402</td>\n",
       "      <td>79.8969</td>\n",
       "      <td>6.91865</td>\n",
       "      <td>79.8649</td>\n",
       "      <td>1065.02</td>\n",
       "      <td>correct</td>\n",
       "      <td>3420.0</td>\n",
       "    </tr>\n",
       "  </tbody>\n",
       "</table>\n",
       "</div>"
      ],
      "text/plain": [
       "   additional_fare  duration  meter_waiting  meter_waiting_fare  \\\n",
       "0             10.5     834.0           56.0              0.0000   \n",
       "1             10.5     791.0           47.0              0.0000   \n",
       "2             10.5    1087.0           80.0              0.0000   \n",
       "3             10.5     598.0          271.0             15.6638   \n",
       "4             10.5    3407.0          182.0              0.0000   \n",
       "\n",
       "   meter_waiting_till_pickup  pick_lat  pick_lon  drop_lat  drop_lon     fare  \\\n",
       "0                       64.0   6.86252   79.8993   6.90330   79.8783   270.32   \n",
       "1                      134.0   6.88589   79.8984   6.91373   79.8923   197.85   \n",
       "2                       61.0   6.90839   79.8651   6.93669   79.9146   301.64   \n",
       "3                       68.0   6.92570   79.8895   6.92748   79.8971    82.30   \n",
       "4                      112.0   7.13402   79.8969   6.91865   79.8649  1065.02   \n",
       "\n",
       "     label    time  \n",
       "0  correct   840.0  \n",
       "1  correct   780.0  \n",
       "2  correct  1080.0  \n",
       "3  correct   600.0  \n",
       "4  correct  3420.0  "
      ]
     },
     "execution_count": 60,
     "metadata": {},
     "output_type": "execute_result"
    }
   ],
   "source": [
    "dataset.head()"
   ]
  },
  {
   "cell_type": "code",
   "execution_count": 61,
   "metadata": {},
   "outputs": [
    {
     "data": {
      "text/plain": [
       "(25541, 12)"
      ]
     },
     "execution_count": 61,
     "metadata": {},
     "output_type": "execute_result"
    }
   ],
   "source": [
    "dataset.shape"
   ]
  },
  {
   "cell_type": "code",
   "execution_count": 62,
   "metadata": {},
   "outputs": [
    {
     "data": {
      "text/plain": [
       "(25536, 12)"
      ]
     },
     "execution_count": 62,
     "metadata": {},
     "output_type": "execute_result"
    }
   ],
   "source": [
    "dataset[(((dataset['time']-100) < dataset['duration']) &  (dataset['duration'] < (dataset['time']+100)))].shape"
   ]
  },
  {
   "cell_type": "code",
   "execution_count": 63,
   "metadata": {},
   "outputs": [
    {
     "data": {
      "text/html": [
       "<div>\n",
       "<style scoped>\n",
       "    .dataframe tbody tr th:only-of-type {\n",
       "        vertical-align: middle;\n",
       "    }\n",
       "\n",
       "    .dataframe tbody tr th {\n",
       "        vertical-align: top;\n",
       "    }\n",
       "\n",
       "    .dataframe thead th {\n",
       "        text-align: right;\n",
       "    }\n",
       "</style>\n",
       "<table border=\"1\" class=\"dataframe\">\n",
       "  <thead>\n",
       "    <tr style=\"text-align: right;\">\n",
       "      <th></th>\n",
       "      <th>additional_fare</th>\n",
       "      <th>duration</th>\n",
       "      <th>meter_waiting</th>\n",
       "      <th>meter_waiting_fare</th>\n",
       "      <th>meter_waiting_till_pickup</th>\n",
       "      <th>pick_lat</th>\n",
       "      <th>pick_lon</th>\n",
       "      <th>drop_lat</th>\n",
       "      <th>drop_lon</th>\n",
       "      <th>fare</th>\n",
       "      <th>label</th>\n",
       "      <th>time</th>\n",
       "    </tr>\n",
       "  </thead>\n",
       "  <tbody>\n",
       "    <tr>\n",
       "      <th>25</th>\n",
       "      <td>10.5</td>\n",
       "      <td>618.0</td>\n",
       "      <td>128.0</td>\n",
       "      <td>7.3984</td>\n",
       "      <td>126.0</td>\n",
       "      <td>6.88661</td>\n",
       "      <td>79.9321</td>\n",
       "      <td>6.87383</td>\n",
       "      <td>79.9263</td>\n",
       "      <td>106.80</td>\n",
       "      <td>correct</td>\n",
       "      <td>480.0</td>\n",
       "    </tr>\n",
       "    <tr>\n",
       "      <th>3519</th>\n",
       "      <td>0.0</td>\n",
       "      <td>0.0</td>\n",
       "      <td>0.0</td>\n",
       "      <td>0.0000</td>\n",
       "      <td>540.0</td>\n",
       "      <td>6.90471</td>\n",
       "      <td>79.8520</td>\n",
       "      <td>6.90457</td>\n",
       "      <td>79.8519</td>\n",
       "      <td>0.00</td>\n",
       "      <td>incorrect</td>\n",
       "      <td>1560.0</td>\n",
       "    </tr>\n",
       "    <tr>\n",
       "      <th>14201</th>\n",
       "      <td>10.5</td>\n",
       "      <td>693.0</td>\n",
       "      <td>78.0</td>\n",
       "      <td>0.0000</td>\n",
       "      <td>37.0</td>\n",
       "      <td>6.84484</td>\n",
       "      <td>79.9342</td>\n",
       "      <td>6.83917</td>\n",
       "      <td>79.9087</td>\n",
       "      <td>140.55</td>\n",
       "      <td>correct</td>\n",
       "      <td>540.0</td>\n",
       "    </tr>\n",
       "    <tr>\n",
       "      <th>16543</th>\n",
       "      <td>0.0</td>\n",
       "      <td>0.0</td>\n",
       "      <td>0.0</td>\n",
       "      <td>0.0000</td>\n",
       "      <td>973.0</td>\n",
       "      <td>6.85275</td>\n",
       "      <td>79.9391</td>\n",
       "      <td>6.84612</td>\n",
       "      <td>79.9428</td>\n",
       "      <td>0.00</td>\n",
       "      <td>incorrect</td>\n",
       "      <td>1380.0</td>\n",
       "    </tr>\n",
       "    <tr>\n",
       "      <th>18700</th>\n",
       "      <td>0.0</td>\n",
       "      <td>0.0</td>\n",
       "      <td>0.0</td>\n",
       "      <td>0.0000</td>\n",
       "      <td>691.0</td>\n",
       "      <td>6.91339</td>\n",
       "      <td>79.8977</td>\n",
       "      <td>6.87683</td>\n",
       "      <td>79.8605</td>\n",
       "      <td>0.00</td>\n",
       "      <td>NaN</td>\n",
       "      <td>2220.0</td>\n",
       "    </tr>\n",
       "  </tbody>\n",
       "</table>\n",
       "</div>"
      ],
      "text/plain": [
       "       additional_fare  duration  meter_waiting  meter_waiting_fare  \\\n",
       "25                10.5     618.0          128.0              7.3984   \n",
       "3519               0.0       0.0            0.0              0.0000   \n",
       "14201             10.5     693.0           78.0              0.0000   \n",
       "16543              0.0       0.0            0.0              0.0000   \n",
       "18700              0.0       0.0            0.0              0.0000   \n",
       "\n",
       "       meter_waiting_till_pickup  pick_lat  pick_lon  drop_lat  drop_lon  \\\n",
       "25                         126.0   6.88661   79.9321   6.87383   79.9263   \n",
       "3519                       540.0   6.90471   79.8520   6.90457   79.8519   \n",
       "14201                       37.0   6.84484   79.9342   6.83917   79.9087   \n",
       "16543                      973.0   6.85275   79.9391   6.84612   79.9428   \n",
       "18700                      691.0   6.91339   79.8977   6.87683   79.8605   \n",
       "\n",
       "         fare      label    time  \n",
       "25     106.80    correct   480.0  \n",
       "3519     0.00  incorrect  1560.0  \n",
       "14201  140.55    correct   540.0  \n",
       "16543    0.00  incorrect  1380.0  \n",
       "18700    0.00        NaN  2220.0  "
      ]
     },
     "execution_count": 63,
     "metadata": {},
     "output_type": "execute_result"
    }
   ],
   "source": [
    "dataset[(((dataset['time']-100) > dataset['duration']) |  (dataset['duration'] > (dataset['time']+100)))]"
   ]
  },
  {
   "cell_type": "code",
   "execution_count": 64,
   "metadata": {},
   "outputs": [],
   "source": [
    "a=dataset[(((dataset['time']-100) > dataset['duration']) |  (dataset['duration'] > (dataset['time']+100)))].index"
   ]
  },
  {
   "cell_type": "code",
   "execution_count": 65,
   "metadata": {},
   "outputs": [
    {
     "data": {
      "text/plain": [
       "Int64Index([25, 3519, 14201, 16543, 18700], dtype='int64')"
      ]
     },
     "execution_count": 65,
     "metadata": {},
     "output_type": "execute_result"
    }
   ],
   "source": [
    "a"
   ]
  },
  {
   "cell_type": "code",
   "execution_count": 66,
   "metadata": {},
   "outputs": [
    {
     "data": {
      "text/html": [
       "<div>\n",
       "<style scoped>\n",
       "    .dataframe tbody tr th:only-of-type {\n",
       "        vertical-align: middle;\n",
       "    }\n",
       "\n",
       "    .dataframe tbody tr th {\n",
       "        vertical-align: top;\n",
       "    }\n",
       "\n",
       "    .dataframe thead th {\n",
       "        text-align: right;\n",
       "    }\n",
       "</style>\n",
       "<table border=\"1\" class=\"dataframe\">\n",
       "  <thead>\n",
       "    <tr style=\"text-align: right;\">\n",
       "      <th></th>\n",
       "      <th>additional_fare</th>\n",
       "      <th>duration</th>\n",
       "      <th>meter_waiting</th>\n",
       "      <th>meter_waiting_fare</th>\n",
       "      <th>meter_waiting_till_pickup</th>\n",
       "      <th>pick_lat</th>\n",
       "      <th>pick_lon</th>\n",
       "      <th>drop_lat</th>\n",
       "      <th>drop_lon</th>\n",
       "      <th>fare</th>\n",
       "      <th>label</th>\n",
       "      <th>time</th>\n",
       "    </tr>\n",
       "  </thead>\n",
       "  <tbody>\n",
       "    <tr>\n",
       "      <th>25</th>\n",
       "      <td>10.5</td>\n",
       "      <td>618.0</td>\n",
       "      <td>128.0</td>\n",
       "      <td>7.3984</td>\n",
       "      <td>126.0</td>\n",
       "      <td>6.88661</td>\n",
       "      <td>79.9321</td>\n",
       "      <td>6.87383</td>\n",
       "      <td>79.9263</td>\n",
       "      <td>106.80</td>\n",
       "      <td>correct</td>\n",
       "      <td>480.0</td>\n",
       "    </tr>\n",
       "    <tr>\n",
       "      <th>3519</th>\n",
       "      <td>0.0</td>\n",
       "      <td>0.0</td>\n",
       "      <td>0.0</td>\n",
       "      <td>0.0000</td>\n",
       "      <td>540.0</td>\n",
       "      <td>6.90471</td>\n",
       "      <td>79.8520</td>\n",
       "      <td>6.90457</td>\n",
       "      <td>79.8519</td>\n",
       "      <td>0.00</td>\n",
       "      <td>incorrect</td>\n",
       "      <td>1560.0</td>\n",
       "    </tr>\n",
       "    <tr>\n",
       "      <th>14201</th>\n",
       "      <td>10.5</td>\n",
       "      <td>693.0</td>\n",
       "      <td>78.0</td>\n",
       "      <td>0.0000</td>\n",
       "      <td>37.0</td>\n",
       "      <td>6.84484</td>\n",
       "      <td>79.9342</td>\n",
       "      <td>6.83917</td>\n",
       "      <td>79.9087</td>\n",
       "      <td>140.55</td>\n",
       "      <td>correct</td>\n",
       "      <td>540.0</td>\n",
       "    </tr>\n",
       "    <tr>\n",
       "      <th>16543</th>\n",
       "      <td>0.0</td>\n",
       "      <td>0.0</td>\n",
       "      <td>0.0</td>\n",
       "      <td>0.0000</td>\n",
       "      <td>973.0</td>\n",
       "      <td>6.85275</td>\n",
       "      <td>79.9391</td>\n",
       "      <td>6.84612</td>\n",
       "      <td>79.9428</td>\n",
       "      <td>0.00</td>\n",
       "      <td>incorrect</td>\n",
       "      <td>1380.0</td>\n",
       "    </tr>\n",
       "    <tr>\n",
       "      <th>18700</th>\n",
       "      <td>0.0</td>\n",
       "      <td>0.0</td>\n",
       "      <td>0.0</td>\n",
       "      <td>0.0000</td>\n",
       "      <td>691.0</td>\n",
       "      <td>6.91339</td>\n",
       "      <td>79.8977</td>\n",
       "      <td>6.87683</td>\n",
       "      <td>79.8605</td>\n",
       "      <td>0.00</td>\n",
       "      <td>NaN</td>\n",
       "      <td>2220.0</td>\n",
       "    </tr>\n",
       "  </tbody>\n",
       "</table>\n",
       "</div>"
      ],
      "text/plain": [
       "       additional_fare  duration  meter_waiting  meter_waiting_fare  \\\n",
       "25                10.5     618.0          128.0              7.3984   \n",
       "3519               0.0       0.0            0.0              0.0000   \n",
       "14201             10.5     693.0           78.0              0.0000   \n",
       "16543              0.0       0.0            0.0              0.0000   \n",
       "18700              0.0       0.0            0.0              0.0000   \n",
       "\n",
       "       meter_waiting_till_pickup  pick_lat  pick_lon  drop_lat  drop_lon  \\\n",
       "25                         126.0   6.88661   79.9321   6.87383   79.9263   \n",
       "3519                       540.0   6.90471   79.8520   6.90457   79.8519   \n",
       "14201                       37.0   6.84484   79.9342   6.83917   79.9087   \n",
       "16543                      973.0   6.85275   79.9391   6.84612   79.9428   \n",
       "18700                      691.0   6.91339   79.8977   6.87683   79.8605   \n",
       "\n",
       "         fare      label    time  \n",
       "25     106.80    correct   480.0  \n",
       "3519     0.00  incorrect  1560.0  \n",
       "14201  140.55    correct   540.0  \n",
       "16543    0.00  incorrect  1380.0  \n",
       "18700    0.00        NaN  2220.0  "
      ]
     },
     "execution_count": 66,
     "metadata": {},
     "output_type": "execute_result"
    }
   ],
   "source": [
    "dataset.loc[a]"
   ]
  },
  {
   "cell_type": "code",
   "execution_count": 67,
   "metadata": {},
   "outputs": [],
   "source": [
    "dataset.loc[a,'duration']=dataset.loc[a,'time']"
   ]
  },
  {
   "cell_type": "code",
   "execution_count": 68,
   "metadata": {},
   "outputs": [
    {
     "data": {
      "text/html": [
       "<div>\n",
       "<style scoped>\n",
       "    .dataframe tbody tr th:only-of-type {\n",
       "        vertical-align: middle;\n",
       "    }\n",
       "\n",
       "    .dataframe tbody tr th {\n",
       "        vertical-align: top;\n",
       "    }\n",
       "\n",
       "    .dataframe thead th {\n",
       "        text-align: right;\n",
       "    }\n",
       "</style>\n",
       "<table border=\"1\" class=\"dataframe\">\n",
       "  <thead>\n",
       "    <tr style=\"text-align: right;\">\n",
       "      <th></th>\n",
       "      <th>additional_fare</th>\n",
       "      <th>duration</th>\n",
       "      <th>meter_waiting</th>\n",
       "      <th>meter_waiting_fare</th>\n",
       "      <th>meter_waiting_till_pickup</th>\n",
       "      <th>pick_lat</th>\n",
       "      <th>pick_lon</th>\n",
       "      <th>drop_lat</th>\n",
       "      <th>drop_lon</th>\n",
       "      <th>fare</th>\n",
       "      <th>label</th>\n",
       "      <th>time</th>\n",
       "    </tr>\n",
       "  </thead>\n",
       "  <tbody>\n",
       "    <tr>\n",
       "      <th>25</th>\n",
       "      <td>10.5</td>\n",
       "      <td>480.0</td>\n",
       "      <td>128.0</td>\n",
       "      <td>7.3984</td>\n",
       "      <td>126.0</td>\n",
       "      <td>6.88661</td>\n",
       "      <td>79.9321</td>\n",
       "      <td>6.87383</td>\n",
       "      <td>79.9263</td>\n",
       "      <td>106.80</td>\n",
       "      <td>correct</td>\n",
       "      <td>480.0</td>\n",
       "    </tr>\n",
       "    <tr>\n",
       "      <th>3519</th>\n",
       "      <td>0.0</td>\n",
       "      <td>1560.0</td>\n",
       "      <td>0.0</td>\n",
       "      <td>0.0000</td>\n",
       "      <td>540.0</td>\n",
       "      <td>6.90471</td>\n",
       "      <td>79.8520</td>\n",
       "      <td>6.90457</td>\n",
       "      <td>79.8519</td>\n",
       "      <td>0.00</td>\n",
       "      <td>incorrect</td>\n",
       "      <td>1560.0</td>\n",
       "    </tr>\n",
       "    <tr>\n",
       "      <th>14201</th>\n",
       "      <td>10.5</td>\n",
       "      <td>540.0</td>\n",
       "      <td>78.0</td>\n",
       "      <td>0.0000</td>\n",
       "      <td>37.0</td>\n",
       "      <td>6.84484</td>\n",
       "      <td>79.9342</td>\n",
       "      <td>6.83917</td>\n",
       "      <td>79.9087</td>\n",
       "      <td>140.55</td>\n",
       "      <td>correct</td>\n",
       "      <td>540.0</td>\n",
       "    </tr>\n",
       "    <tr>\n",
       "      <th>16543</th>\n",
       "      <td>0.0</td>\n",
       "      <td>1380.0</td>\n",
       "      <td>0.0</td>\n",
       "      <td>0.0000</td>\n",
       "      <td>973.0</td>\n",
       "      <td>6.85275</td>\n",
       "      <td>79.9391</td>\n",
       "      <td>6.84612</td>\n",
       "      <td>79.9428</td>\n",
       "      <td>0.00</td>\n",
       "      <td>incorrect</td>\n",
       "      <td>1380.0</td>\n",
       "    </tr>\n",
       "    <tr>\n",
       "      <th>18700</th>\n",
       "      <td>0.0</td>\n",
       "      <td>2220.0</td>\n",
       "      <td>0.0</td>\n",
       "      <td>0.0000</td>\n",
       "      <td>691.0</td>\n",
       "      <td>6.91339</td>\n",
       "      <td>79.8977</td>\n",
       "      <td>6.87683</td>\n",
       "      <td>79.8605</td>\n",
       "      <td>0.00</td>\n",
       "      <td>NaN</td>\n",
       "      <td>2220.0</td>\n",
       "    </tr>\n",
       "  </tbody>\n",
       "</table>\n",
       "</div>"
      ],
      "text/plain": [
       "       additional_fare  duration  meter_waiting  meter_waiting_fare  \\\n",
       "25                10.5     480.0          128.0              7.3984   \n",
       "3519               0.0    1560.0            0.0              0.0000   \n",
       "14201             10.5     540.0           78.0              0.0000   \n",
       "16543              0.0    1380.0            0.0              0.0000   \n",
       "18700              0.0    2220.0            0.0              0.0000   \n",
       "\n",
       "       meter_waiting_till_pickup  pick_lat  pick_lon  drop_lat  drop_lon  \\\n",
       "25                         126.0   6.88661   79.9321   6.87383   79.9263   \n",
       "3519                       540.0   6.90471   79.8520   6.90457   79.8519   \n",
       "14201                       37.0   6.84484   79.9342   6.83917   79.9087   \n",
       "16543                      973.0   6.85275   79.9391   6.84612   79.9428   \n",
       "18700                      691.0   6.91339   79.8977   6.87683   79.8605   \n",
       "\n",
       "         fare      label    time  \n",
       "25     106.80    correct   480.0  \n",
       "3519     0.00  incorrect  1560.0  \n",
       "14201  140.55    correct   540.0  \n",
       "16543    0.00  incorrect  1380.0  \n",
       "18700    0.00        NaN  2220.0  "
      ]
     },
     "execution_count": 68,
     "metadata": {},
     "output_type": "execute_result"
    }
   ],
   "source": [
    "dataset.loc[a]"
   ]
  },
  {
   "cell_type": "code",
   "execution_count": 69,
   "metadata": {},
   "outputs": [
    {
     "data": {
      "text/html": [
       "<div>\n",
       "<style scoped>\n",
       "    .dataframe tbody tr th:only-of-type {\n",
       "        vertical-align: middle;\n",
       "    }\n",
       "\n",
       "    .dataframe tbody tr th {\n",
       "        vertical-align: top;\n",
       "    }\n",
       "\n",
       "    .dataframe thead th {\n",
       "        text-align: right;\n",
       "    }\n",
       "</style>\n",
       "<table border=\"1\" class=\"dataframe\">\n",
       "  <thead>\n",
       "    <tr style=\"text-align: right;\">\n",
       "      <th></th>\n",
       "      <th>additional_fare</th>\n",
       "      <th>duration</th>\n",
       "      <th>meter_waiting</th>\n",
       "      <th>meter_waiting_fare</th>\n",
       "      <th>meter_waiting_till_pickup</th>\n",
       "      <th>pick_lat</th>\n",
       "      <th>pick_lon</th>\n",
       "      <th>drop_lat</th>\n",
       "      <th>drop_lon</th>\n",
       "      <th>fare</th>\n",
       "      <th>label</th>\n",
       "      <th>time</th>\n",
       "    </tr>\n",
       "  </thead>\n",
       "  <tbody>\n",
       "  </tbody>\n",
       "</table>\n",
       "</div>"
      ],
      "text/plain": [
       "Empty DataFrame\n",
       "Columns: [additional_fare, duration, meter_waiting, meter_waiting_fare, meter_waiting_till_pickup, pick_lat, pick_lon, drop_lat, drop_lon, fare, label, time]\n",
       "Index: []"
      ]
     },
     "execution_count": 69,
     "metadata": {},
     "output_type": "execute_result"
    }
   ],
   "source": [
    "dataset[(((dataset['time']-100) > dataset['duration']) |  (dataset['duration'] > (dataset['time']+100)))]"
   ]
  },
  {
   "cell_type": "markdown",
   "metadata": {},
   "source": [
    "**distance**"
   ]
  },
  {
   "cell_type": "code",
   "execution_count": 70,
   "metadata": {},
   "outputs": [],
   "source": [
    "def distance(lat1, lat2, lon1,lon2):\n",
    "    p = 0.017453292519943295 # Pi/180\n",
    "    a = 0.5 - np.cos((lat2 - lat1) * p)/2 + np.cos(lat1 * p) * np.cos(lat2 * p) * (1 - np.cos((lon2 - lon1) * p)) / 2\n",
    "    return 0.6213712 * 12742 * np.arcsin(np.sqrt(a))"
   ]
  },
  {
   "cell_type": "code",
   "execution_count": 71,
   "metadata": {},
   "outputs": [],
   "source": [
    "dataset['trip_distance']=dataset.apply(lambda row:distance(row['pick_lat'],row['drop_lat'],row['pick_lon'],row['drop_lon']),axis=1)"
   ]
  },
  {
   "cell_type": "code",
   "execution_count": 72,
   "metadata": {},
   "outputs": [],
   "source": [
    "# sns.kdeplot(dataset['trip_distance'].values).set_title(\"Distribution of Trip Distance (log scale)\")"
   ]
  },
  {
   "cell_type": "code",
   "execution_count": 73,
   "metadata": {},
   "outputs": [],
   "source": [
    "dataset['distance']= ((dataset['pick_lat']-dataset['pick_lon'])**2+(dataset['drop_lat']-dataset['drop_lon'])**2)**0.5"
   ]
  },
  {
   "cell_type": "code",
   "execution_count": 74,
   "metadata": {},
   "outputs": [],
   "source": [
    "# sns.kdeplot(np.log(dataset['distance'].values)).set_title(\"Distribution of Trip Distance (log scale)\")"
   ]
  },
  {
   "cell_type": "code",
   "execution_count": 75,
   "metadata": {},
   "outputs": [],
   "source": [
    "# sns.scatterplot(x=\"distance\", y=\"fare\",data=dataset)"
   ]
  },
  {
   "cell_type": "code",
   "execution_count": 76,
   "metadata": {},
   "outputs": [],
   "source": [
    "# sns.scatterplot(x=\"trip_distance\", y=\"fare\",data=dataset)"
   ]
  },
  {
   "cell_type": "code",
   "execution_count": 77,
   "metadata": {},
   "outputs": [
    {
     "data": {
      "text/plain": [
       "(16, 14)"
      ]
     },
     "execution_count": 77,
     "metadata": {},
     "output_type": "execute_result"
    }
   ],
   "source": [
    "dataset[dataset['fare']==0].shape"
   ]
  },
  {
   "cell_type": "code",
   "execution_count": 78,
   "metadata": {},
   "outputs": [
    {
     "data": {
      "text/html": [
       "<div>\n",
       "<style scoped>\n",
       "    .dataframe tbody tr th:only-of-type {\n",
       "        vertical-align: middle;\n",
       "    }\n",
       "\n",
       "    .dataframe tbody tr th {\n",
       "        vertical-align: top;\n",
       "    }\n",
       "\n",
       "    .dataframe thead th {\n",
       "        text-align: right;\n",
       "    }\n",
       "</style>\n",
       "<table border=\"1\" class=\"dataframe\">\n",
       "  <thead>\n",
       "    <tr style=\"text-align: right;\">\n",
       "      <th></th>\n",
       "      <th>additional_fare</th>\n",
       "      <th>duration</th>\n",
       "      <th>meter_waiting</th>\n",
       "      <th>meter_waiting_fare</th>\n",
       "      <th>meter_waiting_till_pickup</th>\n",
       "      <th>pick_lat</th>\n",
       "      <th>pick_lon</th>\n",
       "      <th>drop_lat</th>\n",
       "      <th>drop_lon</th>\n",
       "      <th>fare</th>\n",
       "      <th>label</th>\n",
       "      <th>time</th>\n",
       "      <th>trip_distance</th>\n",
       "      <th>distance</th>\n",
       "    </tr>\n",
       "  </thead>\n",
       "  <tbody>\n",
       "    <tr>\n",
       "      <th>0</th>\n",
       "      <td>10.5</td>\n",
       "      <td>834.0</td>\n",
       "      <td>56.0</td>\n",
       "      <td>0.0000</td>\n",
       "      <td>64.0</td>\n",
       "      <td>6.86252</td>\n",
       "      <td>79.8993</td>\n",
       "      <td>6.90330</td>\n",
       "      <td>79.8783</td>\n",
       "      <td>270.32</td>\n",
       "      <td>correct</td>\n",
       "      <td>840.0</td>\n",
       "      <td>3.164501</td>\n",
       "      <td>103.245929</td>\n",
       "    </tr>\n",
       "    <tr>\n",
       "      <th>1</th>\n",
       "      <td>10.5</td>\n",
       "      <td>791.0</td>\n",
       "      <td>47.0</td>\n",
       "      <td>0.0000</td>\n",
       "      <td>134.0</td>\n",
       "      <td>6.88589</td>\n",
       "      <td>79.8984</td>\n",
       "      <td>6.91373</td>\n",
       "      <td>79.8923</td>\n",
       "      <td>197.85</td>\n",
       "      <td>correct</td>\n",
       "      <td>780.0</td>\n",
       "      <td>1.968540</td>\n",
       "      <td>103.231285</td>\n",
       "    </tr>\n",
       "    <tr>\n",
       "      <th>2</th>\n",
       "      <td>10.5</td>\n",
       "      <td>1087.0</td>\n",
       "      <td>80.0</td>\n",
       "      <td>0.0000</td>\n",
       "      <td>61.0</td>\n",
       "      <td>6.90839</td>\n",
       "      <td>79.8651</td>\n",
       "      <td>6.93669</td>\n",
       "      <td>79.9146</td>\n",
       "      <td>301.64</td>\n",
       "      <td>correct</td>\n",
       "      <td>1080.0</td>\n",
       "      <td>3.917991</td>\n",
       "      <td>103.191361</td>\n",
       "    </tr>\n",
       "    <tr>\n",
       "      <th>3</th>\n",
       "      <td>10.5</td>\n",
       "      <td>598.0</td>\n",
       "      <td>271.0</td>\n",
       "      <td>15.6638</td>\n",
       "      <td>68.0</td>\n",
       "      <td>6.92570</td>\n",
       "      <td>79.8895</td>\n",
       "      <td>6.92748</td>\n",
       "      <td>79.8971</td>\n",
       "      <td>82.30</td>\n",
       "      <td>correct</td>\n",
       "      <td>600.0</td>\n",
       "      <td>0.535588</td>\n",
       "      <td>103.190511</td>\n",
       "    </tr>\n",
       "    <tr>\n",
       "      <th>4</th>\n",
       "      <td>10.5</td>\n",
       "      <td>3407.0</td>\n",
       "      <td>182.0</td>\n",
       "      <td>0.0000</td>\n",
       "      <td>112.0</td>\n",
       "      <td>7.13402</td>\n",
       "      <td>79.8969</td>\n",
       "      <td>6.91865</td>\n",
       "      <td>79.8649</td>\n",
       "      <td>1065.02</td>\n",
       "      <td>correct</td>\n",
       "      <td>3420.0</td>\n",
       "      <td>15.041557</td>\n",
       "      <td>103.031995</td>\n",
       "    </tr>\n",
       "  </tbody>\n",
       "</table>\n",
       "</div>"
      ],
      "text/plain": [
       "   additional_fare  duration  meter_waiting  meter_waiting_fare  \\\n",
       "0             10.5     834.0           56.0              0.0000   \n",
       "1             10.5     791.0           47.0              0.0000   \n",
       "2             10.5    1087.0           80.0              0.0000   \n",
       "3             10.5     598.0          271.0             15.6638   \n",
       "4             10.5    3407.0          182.0              0.0000   \n",
       "\n",
       "   meter_waiting_till_pickup  pick_lat  pick_lon  drop_lat  drop_lon     fare  \\\n",
       "0                       64.0   6.86252   79.8993   6.90330   79.8783   270.32   \n",
       "1                      134.0   6.88589   79.8984   6.91373   79.8923   197.85   \n",
       "2                       61.0   6.90839   79.8651   6.93669   79.9146   301.64   \n",
       "3                       68.0   6.92570   79.8895   6.92748   79.8971    82.30   \n",
       "4                      112.0   7.13402   79.8969   6.91865   79.8649  1065.02   \n",
       "\n",
       "     label    time  trip_distance    distance  \n",
       "0  correct   840.0       3.164501  103.245929  \n",
       "1  correct   780.0       1.968540  103.231285  \n",
       "2  correct  1080.0       3.917991  103.191361  \n",
       "3  correct   600.0       0.535588  103.190511  \n",
       "4  correct  3420.0      15.041557  103.031995  "
      ]
     },
     "execution_count": 78,
     "metadata": {},
     "output_type": "execute_result"
    }
   ],
   "source": [
    "dataset.head()"
   ]
  },
  {
   "cell_type": "code",
   "execution_count": 79,
   "metadata": {},
   "outputs": [
    {
     "data": {
      "text/plain": [
       "<matplotlib.axes._subplots.AxesSubplot at 0x7f48e00f6150>"
      ]
     },
     "execution_count": 79,
     "metadata": {},
     "output_type": "execute_result"
    },
    {
     "data": {
      "image/png": "[encoded data removed]",
      "text/plain": [
       "<Figure size 432x288 with 1 Axes>"
      ]
     },
     "metadata": {},
     "output_type": "display_data"
    }
   ],
   "source": [
    "sns.scatterplot(x=\"meter_waiting_fare\", y=\"meter_waiting\",data=train)"
   ]
  },
  {
   "cell_type": "code",
   "execution_count": 80,
   "metadata": {},
   "outputs": [],
   "source": [
    "b=dataset[((dataset['meter_waiting_fare'] != 0) & (dataset['meter_waiting'] != 0))]"
   ]
  },
  {
   "cell_type": "code",
   "execution_count": 81,
   "metadata": {},
   "outputs": [
    {
     "data": {
      "text/html": [
       "<div>\n",
       "<style scoped>\n",
       "    .dataframe tbody tr th:only-of-type {\n",
       "        vertical-align: middle;\n",
       "    }\n",
       "\n",
       "    .dataframe tbody tr th {\n",
       "        vertical-align: top;\n",
       "    }\n",
       "\n",
       "    .dataframe thead th {\n",
       "        text-align: right;\n",
       "    }\n",
       "</style>\n",
       "<table border=\"1\" class=\"dataframe\">\n",
       "  <thead>\n",
       "    <tr style=\"text-align: right;\">\n",
       "      <th></th>\n",
       "      <th>additional_fare</th>\n",
       "      <th>duration</th>\n",
       "      <th>meter_waiting</th>\n",
       "      <th>meter_waiting_fare</th>\n",
       "      <th>meter_waiting_till_pickup</th>\n",
       "      <th>pick_lat</th>\n",
       "      <th>pick_lon</th>\n",
       "      <th>drop_lat</th>\n",
       "      <th>drop_lon</th>\n",
       "      <th>fare</th>\n",
       "      <th>label</th>\n",
       "      <th>time</th>\n",
       "      <th>trip_distance</th>\n",
       "      <th>distance</th>\n",
       "    </tr>\n",
       "  </thead>\n",
       "  <tbody>\n",
       "    <tr>\n",
       "      <th>3</th>\n",
       "      <td>10.5</td>\n",
       "      <td>598.0</td>\n",
       "      <td>271.0</td>\n",
       "      <td>15.6638</td>\n",
       "      <td>68.0</td>\n",
       "      <td>6.92570</td>\n",
       "      <td>79.8895</td>\n",
       "      <td>6.92748</td>\n",
       "      <td>79.8971</td>\n",
       "      <td>82.30</td>\n",
       "      <td>correct</td>\n",
       "      <td>600.0</td>\n",
       "      <td>0.535588</td>\n",
       "      <td>103.190511</td>\n",
       "    </tr>\n",
       "    <tr>\n",
       "      <th>6</th>\n",
       "      <td>10.5</td>\n",
       "      <td>1333.0</td>\n",
       "      <td>295.0</td>\n",
       "      <td>17.1985</td>\n",
       "      <td>212.0</td>\n",
       "      <td>6.90760</td>\n",
       "      <td>79.9524</td>\n",
       "      <td>6.90634</td>\n",
       "      <td>79.9042</td>\n",
       "      <td>318.05</td>\n",
       "      <td>correct</td>\n",
       "      <td>1320.0</td>\n",
       "      <td>3.307275</td>\n",
       "      <td>103.267761</td>\n",
       "    </tr>\n",
       "    <tr>\n",
       "      <th>7</th>\n",
       "      <td>10.5</td>\n",
       "      <td>360.0</td>\n",
       "      <td>80.0</td>\n",
       "      <td>4.6640</td>\n",
       "      <td>3.0</td>\n",
       "      <td>7.26706</td>\n",
       "      <td>80.6064</td>\n",
       "      <td>7.27422</td>\n",
       "      <td>80.6124</td>\n",
       "      <td>100.32</td>\n",
       "      <td>correct</td>\n",
       "      <td>360.0</td>\n",
       "      <td>0.643307</td>\n",
       "      <td>103.716669</td>\n",
       "    </tr>\n",
       "    <tr>\n",
       "      <th>8</th>\n",
       "      <td>10.5</td>\n",
       "      <td>1539.0</td>\n",
       "      <td>588.0</td>\n",
       "      <td>33.9864</td>\n",
       "      <td>43.0</td>\n",
       "      <td>6.85137</td>\n",
       "      <td>79.9537</td>\n",
       "      <td>6.84779</td>\n",
       "      <td>79.9274</td>\n",
       "      <td>257.89</td>\n",
       "      <td>correct</td>\n",
       "      <td>1560.0</td>\n",
       "      <td>1.821062</td>\n",
       "      <td>103.366242</td>\n",
       "    </tr>\n",
       "    <tr>\n",
       "      <th>13</th>\n",
       "      <td>10.5</td>\n",
       "      <td>335.0</td>\n",
       "      <td>10.0</td>\n",
       "      <td>0.5830</td>\n",
       "      <td>17.0</td>\n",
       "      <td>6.85268</td>\n",
       "      <td>79.8631</td>\n",
       "      <td>6.86560</td>\n",
       "      <td>79.8640</td>\n",
       "      <td>126.87</td>\n",
       "      <td>correct</td>\n",
       "      <td>360.0</td>\n",
       "      <td>0.894818</td>\n",
       "      <td>103.243827</td>\n",
       "    </tr>\n",
       "  </tbody>\n",
       "</table>\n",
       "</div>"
      ],
      "text/plain": [
       "    additional_fare  duration  meter_waiting  meter_waiting_fare  \\\n",
       "3              10.5     598.0          271.0             15.6638   \n",
       "6              10.5    1333.0          295.0             17.1985   \n",
       "7              10.5     360.0           80.0              4.6640   \n",
       "8              10.5    1539.0          588.0             33.9864   \n",
       "13             10.5     335.0           10.0              0.5830   \n",
       "\n",
       "    meter_waiting_till_pickup  pick_lat  pick_lon  drop_lat  drop_lon    fare  \\\n",
       "3                        68.0   6.92570   79.8895   6.92748   79.8971   82.30   \n",
       "6                       212.0   6.90760   79.9524   6.90634   79.9042  318.05   \n",
       "7                         3.0   7.26706   80.6064   7.27422   80.6124  100.32   \n",
       "8                        43.0   6.85137   79.9537   6.84779   79.9274  257.89   \n",
       "13                       17.0   6.85268   79.8631   6.86560   79.8640  126.87   \n",
       "\n",
       "      label    time  trip_distance    distance  \n",
       "3   correct   600.0       0.535588  103.190511  \n",
       "6   correct  1320.0       3.307275  103.267761  \n",
       "7   correct   360.0       0.643307  103.716669  \n",
       "8   correct  1560.0       1.821062  103.366242  \n",
       "13  correct   360.0       0.894818  103.243827  "
      ]
     },
     "execution_count": 81,
     "metadata": {},
     "output_type": "execute_result"
    }
   ],
   "source": [
    "b.head()"
   ]
  },
  {
   "cell_type": "code",
   "execution_count": 82,
   "metadata": {},
   "outputs": [
    {
     "name": "stderr",
     "output_type": "stream",
     "text": [
      "/opt/conda/lib/python3.7/site-packages/ipykernel_launcher.py:1: SettingWithCopyWarning: \n",
      "A value is trying to be set on a copy of a slice from a DataFrame.\n",
      "Try using .loc[row_indexer,col_indexer] = value instead\n",
      "\n",
      "See the caveats in the documentation: https://pandas.pydata.org/pandas-docs/stable/user_guide/indexing.html#returning-a-view-versus-a-copy\n",
      "  \"\"\"Entry point for launching an IPython kernel.\n"
     ]
    }
   ],
   "source": [
    "b['waiting_fare_per']=b['meter_waiting_fare']/b['meter_waiting']"
   ]
  },
  {
   "cell_type": "code",
   "execution_count": 83,
   "metadata": {},
   "outputs": [
    {
     "data": {
      "text/plain": [
       "3     0.0578\n",
       "6     0.0583\n",
       "7     0.0583\n",
       "8     0.0578\n",
       "13    0.0583\n",
       "Name: waiting_fare_per, dtype: float64"
      ]
     },
     "execution_count": 83,
     "metadata": {},
     "output_type": "execute_result"
    }
   ],
   "source": [
    "b['waiting_fare_per'].head()"
   ]
  },
  {
   "cell_type": "code",
   "execution_count": 84,
   "metadata": {},
   "outputs": [
    {
     "data": {
      "text/plain": [
       "0.05566824898532394"
      ]
     },
     "execution_count": 84,
     "metadata": {},
     "output_type": "execute_result"
    }
   ],
   "source": [
    "b['waiting_fare_per'].mean()"
   ]
  },
  {
   "cell_type": "code",
   "execution_count": 85,
   "metadata": {},
   "outputs": [],
   "source": [
    "i=dataset[((dataset['meter_waiting_fare'] == 0) & (dataset['meter_waiting'] > 0))].index"
   ]
  },
  {
   "cell_type": "code",
   "execution_count": 86,
   "metadata": {},
   "outputs": [],
   "source": [
    "dataset.loc[i,'meter_waiting_fare']=dataset.loc[i,'meter_waiting']*b['waiting_fare_per'].mean()"
   ]
  },
  {
   "cell_type": "code",
   "execution_count": 87,
   "metadata": {},
   "outputs": [
    {
     "data": {
      "text/html": [
       "<div>\n",
       "<style scoped>\n",
       "    .dataframe tbody tr th:only-of-type {\n",
       "        vertical-align: middle;\n",
       "    }\n",
       "\n",
       "    .dataframe tbody tr th {\n",
       "        vertical-align: top;\n",
       "    }\n",
       "\n",
       "    .dataframe thead th {\n",
       "        text-align: right;\n",
       "    }\n",
       "</style>\n",
       "<table border=\"1\" class=\"dataframe\">\n",
       "  <thead>\n",
       "    <tr style=\"text-align: right;\">\n",
       "      <th></th>\n",
       "      <th>additional_fare</th>\n",
       "      <th>duration</th>\n",
       "      <th>meter_waiting</th>\n",
       "      <th>meter_waiting_fare</th>\n",
       "      <th>meter_waiting_till_pickup</th>\n",
       "      <th>pick_lat</th>\n",
       "      <th>pick_lon</th>\n",
       "      <th>drop_lat</th>\n",
       "      <th>drop_lon</th>\n",
       "      <th>fare</th>\n",
       "      <th>label</th>\n",
       "      <th>time</th>\n",
       "      <th>trip_distance</th>\n",
       "      <th>distance</th>\n",
       "    </tr>\n",
       "  </thead>\n",
       "  <tbody>\n",
       "    <tr>\n",
       "      <th>0</th>\n",
       "      <td>10.5</td>\n",
       "      <td>834.0</td>\n",
       "      <td>56.0</td>\n",
       "      <td>3.117422</td>\n",
       "      <td>64.0</td>\n",
       "      <td>6.86252</td>\n",
       "      <td>79.8993</td>\n",
       "      <td>6.90330</td>\n",
       "      <td>79.8783</td>\n",
       "      <td>270.32</td>\n",
       "      <td>correct</td>\n",
       "      <td>840.0</td>\n",
       "      <td>3.164501</td>\n",
       "      <td>103.245929</td>\n",
       "    </tr>\n",
       "    <tr>\n",
       "      <th>1</th>\n",
       "      <td>10.5</td>\n",
       "      <td>791.0</td>\n",
       "      <td>47.0</td>\n",
       "      <td>2.616408</td>\n",
       "      <td>134.0</td>\n",
       "      <td>6.88589</td>\n",
       "      <td>79.8984</td>\n",
       "      <td>6.91373</td>\n",
       "      <td>79.8923</td>\n",
       "      <td>197.85</td>\n",
       "      <td>correct</td>\n",
       "      <td>780.0</td>\n",
       "      <td>1.968540</td>\n",
       "      <td>103.231285</td>\n",
       "    </tr>\n",
       "    <tr>\n",
       "      <th>2</th>\n",
       "      <td>10.5</td>\n",
       "      <td>1087.0</td>\n",
       "      <td>80.0</td>\n",
       "      <td>4.453460</td>\n",
       "      <td>61.0</td>\n",
       "      <td>6.90839</td>\n",
       "      <td>79.8651</td>\n",
       "      <td>6.93669</td>\n",
       "      <td>79.9146</td>\n",
       "      <td>301.64</td>\n",
       "      <td>correct</td>\n",
       "      <td>1080.0</td>\n",
       "      <td>3.917991</td>\n",
       "      <td>103.191361</td>\n",
       "    </tr>\n",
       "    <tr>\n",
       "      <th>4</th>\n",
       "      <td>10.5</td>\n",
       "      <td>3407.0</td>\n",
       "      <td>182.0</td>\n",
       "      <td>10.131621</td>\n",
       "      <td>112.0</td>\n",
       "      <td>7.13402</td>\n",
       "      <td>79.8969</td>\n",
       "      <td>6.91865</td>\n",
       "      <td>79.8649</td>\n",
       "      <td>1065.02</td>\n",
       "      <td>correct</td>\n",
       "      <td>3420.0</td>\n",
       "      <td>15.041557</td>\n",
       "      <td>103.031995</td>\n",
       "    </tr>\n",
       "    <tr>\n",
       "      <th>5</th>\n",
       "      <td>10.5</td>\n",
       "      <td>1246.0</td>\n",
       "      <td>487.0</td>\n",
       "      <td>27.110437</td>\n",
       "      <td>133.0</td>\n",
       "      <td>6.84371</td>\n",
       "      <td>79.9051</td>\n",
       "      <td>6.85069</td>\n",
       "      <td>79.8624</td>\n",
       "      <td>266.62</td>\n",
       "      <td>correct</td>\n",
       "      <td>1200.0</td>\n",
       "      <td>2.968678</td>\n",
       "      <td>103.289286</td>\n",
       "    </tr>\n",
       "    <tr>\n",
       "      <th>...</th>\n",
       "      <td>...</td>\n",
       "      <td>...</td>\n",
       "      <td>...</td>\n",
       "      <td>...</td>\n",
       "      <td>...</td>\n",
       "      <td>...</td>\n",
       "      <td>...</td>\n",
       "      <td>...</td>\n",
       "      <td>...</td>\n",
       "      <td>...</td>\n",
       "      <td>...</td>\n",
       "      <td>...</td>\n",
       "      <td>...</td>\n",
       "      <td>...</td>\n",
       "    </tr>\n",
       "    <tr>\n",
       "      <th>25522</th>\n",
       "      <td>10.5</td>\n",
       "      <td>1206.0</td>\n",
       "      <td>201.0</td>\n",
       "      <td>11.189318</td>\n",
       "      <td>123.0</td>\n",
       "      <td>6.90318</td>\n",
       "      <td>79.8522</td>\n",
       "      <td>6.84278</td>\n",
       "      <td>79.8754</td>\n",
       "      <td>299.74</td>\n",
       "      <td>NaN</td>\n",
       "      <td>1200.0</td>\n",
       "      <td>4.466386</td>\n",
       "      <td>103.224624</td>\n",
       "    </tr>\n",
       "    <tr>\n",
       "      <th>25524</th>\n",
       "      <td>10.5</td>\n",
       "      <td>2043.0</td>\n",
       "      <td>74.0</td>\n",
       "      <td>4.119450</td>\n",
       "      <td>44.0</td>\n",
       "      <td>6.86026</td>\n",
       "      <td>79.9063</td>\n",
       "      <td>6.86236</td>\n",
       "      <td>79.9971</td>\n",
       "      <td>430.89</td>\n",
       "      <td>NaN</td>\n",
       "      <td>2040.0</td>\n",
       "      <td>6.230433</td>\n",
       "      <td>103.365440</td>\n",
       "    </tr>\n",
       "    <tr>\n",
       "      <th>25528</th>\n",
       "      <td>10.5</td>\n",
       "      <td>1579.0</td>\n",
       "      <td>30.0</td>\n",
       "      <td>1.670047</td>\n",
       "      <td>252.0</td>\n",
       "      <td>6.88485</td>\n",
       "      <td>79.9022</td>\n",
       "      <td>6.93582</td>\n",
       "      <td>79.8957</td>\n",
       "      <td>267.38</td>\n",
       "      <td>NaN</td>\n",
       "      <td>1560.0</td>\n",
       "      <td>3.549796</td>\n",
       "      <td>103.221497</td>\n",
       "    </tr>\n",
       "    <tr>\n",
       "      <th>25532</th>\n",
       "      <td>10.5</td>\n",
       "      <td>689.0</td>\n",
       "      <td>6.0</td>\n",
       "      <td>0.334009</td>\n",
       "      <td>80.0</td>\n",
       "      <td>7.15432</td>\n",
       "      <td>79.8719</td>\n",
       "      <td>7.20299</td>\n",
       "      <td>79.8605</td>\n",
       "      <td>268.95</td>\n",
       "      <td>NaN</td>\n",
       "      <td>660.0</td>\n",
       "      <td>3.452385</td>\n",
       "      <td>102.795721</td>\n",
       "    </tr>\n",
       "    <tr>\n",
       "      <th>25537</th>\n",
       "      <td>10.5</td>\n",
       "      <td>1378.0</td>\n",
       "      <td>80.0</td>\n",
       "      <td>4.453460</td>\n",
       "      <td>125.0</td>\n",
       "      <td>6.91293</td>\n",
       "      <td>79.9656</td>\n",
       "      <td>6.92112</td>\n",
       "      <td>79.8980</td>\n",
       "      <td>379.85</td>\n",
       "      <td>NaN</td>\n",
       "      <td>1380.0</td>\n",
       "      <td>4.671116</td>\n",
       "      <td>103.258499</td>\n",
       "    </tr>\n",
       "  </tbody>\n",
       "</table>\n",
       "<p>12111 rows × 14 columns</p>\n",
       "</div>"
      ],
      "text/plain": [
       "       additional_fare  duration  meter_waiting  meter_waiting_fare  \\\n",
       "0                 10.5     834.0           56.0            3.117422   \n",
       "1                 10.5     791.0           47.0            2.616408   \n",
       "2                 10.5    1087.0           80.0            4.453460   \n",
       "4                 10.5    3407.0          182.0           10.131621   \n",
       "5                 10.5    1246.0          487.0           27.110437   \n",
       "...                ...       ...            ...                 ...   \n",
       "25522             10.5    1206.0          201.0           11.189318   \n",
       "25524             10.5    2043.0           74.0            4.119450   \n",
       "25528             10.5    1579.0           30.0            1.670047   \n",
       "25532             10.5     689.0            6.0            0.334009   \n",
       "25537             10.5    1378.0           80.0            4.453460   \n",
       "\n",
       "       meter_waiting_till_pickup  pick_lat  pick_lon  drop_lat  drop_lon  \\\n",
       "0                           64.0   6.86252   79.8993   6.90330   79.8783   \n",
       "1                          134.0   6.88589   79.8984   6.91373   79.8923   \n",
       "2                           61.0   6.90839   79.8651   6.93669   79.9146   \n",
       "4                          112.0   7.13402   79.8969   6.91865   79.8649   \n",
       "5                          133.0   6.84371   79.9051   6.85069   79.8624   \n",
       "...                          ...       ...       ...       ...       ...   \n",
       "25522                      123.0   6.90318   79.8522   6.84278   79.8754   \n",
       "25524                       44.0   6.86026   79.9063   6.86236   79.9971   \n",
       "25528                      252.0   6.88485   79.9022   6.93582   79.8957   \n",
       "25532                       80.0   7.15432   79.8719   7.20299   79.8605   \n",
       "25537                      125.0   6.91293   79.9656   6.92112   79.8980   \n",
       "\n",
       "          fare    label    time  trip_distance    distance  \n",
       "0       270.32  correct   840.0       3.164501  103.245929  \n",
       "1       197.85  correct   780.0       1.968540  103.231285  \n",
       "2       301.64  correct  1080.0       3.917991  103.191361  \n",
       "4      1065.02  correct  3420.0      15.041557  103.031995  \n",
       "5       266.62  correct  1200.0       2.968678  103.289286  \n",
       "...        ...      ...     ...            ...         ...  \n",
       "25522   299.74      NaN  1200.0       4.466386  103.224624  \n",
       "25524   430.89      NaN  2040.0       6.230433  103.365440  \n",
       "25528   267.38      NaN  1560.0       3.549796  103.221497  \n",
       "25532   268.95      NaN   660.0       3.452385  102.795721  \n",
       "25537   379.85      NaN  1380.0       4.671116  103.258499  \n",
       "\n",
       "[12111 rows x 14 columns]"
      ]
     },
     "execution_count": 87,
     "metadata": {},
     "output_type": "execute_result"
    }
   ],
   "source": [
    "dataset.loc[i]"
   ]
  },
  {
   "cell_type": "code",
   "execution_count": 88,
   "metadata": {},
   "outputs": [
    {
     "name": "stderr",
     "output_type": "stream",
     "text": [
      "/opt/conda/lib/python3.7/site-packages/pandas/core/frame.py:3997: SettingWithCopyWarning: \n",
      "A value is trying to be set on a copy of a slice from a DataFrame\n",
      "\n",
      "See the caveats in the documentation: https://pandas.pydata.org/pandas-docs/stable/user_guide/indexing.html#returning-a-view-versus-a-copy\n",
      "  errors=errors,\n"
     ]
    }
   ],
   "source": [
    "train = dataset[:train_len]\n",
    "test = dataset[train_len:]\n",
    "test.drop(labels=[\"label\"],axis = 1,inplace=True)"
   ]
  },
  {
   "cell_type": "code",
   "execution_count": 89,
   "metadata": {},
   "outputs": [
    {
     "data": {
      "text/plain": [
       "<matplotlib.axes._subplots.AxesSubplot at 0x7f48d76cb450>"
      ]
     },
     "execution_count": 89,
     "metadata": {},
     "output_type": "execute_result"
    },
    {
     "data": {
      "image/png": "[encoded data removed]",
      "text/plain": [
       "<Figure size 936x936 with 2 Axes>"
      ]
     },
     "metadata": {},
     "output_type": "display_data"
    }
   ],
   "source": [
    "plt.figure(figsize=[13,13])\n",
    "sns.heatmap(train.corr(),annot=True, fmt = \".2f\", cmap = \"coolwarm\")"
   ]
  },
  {
   "cell_type": "code",
   "execution_count": 90,
   "metadata": {},
   "outputs": [
    {
     "data": {
      "text/plain": [
       "<matplotlib.axes._subplots.AxesSubplot at 0x7f48d0a93b10>"
      ]
     },
     "execution_count": 90,
     "metadata": {},
     "output_type": "execute_result"
    },
    {
     "data": {
      "image/png": "[encoded data removed]",
      "text/plain": [
       "<Figure size 432x288 with 1 Axes>"
      ]
     },
     "metadata": {},
     "output_type": "display_data"
    }
   ],
   "source": [
    "sns.scatterplot(x=\"time\", y=\"duration\",data=dataset)"
   ]
  },
  {
   "cell_type": "markdown",
   "metadata": {},
   "source": [
    "duration is filled with time "
   ]
  },
  {
   "cell_type": "code",
   "execution_count": 91,
   "metadata": {},
   "outputs": [
    {
     "data": {
      "text/plain": [
       "<matplotlib.axes._subplots.AxesSubplot at 0x7f48d02d0950>"
      ]
     },
     "execution_count": 91,
     "metadata": {},
     "output_type": "execute_result"
    },
    {
     "data": {
      "image/png": "[encoded data removed]",
      "text/plain": [
       "<Figure size 432x288 with 1 Axes>"
      ]
     },
     "metadata": {},
     "output_type": "display_data"
    }
   ],
   "source": [
    "sns.scatterplot(x=\"meter_waiting\", y=\"meter_waiting_fare\",hue=\"label\",data=dataset)"
   ]
  },
  {
   "cell_type": "code",
   "execution_count": 92,
   "metadata": {},
   "outputs": [
    {
     "name": "stdout",
     "output_type": "stream",
     "text": [
      "<class 'pandas.core.frame.DataFrame'>\n",
      "RangeIndex: 16965 entries, 0 to 16964\n",
      "Data columns (total 14 columns):\n",
      " #   Column                     Non-Null Count  Dtype  \n",
      "---  ------                     --------------  -----  \n",
      " 0   additional_fare            16965 non-null  float64\n",
      " 1   duration                   16965 non-null  float64\n",
      " 2   meter_waiting              16965 non-null  float64\n",
      " 3   meter_waiting_fare         16965 non-null  float64\n",
      " 4   meter_waiting_till_pickup  16965 non-null  float64\n",
      " 5   pick_lat                   16965 non-null  float64\n",
      " 6   pick_lon                   16965 non-null  float64\n",
      " 7   drop_lat                   16965 non-null  float64\n",
      " 8   drop_lon                   16965 non-null  float64\n",
      " 9   fare                       16965 non-null  float64\n",
      " 10  label                      16965 non-null  object \n",
      " 11  time                       16965 non-null  float64\n",
      " 12  trip_distance              16965 non-null  float64\n",
      " 13  distance                   16965 non-null  float64\n",
      "dtypes: float64(13), object(1)\n",
      "memory usage: 1.8+ MB\n"
     ]
    }
   ],
   "source": [
    "train.info()"
   ]
  },
  {
   "cell_type": "code",
   "execution_count": 93,
   "metadata": {},
   "outputs": [
    {
     "name": "stderr",
     "output_type": "stream",
     "text": [
      "/opt/conda/lib/python3.7/site-packages/ipykernel_launcher.py:1: SettingWithCopyWarning: \n",
      "A value is trying to be set on a copy of a slice from a DataFrame.\n",
      "Try using .loc[row_indexer,col_indexer] = value instead\n",
      "\n",
      "See the caveats in the documentation: https://pandas.pydata.org/pandas-docs/stable/user_guide/indexing.html#returning-a-view-versus-a-copy\n",
      "  \"\"\"Entry point for launching an IPython kernel.\n"
     ]
    }
   ],
   "source": [
    "train[\"label\"] = train[\"label\"].map({\"correct\": 1, \"incorrect\":0})"
   ]
  },
  {
   "cell_type": "code",
   "execution_count": 94,
   "metadata": {},
   "outputs": [
    {
     "name": "stdout",
     "output_type": "stream",
     "text": [
      "<class 'pandas.core.frame.DataFrame'>\n",
      "RangeIndex: 16965 entries, 0 to 16964\n",
      "Data columns (total 14 columns):\n",
      " #   Column                     Non-Null Count  Dtype  \n",
      "---  ------                     --------------  -----  \n",
      " 0   additional_fare            16965 non-null  float64\n",
      " 1   duration                   16965 non-null  float64\n",
      " 2   meter_waiting              16965 non-null  float64\n",
      " 3   meter_waiting_fare         16965 non-null  float64\n",
      " 4   meter_waiting_till_pickup  16965 non-null  float64\n",
      " 5   pick_lat                   16965 non-null  float64\n",
      " 6   pick_lon                   16965 non-null  float64\n",
      " 7   drop_lat                   16965 non-null  float64\n",
      " 8   drop_lon                   16965 non-null  float64\n",
      " 9   fare                       16965 non-null  float64\n",
      " 10  label                      16965 non-null  int64  \n",
      " 11  time                       16965 non-null  float64\n",
      " 12  trip_distance              16965 non-null  float64\n",
      " 13  distance                   16965 non-null  float64\n",
      "dtypes: float64(13), int64(1)\n",
      "memory usage: 1.8 MB\n"
     ]
    }
   ],
   "source": [
    "train.info()"
   ]
  },
  {
   "cell_type": "code",
   "execution_count": 95,
   "metadata": {},
   "outputs": [
    {
     "data": {
      "text/plain": [
       "additional_fare              0\n",
       "duration                     0\n",
       "meter_waiting                0\n",
       "meter_waiting_fare           0\n",
       "meter_waiting_till_pickup    0\n",
       "pick_lat                     0\n",
       "pick_lon                     0\n",
       "drop_lat                     0\n",
       "drop_lon                     0\n",
       "fare                         0\n",
       "time                         0\n",
       "trip_distance                0\n",
       "distance                     0\n",
       "dtype: int64"
      ]
     },
     "execution_count": 95,
     "metadata": {},
     "output_type": "execute_result"
    }
   ],
   "source": [
    "test.isnull().sum()"
   ]
  },
  {
   "cell_type": "code",
   "execution_count": 96,
   "metadata": {},
   "outputs": [
    {
     "data": {
      "text/plain": [
       "1    15441\n",
       "0     1524\n",
       "Name: label, dtype: int64"
      ]
     },
     "execution_count": 96,
     "metadata": {},
     "output_type": "execute_result"
    }
   ],
   "source": [
    "train['label'].value_counts()"
   ]
  },
  {
   "cell_type": "code",
   "execution_count": 97,
   "metadata": {},
   "outputs": [],
   "source": [
    "train_new = train[(train['label']==1)]"
   ]
  },
  {
   "cell_type": "code",
   "execution_count": 98,
   "metadata": {},
   "outputs": [
    {
     "data": {
      "text/plain": [
       "(15441, 14)"
      ]
     },
     "execution_count": 98,
     "metadata": {},
     "output_type": "execute_result"
    }
   ],
   "source": [
    "train_new.shape"
   ]
  },
  {
   "cell_type": "code",
   "execution_count": 99,
   "metadata": {},
   "outputs": [],
   "source": [
    "Y_train_fare  = train_new[\"fare\"][:7000]\n",
    "\n",
    "X_train_fare = train_new.drop(labels = [\"label\",\"fare\"],axis = 1)[:7000]\n",
    "\n",
    "X_test_fare = test.drop(labels = [\"fare\"],axis = 1)"
   ]
  },
  {
   "cell_type": "code",
   "execution_count": 100,
   "metadata": {},
   "outputs": [],
   "source": [
    "# from sklearn.preprocX_test_fareessing import StandardScaler\n",
    "# scaler = StandardScaler()\n",
    "# X_train_fare = scaler.fit_transform(X_train_fare)\n",
    "# X_test_fare = scaler.transform(X_test_fare)"
   ]
  },
  {
   "cell_type": "code",
   "execution_count": 101,
   "metadata": {},
   "outputs": [
    {
     "data": {
      "text/plain": [
       "XGBRegressor(base_score=0.5, booster=None, colsample_bylevel=1,\n",
       "             colsample_bynode=1, colsample_bytree=1, gamma=0, gpu_id=-1,\n",
       "             importance_type='gain', interaction_constraints=None,\n",
       "             learning_rate=0.05, max_delta_step=0, max_depth=6,\n",
       "             min_child_weight=1, missing=nan, monotone_constraints=None,\n",
       "             n_estimators=3000, n_jobs=4, num_parallel_tree=1,\n",
       "             objective='reg:squarederror', random_state=0, reg_alpha=0,\n",
       "             reg_lambda=1, scale_pos_weight=1, subsample=1, tree_method=None,\n",
       "             validate_parameters=False, verbosity=None)"
      ]
     },
     "execution_count": 101,
     "metadata": {},
     "output_type": "execute_result"
    }
   ],
   "source": [
    "from xgboost import XGBRegressor\n",
    "from sklearn.model_selection import train_test_split\n",
    "from sklearn.metrics import mean_absolute_error\n",
    "\n",
    "rf_model_on_full_data = XGBRegressor(n_estimators=3000, learning_rate= 0.05, n_jobs=4)\n",
    "rf_model_on_full_data.fit(X_train_fare,Y_train_fare)"
   ]
  },
  {
   "cell_type": "code",
   "execution_count": 102,
   "metadata": {},
   "outputs": [],
   "source": [
    "X_preds=rf_model_on_full_data.predict(X_train_fare)"
   ]
  },
  {
   "cell_type": "code",
   "execution_count": 103,
   "metadata": {},
   "outputs": [],
   "source": [
    "# X_preds = rf_model_on_full_data.predict(X_test_fare)"
   ]
  },
  {
   "cell_type": "code",
   "execution_count": 104,
   "metadata": {},
   "outputs": [],
   "source": [
    "# Test_data = pd.DataFrame({'predicted':X_preds,'fare':Y_train_fare.values}).reset_index(drop=True)"
   ]
  },
  {
   "cell_type": "code",
   "execution_count": 105,
   "metadata": {},
   "outputs": [],
   "source": [
    "train_X =train.drop(labels = [\"label\",\"fare\"],axis = 1)"
   ]
  },
  {
   "cell_type": "code",
   "execution_count": 106,
   "metadata": {},
   "outputs": [],
   "source": [
    "X_preds=rf_model_on_full_data.predict(train_X)"
   ]
  },
  {
   "cell_type": "code",
   "execution_count": 107,
   "metadata": {},
   "outputs": [
    {
     "data": {
      "text/html": [
       "<div>\n",
       "<style scoped>\n",
       "    .dataframe tbody tr th:only-of-type {\n",
       "        vertical-align: middle;\n",
       "    }\n",
       "\n",
       "    .dataframe tbody tr th {\n",
       "        vertical-align: top;\n",
       "    }\n",
       "\n",
       "    .dataframe thead th {\n",
       "        text-align: right;\n",
       "    }\n",
       "</style>\n",
       "<table border=\"1\" class=\"dataframe\">\n",
       "  <thead>\n",
       "    <tr style=\"text-align: right;\">\n",
       "      <th></th>\n",
       "      <th>additional_fare</th>\n",
       "      <th>duration</th>\n",
       "      <th>meter_waiting</th>\n",
       "      <th>meter_waiting_fare</th>\n",
       "      <th>meter_waiting_till_pickup</th>\n",
       "      <th>pick_lat</th>\n",
       "      <th>pick_lon</th>\n",
       "      <th>drop_lat</th>\n",
       "      <th>drop_lon</th>\n",
       "      <th>fare</th>\n",
       "      <th>label</th>\n",
       "      <th>time</th>\n",
       "      <th>trip_distance</th>\n",
       "      <th>distance</th>\n",
       "    </tr>\n",
       "  </thead>\n",
       "  <tbody>\n",
       "    <tr>\n",
       "      <th>0</th>\n",
       "      <td>10.5</td>\n",
       "      <td>834.0</td>\n",
       "      <td>56.0</td>\n",
       "      <td>3.117422</td>\n",
       "      <td>64.0</td>\n",
       "      <td>6.86252</td>\n",
       "      <td>79.8993</td>\n",
       "      <td>6.90330</td>\n",
       "      <td>79.8783</td>\n",
       "      <td>270.32</td>\n",
       "      <td>1</td>\n",
       "      <td>840.0</td>\n",
       "      <td>3.164501</td>\n",
       "      <td>103.245929</td>\n",
       "    </tr>\n",
       "    <tr>\n",
       "      <th>1</th>\n",
       "      <td>10.5</td>\n",
       "      <td>791.0</td>\n",
       "      <td>47.0</td>\n",
       "      <td>2.616408</td>\n",
       "      <td>134.0</td>\n",
       "      <td>6.88589</td>\n",
       "      <td>79.8984</td>\n",
       "      <td>6.91373</td>\n",
       "      <td>79.8923</td>\n",
       "      <td>197.85</td>\n",
       "      <td>1</td>\n",
       "      <td>780.0</td>\n",
       "      <td>1.968540</td>\n",
       "      <td>103.231285</td>\n",
       "    </tr>\n",
       "    <tr>\n",
       "      <th>2</th>\n",
       "      <td>10.5</td>\n",
       "      <td>1087.0</td>\n",
       "      <td>80.0</td>\n",
       "      <td>4.453460</td>\n",
       "      <td>61.0</td>\n",
       "      <td>6.90839</td>\n",
       "      <td>79.8651</td>\n",
       "      <td>6.93669</td>\n",
       "      <td>79.9146</td>\n",
       "      <td>301.64</td>\n",
       "      <td>1</td>\n",
       "      <td>1080.0</td>\n",
       "      <td>3.917991</td>\n",
       "      <td>103.191361</td>\n",
       "    </tr>\n",
       "    <tr>\n",
       "      <th>3</th>\n",
       "      <td>10.5</td>\n",
       "      <td>598.0</td>\n",
       "      <td>271.0</td>\n",
       "      <td>15.663800</td>\n",
       "      <td>68.0</td>\n",
       "      <td>6.92570</td>\n",
       "      <td>79.8895</td>\n",
       "      <td>6.92748</td>\n",
       "      <td>79.8971</td>\n",
       "      <td>82.30</td>\n",
       "      <td>1</td>\n",
       "      <td>600.0</td>\n",
       "      <td>0.535588</td>\n",
       "      <td>103.190511</td>\n",
       "    </tr>\n",
       "    <tr>\n",
       "      <th>4</th>\n",
       "      <td>10.5</td>\n",
       "      <td>3407.0</td>\n",
       "      <td>182.0</td>\n",
       "      <td>10.131621</td>\n",
       "      <td>112.0</td>\n",
       "      <td>7.13402</td>\n",
       "      <td>79.8969</td>\n",
       "      <td>6.91865</td>\n",
       "      <td>79.8649</td>\n",
       "      <td>1065.02</td>\n",
       "      <td>1</td>\n",
       "      <td>3420.0</td>\n",
       "      <td>15.041557</td>\n",
       "      <td>103.031995</td>\n",
       "    </tr>\n",
       "  </tbody>\n",
       "</table>\n",
       "</div>"
      ],
      "text/plain": [
       "   additional_fare  duration  meter_waiting  meter_waiting_fare  \\\n",
       "0             10.5     834.0           56.0            3.117422   \n",
       "1             10.5     791.0           47.0            2.616408   \n",
       "2             10.5    1087.0           80.0            4.453460   \n",
       "3             10.5     598.0          271.0           15.663800   \n",
       "4             10.5    3407.0          182.0           10.131621   \n",
       "\n",
       "   meter_waiting_till_pickup  pick_lat  pick_lon  drop_lat  drop_lon     fare  \\\n",
       "0                       64.0   6.86252   79.8993   6.90330   79.8783   270.32   \n",
       "1                      134.0   6.88589   79.8984   6.91373   79.8923   197.85   \n",
       "2                       61.0   6.90839   79.8651   6.93669   79.9146   301.64   \n",
       "3                       68.0   6.92570   79.8895   6.92748   79.8971    82.30   \n",
       "4                      112.0   7.13402   79.8969   6.91865   79.8649  1065.02   \n",
       "\n",
       "   label    time  trip_distance    distance  \n",
       "0      1   840.0       3.164501  103.245929  \n",
       "1      1   780.0       1.968540  103.231285  \n",
       "2      1  1080.0       3.917991  103.191361  \n",
       "3      1   600.0       0.535588  103.190511  \n",
       "4      1  3420.0      15.041557  103.031995  "
      ]
     },
     "execution_count": 107,
     "metadata": {},
     "output_type": "execute_result"
    }
   ],
   "source": [
    "train.head()"
   ]
  },
  {
   "cell_type": "code",
   "execution_count": 108,
   "metadata": {},
   "outputs": [],
   "source": [
    "classic_train= pd.DataFrame({'predicted':X_preds,'fare':train['fare'],'label':train['label']}).reset_index(drop=True)"
   ]
  },
  {
   "cell_type": "code",
   "execution_count": 109,
   "metadata": {},
   "outputs": [
    {
     "data": {
      "text/html": [
       "<div>\n",
       "<style scoped>\n",
       "    .dataframe tbody tr th:only-of-type {\n",
       "        vertical-align: middle;\n",
       "    }\n",
       "\n",
       "    .dataframe tbody tr th {\n",
       "        vertical-align: top;\n",
       "    }\n",
       "\n",
       "    .dataframe thead th {\n",
       "        text-align: right;\n",
       "    }\n",
       "</style>\n",
       "<table border=\"1\" class=\"dataframe\">\n",
       "  <thead>\n",
       "    <tr style=\"text-align: right;\">\n",
       "      <th></th>\n",
       "      <th>predicted</th>\n",
       "      <th>fare</th>\n",
       "      <th>label</th>\n",
       "    </tr>\n",
       "  </thead>\n",
       "  <tbody>\n",
       "    <tr>\n",
       "      <th>7889</th>\n",
       "      <td>118.611710</td>\n",
       "      <td>142.09</td>\n",
       "      <td>1</td>\n",
       "    </tr>\n",
       "    <tr>\n",
       "      <th>7891</th>\n",
       "      <td>267.044281</td>\n",
       "      <td>263.60</td>\n",
       "      <td>1</td>\n",
       "    </tr>\n",
       "    <tr>\n",
       "      <th>7892</th>\n",
       "      <td>280.087402</td>\n",
       "      <td>306.16</td>\n",
       "      <td>1</td>\n",
       "    </tr>\n",
       "    <tr>\n",
       "      <th>7893</th>\n",
       "      <td>349.844788</td>\n",
       "      <td>321.64</td>\n",
       "      <td>1</td>\n",
       "    </tr>\n",
       "    <tr>\n",
       "      <th>7894</th>\n",
       "      <td>68.078560</td>\n",
       "      <td>60.67</td>\n",
       "      <td>1</td>\n",
       "    </tr>\n",
       "    <tr>\n",
       "      <th>...</th>\n",
       "      <td>...</td>\n",
       "      <td>...</td>\n",
       "      <td>...</td>\n",
       "    </tr>\n",
       "    <tr>\n",
       "      <th>16960</th>\n",
       "      <td>183.303253</td>\n",
       "      <td>198.26</td>\n",
       "      <td>1</td>\n",
       "    </tr>\n",
       "    <tr>\n",
       "      <th>16961</th>\n",
       "      <td>509.274323</td>\n",
       "      <td>581.23</td>\n",
       "      <td>1</td>\n",
       "    </tr>\n",
       "    <tr>\n",
       "      <th>16962</th>\n",
       "      <td>77.909866</td>\n",
       "      <td>76.20</td>\n",
       "      <td>1</td>\n",
       "    </tr>\n",
       "    <tr>\n",
       "      <th>16963</th>\n",
       "      <td>182.078217</td>\n",
       "      <td>133.31</td>\n",
       "      <td>1</td>\n",
       "    </tr>\n",
       "    <tr>\n",
       "      <th>16964</th>\n",
       "      <td>101.930229</td>\n",
       "      <td>98.57</td>\n",
       "      <td>1</td>\n",
       "    </tr>\n",
       "  </tbody>\n",
       "</table>\n",
       "<p>8441 rows × 3 columns</p>\n",
       "</div>"
      ],
      "text/plain": [
       "        predicted    fare  label\n",
       "7889   118.611710  142.09      1\n",
       "7891   267.044281  263.60      1\n",
       "7892   280.087402  306.16      1\n",
       "7893   349.844788  321.64      1\n",
       "7894    68.078560   60.67      1\n",
       "...           ...     ...    ...\n",
       "16960  183.303253  198.26      1\n",
       "16961  509.274323  581.23      1\n",
       "16962   77.909866   76.20      1\n",
       "16963  182.078217  133.31      1\n",
       "16964  101.930229   98.57      1\n",
       "\n",
       "[8441 rows x 3 columns]"
      ]
     },
     "execution_count": 109,
     "metadata": {},
     "output_type": "execute_result"
    }
   ],
   "source": [
    "classic_train[classic_train['label']==1][7000:]"
   ]
  },
  {
   "cell_type": "code",
   "execution_count": 110,
   "metadata": {},
   "outputs": [],
   "source": [
    "Y_train = classic_train[[\"label\"]]\n",
    "X_train = classic_train.drop(labels = [\"label\"],axis = 1)"
   ]
  },
  {
   "cell_type": "code",
   "execution_count": 111,
   "metadata": {},
   "outputs": [
    {
     "data": {
      "text/plain": [
       "(16965, 1)"
      ]
     },
     "execution_count": 111,
     "metadata": {},
     "output_type": "execute_result"
    }
   ],
   "source": [
    "Y_train.shape"
   ]
  },
  {
   "cell_type": "code",
   "execution_count": 112,
   "metadata": {},
   "outputs": [],
   "source": [
    "X_preds=rf_model_on_full_data.predict(X_test_fare)"
   ]
  },
  {
   "cell_type": "code",
   "execution_count": 113,
   "metadata": {},
   "outputs": [],
   "source": [
    "test = pd.DataFrame({'predicted':X_preds,'fare':test['fare'].values}).reset_index(drop=True)"
   ]
  },
  {
   "cell_type": "code",
   "execution_count": 114,
   "metadata": {},
   "outputs": [
    {
     "data": {
      "text/html": [
       "<div>\n",
       "<style scoped>\n",
       "    .dataframe tbody tr th:only-of-type {\n",
       "        vertical-align: middle;\n",
       "    }\n",
       "\n",
       "    .dataframe tbody tr th {\n",
       "        vertical-align: top;\n",
       "    }\n",
       "\n",
       "    .dataframe thead th {\n",
       "        text-align: right;\n",
       "    }\n",
       "</style>\n",
       "<table border=\"1\" class=\"dataframe\">\n",
       "  <thead>\n",
       "    <tr style=\"text-align: right;\">\n",
       "      <th></th>\n",
       "      <th>predicted</th>\n",
       "      <th>fare</th>\n",
       "    </tr>\n",
       "  </thead>\n",
       "  <tbody>\n",
       "    <tr>\n",
       "      <th>0</th>\n",
       "      <td>291.773560</td>\n",
       "      <td>289.27</td>\n",
       "    </tr>\n",
       "    <tr>\n",
       "      <th>1</th>\n",
       "      <td>1538.853760</td>\n",
       "      <td>1912.70</td>\n",
       "    </tr>\n",
       "    <tr>\n",
       "      <th>2</th>\n",
       "      <td>302.745514</td>\n",
       "      <td>394.00</td>\n",
       "    </tr>\n",
       "    <tr>\n",
       "      <th>3</th>\n",
       "      <td>154.805161</td>\n",
       "      <td>154.32</td>\n",
       "    </tr>\n",
       "    <tr>\n",
       "      <th>4</th>\n",
       "      <td>158.250320</td>\n",
       "      <td>147.47</td>\n",
       "    </tr>\n",
       "  </tbody>\n",
       "</table>\n",
       "</div>"
      ],
      "text/plain": [
       "     predicted     fare\n",
       "0   291.773560   289.27\n",
       "1  1538.853760  1912.70\n",
       "2   302.745514   394.00\n",
       "3   154.805161   154.32\n",
       "4   158.250320   147.47"
      ]
     },
     "execution_count": 114,
     "metadata": {},
     "output_type": "execute_result"
    }
   ],
   "source": [
    "test.head(5)"
   ]
  },
  {
   "cell_type": "code",
   "execution_count": 115,
   "metadata": {},
   "outputs": [],
   "source": [
    "# Test_data['prediction']=Test_data['diff'].le(0.5).astype(int)"
   ]
  },
  {
   "cell_type": "code",
   "execution_count": 116,
   "metadata": {},
   "outputs": [],
   "source": [
    "# Test_data['prediction'].map({True : 1, False: 0})"
   ]
  },
  {
   "cell_type": "code",
   "execution_count": 117,
   "metadata": {},
   "outputs": [],
   "source": [
    "# Test_data.head(5)"
   ]
  },
  {
   "cell_type": "code",
   "execution_count": 118,
   "metadata": {},
   "outputs": [],
   "source": [
    "# IDtest.head()"
   ]
  },
  {
   "cell_type": "code",
   "execution_count": 119,
   "metadata": {},
   "outputs": [],
   "source": [
    "# Test_data['prediction'].head()"
   ]
  },
  {
   "cell_type": "code",
   "execution_count": 120,
   "metadata": {},
   "outputs": [],
   "source": [
    "# results = pd.concat([IDtest,Test_data['prediction']],axis=1)\n",
    "\n",
    "# results.to_csv(\"regression.csv\",index=False)"
   ]
  },
  {
   "cell_type": "code",
   "execution_count": 121,
   "metadata": {},
   "outputs": [],
   "source": [
    "# results.head(20)"
   ]
  },
  {
   "cell_type": "code",
   "execution_count": 122,
   "metadata": {},
   "outputs": [],
   "source": [
    "# train.head()"
   ]
  },
  {
   "cell_type": "code",
   "execution_count": 123,
   "metadata": {},
   "outputs": [],
   "source": [
    "# results = pd.concat([IDtest,test_Survived],axis=1)\n",
    "\n",
    "# results.to_csv(\"ensemble_python_voting_new.csv\",index=False)"
   ]
  },
  {
   "cell_type": "code",
   "execution_count": 124,
   "metadata": {},
   "outputs": [],
   "source": [
    "# dataset['additional_fare'].unique()"
   ]
  },
  {
   "cell_type": "code",
   "execution_count": 125,
   "metadata": {},
   "outputs": [],
   "source": [
    "# plt.figure(figsize=[10,10])\n",
    "# sns.heatmap(train.corr(),annot=True, fmt = \".2f\", cmap = \"coolwarm\")"
   ]
  },
  {
   "cell_type": "markdown",
   "metadata": {},
   "source": [
    "# Model"
   ]
  },
  {
   "cell_type": "code",
   "execution_count": 126,
   "metadata": {},
   "outputs": [],
   "source": [
    "kfold = StratifiedKFold(n_splits=10)"
   ]
  },
  {
   "cell_type": "code",
   "execution_count": 127,
   "metadata": {},
   "outputs": [
    {
     "data": {
      "image/png": "[encoded data removed]",
      "text/plain": [
       "<Figure size 432x288 with 1 Axes>"
      ]
     },
     "metadata": {},
     "output_type": "display_data"
    }
   ],
   "source": [
    "random_state = 2\n",
    "classifiers = []\n",
    "classifiers.append(SVC(random_state=random_state))\n",
    "classifiers.append(DecisionTreeClassifier(random_state=random_state))\n",
    "classifiers.append(AdaBoostClassifier(DecisionTreeClassifier(random_state=random_state),random_state=random_state,learning_rate=0.1))\n",
    "classifiers.append(RandomForestClassifier(random_state=random_state))\n",
    "classifiers.append(ExtraTreesClassifier(random_state=random_state))\n",
    "classifiers.append(GradientBoostingClassifier(random_state=random_state))\n",
    "classifiers.append(MLPClassifier(random_state=random_state))\n",
    "classifiers.append(KNeighborsClassifier())\n",
    "classifiers.append(LogisticRegression(random_state = random_state))\n",
    "classifiers.append(LinearDiscriminantAnalysis())\n",
    "\n",
    "cv_results = []\n",
    "for classifier in classifiers :\n",
    "    cv_results.append(cross_val_score(classifier, X_train, y = Y_train, scoring = \"f1_macro\", cv = kfold, n_jobs=4))\n",
    "\n",
    "cv_means = []\n",
    "cv_std = []\n",
    "for cv_result in cv_results:\n",
    "    cv_means.append(cv_result.mean())\n",
    "    cv_std.append(cv_result.std())\n",
    "\n",
    "cv_res = pd.DataFrame({\"CrossValMeans\":cv_means,\"CrossValerrors\": cv_std,\"Algorithm\":[\"SVC\",\"DecisionTree\",\"AdaBoost\",\n",
    "\"RandomForest\",\"ExtraTrees\",\"GradientBoosting\",\"MultipleLayerPerceptron\",\"KNeighboors\",\"LogisticRegression\",\"LinearDiscriminantAnalysis\"]})\n",
    "\n",
    "g = sns.barplot(\"CrossValMeans\",\"Algorithm\",data = cv_res, palette=\"Set3\",orient = \"h\",**{'xerr':cv_std})\n",
    "g.set_xlabel(\"Mean Accuracy\")\n",
    "g = g.set_title(\"Cross validation scores\")\n"
   ]
  },
  {
   "cell_type": "code",
   "execution_count": 128,
   "metadata": {},
   "outputs": [
    {
     "data": {
      "text/html": [
       "<div>\n",
       "<style scoped>\n",
       "    .dataframe tbody tr th:only-of-type {\n",
       "        vertical-align: middle;\n",
       "    }\n",
       "\n",
       "    .dataframe tbody tr th {\n",
       "        vertical-align: top;\n",
       "    }\n",
       "\n",
       "    .dataframe thead th {\n",
       "        text-align: right;\n",
       "    }\n",
       "</style>\n",
       "<table border=\"1\" class=\"dataframe\">\n",
       "  <thead>\n",
       "    <tr style=\"text-align: right;\">\n",
       "      <th></th>\n",
       "      <th>CrossValMeans</th>\n",
       "      <th>CrossValerrors</th>\n",
       "      <th>Algorithm</th>\n",
       "    </tr>\n",
       "  </thead>\n",
       "  <tbody>\n",
       "    <tr>\n",
       "      <th>0</th>\n",
       "      <td>0.772941</td>\n",
       "      <td>0.041021</td>\n",
       "      <td>SVC</td>\n",
       "    </tr>\n",
       "    <tr>\n",
       "      <th>1</th>\n",
       "      <td>0.787234</td>\n",
       "      <td>0.065839</td>\n",
       "      <td>DecisionTree</td>\n",
       "    </tr>\n",
       "    <tr>\n",
       "      <th>2</th>\n",
       "      <td>0.786881</td>\n",
       "      <td>0.062666</td>\n",
       "      <td>AdaBoost</td>\n",
       "    </tr>\n",
       "    <tr>\n",
       "      <th>3</th>\n",
       "      <td>0.835720</td>\n",
       "      <td>0.045123</td>\n",
       "      <td>RandomForest</td>\n",
       "    </tr>\n",
       "    <tr>\n",
       "      <th>4</th>\n",
       "      <td>0.827484</td>\n",
       "      <td>0.047268</td>\n",
       "      <td>ExtraTrees</td>\n",
       "    </tr>\n",
       "    <tr>\n",
       "      <th>5</th>\n",
       "      <td>0.801330</td>\n",
       "      <td>0.035777</td>\n",
       "      <td>GradientBoosting</td>\n",
       "    </tr>\n",
       "    <tr>\n",
       "      <th>6</th>\n",
       "      <td>0.797346</td>\n",
       "      <td>0.071700</td>\n",
       "      <td>MultipleLayerPerceptron</td>\n",
       "    </tr>\n",
       "    <tr>\n",
       "      <th>7</th>\n",
       "      <td>0.837321</td>\n",
       "      <td>0.049282</td>\n",
       "      <td>KNeighboors</td>\n",
       "    </tr>\n",
       "    <tr>\n",
       "      <th>8</th>\n",
       "      <td>0.564890</td>\n",
       "      <td>0.029672</td>\n",
       "      <td>LogisticRegression</td>\n",
       "    </tr>\n",
       "    <tr>\n",
       "      <th>9</th>\n",
       "      <td>0.506371</td>\n",
       "      <td>0.018728</td>\n",
       "      <td>LinearDiscriminantAnalysis</td>\n",
       "    </tr>\n",
       "  </tbody>\n",
       "</table>\n",
       "</div>"
      ],
      "text/plain": [
       "   CrossValMeans  CrossValerrors                   Algorithm\n",
       "0       0.772941        0.041021                         SVC\n",
       "1       0.787234        0.065839                DecisionTree\n",
       "2       0.786881        0.062666                    AdaBoost\n",
       "3       0.835720        0.045123                RandomForest\n",
       "4       0.827484        0.047268                  ExtraTrees\n",
       "5       0.801330        0.035777            GradientBoosting\n",
       "6       0.797346        0.071700     MultipleLayerPerceptron\n",
       "7       0.837321        0.049282                 KNeighboors\n",
       "8       0.564890        0.029672          LogisticRegression\n",
       "9       0.506371        0.018728  LinearDiscriminantAnalysis"
      ]
     },
     "execution_count": 128,
     "metadata": {},
     "output_type": "execute_result"
    }
   ],
   "source": [
    "cv_res"
   ]
  },
  {
   "cell_type": "code",
   "execution_count": 129,
   "metadata": {},
   "outputs": [
    {
     "name": "stdout",
     "output_type": "stream",
     "text": [
      "Fitting 10 folds for each of 1 candidates, totalling 10 fits\n"
     ]
    },
    {
     "name": "stderr",
     "output_type": "stream",
     "text": [
      "[Parallel(n_jobs=4)]: Using backend LokyBackend with 4 concurrent workers.\n",
      "[Parallel(n_jobs=4)]: Done  10 out of  10 | elapsed:  3.1min finished\n",
      "/opt/conda/lib/python3.7/site-packages/sklearn/model_selection/_search.py:739: DataConversionWarning: A column-vector y was passed when a 1d array was expected. Please change the shape of y to (n_samples,), for example using ravel().\n",
      "  self.best_estimator_.fit(X, y, **fit_params)\n"
     ]
    },
    {
     "data": {
      "text/plain": [
       "0.8366708365184392"
      ]
     },
     "execution_count": 129,
     "metadata": {},
     "output_type": "execute_result"
    }
   ],
   "source": [
    "RFC = RandomForestClassifier()\n",
    "\n",
    "\n",
    "## Search grid for optimal parameters\n",
    "rf_param_grid = {\"max_depth\": [None],\n",
    "              \"max_features\": [\"auto\"],\n",
    "              \"min_samples_split\": [3],\n",
    "              \"min_samples_leaf\": [10],\n",
    "              \"bootstrap\": [False],\n",
    "              \"n_estimators\" :[1000],\n",
    "              \"criterion\": [\"gini\"]}\n",
    "\n",
    "\n",
    "gsRFC = GridSearchCV(RFC,param_grid = rf_param_grid, cv=kfold, scoring=\"f1_macro\", n_jobs= 4, verbose = 1)\n",
    "\n",
    "gsRFC.fit(X_train,Y_train)\n",
    "\n",
    "RFC_best = gsRFC.best_estimator_\n",
    "\n",
    "# Best score\n",
    "gsRFC.best_score_"
   ]
  },
  {
   "cell_type": "code",
   "execution_count": 130,
   "metadata": {},
   "outputs": [
    {
     "data": {
      "text/plain": [
       "{'bootstrap': False,\n",
       " 'criterion': 'gini',\n",
       " 'max_depth': None,\n",
       " 'max_features': 'auto',\n",
       " 'min_samples_leaf': 10,\n",
       " 'min_samples_split': 3,\n",
       " 'n_estimators': 1000}"
      ]
     },
     "execution_count": 130,
     "metadata": {},
     "output_type": "execute_result"
    }
   ],
   "source": [
    "gsRFC.best_params_"
   ]
  },
  {
   "cell_type": "code",
   "execution_count": 131,
   "metadata": {},
   "outputs": [],
   "source": [
    "# votingC = VotingClassifier(estimators=[('rfc', RFC_best)], voting='soft', n_jobs=4)\n",
    "\n",
    "# votingC = votingC.fit(X_train, Y_train)"
   ]
  },
  {
   "cell_type": "code",
   "execution_count": 132,
   "metadata": {},
   "outputs": [],
   "source": [
    "# test_Survived = pd.Series(votingC.predict(test), name=\"prediction\")\n",
    "\n",
    "# results = pd.concat([IDtest,test_Survived],axis=1)\n",
    "\n",
    "# results.to_csv(\"ensemble_python_voting_new.csv\",index=False)"
   ]
  },
  {
   "cell_type": "code",
   "execution_count": 133,
   "metadata": {},
   "outputs": [],
   "source": [
    "# results.head(50)"
   ]
  },
  {
   "cell_type": "code",
   "execution_count": 134,
   "metadata": {},
   "outputs": [
    {
     "name": "stdout",
     "output_type": "stream",
     "text": [
      "Fitting 10 folds for each of 1 candidates, totalling 10 fits\n"
     ]
    },
    {
     "name": "stderr",
     "output_type": "stream",
     "text": [
      "[Parallel(n_jobs=4)]: Using backend LokyBackend with 4 concurrent workers.\n",
      "[Parallel(n_jobs=4)]: Done  10 out of  10 | elapsed:    0.6s finished\n",
      "/opt/conda/lib/python3.7/site-packages/sklearn/utils/validation.py:760: DataConversionWarning: A column-vector y was passed when a 1d array was expected. Please change the shape of y to (n_samples, ), for example using ravel().\n",
      "  y = column_or_1d(y, warn=True)\n"
     ]
    }
   ],
   "source": [
    "DTC = DecisionTreeClassifier()\n",
    "\n",
    "adaDTC = AdaBoostClassifier(DTC, random_state=7)\n",
    "\n",
    "ada_param_grid = {\"base_estimator__criterion\" : [ \"entropy\"],  #\"gini\",\n",
    "              \"base_estimator__splitter\" :   [\"best\"],  #, \"random\"],\n",
    "              \"algorithm\" : [\"SAMME\"],   #,\"SAMME.R\"],\n",
    "              \"n_estimators\" :[1],#[2]\n",
    "              \"learning_rate\":  [0.0001]}#[ 0.001, 0.01, 0.1, 0.2, 0.3,1.5]\n",
    "\n",
    "gsadaDTC = GridSearchCV(adaDTC,param_grid = ada_param_grid, cv=kfold, scoring=\"f1_macro\", n_jobs= 4, verbose = 1)\n",
    "\n",
    "gsadaDTC.fit(X_train,Y_train)\n",
    "\n",
    "ada_best = gsadaDTC.best_estimator_"
   ]
  },
  {
   "cell_type": "code",
   "execution_count": 135,
   "metadata": {},
   "outputs": [
    {
     "data": {
      "text/plain": [
       "0.7952245667675826"
      ]
     },
     "execution_count": 135,
     "metadata": {},
     "output_type": "execute_result"
    }
   ],
   "source": [
    "gsadaDTC.best_score_"
   ]
  },
  {
   "cell_type": "code",
   "execution_count": 136,
   "metadata": {},
   "outputs": [
    {
     "data": {
      "text/plain": [
       "{'algorithm': 'SAMME',\n",
       " 'base_estimator__criterion': 'entropy',\n",
       " 'base_estimator__splitter': 'best',\n",
       " 'learning_rate': 0.0001,\n",
       " 'n_estimators': 1}"
      ]
     },
     "execution_count": 136,
     "metadata": {},
     "output_type": "execute_result"
    }
   ],
   "source": [
    "gsadaDTC.best_params_"
   ]
  },
  {
   "cell_type": "markdown",
   "metadata": {},
   "source": [
    "{'algorithm': 'SAMME',\n",
    " 'base_estimator__criterion': 'entropy',\n",
    " 'base_estimator__splitter': 'best',\n",
    " 'learning_rate': 0.0001,\n",
    " 'n_estimators': 1}"
   ]
  },
  {
   "cell_type": "code",
   "execution_count": 137,
   "metadata": {},
   "outputs": [],
   "source": [
    "# ExtC = ExtraTreesClassifier()\n",
    "\n",
    "\n",
    "# ## Search grid for optimal parameters\n",
    "# ex_param_grid = {\"max_depth\": [None],\n",
    "#               \"max_features\": [10], #1, 3,\n",
    "#               \"min_samples_split\": [ 10],#2, 3,\n",
    "#               \"min_samples_leaf\": [1], #3, 10\n",
    "#               \"bootstrap\": [False],\n",
    "#               \"n_estimators\" :[100], #,300\n",
    "#               \"criterion\": [\"gini\"]}\n",
    "\n",
    "\n",
    "# gsExtC = GridSearchCV(ExtC,param_grid = ex_param_grid, cv=kfold, scoring=\"f1_macro\", n_jobs= 4, verbose = 1)\n",
    "\n",
    "# gsExtC.fit(X_train,Y_train)\n",
    "\n",
    "# ExtC_best = gsExtC.best_estimator_\n",
    "\n",
    "# # Best score\n",
    "# gsExtC.best_score_"
   ]
  },
  {
   "cell_type": "markdown",
   "metadata": {},
   "source": [
    "0.9452934844949364\n",
    "\n",
    "{'bootstrap': False,\n",
    " 'criterion': 'gini',\n",
    " 'max_depth': None,\n",
    " 'max_features': 10,\n",
    " 'min_samples_leaf': 1,\n",
    " 'min_samples_split': 10,\n",
    " 'n_estimators': 100}"
   ]
  },
  {
   "cell_type": "code",
   "execution_count": 138,
   "metadata": {},
   "outputs": [],
   "source": [
    "# gsExtC.best_params_"
   ]
  },
  {
   "cell_type": "code",
   "execution_count": 139,
   "metadata": {},
   "outputs": [],
   "source": [
    "# gsExtC.best_score_"
   ]
  },
  {
   "cell_type": "code",
   "execution_count": 140,
   "metadata": {},
   "outputs": [
    {
     "name": "stdout",
     "output_type": "stream",
     "text": [
      "Fitting 10 folds for each of 1 candidates, totalling 10 fits\n"
     ]
    },
    {
     "name": "stderr",
     "output_type": "stream",
     "text": [
      "[Parallel(n_jobs=4)]: Using backend LokyBackend with 4 concurrent workers.\n",
      "[Parallel(n_jobs=4)]: Done  10 out of  10 | elapsed:   24.3s finished\n",
      "/opt/conda/lib/python3.7/site-packages/sklearn/ensemble/_gb.py:1454: DataConversionWarning: A column-vector y was passed when a 1d array was expected. Please change the shape of y to (n_samples, ), for example using ravel().\n",
      "  y = column_or_1d(y, warn=True)\n"
     ]
    },
    {
     "data": {
      "text/plain": [
       "0.8355156448533025"
      ]
     },
     "execution_count": 140,
     "metadata": {},
     "output_type": "execute_result"
    }
   ],
   "source": [
    "GBC = GradientBoostingClassifier()\n",
    "gb_param_grid = {'loss' : [\"deviance\"],\n",
    "              'n_estimators' : [300], #100,200,\n",
    "              'learning_rate': [0.1], #0.05, 0.01],\n",
    "              'max_depth': [8], #4,\n",
    "              'min_samples_leaf': [100], #150],\n",
    "              'max_features': [0.3], #0.1] \n",
    "              }\n",
    "\n",
    "gsGBC = GridSearchCV(GBC,param_grid = gb_param_grid, cv=kfold, scoring=\"f1_macro\", n_jobs= 4, verbose = 1)\n",
    "\n",
    "gsGBC.fit(X_train,Y_train)\n",
    "\n",
    "GBC_best = gsGBC.best_estimator_\n",
    "\n",
    "# Best score\n",
    "gsGBC.best_score_"
   ]
  },
  {
   "cell_type": "code",
   "execution_count": 141,
   "metadata": {},
   "outputs": [
    {
     "data": {
      "text/plain": [
       "{'learning_rate': 0.1,\n",
       " 'loss': 'deviance',\n",
       " 'max_depth': 8,\n",
       " 'max_features': 0.3,\n",
       " 'min_samples_leaf': 100,\n",
       " 'n_estimators': 300}"
      ]
     },
     "execution_count": 141,
     "metadata": {},
     "output_type": "execute_result"
    }
   ],
   "source": [
    "gsGBC.best_params_"
   ]
  },
  {
   "cell_type": "code",
   "execution_count": 142,
   "metadata": {},
   "outputs": [],
   "source": [
    "# SVMC = SVC(probability=True)\n",
    "# svc_param_grid = {'kernel': ['rbf'], \n",
    "#                   'gamma': [ 0.001, 0.01, 0.1, 1],\n",
    "#                   'C': [1, 10, 50, 100,200,300, 1000]}\n",
    "\n",
    "# gsSVMC = GridSearchCV(SVMC,param_grid = svc_param_grid, cv=kfold, scoring=\"accuracy\", n_jobs= 4, verbose = 1)\n",
    "\n",
    "# gsSVMC.fit(X_train,Y_train)\n",
    "\n",
    "# SVMC_best = gsSVMC.best_estimator_\n",
    "\n",
    "# # Best score\n",
    "# gsSVMC.best_score_"
   ]
  },
  {
   "cell_type": "code",
   "execution_count": 143,
   "metadata": {},
   "outputs": [
    {
     "name": "stdout",
     "output_type": "stream",
     "text": [
      "Fitting 10 folds for each of 1 candidates, totalling 10 fits\n"
     ]
    },
    {
     "name": "stderr",
     "output_type": "stream",
     "text": [
      "[Parallel(n_jobs=4)]: Using backend LokyBackend with 4 concurrent workers.\n",
      "[Parallel(n_jobs=4)]: Done  10 out of  10 | elapsed:   10.7s finished\n",
      "/opt/conda/lib/python3.7/site-packages/sklearn/neural_network/_multilayer_perceptron.py:934: DataConversionWarning: A column-vector y was passed when a 1d array was expected. Please change the shape of y to (n_samples, ), for example using ravel().\n",
      "  y = column_or_1d(y, warn=True)\n"
     ]
    },
    {
     "data": {
      "text/plain": [
       "0.8138569181692177"
      ]
     },
     "execution_count": 143,
     "metadata": {},
     "output_type": "execute_result"
    }
   ],
   "source": [
    "MLP = MLPClassifier(random_state=random_state)\n",
    "mlp_param_grid = {\n",
    " 'activation':['relu'],\n",
    " 'hidden_layer_sizes':[200],\n",
    "    'solver': ['adam'],\n",
    "    'alpha':[0.001],\n",
    "    'batch_size':[\"auto\"]\n",
    "}\n",
    "gsMLP = GridSearchCV(MLP,param_grid = mlp_param_grid, cv=kfold, scoring=\"f1_macro\", n_jobs= 4, verbose = 1)\n",
    "gsMLP.fit(X_train,Y_train)\n",
    "\n",
    "gsMLP_best = gsMLP.best_estimator_\n",
    "\n",
    "# Best score\n",
    "gsMLP.best_score_"
   ]
  },
  {
   "cell_type": "code",
   "execution_count": 144,
   "metadata": {},
   "outputs": [
    {
     "data": {
      "text/plain": [
       "{'activation': 'relu',\n",
       " 'alpha': 0.001,\n",
       " 'batch_size': 'auto',\n",
       " 'hidden_layer_sizes': 200,\n",
       " 'solver': 'adam'}"
      ]
     },
     "execution_count": 144,
     "metadata": {},
     "output_type": "execute_result"
    }
   ],
   "source": [
    "gsMLP.best_params_"
   ]
  },
  {
   "cell_type": "code",
   "execution_count": 145,
   "metadata": {},
   "outputs": [
    {
     "name": "stderr",
     "output_type": "stream",
     "text": [
      "/opt/conda/lib/python3.7/site-packages/sklearn/preprocessing/_label.py:235: DataConversionWarning: A column-vector y was passed when a 1d array was expected. Please change the shape of y to (n_samples, ), for example using ravel().\n",
      "  y = column_or_1d(y, warn=True)\n",
      "/opt/conda/lib/python3.7/site-packages/sklearn/preprocessing/_label.py:268: DataConversionWarning: A column-vector y was passed when a 1d array was expected. Please change the shape of y to (n_samples, ), for example using ravel().\n",
      "  y = column_or_1d(y, warn=True)\n"
     ]
    }
   ],
   "source": [
    "votingC = VotingClassifier(estimators=[('rfc', RFC_best),('adac',ada_best),('gbc',GBC_best),('mlp',gsMLP_best)], voting='soft', n_jobs=4)\n",
    "\n",
    "votingC = votingC.fit(X_train, Y_train)"
   ]
  },
  {
   "cell_type": "code",
   "execution_count": 146,
   "metadata": {},
   "outputs": [],
   "source": [
    "test_Survived = pd.Series(votingC.predict(test), name=\"prediction\")\n",
    "\n",
    "results = pd.concat([IDtest,test_Survived],axis=1)\n",
    "\n",
    "results.to_csv(\"regression_voting.csv\",index=False)"
   ]
  },
  {
   "cell_type": "code",
   "execution_count": 147,
   "metadata": {},
   "outputs": [
    {
     "data": {
      "text/html": [
       "<div>\n",
       "<style scoped>\n",
       "    .dataframe tbody tr th:only-of-type {\n",
       "        vertical-align: middle;\n",
       "    }\n",
       "\n",
       "    .dataframe tbody tr th {\n",
       "        vertical-align: top;\n",
       "    }\n",
       "\n",
       "    .dataframe thead th {\n",
       "        text-align: right;\n",
       "    }\n",
       "</style>\n",
       "<table border=\"1\" class=\"dataframe\">\n",
       "  <thead>\n",
       "    <tr style=\"text-align: right;\">\n",
       "      <th></th>\n",
       "      <th>tripid</th>\n",
       "      <th>prediction</th>\n",
       "    </tr>\n",
       "  </thead>\n",
       "  <tbody>\n",
       "    <tr>\n",
       "      <th>0</th>\n",
       "      <td>213284604</td>\n",
       "      <td>1</td>\n",
       "    </tr>\n",
       "    <tr>\n",
       "      <th>1</th>\n",
       "      <td>213286352</td>\n",
       "      <td>1</td>\n",
       "    </tr>\n",
       "    <tr>\n",
       "      <th>2</th>\n",
       "      <td>213293973</td>\n",
       "      <td>1</td>\n",
       "    </tr>\n",
       "    <tr>\n",
       "      <th>3</th>\n",
       "      <td>213294622</td>\n",
       "      <td>1</td>\n",
       "    </tr>\n",
       "    <tr>\n",
       "      <th>4</th>\n",
       "      <td>213298687</td>\n",
       "      <td>1</td>\n",
       "    </tr>\n",
       "  </tbody>\n",
       "</table>\n",
       "</div>"
      ],
      "text/plain": [
       "      tripid  prediction\n",
       "0  213284604           1\n",
       "1  213286352           1\n",
       "2  213293973           1\n",
       "3  213294622           1\n",
       "4  213298687           1"
      ]
     },
     "execution_count": 147,
     "metadata": {},
     "output_type": "execute_result"
    }
   ],
   "source": [
    "results.head()"
   ]
  }
 ],
 "metadata": {
  "kernelspec": {
   "display_name": "Python 3",
   "language": "python",
   "name": "python3"
  },
  "language_info": {
   "codemirror_mode": {
    "name": "ipython",
    "version": 3
   },
   "file_extension": ".py",
   "mimetype": "text/x-python",
   "name": "python",
   "nbconvert_exporter": "python",
   "pygments_lexer": "ipython3",
   "version": "3.7.6"
  }
 },
 "nbformat": 4,
 "nbformat_minor": 4
}
